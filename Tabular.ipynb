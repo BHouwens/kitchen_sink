{
  "nbformat": 4,
  "nbformat_minor": 0,
  "metadata": {
    "colab": {
      "name": "Tabular.ipynb",
      "provenance": [],
      "collapsed_sections": [
        "yjL7RgGWBkFN",
        "QhbbdLsE09HL",
        "Gj7jfybmzXag",
        "YL4O2UU4It_y",
        "nQZ04LiGwAp4",
        "i0vy-8SK3dpG",
        "3zgV5A2f22Uj",
        "peST-YuqLC0c",
        "d_k_KfVKLSBY",
        "XJX9mr-mvx5_",
        "-TBD0vHSe3tF",
        "RmVSahl84W29",
        "_hw2AQsF5DXq",
        "gYcGi1wu7Lb7",
        "N-nfk0oYsi6K",
        "Qz0Bep8PdU2P",
        "6BzChTcvmBcB",
        "W8GM0jhtFNXw",
        "u0Jk9S4Z3_bb",
        "dgXsTa5YGcgf",
        "Y7SBKNOAHiiS"
      ],
      "authorship_tag": "ABX9TyNvRLE87MrRM9jb+t48jp6y",
      "include_colab_link": true
    },
    "kernelspec": {
      "name": "python3",
      "display_name": "Python 3"
    },
    "language_info": {
      "name": "python"
    }
  },
  "cells": [
    {
      "cell_type": "markdown",
      "metadata": {
        "id": "view-in-github",
        "colab_type": "text"
      },
      "source": [
        "<a href=\"https://colab.research.google.com/github/BHouwens/kitchen_sink/blob/main/Tabular.ipynb\" target=\"_parent\"><img src=\"https://colab.research.google.com/assets/colab-badge.svg\" alt=\"Open In Colab\"/></a>"
      ]
    },
    {
      "cell_type": "markdown",
      "metadata": {
        "id": "MsZFVM8lyLaQ"
      },
      "source": [
        "# **Tabular**\n",
        "\n",
        "Tabular modeling takes data in the form of a table (like a spreadsheet or CSV), where the objective is to predict the value in one column based on the values in the other columns. This notebook will serve as a boilerplate handler for tabular data modeling, with sections laid out for each major step of the modeling process.\n",
        "\n",
        "..\n",
        "\n",
        "\n",
        "---\n",
        "\n",
        "\n",
        "\n",
        "**REMEMBER**: This boilerplate is just that: boilerplate! It's a good idea to perform your own exploration in a manner that's specific to your given dataset. The default boilerplate uses the Titanic dataset from Kaggle as an example."
      ]
    },
    {
      "cell_type": "markdown",
      "metadata": {
        "id": "A7ergFQr03aV"
      },
      "source": [
        "## **Setup**\n",
        "\n",
        "This is the section for setting up your work environment, with boilerplate setups for a number of mainstream options. Don't see one you like? Add your own!"
      ]
    },
    {
      "cell_type": "code",
      "metadata": {
        "id": "DT6eHX-807P3"
      },
      "source": [
        "%load_ext autoreload\n",
        "%autoreload 2\n",
        "\n",
        "%matplotlib inline"
      ],
      "execution_count": 1,
      "outputs": []
    },
    {
      "cell_type": "code",
      "metadata": {
        "id": "DQYyDSUbn7IO"
      },
      "source": [
        "# export\n",
        "COLOURS = {\n",
        "    'Reset': \"\\x1b[0m\",\n",
        "    'Bright': \"\\x1b[1m\",\n",
        "    'Dim': \"\\x1b[2m\",\n",
        "    'Underscore': \"\\x1b[4m\",\n",
        "    'Blink': \"\\x1b[5m\",\n",
        "    'Reverse': \"\\x1b[7m\",\n",
        "    'Hidden': \"\\x1b[8m\",\n",
        "    'FgBlack': \"\\x1b[30m\",\n",
        "    'FgRed': \"\\x1b[31m\",\n",
        "    'FgGreen': \"\\x1b[32m\",\n",
        "    'FgYellow': \"\\x1b[33m\",\n",
        "    'FgBlue': \"\\x1b[34m\",\n",
        "    'FgMagenta': \"\\x1b[35m\",\n",
        "    'FgCyan': \"\\x1b[36m\",\n",
        "    'FgWhite': \"\\x1b[37m\",\n",
        "    'BgBlack': \"\\x1b[40m\",\n",
        "    'BgRed': \"\\x1b[41m\",\n",
        "    'BgGreen': \"\\x1b[42m\",\n",
        "    'BgYellow': \"\\x1b[43m\",\n",
        "    'BgBlue': \"\\x1b[44m\",\n",
        "    'BgMagenta': \"\\x1b[45m\",\n",
        "    'BgCyan': \"\\x1b[46m\",\n",
        "    'BgWhite': \"\\x1b[47m\"\n",
        "}\n",
        "\n",
        "def pretty_log(msg, msg_type='info'):\n",
        "  print(\"\")\n",
        "  print(\"{c}//===== {m} =====//{r}\".format(c=COLOURS['FgBlue'], m=msg, r=COLOURS['Reset']))\n",
        "  print(\"\")"
      ],
      "execution_count": 2,
      "outputs": []
    },
    {
      "cell_type": "markdown",
      "metadata": {
        "id": "yjL7RgGWBkFN"
      },
      "source": [
        "### **Imports and Installs**\n",
        "\n",
        "Declare all your project's required imports and installs here:"
      ]
    },
    {
      "cell_type": "code",
      "metadata": {
        "id": "wgqMJl4iCF9Z",
        "colab": {
          "base_uri": "https://localhost:8080/"
        },
        "outputId": "2a6845df-0596-4f65-f307-f5c10f990007"
      },
      "source": [
        "# Installs\n",
        "!pip install -Uqq fastai waterfallcharts treeinterpreter dtreeviz"
      ],
      "execution_count": 3,
      "outputs": [
        {
          "output_type": "stream",
          "text": [
            "\u001b[K     |████████████████████████████████| 204kB 31.1MB/s \n",
            "\u001b[K     |████████████████████████████████| 61kB 7.6MB/s \n",
            "\u001b[K     |████████████████████████████████| 61kB 7.7MB/s \n",
            "\u001b[?25h  Building wheel for waterfallcharts (setup.py) ... \u001b[?25l\u001b[?25hdone\n",
            "  Building wheel for dtreeviz (setup.py) ... \u001b[?25l\u001b[?25hdone\n"
          ],
          "name": "stdout"
        }
      ]
    },
    {
      "cell_type": "code",
      "metadata": {
        "id": "Y4IJ7L33A6Kk"
      },
      "source": [
        "# Imports\n",
        "from pandas.api.types import is_string_dtype, is_numeric_dtype, is_categorical_dtype\n",
        "from fastai.tabular.all import *\n",
        "from sklearn.ensemble import RandomForestClassifier\n",
        "from sklearn.tree import DecisionTreeClassifier\n",
        "from sklearn import tree\n",
        "from dtreeviz.trees import *\n",
        "from IPython.display import Image, display_svg, SVG\n",
        "import numpy as np\n",
        "import math\n",
        "import seaborn as sn\n",
        "from scipy import stats\n",
        "import xgboost as xgb"
      ],
      "execution_count": 4,
      "outputs": []
    },
    {
      "cell_type": "code",
      "metadata": {
        "id": "TdwIw9CLyZcV"
      },
      "source": [
        "# Statsmodels install (only necessary if module is needed and Colab gives trouble)\n",
        "! pip install --upgrade Cython\n",
        "! pip install --upgrade git+https://github.com/statsmodels/statsmodels"
      ],
      "execution_count": null,
      "outputs": []
    },
    {
      "cell_type": "code",
      "metadata": {
        "id": "qEJMQjpe7eu0"
      },
      "source": [
        "# Set up some constraints here, if desired\n",
        "pd.options.display.max_rows = 20\n",
        "pd.options.display.max_columns = 8"
      ],
      "execution_count": null,
      "outputs": []
    },
    {
      "cell_type": "markdown",
      "metadata": {
        "id": "QhbbdLsE09HL"
      },
      "source": [
        "### **Colab Setup**\n",
        "\n",
        "You can set up the Google Colab environment for data by mounting your Google Drive:"
      ]
    },
    {
      "cell_type": "code",
      "metadata": {
        "id": "nh8P1kCi1HjW",
        "colab": {
          "base_uri": "https://localhost:8080/"
        },
        "outputId": "c57cc4e6-9c02-4247-8efc-c7d9e90a5aea"
      },
      "source": [
        "from google.colab import drive\n",
        "drive.mount('/content/gdrive')\n",
        "\n",
        "%cd gdrive/My Drive/"
      ],
      "execution_count": 5,
      "outputs": [
        {
          "output_type": "stream",
          "text": [
            "Mounted at /content/gdrive\n",
            "/content/gdrive/My Drive\n"
          ],
          "name": "stdout"
        }
      ]
    },
    {
      "cell_type": "markdown",
      "metadata": {
        "id": "zkmSsHkE1WfX"
      },
      "source": [
        "\n",
        "\n",
        "---\n",
        "\n"
      ]
    },
    {
      "cell_type": "markdown",
      "metadata": {
        "id": "Gj7jfybmzXag"
      },
      "source": [
        "## **Data Collection**\n",
        "\n",
        "Data specific to your current task can be collected here. There'll be different setups depending on where you're running this notebook, but the output here will be used for further data exploration."
      ]
    },
    {
      "cell_type": "markdown",
      "metadata": {
        "id": "U7YbEABW7gpz"
      },
      "source": [
        "### **Kaggle Datasets**\n",
        "\n",
        "Get yourself started with some Kaggle datasets. First, set up your API credentials:"
      ]
    },
    {
      "cell_type": "code",
      "metadata": {
        "id": "svqQ_YRf7dsI"
      },
      "source": [
        "creds = {\"username\":\"USERNAME_HERE\",\"key\":\"API_KEY_HERE\"}"
      ],
      "execution_count": null,
      "outputs": []
    },
    {
      "cell_type": "markdown",
      "metadata": {
        "id": "lcsUEi8z8qk9"
      },
      "source": [
        "Then set the credentials up in the `kaggle.json` so that Kaggle knows where to look for them in API calls:"
      ]
    },
    {
      "cell_type": "code",
      "metadata": {
        "id": "zMXu8f9x9QrO",
        "colab": {
          "base_uri": "https://localhost:8080/"
        },
        "outputId": "8d240074-6f3c-4dc8-8873-a18fa45af865"
      },
      "source": [
        "!mkdir .kaggle\n",
        "!mv .kaggle /root/\n",
        "!touch /root/.kaggle/kaggle.json\n",
        "\n",
        "!ls /root/.kaggle"
      ],
      "execution_count": null,
      "outputs": [
        {
          "output_type": "stream",
          "text": [
            "kaggle.json\n"
          ],
          "name": "stdout"
        }
      ]
    },
    {
      "cell_type": "markdown",
      "metadata": {
        "id": "mw7rlihY_G4O"
      },
      "source": [
        "Then write the credentials to `kaggle.json` with the correct permissions setup to enable access to Kaggle datasets:"
      ]
    },
    {
      "cell_type": "code",
      "metadata": {
        "id": "FOPNmRui8iuF"
      },
      "source": [
        "import json\n",
        "import zipfile\n",
        "import os\n",
        "\n",
        "with open('/root/.kaggle/kaggle.json', 'w') as file:\n",
        "    json.dump(creds, file)\n",
        "\n",
        "!chmod 600 /root/.kaggle/kaggle.json"
      ],
      "execution_count": null,
      "outputs": []
    },
    {
      "cell_type": "code",
      "metadata": {
        "id": "Sey10ADtbEk1"
      },
      "source": [
        "!export KAGGLE_CONFIG_DIR=/root/.kaggle/kaggle.json"
      ],
      "execution_count": null,
      "outputs": []
    },
    {
      "cell_type": "markdown",
      "metadata": {
        "id": "czjg8OoE_QyQ"
      },
      "source": [
        "Before we finally install Kaggle itself:"
      ]
    },
    {
      "cell_type": "code",
      "metadata": {
        "id": "2eMr7KwwmAq6"
      },
      "source": [
        "!pip install kaggle"
      ],
      "execution_count": null,
      "outputs": []
    },
    {
      "cell_type": "code",
      "metadata": {
        "id": "nw72jDFhzalE"
      },
      "source": [
        "from kaggle import api"
      ],
      "execution_count": null,
      "outputs": []
    },
    {
      "cell_type": "markdown",
      "metadata": {
        "id": "UpYmGvXvAXnG"
      },
      "source": [
        "Now let's fetch our Kaggle data:"
      ]
    },
    {
      "cell_type": "code",
      "metadata": {
        "id": "4d9jlEVaAbvU"
      },
      "source": [
        "if not os.path.exists('data'):\n",
        "  os.makedirs('data')\n",
        "\n",
        "# Let's get the Titanic dataset\n",
        "api.competition_download_files('titanic', path='data')\n",
        "\n",
        "import zipfile\n",
        "with zipfile.ZipFile(\"data/titanic.zip\",\"r\") as zip_ref:\n",
        "    zip_ref.extractall(\"data\")\n",
        "\n",
        "os.remove('data/titanic.zip')\n",
        "os.remove('data/gender_submission.csv')"
      ],
      "execution_count": null,
      "outputs": []
    },
    {
      "cell_type": "code",
      "metadata": {
        "id": "wAJ63Hi3FF7e",
        "colab": {
          "base_uri": "https://localhost:8080/"
        },
        "outputId": "69652f5c-6995-4a05-889c-471d5336adef"
      },
      "source": [
        "!ls data"
      ],
      "execution_count": null,
      "outputs": [
        {
          "output_type": "stream",
          "text": [
            "df_without_te.pkl  tdf.pkl  tdf_with_te.pkl  test.csv  train.csv\n"
          ],
          "name": "stdout"
        }
      ]
    },
    {
      "cell_type": "markdown",
      "metadata": {
        "id": "g2faDRQUJQET"
      },
      "source": [
        "Finally, let's set up some variables for taking the data exploration further:"
      ]
    },
    {
      "cell_type": "code",
      "metadata": {
        "id": "PHaHFM0AJUkF"
      },
      "source": [
        "path = \"data\"\n",
        "train_data = \"train.csv\"\n",
        "test_data = \"test.csv\""
      ],
      "execution_count": 6,
      "outputs": []
    },
    {
      "cell_type": "markdown",
      "metadata": {
        "id": "XvwFXd9l2evg"
      },
      "source": [
        "\n",
        "\n",
        "---\n",
        "\n"
      ]
    },
    {
      "cell_type": "markdown",
      "metadata": {
        "id": "rUpbp9L62fxo"
      },
      "source": [
        "## **Exploratory Data Analysis**\n",
        "\n",
        "EDA can be performed here, where you'll find cells for showing batches, as well as utility functions for displaying certain analytics. It also contains headings to prompt some thinking about possible exploratory approaches. For tabular data in particular, this section will include tree classifiers for model/data fit inspection.\n",
        "\n",
        "**REMEMBER**: This section is not prescriptive! Add and remove from it as you want and need to."
      ]
    },
    {
      "cell_type": "markdown",
      "metadata": {
        "id": "YL4O2UU4It_y"
      },
      "source": [
        "### **Look at the Data**"
      ]
    },
    {
      "cell_type": "code",
      "metadata": {
        "id": "Et2vwa6643uQ"
      },
      "source": [
        "# Let's mark our dependent variable\n",
        "DEP_VAR = \"Survived\""
      ],
      "execution_count": 7,
      "outputs": []
    },
    {
      "cell_type": "code",
      "metadata": {
        "id": "4Bq0A2p9I0sE"
      },
      "source": [
        "# Setup the dataset path\n",
        "train_path = \"{b}/{d}\".format(b=path, d=train_data)\n",
        "test_path = \"{b}/{d}\".format(b=path, d=test_data)\n",
        "\n",
        "# And read it in to a df\n",
        "train_df = pd.read_csv(train_path, low_memory=False)\n",
        "test_df = pd.read_csv(test_path, low_memory=False)"
      ],
      "execution_count": 8,
      "outputs": []
    },
    {
      "cell_type": "code",
      "metadata": {
        "id": "EK71RgIpuEQQ"
      },
      "source": [
        "# Set a \"reset\" df, in case we want to reset the data \n",
        "reset_train = train_df.copy(deep=True)\n",
        "reset_test = test_df.copy(deep=True)"
      ],
      "execution_count": 10,
      "outputs": []
    },
    {
      "cell_type": "code",
      "metadata": {
        "id": "OdV4euIZmV1l"
      },
      "source": [
        "# export\n",
        "def get_col_diff(df1, df2):\n",
        "  \"\"\"\n",
        "  Gets the difference in columns between 2 dataframes\n",
        "  \"\"\"\n",
        "  # Inefficient, but should be fine for something like column input\n",
        "  fir_set = [i for i in df1.columns if i not in df2.columns]\n",
        "  sec_set = [i for i in df2.columns if i not in df1.columns]\n",
        "\n",
        "  return fir_set, sec_set"
      ],
      "execution_count": null,
      "outputs": []
    },
    {
      "cell_type": "code",
      "metadata": {
        "id": "8V6hLmXwJt0c",
        "colab": {
          "base_uri": "https://localhost:8080/"
        },
        "outputId": "f8e99a84-3822-4071-d7ac-04893eb4fd54"
      },
      "source": [
        "# Let's get some info about the general structure between train and test\n",
        "print(\"TRAIN COLS\", list(test_df.columns))\n",
        "print(\"TEST COLS\", list(train_df.columns))\n",
        "\n",
        "fir, sec = get_col_diff(train_df, test_df)\n",
        "\n",
        "pretty_log(\"GENERAL INFO\")\n",
        "print(\"Columns not in train (this should be empty):\", sec)\n",
        "print(\"Columns not in test (this should be the dependent variable):\", fir)\n",
        "print(\"Test set is {}% the size of train\".format(round(len(test_df) / len(train_df) * 100, 2)))\n",
        "pretty_log(\"\")"
      ],
      "execution_count": null,
      "outputs": [
        {
          "output_type": "stream",
          "text": [
            "TRAIN COLS ['PassengerId', 'Pclass', 'Name', 'Sex', 'Age', 'SibSp', 'Parch', 'Ticket', 'Fare', 'Cabin', 'Embarked']\n",
            "TEST COLS ['PassengerId', 'Survived', 'Pclass', 'Name', 'Sex', 'Age', 'SibSp', 'Parch', 'Ticket', 'Fare', 'Cabin', 'Embarked']\n",
            "\n",
            "\u001b[34m//===== GENERAL INFO =====//\u001b[0m\n",
            "\n",
            "Columns not in train (this should be empty): []\n",
            "Columns not in test (this should be the dependent variable): ['Survived']\n",
            "Test set is 46.91% the size of train\n",
            "\n",
            "\u001b[34m//=====  =====//\u001b[0m\n",
            "\n"
          ],
          "name": "stdout"
        }
      ]
    },
    {
      "cell_type": "markdown",
      "metadata": {
        "id": "cqs1xmPLplIe"
      },
      "source": [
        "We can also create a concatenated `DataFrame` of train and test so that we can do things like exploration and feature engineering on the full set."
      ]
    },
    {
      "cell_type": "code",
      "metadata": {
        "colab": {
          "base_uri": "https://localhost:8080/"
        },
        "id": "YNy3q1aPpwN0",
        "outputId": "ab286a70-9fb8-4b51-d7b3-15fd67fa60d3"
      },
      "source": [
        "full_df = pd.concat([train_df, test_df], sort=True).reset_index(drop=True)\n",
        "\n",
        "len(full_df)"
      ],
      "execution_count": null,
      "outputs": [
        {
          "output_type": "execute_result",
          "data": {
            "text/plain": [
              "1309"
            ]
          },
          "metadata": {
            "tags": []
          },
          "execution_count": 19
        }
      ]
    },
    {
      "cell_type": "markdown",
      "metadata": {
        "id": "vW5CzTPfgqf-"
      },
      "source": [
        "We can a bit of a description of our dataset using `df.describe()`"
      ]
    },
    {
      "cell_type": "code",
      "metadata": {
        "id": "8y8cfdMDguon",
        "colab": {
          "base_uri": "https://localhost:8080/",
          "height": 297
        },
        "outputId": "e69ea73d-3b58-4002-b073-bc3ba3169807"
      },
      "source": [
        "full_df.describe()"
      ],
      "execution_count": null,
      "outputs": [
        {
          "output_type": "execute_result",
          "data": {
            "text/html": [
              "<div>\n",
              "<style scoped>\n",
              "    .dataframe tbody tr th:only-of-type {\n",
              "        vertical-align: middle;\n",
              "    }\n",
              "\n",
              "    .dataframe tbody tr th {\n",
              "        vertical-align: top;\n",
              "    }\n",
              "\n",
              "    .dataframe thead th {\n",
              "        text-align: right;\n",
              "    }\n",
              "</style>\n",
              "<table border=\"1\" class=\"dataframe\">\n",
              "  <thead>\n",
              "    <tr style=\"text-align: right;\">\n",
              "      <th></th>\n",
              "      <th>Age</th>\n",
              "      <th>Fare</th>\n",
              "      <th>Parch</th>\n",
              "      <th>PassengerId</th>\n",
              "      <th>Pclass</th>\n",
              "      <th>SibSp</th>\n",
              "      <th>Survived</th>\n",
              "    </tr>\n",
              "  </thead>\n",
              "  <tbody>\n",
              "    <tr>\n",
              "      <th>count</th>\n",
              "      <td>1046.000000</td>\n",
              "      <td>1308.000000</td>\n",
              "      <td>1309.000000</td>\n",
              "      <td>1309.000000</td>\n",
              "      <td>1309.000000</td>\n",
              "      <td>1309.000000</td>\n",
              "      <td>891.000000</td>\n",
              "    </tr>\n",
              "    <tr>\n",
              "      <th>mean</th>\n",
              "      <td>29.881138</td>\n",
              "      <td>33.295479</td>\n",
              "      <td>0.385027</td>\n",
              "      <td>655.000000</td>\n",
              "      <td>2.294882</td>\n",
              "      <td>0.498854</td>\n",
              "      <td>0.383838</td>\n",
              "    </tr>\n",
              "    <tr>\n",
              "      <th>std</th>\n",
              "      <td>14.413493</td>\n",
              "      <td>51.758668</td>\n",
              "      <td>0.865560</td>\n",
              "      <td>378.020061</td>\n",
              "      <td>0.837836</td>\n",
              "      <td>1.041658</td>\n",
              "      <td>0.486592</td>\n",
              "    </tr>\n",
              "    <tr>\n",
              "      <th>min</th>\n",
              "      <td>0.170000</td>\n",
              "      <td>0.000000</td>\n",
              "      <td>0.000000</td>\n",
              "      <td>1.000000</td>\n",
              "      <td>1.000000</td>\n",
              "      <td>0.000000</td>\n",
              "      <td>0.000000</td>\n",
              "    </tr>\n",
              "    <tr>\n",
              "      <th>25%</th>\n",
              "      <td>21.000000</td>\n",
              "      <td>7.895800</td>\n",
              "      <td>0.000000</td>\n",
              "      <td>328.000000</td>\n",
              "      <td>2.000000</td>\n",
              "      <td>0.000000</td>\n",
              "      <td>0.000000</td>\n",
              "    </tr>\n",
              "    <tr>\n",
              "      <th>50%</th>\n",
              "      <td>28.000000</td>\n",
              "      <td>14.454200</td>\n",
              "      <td>0.000000</td>\n",
              "      <td>655.000000</td>\n",
              "      <td>3.000000</td>\n",
              "      <td>0.000000</td>\n",
              "      <td>0.000000</td>\n",
              "    </tr>\n",
              "    <tr>\n",
              "      <th>75%</th>\n",
              "      <td>39.000000</td>\n",
              "      <td>31.275000</td>\n",
              "      <td>0.000000</td>\n",
              "      <td>982.000000</td>\n",
              "      <td>3.000000</td>\n",
              "      <td>1.000000</td>\n",
              "      <td>1.000000</td>\n",
              "    </tr>\n",
              "    <tr>\n",
              "      <th>max</th>\n",
              "      <td>80.000000</td>\n",
              "      <td>512.329200</td>\n",
              "      <td>9.000000</td>\n",
              "      <td>1309.000000</td>\n",
              "      <td>3.000000</td>\n",
              "      <td>8.000000</td>\n",
              "      <td>1.000000</td>\n",
              "    </tr>\n",
              "  </tbody>\n",
              "</table>\n",
              "</div>"
            ],
            "text/plain": [
              "               Age         Fare  ...        SibSp    Survived\n",
              "count  1046.000000  1308.000000  ...  1309.000000  891.000000\n",
              "mean     29.881138    33.295479  ...     0.498854    0.383838\n",
              "std      14.413493    51.758668  ...     1.041658    0.486592\n",
              "min       0.170000     0.000000  ...     0.000000    0.000000\n",
              "25%      21.000000     7.895800  ...     0.000000    0.000000\n",
              "50%      28.000000    14.454200  ...     0.000000    0.000000\n",
              "75%      39.000000    31.275000  ...     1.000000    1.000000\n",
              "max      80.000000   512.329200  ...     8.000000    1.000000\n",
              "\n",
              "[8 rows x 7 columns]"
            ]
          },
          "metadata": {
            "tags": []
          },
          "execution_count": 20
        }
      ]
    },
    {
      "cell_type": "markdown",
      "metadata": {
        "id": "c9OgAGSQ2eBG"
      },
      "source": [
        "It's always important to take a look at some of the entries themselves so that we can develop a better intuition for what we're working with."
      ]
    },
    {
      "cell_type": "code",
      "metadata": {
        "id": "OuSFqdl-2lgF",
        "colab": {
          "base_uri": "https://localhost:8080/",
          "height": 669
        },
        "outputId": "fc207a7d-dfaf-4002-e292-32e31304f4ed"
      },
      "source": [
        "full_df.head(20)"
      ],
      "execution_count": null,
      "outputs": [
        {
          "output_type": "execute_result",
          "data": {
            "text/html": [
              "<div>\n",
              "<style scoped>\n",
              "    .dataframe tbody tr th:only-of-type {\n",
              "        vertical-align: middle;\n",
              "    }\n",
              "\n",
              "    .dataframe tbody tr th {\n",
              "        vertical-align: top;\n",
              "    }\n",
              "\n",
              "    .dataframe thead th {\n",
              "        text-align: right;\n",
              "    }\n",
              "</style>\n",
              "<table border=\"1\" class=\"dataframe\">\n",
              "  <thead>\n",
              "    <tr style=\"text-align: right;\">\n",
              "      <th></th>\n",
              "      <th>Age</th>\n",
              "      <th>Cabin</th>\n",
              "      <th>Embarked</th>\n",
              "      <th>Fare</th>\n",
              "      <th>Name</th>\n",
              "      <th>Parch</th>\n",
              "      <th>PassengerId</th>\n",
              "      <th>Pclass</th>\n",
              "      <th>Sex</th>\n",
              "      <th>SibSp</th>\n",
              "      <th>Survived</th>\n",
              "      <th>Ticket</th>\n",
              "    </tr>\n",
              "  </thead>\n",
              "  <tbody>\n",
              "    <tr>\n",
              "      <th>0</th>\n",
              "      <td>22.0</td>\n",
              "      <td>NaN</td>\n",
              "      <td>S</td>\n",
              "      <td>7.2500</td>\n",
              "      <td>Braund, Mr. Owen Harris</td>\n",
              "      <td>0</td>\n",
              "      <td>1</td>\n",
              "      <td>3</td>\n",
              "      <td>male</td>\n",
              "      <td>1</td>\n",
              "      <td>0.0</td>\n",
              "      <td>A/5 21171</td>\n",
              "    </tr>\n",
              "    <tr>\n",
              "      <th>1</th>\n",
              "      <td>38.0</td>\n",
              "      <td>C85</td>\n",
              "      <td>C</td>\n",
              "      <td>71.2833</td>\n",
              "      <td>Cumings, Mrs. John Bradley (Florence Briggs Thayer)</td>\n",
              "      <td>0</td>\n",
              "      <td>2</td>\n",
              "      <td>1</td>\n",
              "      <td>female</td>\n",
              "      <td>1</td>\n",
              "      <td>1.0</td>\n",
              "      <td>PC 17599</td>\n",
              "    </tr>\n",
              "    <tr>\n",
              "      <th>2</th>\n",
              "      <td>26.0</td>\n",
              "      <td>NaN</td>\n",
              "      <td>S</td>\n",
              "      <td>7.9250</td>\n",
              "      <td>Heikkinen, Miss. Laina</td>\n",
              "      <td>0</td>\n",
              "      <td>3</td>\n",
              "      <td>3</td>\n",
              "      <td>female</td>\n",
              "      <td>0</td>\n",
              "      <td>1.0</td>\n",
              "      <td>STON/O2. 3101282</td>\n",
              "    </tr>\n",
              "    <tr>\n",
              "      <th>3</th>\n",
              "      <td>35.0</td>\n",
              "      <td>C123</td>\n",
              "      <td>S</td>\n",
              "      <td>53.1000</td>\n",
              "      <td>Futrelle, Mrs. Jacques Heath (Lily May Peel)</td>\n",
              "      <td>0</td>\n",
              "      <td>4</td>\n",
              "      <td>1</td>\n",
              "      <td>female</td>\n",
              "      <td>1</td>\n",
              "      <td>1.0</td>\n",
              "      <td>113803</td>\n",
              "    </tr>\n",
              "    <tr>\n",
              "      <th>4</th>\n",
              "      <td>35.0</td>\n",
              "      <td>NaN</td>\n",
              "      <td>S</td>\n",
              "      <td>8.0500</td>\n",
              "      <td>Allen, Mr. William Henry</td>\n",
              "      <td>0</td>\n",
              "      <td>5</td>\n",
              "      <td>3</td>\n",
              "      <td>male</td>\n",
              "      <td>0</td>\n",
              "      <td>0.0</td>\n",
              "      <td>373450</td>\n",
              "    </tr>\n",
              "    <tr>\n",
              "      <th>5</th>\n",
              "      <td>NaN</td>\n",
              "      <td>NaN</td>\n",
              "      <td>Q</td>\n",
              "      <td>8.4583</td>\n",
              "      <td>Moran, Mr. James</td>\n",
              "      <td>0</td>\n",
              "      <td>6</td>\n",
              "      <td>3</td>\n",
              "      <td>male</td>\n",
              "      <td>0</td>\n",
              "      <td>0.0</td>\n",
              "      <td>330877</td>\n",
              "    </tr>\n",
              "    <tr>\n",
              "      <th>6</th>\n",
              "      <td>54.0</td>\n",
              "      <td>E46</td>\n",
              "      <td>S</td>\n",
              "      <td>51.8625</td>\n",
              "      <td>McCarthy, Mr. Timothy J</td>\n",
              "      <td>0</td>\n",
              "      <td>7</td>\n",
              "      <td>1</td>\n",
              "      <td>male</td>\n",
              "      <td>0</td>\n",
              "      <td>0.0</td>\n",
              "      <td>17463</td>\n",
              "    </tr>\n",
              "    <tr>\n",
              "      <th>7</th>\n",
              "      <td>2.0</td>\n",
              "      <td>NaN</td>\n",
              "      <td>S</td>\n",
              "      <td>21.0750</td>\n",
              "      <td>Palsson, Master. Gosta Leonard</td>\n",
              "      <td>1</td>\n",
              "      <td>8</td>\n",
              "      <td>3</td>\n",
              "      <td>male</td>\n",
              "      <td>3</td>\n",
              "      <td>0.0</td>\n",
              "      <td>349909</td>\n",
              "    </tr>\n",
              "    <tr>\n",
              "      <th>8</th>\n",
              "      <td>27.0</td>\n",
              "      <td>NaN</td>\n",
              "      <td>S</td>\n",
              "      <td>11.1333</td>\n",
              "      <td>Johnson, Mrs. Oscar W (Elisabeth Vilhelmina Berg)</td>\n",
              "      <td>2</td>\n",
              "      <td>9</td>\n",
              "      <td>3</td>\n",
              "      <td>female</td>\n",
              "      <td>0</td>\n",
              "      <td>1.0</td>\n",
              "      <td>347742</td>\n",
              "    </tr>\n",
              "    <tr>\n",
              "      <th>9</th>\n",
              "      <td>14.0</td>\n",
              "      <td>NaN</td>\n",
              "      <td>C</td>\n",
              "      <td>30.0708</td>\n",
              "      <td>Nasser, Mrs. Nicholas (Adele Achem)</td>\n",
              "      <td>0</td>\n",
              "      <td>10</td>\n",
              "      <td>2</td>\n",
              "      <td>female</td>\n",
              "      <td>1</td>\n",
              "      <td>1.0</td>\n",
              "      <td>237736</td>\n",
              "    </tr>\n",
              "    <tr>\n",
              "      <th>10</th>\n",
              "      <td>4.0</td>\n",
              "      <td>G6</td>\n",
              "      <td>S</td>\n",
              "      <td>16.7000</td>\n",
              "      <td>Sandstrom, Miss. Marguerite Rut</td>\n",
              "      <td>1</td>\n",
              "      <td>11</td>\n",
              "      <td>3</td>\n",
              "      <td>female</td>\n",
              "      <td>1</td>\n",
              "      <td>1.0</td>\n",
              "      <td>PP 9549</td>\n",
              "    </tr>\n",
              "    <tr>\n",
              "      <th>11</th>\n",
              "      <td>58.0</td>\n",
              "      <td>C103</td>\n",
              "      <td>S</td>\n",
              "      <td>26.5500</td>\n",
              "      <td>Bonnell, Miss. Elizabeth</td>\n",
              "      <td>0</td>\n",
              "      <td>12</td>\n",
              "      <td>1</td>\n",
              "      <td>female</td>\n",
              "      <td>0</td>\n",
              "      <td>1.0</td>\n",
              "      <td>113783</td>\n",
              "    </tr>\n",
              "    <tr>\n",
              "      <th>12</th>\n",
              "      <td>20.0</td>\n",
              "      <td>NaN</td>\n",
              "      <td>S</td>\n",
              "      <td>8.0500</td>\n",
              "      <td>Saundercock, Mr. William Henry</td>\n",
              "      <td>0</td>\n",
              "      <td>13</td>\n",
              "      <td>3</td>\n",
              "      <td>male</td>\n",
              "      <td>0</td>\n",
              "      <td>0.0</td>\n",
              "      <td>A/5. 2151</td>\n",
              "    </tr>\n",
              "    <tr>\n",
              "      <th>13</th>\n",
              "      <td>39.0</td>\n",
              "      <td>NaN</td>\n",
              "      <td>S</td>\n",
              "      <td>31.2750</td>\n",
              "      <td>Andersson, Mr. Anders Johan</td>\n",
              "      <td>5</td>\n",
              "      <td>14</td>\n",
              "      <td>3</td>\n",
              "      <td>male</td>\n",
              "      <td>1</td>\n",
              "      <td>0.0</td>\n",
              "      <td>347082</td>\n",
              "    </tr>\n",
              "    <tr>\n",
              "      <th>14</th>\n",
              "      <td>14.0</td>\n",
              "      <td>NaN</td>\n",
              "      <td>S</td>\n",
              "      <td>7.8542</td>\n",
              "      <td>Vestrom, Miss. Hulda Amanda Adolfina</td>\n",
              "      <td>0</td>\n",
              "      <td>15</td>\n",
              "      <td>3</td>\n",
              "      <td>female</td>\n",
              "      <td>0</td>\n",
              "      <td>0.0</td>\n",
              "      <td>350406</td>\n",
              "    </tr>\n",
              "    <tr>\n",
              "      <th>15</th>\n",
              "      <td>55.0</td>\n",
              "      <td>NaN</td>\n",
              "      <td>S</td>\n",
              "      <td>16.0000</td>\n",
              "      <td>Hewlett, Mrs. (Mary D Kingcome)</td>\n",
              "      <td>0</td>\n",
              "      <td>16</td>\n",
              "      <td>2</td>\n",
              "      <td>female</td>\n",
              "      <td>0</td>\n",
              "      <td>1.0</td>\n",
              "      <td>248706</td>\n",
              "    </tr>\n",
              "    <tr>\n",
              "      <th>16</th>\n",
              "      <td>2.0</td>\n",
              "      <td>NaN</td>\n",
              "      <td>Q</td>\n",
              "      <td>29.1250</td>\n",
              "      <td>Rice, Master. Eugene</td>\n",
              "      <td>1</td>\n",
              "      <td>17</td>\n",
              "      <td>3</td>\n",
              "      <td>male</td>\n",
              "      <td>4</td>\n",
              "      <td>0.0</td>\n",
              "      <td>382652</td>\n",
              "    </tr>\n",
              "    <tr>\n",
              "      <th>17</th>\n",
              "      <td>NaN</td>\n",
              "      <td>NaN</td>\n",
              "      <td>S</td>\n",
              "      <td>13.0000</td>\n",
              "      <td>Williams, Mr. Charles Eugene</td>\n",
              "      <td>0</td>\n",
              "      <td>18</td>\n",
              "      <td>2</td>\n",
              "      <td>male</td>\n",
              "      <td>0</td>\n",
              "      <td>1.0</td>\n",
              "      <td>244373</td>\n",
              "    </tr>\n",
              "    <tr>\n",
              "      <th>18</th>\n",
              "      <td>31.0</td>\n",
              "      <td>NaN</td>\n",
              "      <td>S</td>\n",
              "      <td>18.0000</td>\n",
              "      <td>Vander Planke, Mrs. Julius (Emelia Maria Vandemoortele)</td>\n",
              "      <td>0</td>\n",
              "      <td>19</td>\n",
              "      <td>3</td>\n",
              "      <td>female</td>\n",
              "      <td>1</td>\n",
              "      <td>0.0</td>\n",
              "      <td>345763</td>\n",
              "    </tr>\n",
              "    <tr>\n",
              "      <th>19</th>\n",
              "      <td>NaN</td>\n",
              "      <td>NaN</td>\n",
              "      <td>C</td>\n",
              "      <td>7.2250</td>\n",
              "      <td>Masselmani, Mrs. Fatima</td>\n",
              "      <td>0</td>\n",
              "      <td>20</td>\n",
              "      <td>3</td>\n",
              "      <td>female</td>\n",
              "      <td>0</td>\n",
              "      <td>1.0</td>\n",
              "      <td>2649</td>\n",
              "    </tr>\n",
              "  </tbody>\n",
              "</table>\n",
              "</div>"
            ],
            "text/plain": [
              "     Age Cabin Embarked     Fare  ...     Sex  SibSp  Survived            Ticket\n",
              "0   22.0   NaN        S   7.2500  ...    male      1       0.0         A/5 21171\n",
              "1   38.0   C85        C  71.2833  ...  female      1       1.0          PC 17599\n",
              "2   26.0   NaN        S   7.9250  ...  female      0       1.0  STON/O2. 3101282\n",
              "3   35.0  C123        S  53.1000  ...  female      1       1.0            113803\n",
              "4   35.0   NaN        S   8.0500  ...    male      0       0.0            373450\n",
              "5    NaN   NaN        Q   8.4583  ...    male      0       0.0            330877\n",
              "6   54.0   E46        S  51.8625  ...    male      0       0.0             17463\n",
              "7    2.0   NaN        S  21.0750  ...    male      3       0.0            349909\n",
              "8   27.0   NaN        S  11.1333  ...  female      0       1.0            347742\n",
              "9   14.0   NaN        C  30.0708  ...  female      1       1.0            237736\n",
              "10   4.0    G6        S  16.7000  ...  female      1       1.0           PP 9549\n",
              "11  58.0  C103        S  26.5500  ...  female      0       1.0            113783\n",
              "12  20.0   NaN        S   8.0500  ...    male      0       0.0         A/5. 2151\n",
              "13  39.0   NaN        S  31.2750  ...    male      1       0.0            347082\n",
              "14  14.0   NaN        S   7.8542  ...  female      0       0.0            350406\n",
              "15  55.0   NaN        S  16.0000  ...  female      0       1.0            248706\n",
              "16   2.0   NaN        Q  29.1250  ...    male      4       0.0            382652\n",
              "17   NaN   NaN        S  13.0000  ...    male      0       1.0            244373\n",
              "18  31.0   NaN        S  18.0000  ...  female      1       0.0            345763\n",
              "19   NaN   NaN        C   7.2250  ...  female      0       1.0              2649\n",
              "\n",
              "[20 rows x 12 columns]"
            ]
          },
          "metadata": {
            "tags": []
          },
          "execution_count": 22
        }
      ]
    },
    {
      "cell_type": "markdown",
      "metadata": {
        "id": "WVfOZvVdhTY9"
      },
      "source": [
        "We can also view the interactions between all possible feature pairs. This isn't necessarily doable for larger datasets, but for the sake of our example it can be done for all features directly:"
      ]
    },
    {
      "cell_type": "code",
      "metadata": {
        "id": "q0DCVnTZhebt"
      },
      "source": [
        "# Create the default pairplot\n",
        "sn.pairplot(df)"
      ],
      "execution_count": null,
      "outputs": []
    },
    {
      "cell_type": "markdown",
      "metadata": {
        "id": "fh9O8y2vAKS-"
      },
      "source": [
        "We can see `NaN` values, which we'll need to decide how we want to handle, as well as pick out any potentially interesting features based on their values. It may also be useful to pick out \"magic features\", those which have a strong correlation to the target given some relatively simple transformation."
      ]
    },
    {
      "cell_type": "markdown",
      "metadata": {
        "id": "nQZ04LiGwAp4"
      },
      "source": [
        "### **Handling Missing Values**\n",
        "\n",
        "It's extremely common to find missing content in datasets and it's important to decide how to handle these. Some libraries, like fastai, do have built in handlers for this, but may be different from those found in something like Pandas."
      ]
    },
    {
      "cell_type": "code",
      "metadata": {
        "id": "_qkyBRlutvnx"
      },
      "source": [
        "# Any mistakes in handling missing values can be reset to the original dataset here\n",
        "full_reset_df = full_df.copy(deep=True)"
      ],
      "execution_count": null,
      "outputs": []
    },
    {
      "cell_type": "code",
      "metadata": {
        "id": "2BQtbwO08Lp-"
      },
      "source": [
        "full_df = full_reset_df.copy(deep=True)"
      ],
      "execution_count": null,
      "outputs": []
    },
    {
      "cell_type": "code",
      "metadata": {
        "id": "aRa4cyGZsQ3x",
        "colab": {
          "base_uri": "https://localhost:8080/"
        },
        "outputId": "2157a962-6ef5-40b2-9d64-f563a7fa4bab"
      },
      "source": [
        "# We can first find which columns contain NaN values\n",
        "print(full_df.columns[full_df.isna().any()].tolist())\n",
        "\n",
        "pretty_log(\"MISSING IN TRAIN\")\n",
        "print(train_df.columns[train_df.isna().any()].tolist())\n",
        "\n",
        "pretty_log(\"MISSING IN TEST\")\n",
        "print(test_df.columns[test_df.isna().any()].tolist())"
      ],
      "execution_count": null,
      "outputs": [
        {
          "output_type": "stream",
          "text": [
            "['Age', 'Cabin', 'Embarked', 'Fare', 'Survived']\n",
            "\n",
            "\u001b[34m//===== MISSING IN TRAIN =====//\u001b[0m\n",
            "\n",
            "['Age', 'Cabin', 'Embarked']\n",
            "\n",
            "\u001b[34m//===== MISSING IN TEST =====//\u001b[0m\n",
            "\n",
            "['Age', 'Fare', 'Cabin']\n"
          ],
          "name": "stdout"
        }
      ]
    },
    {
      "cell_type": "markdown",
      "metadata": {
        "id": "G4Luu5d5uat5"
      },
      "source": [
        "Okay, now that we know which columns are missing in each set, we can go about solving this issue for the full set."
      ]
    },
    {
      "cell_type": "code",
      "metadata": {
        "id": "jW7j1V8Duqwg"
      },
      "source": [
        "# export\n",
        "def get_missing_info_for_col(df, col):\n",
        "  missing = df[col].isnull().sum()\n",
        "  print(\"Missing volume for {c} in dataset: {v}\".format(c=col, v=missing))\n",
        "  print(\"Missing volume in percentage:\", str(round(missing / len(df) * 100, 2)) + \"%\")"
      ],
      "execution_count": null,
      "outputs": []
    },
    {
      "cell_type": "code",
      "metadata": {
        "id": "okhDnyqX0sEL"
      },
      "source": [
        "# export\n",
        "def mark_nan_cols(df):\n",
        "  \"\"\"\n",
        "  Creates a new column for each NaN column in the df, \n",
        "  marking whether the row contained a NaN or not\n",
        "  \"\"\"\n",
        "  nan_cols = df.columns[df.isna().any()].tolist()\n",
        "\n",
        "  for col in nan_cols:\n",
        "    df[\"{}_NaN\".format(col)] = np.where(df[col].isnull(), 1, 0)"
      ],
      "execution_count": null,
      "outputs": []
    },
    {
      "cell_type": "markdown",
      "metadata": {
        "id": "rqgyjSQ_0ZVZ"
      },
      "source": [
        "We can mark the existence of `NaN` in a row-column pair by creating a new column for each of the columns that contain `NaN`. In each of these new columns, if there was a `NaN` in that row we'll mark it with a 1 and if not we'll mark with a 0."
      ]
    },
    {
      "cell_type": "code",
      "metadata": {
        "id": "LykwWmoU1PxU"
      },
      "source": [
        "# Let's mark the missing columns as a new boolean column\n",
        "mark_nan_cols(full_df)"
      ],
      "execution_count": null,
      "outputs": []
    },
    {
      "cell_type": "markdown",
      "metadata": {
        "id": "ocvMX9jPv5EB"
      },
      "source": [
        "Now let's start with Age:"
      ]
    },
    {
      "cell_type": "code",
      "metadata": {
        "colab": {
          "base_uri": "https://localhost:8080/"
        },
        "id": "c-zQj2xLvaFB",
        "outputId": "2af32c11-9340-4395-de4b-a1e38c175aaa"
      },
      "source": [
        "pretty_log(\"AGE in FULL DATASET\")\n",
        "get_missing_info_for_col(full_df, 'Age')"
      ],
      "execution_count": null,
      "outputs": [
        {
          "output_type": "stream",
          "text": [
            "\n",
            "\u001b[34m//===== AGE in FULL DATASET =====//\u001b[0m\n",
            "\n",
            "Missing volume for Age in dataset: 263\n",
            "Missing volume in percentage: 20.09%\n"
          ],
          "name": "stdout"
        }
      ]
    },
    {
      "cell_type": "code",
      "metadata": {
        "colab": {
          "base_uri": "https://localhost:8080/",
          "height": 282
        },
        "id": "r1NUoo1gv7K-",
        "outputId": "f8b0f917-8fe9-4159-ef14-3dd17b20fce9"
      },
      "source": [
        "full_df['Age'].plot(kind='hist')"
      ],
      "execution_count": null,
      "outputs": [
        {
          "output_type": "execute_result",
          "data": {
            "text/plain": [
              "<matplotlib.axes._subplots.AxesSubplot at 0x7f2c1515d510>"
            ]
          },
          "metadata": {
            "tags": []
          },
          "execution_count": 28
        },
        {
          "output_type": "display_data",
          "data": {
            "image/png": "[encoded data removed]",
            "text/plain": [
              "<Figure size 432x288 with 1 Axes>"
            ]
          },
          "metadata": {
            "tags": [],
            "needs_background": "light"
          }
        }
      ]
    },
    {
      "cell_type": "code",
      "metadata": {
        "colab": {
          "base_uri": "https://localhost:8080/",
          "height": 282
        },
        "id": "BNDaR3JG0NeP",
        "outputId": "c5129379-726f-47ce-82ea-e2e866d6fcba"
      },
      "source": [
        "# Let's check the distribution between train and test sets\n",
        "train_df['Age'].plot(kind='hist')\n",
        "test_df['Age'].plot(kind='hist')"
      ],
      "execution_count": null,
      "outputs": [
        {
          "output_type": "execute_result",
          "data": {
            "text/plain": [
              "<matplotlib.axes._subplots.AxesSubplot at 0x7f2c15045790>"
            ]
          },
          "metadata": {
            "tags": []
          },
          "execution_count": 29
        },
        {
          "output_type": "display_data",
          "data": {
            "image/png": "[encoded data removed]",
            "text/plain": [
              "<Figure size 432x288 with 1 Axes>"
            ]
          },
          "metadata": {
            "tags": [],
            "needs_background": "light"
          }
        }
      ]
    },
    {
      "cell_type": "markdown",
      "metadata": {
        "id": "FGwYQ7A51ynn"
      },
      "source": [
        "The distribution between the train and test sets for age isn't perfect. Do we possibly need to think about how to deal with this?"
      ]
    },
    {
      "cell_type": "code",
      "metadata": {
        "id": "4gzQ1IDQ0_Ec"
      },
      "source": [
        "fir_class = full_df.loc[full_df['Pclass'] == 1][\"Age\"]\n",
        "sec_class = full_df.loc[full_df['Pclass'] == 2][\"Age\"]\n",
        "thi_class = full_df.loc[full_df['Pclass'] == 3][\"Age\"]"
      ],
      "execution_count": null,
      "outputs": []
    },
    {
      "cell_type": "code",
      "metadata": {
        "colab": {
          "base_uri": "https://localhost:8080/",
          "height": 282
        },
        "id": "WMKdPbdi1oCH",
        "outputId": "f83346d5-099d-4cd9-87b3-fe7fabd66fc2"
      },
      "source": [
        "thi_class.plot(kind=\"hist\")"
      ],
      "execution_count": null,
      "outputs": [
        {
          "output_type": "execute_result",
          "data": {
            "text/plain": [
              "<matplotlib.axes._subplots.AxesSubplot at 0x7f76e3e6b050>"
            ]
          },
          "metadata": {
            "tags": []
          },
          "execution_count": 53
        },
        {
          "output_type": "display_data",
          "data": {
            "image/png": "[encoded data removed]",
            "text/plain": [
              "<Figure size 432x288 with 1 Axes>"
            ]
          },
          "metadata": {
            "tags": [],
            "needs_background": "light"
          }
        }
      ]
    },
    {
      "cell_type": "code",
      "metadata": {
        "colab": {
          "base_uri": "https://localhost:8080/",
          "height": 285
        },
        "id": "1ml0Fkcu1tyl",
        "outputId": "cc9e17ba-2592-4ae1-ea1d-086160ddd11d"
      },
      "source": [
        "sec_class.plot(kind='hist')"
      ],
      "execution_count": null,
      "outputs": [
        {
          "output_type": "execute_result",
          "data": {
            "text/plain": [
              "<matplotlib.axes._subplots.AxesSubplot at 0x7f76e3db8090>"
            ]
          },
          "metadata": {
            "tags": []
          },
          "execution_count": 55
        },
        {
          "output_type": "display_data",
          "data": {
            "image/png": "[encoded data removed]",
            "text/plain": [
              "<Figure size 432x288 with 1 Axes>"
            ]
          },
          "metadata": {
            "tags": [],
            "needs_background": "light"
          }
        }
      ]
    },
    {
      "cell_type": "code",
      "metadata": {
        "colab": {
          "base_uri": "https://localhost:8080/",
          "height": 282
        },
        "id": "4HlwTFKa1phM",
        "outputId": "7ab6c208-3bb2-49d3-bb2b-2ba1517073ef"
      },
      "source": [
        "fir_class.plot(kind='hist')"
      ],
      "execution_count": null,
      "outputs": [
        {
          "output_type": "execute_result",
          "data": {
            "text/plain": [
              "<matplotlib.axes._subplots.AxesSubplot at 0x7f76e3dfd510>"
            ]
          },
          "metadata": {
            "tags": []
          },
          "execution_count": 54
        },
        {
          "output_type": "display_data",
          "data": {
            "image/png": "[encoded data removed]",
            "text/plain": [
              "<Figure size 432x288 with 1 Axes>"
            ]
          },
          "metadata": {
            "tags": [],
            "needs_background": "light"
          }
        }
      ]
    },
    {
      "cell_type": "code",
      "metadata": {
        "id": "_OrqyPFYsved"
      },
      "source": [
        "# Fill with median (in this case we'll groupby to get the median by group)\n",
        "full_df['Age'] = full_df.groupby(['Pclass', 'Sex'])['Age'].apply(lambda x: x.fillna(x.median()))"
      ],
      "execution_count": null,
      "outputs": []
    },
    {
      "cell_type": "code",
      "metadata": {
        "colab": {
          "base_uri": "https://localhost:8080/"
        },
        "id": "npWLzANcr6EL",
        "outputId": "c964c9b4-3768-4c26-fdb2-bd2d044bb51e"
      },
      "source": [
        "full_df.columns[full_df.isna().any()].tolist()"
      ],
      "execution_count": null,
      "outputs": [
        {
          "output_type": "execute_result",
          "data": {
            "text/plain": [
              "['Cabin', 'Embarked', 'Fare', 'Survived']"
            ]
          },
          "metadata": {
            "tags": []
          },
          "execution_count": 30
        }
      ]
    },
    {
      "cell_type": "markdown",
      "metadata": {
        "id": "3ipD-Ta5sFxl"
      },
      "source": [
        "Great, age is no longer a `NaN`-containing column. Next we can look at the fare:"
      ]
    },
    {
      "cell_type": "code",
      "metadata": {
        "colab": {
          "base_uri": "https://localhost:8080/",
          "height": 97
        },
        "id": "PblsAOrqsTgB",
        "outputId": "c8843785-fdd6-4191-efa8-fd59dba03ddc"
      },
      "source": [
        "full_df.loc[full_df['Fare'].isnull()]"
      ],
      "execution_count": null,
      "outputs": [
        {
          "output_type": "execute_result",
          "data": {
            "text/html": [
              "<div>\n",
              "<style scoped>\n",
              "    .dataframe tbody tr th:only-of-type {\n",
              "        vertical-align: middle;\n",
              "    }\n",
              "\n",
              "    .dataframe tbody tr th {\n",
              "        vertical-align: top;\n",
              "    }\n",
              "\n",
              "    .dataframe thead th {\n",
              "        text-align: right;\n",
              "    }\n",
              "</style>\n",
              "<table border=\"1\" class=\"dataframe\">\n",
              "  <thead>\n",
              "    <tr style=\"text-align: right;\">\n",
              "      <th></th>\n",
              "      <th>Age</th>\n",
              "      <th>Cabin</th>\n",
              "      <th>Embarked</th>\n",
              "      <th>Fare</th>\n",
              "      <th>Name</th>\n",
              "      <th>Parch</th>\n",
              "      <th>PassengerId</th>\n",
              "      <th>Pclass</th>\n",
              "      <th>Sex</th>\n",
              "      <th>SibSp</th>\n",
              "      <th>Survived</th>\n",
              "      <th>Ticket</th>\n",
              "      <th>Age_NaN</th>\n",
              "      <th>Cabin_NaN</th>\n",
              "      <th>Embarked_NaN</th>\n",
              "      <th>Fare_NaN</th>\n",
              "      <th>Survived_NaN</th>\n",
              "    </tr>\n",
              "  </thead>\n",
              "  <tbody>\n",
              "    <tr>\n",
              "      <th>1043</th>\n",
              "      <td>60.5</td>\n",
              "      <td>NaN</td>\n",
              "      <td>S</td>\n",
              "      <td>NaN</td>\n",
              "      <td>Storey, Mr. Thomas</td>\n",
              "      <td>0</td>\n",
              "      <td>1044</td>\n",
              "      <td>3</td>\n",
              "      <td>male</td>\n",
              "      <td>0</td>\n",
              "      <td>NaN</td>\n",
              "      <td>3701</td>\n",
              "      <td>0</td>\n",
              "      <td>1</td>\n",
              "      <td>0</td>\n",
              "      <td>1</td>\n",
              "      <td>1</td>\n",
              "    </tr>\n",
              "  </tbody>\n",
              "</table>\n",
              "</div>"
            ],
            "text/plain": [
              "       Age Cabin Embarked  ...  Embarked_NaN Fare_NaN  Survived_NaN\n",
              "1043  60.5   NaN        S  ...             0        1             1\n",
              "\n",
              "[1 rows x 17 columns]"
            ]
          },
          "metadata": {
            "tags": []
          },
          "execution_count": 31
        }
      ]
    },
    {
      "cell_type": "markdown",
      "metadata": {
        "id": "hiWpuLJosi1F"
      },
      "source": [
        "There's only one guy in the whole dataset who doesn't have a recorded fare. Mr. Thomas was in passenger class 3, travelled alone and embarked in Southhampton. We will take other cases from people in this category and replace the missing Fare with the median of this group"
      ]
    },
    {
      "cell_type": "code",
      "metadata": {
        "colab": {
          "base_uri": "https://localhost:8080/"
        },
        "id": "8-bNQkOIs1mN",
        "outputId": "eea7e88f-cbda-4f38-9a5c-e76e28dfc680"
      },
      "source": [
        "# Let's get the median of people in a similar situation\n",
        "thomas = full_df.loc[(full_df['Pclass'] == 3) & (full_df['Embarked'] == 'S') & (full_df['SibSp'] == 0)]['Fare'].median()\n",
        "print(thomas)"
      ],
      "execution_count": null,
      "outputs": [
        {
          "output_type": "stream",
          "text": [
            "7.925\n"
          ],
          "name": "stdout"
        }
      ]
    },
    {
      "cell_type": "code",
      "metadata": {
        "id": "lcb5c1T3tmUa"
      },
      "source": [
        "full_df.loc[full_df['Fare'].isnull(), 'Fare'] = thomas"
      ],
      "execution_count": null,
      "outputs": []
    },
    {
      "cell_type": "code",
      "metadata": {
        "colab": {
          "base_uri": "https://localhost:8080/"
        },
        "id": "fAvBzAlMtssY",
        "outputId": "ed1b1957-2f88-4c89-a959-270c70841395"
      },
      "source": [
        "full_df.columns[full_df.isna().any()].tolist()"
      ],
      "execution_count": null,
      "outputs": [
        {
          "output_type": "execute_result",
          "data": {
            "text/plain": [
              "['Cabin', 'Embarked', 'Survived']"
            ]
          },
          "metadata": {
            "tags": []
          },
          "execution_count": 34
        }
      ]
    },
    {
      "cell_type": "markdown",
      "metadata": {
        "id": "jy2SUZrft09Y"
      },
      "source": [
        "Great, that takes care of our missing Fare! Now let's look at Cabin. This is a tricky one as we're dealing with categorical variable."
      ]
    },
    {
      "cell_type": "code",
      "metadata": {
        "colab": {
          "base_uri": "https://localhost:8080/"
        },
        "id": "Nruo8Iu5uQox",
        "outputId": "e468d739-0660-40b9-8ba6-a9b080a3aa0e"
      },
      "source": [
        "full_df['Cabin'].unique()"
      ],
      "execution_count": null,
      "outputs": [
        {
          "output_type": "execute_result",
          "data": {
            "text/plain": [
              "array([nan, 'C85', 'C123', 'E46', 'G6', 'C103', 'D56', 'A6',\n",
              "       'C23 C25 C27', 'B78', 'D33', 'B30', 'C52', 'B28', 'C83', 'F33',\n",
              "       'F G73', 'E31', 'A5', 'D10 D12', 'D26', 'C110', 'B58 B60', 'E101',\n",
              "       'F E69', 'D47', 'B86', 'F2', 'C2', 'E33', 'B19', 'A7', 'C49', 'F4',\n",
              "       'A32', 'B4', 'B80', 'A31', 'D36', 'D15', 'C93', 'C78', 'D35',\n",
              "       'C87', 'B77', 'E67', 'B94', 'C125', 'C99', 'C118', 'D7', 'A19',\n",
              "       'B49', 'D', 'C22 C26', 'C106', 'C65', 'E36', 'C54',\n",
              "       'B57 B59 B63 B66', 'C7', 'E34', 'C32', 'B18', 'C124', 'C91', 'E40',\n",
              "       'T', 'C128', 'D37', 'B35', 'E50', 'C82', 'B96 B98', 'E10', 'E44',\n",
              "       'A34', 'C104', 'C111', 'C92', 'E38', 'D21', 'E12', 'E63', 'A14',\n",
              "       'B37', 'C30', 'D20', 'B79', 'E25', 'D46', 'B73', 'C95', 'B38',\n",
              "       'B39', 'B22', 'C86', 'C70', 'A16', 'C101', 'C68', 'A10', 'E68',\n",
              "       'B41', 'A20', 'D19', 'D50', 'D9', 'A23', 'B50', 'A26', 'D48',\n",
              "       'E58', 'C126', 'B71', 'B51 B53 B55', 'D49', 'B5', 'B20', 'F G63',\n",
              "       'C62 C64', 'E24', 'C90', 'C45', 'E8', 'B101', 'D45', 'C46', 'D30',\n",
              "       'E121', 'D11', 'E77', 'F38', 'B3', 'D6', 'B82 B84', 'D17', 'A36',\n",
              "       'B102', 'B69', 'E49', 'C47', 'D28', 'E17', 'A24', 'C50', 'B42',\n",
              "       'C148', 'B45', 'B36', 'A21', 'D34', 'A9', 'C31', 'B61', 'C53',\n",
              "       'D43', 'C130', 'C132', 'C55 C57', 'C116', 'F', 'A29', 'C6', 'C28',\n",
              "       'C51', 'C97', 'D22', 'B10', 'E45', 'E52', 'A11', 'B11', 'C80',\n",
              "       'C89', 'F E46', 'B26', 'F E57', 'A18', 'E60', 'E39 E41',\n",
              "       'B52 B54 B56', 'C39', 'B24', 'D40', 'D38', 'C105'], dtype=object)"
            ]
          },
          "metadata": {
            "tags": []
          },
          "execution_count": 51
        }
      ]
    },
    {
      "cell_type": "code",
      "metadata": {
        "id": "-XGCuakjwhZ7"
      },
      "source": [
        "def extract_nums_from_cabin(entry):\n",
        "  sets = entry.split()\n",
        "  int_sets = []\n",
        "\n",
        "  final_num = 0\n",
        "  for c in sets:\n",
        "    extraction = [s for s in list(c) if s.isdigit()]\n",
        "\n",
        "    if len(extraction) > 0:\n",
        "      int_sets.append(int(''.join(extraction)))\n",
        "    else:\n",
        "      int_sets.append(0)\n",
        "  \n",
        "  return sum(int_sets) / len(int_sets)"
      ],
      "execution_count": null,
      "outputs": []
    },
    {
      "cell_type": "code",
      "metadata": {
        "id": "OLEwsjZUul7v"
      },
      "source": [
        "# Let's keep the first letter from the cabin in a new variable (see Titanic layout) and replace missings with 'M'\n",
        "full_df['Deck'] = full_df['Cabin'].apply(lambda x: x[0] if pd.notnull(x) else 'M')\n",
        "\n",
        "# The cabin number probably has something to do with they were in the bow or stern of the ship, so we'll keep that too\n",
        "full_df['Ship_Pos'] = full_df['Cabin'].apply( lambda x: extract_nums_from_cabin(x) if pd.notnull(x) else None )\n",
        "full_df['Ship_Pos'].fillna(full_df['Ship_Pos'].median(), inplace=True)"
      ],
      "execution_count": null,
      "outputs": []
    },
    {
      "cell_type": "markdown",
      "metadata": {
        "id": "Wjt3IH0svYUd"
      },
      "source": [
        "Let's plot survival rate by deck and see whether there is some kind of pattern we can pull out."
      ]
    },
    {
      "cell_type": "code",
      "metadata": {
        "colab": {
          "base_uri": "https://localhost:8080/",
          "height": 324
        },
        "id": "h1C4I9NUvfH7",
        "outputId": "c1a584cd-47df-40e0-d85d-70b733d1cf5e"
      },
      "source": [
        "full_df[['Deck', 'Survived']].groupby('Deck')['Survived'].mean().plot(kind=\"bar\")\n",
        "plt.suptitle('Survival rate by cabin')"
      ],
      "execution_count": null,
      "outputs": [
        {
          "output_type": "execute_result",
          "data": {
            "text/plain": [
              "Text(0.5, 0.98, 'Survival rate by cabin')"
            ]
          },
          "metadata": {
            "tags": []
          },
          "execution_count": 56
        },
        {
          "output_type": "display_data",
          "data": {
            "image/png": "[encoded data removed]",
            "text/plain": [
              "<Figure size 432x288 with 1 Axes>"
            ]
          },
          "metadata": {
            "tags": [],
            "needs_background": "light"
          }
        }
      ]
    },
    {
      "cell_type": "markdown",
      "metadata": {
        "id": "orU814BO1J6j"
      },
      "source": [
        "The survival for certain groupings seems higher, which makes sense given that first class passengers, for example, were probably quicker to the lifeboats."
      ]
    },
    {
      "cell_type": "code",
      "metadata": {
        "colab": {
          "base_uri": "https://localhost:8080/"
        },
        "id": "mwBVrwPQ1UAX",
        "outputId": "85d674d3-6f10-43fd-bd05-7215b692315c"
      },
      "source": [
        "idx = full_df[full_df['Deck'] == 'T'].index\n",
        "full_df.loc[idx, 'Deck'] = 'A'\n",
        "\n",
        "full_df['Deck'] = full_df['Deck'].replace(['A', 'B', 'C'], 'ABC')\n",
        "full_df['Deck'] = full_df['Deck'].replace(['D', 'E'], 'DE')\n",
        "full_df['Deck'] = full_df['Deck'].replace(['F', 'G'], 'FG')\n",
        "\n",
        "full_df['Deck'].value_counts()"
      ],
      "execution_count": null,
      "outputs": [
        {
          "output_type": "execute_result",
          "data": {
            "text/plain": [
              "M      1014\n",
              "ABC     182\n",
              "DE       87\n",
              "FG       26\n",
              "Name: Deck, dtype: int64"
            ]
          },
          "metadata": {
            "tags": []
          },
          "execution_count": 37
        }
      ]
    },
    {
      "cell_type": "markdown",
      "metadata": {
        "id": "NJ1_Dph40CmS"
      },
      "source": [
        "Let's now also take a look at where the passengers were in terms of their position on the ship, since the Titanic sank in one section first:"
      ]
    },
    {
      "cell_type": "code",
      "metadata": {
        "colab": {
          "base_uri": "https://localhost:8080/",
          "height": 311
        },
        "id": "oLnh7_0uw5sU",
        "outputId": "9864cde0-b4f5-46af-d7fc-8fc702fcf660"
      },
      "source": [
        "full_df[['Ship_Pos', 'Survived']].groupby('Ship_Pos')['Survived'].mean().plot(kind='hist')\n",
        "plt.suptitle('Survival rate by position on ship')"
      ],
      "execution_count": null,
      "outputs": [
        {
          "output_type": "execute_result",
          "data": {
            "text/plain": [
              "Text(0.5, 0.98, 'Survival rate by position on ship')"
            ]
          },
          "metadata": {
            "tags": []
          },
          "execution_count": 38
        },
        {
          "output_type": "display_data",
          "data": {
            "image/png": "[encoded data removed]",
            "text/plain": [
              "<Figure size 432x288 with 1 Axes>"
            ]
          },
          "metadata": {
            "tags": [],
            "needs_background": "light"
          }
        }
      ]
    },
    {
      "cell_type": "code",
      "metadata": {
        "colab": {
          "base_uri": "https://localhost:8080/",
          "height": 282
        },
        "id": "thXfC0Wzy3aR",
        "outputId": "5f490327-b37a-4aa9-a5c8-5b7916d4f3a8"
      },
      "source": [
        "full_df['Ship_Pos'].plot(kind='hist')"
      ],
      "execution_count": null,
      "outputs": [
        {
          "output_type": "execute_result",
          "data": {
            "text/plain": [
              "<matplotlib.axes._subplots.AxesSubplot at 0x7f140d032fd0>"
            ]
          },
          "metadata": {
            "tags": []
          },
          "execution_count": 39
        },
        {
          "output_type": "display_data",
          "data": {
            "image/png": "[encoded data removed]",
            "text/plain": [
              "<Figure size 432x288 with 1 Axes>"
            ]
          },
          "metadata": {
            "tags": [],
            "needs_background": "light"
          }
        }
      ]
    },
    {
      "cell_type": "markdown",
      "metadata": {
        "id": "MWSNIk-v0Q1h"
      },
      "source": [
        "Although most people seem to have clustered around the 20 - 60 room range, it looks like the survival rate for those nearer the back of the ship was far higher."
      ]
    },
    {
      "cell_type": "code",
      "metadata": {
        "id": "no8gSkV60zhz"
      },
      "source": [
        "full_df['Survival_Pos'] = np.where(full_df['Ship_Pos'] > 120, 1, 0)"
      ],
      "execution_count": null,
      "outputs": []
    },
    {
      "cell_type": "code",
      "metadata": {
        "id": "L7hpMzgO2Ezm"
      },
      "source": [
        "# Let's finally drop the original cabin column\n",
        "full_df.drop('Cabin', inplace=True, axis=1, errors='ignore')"
      ],
      "execution_count": null,
      "outputs": []
    },
    {
      "cell_type": "code",
      "metadata": {
        "colab": {
          "base_uri": "https://localhost:8080/"
        },
        "id": "NZfBatZe2Bdu",
        "outputId": "6d46833c-bf22-457e-e1d2-bc8a18403ec4"
      },
      "source": [
        "# Quick check again\n",
        "full_df.columns[full_df.isna().any()].tolist()"
      ],
      "execution_count": null,
      "outputs": [
        {
          "output_type": "execute_result",
          "data": {
            "text/plain": [
              "['Embarked', 'Survived']"
            ]
          },
          "metadata": {
            "tags": []
          },
          "execution_count": 42
        }
      ]
    },
    {
      "cell_type": "markdown",
      "metadata": {
        "id": "ZxX_t59f1-pM"
      },
      "source": [
        "Okay, only the Embarked column remains."
      ]
    },
    {
      "cell_type": "code",
      "metadata": {
        "colab": {
          "base_uri": "https://localhost:8080/",
          "height": 250
        },
        "id": "IMXhuJah2Wus",
        "outputId": "3e28dcbd-6898-420d-c70d-e6136119b6ce"
      },
      "source": [
        "full_df.loc[full_df['Embarked'].isnull()]"
      ],
      "execution_count": null,
      "outputs": [
        {
          "output_type": "execute_result",
          "data": {
            "text/html": [
              "<div>\n",
              "<style scoped>\n",
              "    .dataframe tbody tr th:only-of-type {\n",
              "        vertical-align: middle;\n",
              "    }\n",
              "\n",
              "    .dataframe tbody tr th {\n",
              "        vertical-align: top;\n",
              "    }\n",
              "\n",
              "    .dataframe thead th {\n",
              "        text-align: right;\n",
              "    }\n",
              "</style>\n",
              "<table border=\"1\" class=\"dataframe\">\n",
              "  <thead>\n",
              "    <tr style=\"text-align: right;\">\n",
              "      <th></th>\n",
              "      <th>Age</th>\n",
              "      <th>Embarked</th>\n",
              "      <th>Fare</th>\n",
              "      <th>Name</th>\n",
              "      <th>Parch</th>\n",
              "      <th>PassengerId</th>\n",
              "      <th>Pclass</th>\n",
              "      <th>Sex</th>\n",
              "      <th>SibSp</th>\n",
              "      <th>Survived</th>\n",
              "      <th>Ticket</th>\n",
              "      <th>Age_NaN</th>\n",
              "      <th>Cabin_NaN</th>\n",
              "      <th>Embarked_NaN</th>\n",
              "      <th>Fare_NaN</th>\n",
              "      <th>Survived_NaN</th>\n",
              "      <th>Deck</th>\n",
              "      <th>Ship_Pos</th>\n",
              "      <th>Survival_Pos</th>\n",
              "    </tr>\n",
              "  </thead>\n",
              "  <tbody>\n",
              "    <tr>\n",
              "      <th>61</th>\n",
              "      <td>38.0</td>\n",
              "      <td>NaN</td>\n",
              "      <td>80.0</td>\n",
              "      <td>Icard, Miss. Amelie</td>\n",
              "      <td>0</td>\n",
              "      <td>62</td>\n",
              "      <td>1</td>\n",
              "      <td>female</td>\n",
              "      <td>0</td>\n",
              "      <td>1.0</td>\n",
              "      <td>113572</td>\n",
              "      <td>0</td>\n",
              "      <td>0</td>\n",
              "      <td>1</td>\n",
              "      <td>0</td>\n",
              "      <td>0</td>\n",
              "      <td>ABC</td>\n",
              "      <td>28.0</td>\n",
              "      <td>0</td>\n",
              "    </tr>\n",
              "    <tr>\n",
              "      <th>829</th>\n",
              "      <td>62.0</td>\n",
              "      <td>NaN</td>\n",
              "      <td>80.0</td>\n",
              "      <td>Stone, Mrs. George Nelson (Martha Evelyn)</td>\n",
              "      <td>0</td>\n",
              "      <td>830</td>\n",
              "      <td>1</td>\n",
              "      <td>female</td>\n",
              "      <td>0</td>\n",
              "      <td>1.0</td>\n",
              "      <td>113572</td>\n",
              "      <td>0</td>\n",
              "      <td>0</td>\n",
              "      <td>1</td>\n",
              "      <td>0</td>\n",
              "      <td>0</td>\n",
              "      <td>ABC</td>\n",
              "      <td>28.0</td>\n",
              "      <td>0</td>\n",
              "    </tr>\n",
              "  </tbody>\n",
              "</table>\n",
              "</div>"
            ],
            "text/plain": [
              "      Age Embarked  Fare  ... Deck  Ship_Pos  Survival_Pos\n",
              "61   38.0      NaN  80.0  ...  ABC      28.0             0\n",
              "829  62.0      NaN  80.0  ...  ABC      28.0             0\n",
              "\n",
              "[2 rows x 19 columns]"
            ]
          },
          "metadata": {
            "tags": []
          },
          "execution_count": 43
        }
      ]
    },
    {
      "cell_type": "markdown",
      "metadata": {
        "id": "8jzE-xZ02jiu"
      },
      "source": [
        "Thankfully there are only 2 missing values here, and again we can use the same strategy that we used on Fare by giving the median of all somewhat related passengers to those missing. Thankfully, in this particular case we can also look up some background information about these 2 ladies and discover that both boarded in [Southampton](https://www.encyclopedia-titanica.org/titanic-survivor/amelia-icard.html):"
      ]
    },
    {
      "cell_type": "code",
      "metadata": {
        "id": "HmGyqY9x3Od4"
      },
      "source": [
        "full_df.loc[full_df['Embarked'].isnull(), 'Embarked'] = 'S'"
      ],
      "execution_count": null,
      "outputs": []
    },
    {
      "cell_type": "code",
      "metadata": {
        "id": "iYbr-w9Wuw9G",
        "colab": {
          "base_uri": "https://localhost:8080/"
        },
        "outputId": "a912e8ed-d4ac-4039-c518-bd0cd00a911b"
      },
      "source": [
        "# Final check\n",
        "full_df.columns[full_df.isna().any()].tolist()"
      ],
      "execution_count": null,
      "outputs": [
        {
          "output_type": "execute_result",
          "data": {
            "text/plain": [
              "['Survived']"
            ]
          },
          "metadata": {
            "tags": []
          },
          "execution_count": 45
        }
      ]
    },
    {
      "cell_type": "markdown",
      "metadata": {
        "id": "L1yk-fvf3UHd"
      },
      "source": [
        "Finally, we got 'em all! Only the dependent variable still contains `NaN` values, which is to be expected since we're looking over the entire dataset."
      ]
    },
    {
      "cell_type": "markdown",
      "metadata": {
        "id": "i0vy-8SK3dpG"
      },
      "source": [
        "### **Handling Dates**\n",
        "\n",
        "Dates often pose a challenge from an encoding point of view. They often have a lot of semantic meaning to us though (did it occur on a weekend? a holiday? etc), so we may want to encode special properties of the dates in the dataset."
      ]
    },
    {
      "cell_type": "code",
      "metadata": {
        "id": "RrbCk_Ot34QC"
      },
      "source": [
        "# Example from fast.ai Tabular core\n",
        "date_df = pd.DataFrame({'date': ['2019-12-04', None, '2019-11-15', '2019-10-24']})\n",
        "date_df = add_datepart(date_df, 'date')\n",
        "date_df.head()"
      ],
      "execution_count": null,
      "outputs": []
    },
    {
      "cell_type": "markdown",
      "metadata": {
        "id": "s81w7Uk44KDR"
      },
      "source": [
        "Further date-related features can be built if there is something specifically relevant to our project. For example, do we care about sales in a specific holiday season, or is a particular virus infection rate seasonal? "
      ]
    },
    {
      "cell_type": "markdown",
      "metadata": {
        "id": "3zgV5A2f22Uj"
      },
      "source": [
        "### **Handling Rank in Ordinal Columns**\n",
        "\n",
        "Some categorical data will be ranked (*ordinal columns*), and for these features it may be useful to tell Pandas about how these categories are ordered."
      ]
    },
    {
      "cell_type": "code",
      "metadata": {
        "id": "TG1JiA323MZ_",
        "colab": {
          "base_uri": "https://localhost:8080/"
        },
        "outputId": "275811eb-2938-47fa-b89e-46c557df83b2"
      },
      "source": [
        "# As an example, let's take the passenger class for the Titanic dataset\n",
        "full_df['Pclass'].unique()"
      ],
      "execution_count": null,
      "outputs": [
        {
          "output_type": "execute_result",
          "data": {
            "text/plain": [
              "array([3, 1, 2])"
            ]
          },
          "metadata": {
            "tags": []
          },
          "execution_count": 46
        }
      ]
    },
    {
      "cell_type": "code",
      "metadata": {
        "colab": {
          "base_uri": "https://localhost:8080/"
        },
        "id": "zLE7JgoT3tdd",
        "outputId": "39105a59-12ab-4398-a70b-5f2cbe586449"
      },
      "source": [
        "full_df['Deck'].unique()"
      ],
      "execution_count": null,
      "outputs": [
        {
          "output_type": "execute_result",
          "data": {
            "text/plain": [
              "array(['M', 'ABC', 'DE', 'FG'], dtype=object)"
            ]
          },
          "metadata": {
            "tags": []
          },
          "execution_count": 47
        }
      ]
    },
    {
      "cell_type": "code",
      "metadata": {
        "id": "l0g3uJUz3edp"
      },
      "source": [
        "# export \n",
        "def define_ordinal_rank(df, col, ranks):\n",
        "  \"\"\"\n",
        "  Defines ordinal ranking of a column in a dataset\n",
        "\n",
        "  Args:\n",
        "    df: DataFrame to define for\n",
        "    col: Column to define for\n",
        "    ranks: An array of the ordinal ranking for col\n",
        "  \"\"\"\n",
        "  df[col] = df[col].astype('category')\n",
        "  df[col].cat.set_categories(ranks, ordered=True, inplace=True)"
      ],
      "execution_count": null,
      "outputs": []
    },
    {
      "cell_type": "code",
      "metadata": {
        "id": "8gOVhZYt5ZLT"
      },
      "source": [
        "define_ordinal_rank(full_df, 'Pclass', [1, 2, 3])"
      ],
      "execution_count": null,
      "outputs": []
    },
    {
      "cell_type": "code",
      "metadata": {
        "id": "vZea2VLY3zFe"
      },
      "source": [
        "define_ordinal_rank(full_df, 'Deck', ['ABC', 'DE', 'FG', 'M'])"
      ],
      "execution_count": null,
      "outputs": []
    },
    {
      "cell_type": "markdown",
      "metadata": {
        "id": "peST-YuqLC0c"
      },
      "source": [
        "### **Automated Data Checks and Processing**\n",
        "\n",
        "Some simple checks can be made on the dataset automatically, depending on what it is you're looking for. In addition, certain types of augmentation or processing can be performed on the data in an automated fashion."
      ]
    },
    {
      "cell_type": "markdown",
      "metadata": {
        "id": "d_k_KfVKLSBY"
      },
      "source": [
        "#### **Roulette Target**\n",
        "\n",
        "A \"roulette\" occurs when there are duplicate rows with different target values. This makes training much more difficult, as target values may be close to random.\n",
        "\n",
        "To start, we'll need to define some kind of acceptable amount of duplicates within the system. This should be generally okay as it's possible that some external, non-codified features have an effect on the target variable. So first we define an acceptable proportion of the dataset as duplicates:"
      ]
    },
    {
      "cell_type": "code",
      "metadata": {
        "id": "yyxqmBwlWUTt"
      },
      "source": [
        "ACCEPTANCE_THRES = .02"
      ],
      "execution_count": null,
      "outputs": []
    },
    {
      "cell_type": "markdown",
      "metadata": {
        "id": "Cjjf_aa2s2ny"
      },
      "source": [
        "And then we have two options. One is to do a simple check on the proportion of duplicates in the dataset and match it against our accepted proportion threshold. We do not consider rows that are full duplicates (that is they duplicate both the row values and the targets) so let's first set up a function to find the relevant duplicates:"
      ]
    },
    {
      "cell_type": "code",
      "metadata": {
        "id": "wKT6HfsgwsSg"
      },
      "source": [
        "# export\n",
        "def get_relevant_duplicates(df, dep_var):\n",
        "  \"\"\"\n",
        "  Gets number of duplicates with differing targets\n",
        "  \"\"\"\n",
        "  ind_var = [c for c in df.columns if c != dep_var]\n",
        "\n",
        "  # We need to sift out full duplicate rows\n",
        "  poss_dups = df.duplicated(ind_var).sum()\n",
        "  full_dups = df.duplicated().sum()\n",
        "  return poss_dups - full_dups"
      ],
      "execution_count": null,
      "outputs": []
    },
    {
      "cell_type": "markdown",
      "metadata": {
        "id": "wCSuiBMbw0Ng"
      },
      "source": [
        "And then we can implement our simple solution:"
      ]
    },
    {
      "cell_type": "code",
      "metadata": {
        "id": "0skYjN6crmkI",
        "colab": {
          "base_uri": "https://localhost:8080/"
        },
        "outputId": "7b00d349-d0a9-4e5d-9faa-11a26a76fb6c"
      },
      "source": [
        "# Naive, workable solution\n",
        "relevant_dups = get_relevant_duplicates(full_df, DEP_VAR)\n",
        "is_roulette = (relevant_dups / len(full_df) * 100) > ACCEPTANCE_THRES\n",
        "\n",
        "print(\"Dataset is a roulette:\", is_roulette)"
      ],
      "execution_count": null,
      "outputs": [
        {
          "output_type": "stream",
          "text": [
            "Dataset is a roulette: False\n"
          ],
          "name": "stdout"
        }
      ]
    },
    {
      "cell_type": "markdown",
      "metadata": {
        "id": "jpyNZyBWWiMG"
      },
      "source": [
        "This approach can work. A more rigorous approach is to apply a statistical hypothesis test against the accepted threshold and see if that holds up!\n",
        "\n",
        "For this simple test we claim that the dataset is not a roulette ($H_0$) and perform a [1-proportion test](https://www.tutorialspoint.com/statistics/one_proportion_z_test.htm) to find the associated p-value for this hypothesis. Our alternative hypothesis is that our dataset contains fewer relevant duplicates than our accepted threshold:"
      ]
    },
    {
      "cell_type": "code",
      "metadata": {
        "id": "RpWg01prQHxG"
      },
      "source": [
        "# export\n",
        "import statsmodels.api as sm\n",
        "\n",
        "ALPHA = .05\n",
        "\n",
        "def roulette_test(df, dep_var, threshold):\n",
        "  \"\"\"\n",
        "  Performs a 1-proportion z-test on df to check for roulette. \n",
        "  Null hypothesis is that the number of duplicates do not \n",
        "  constitute a roulette dataset, in that the number is lower than \n",
        "  the acceptance threshold\n",
        "  \"\"\"\n",
        "  relevant_dups = get_relevant_duplicates(df, dep_var)\n",
        "  if relevant_dups == 0: return False\n",
        "\n",
        "  _, p_val = sm.stats.proportions_ztest(\n",
        "      relevant_dups, len(df), len(df)*threshold, 'smaller')\n",
        "\n",
        "  return p_val > ALPHA"
      ],
      "execution_count": null,
      "outputs": []
    },
    {
      "cell_type": "code",
      "metadata": {
        "id": "mNCCcebvaCSH"
      },
      "source": [
        "is_roulette = roulette_test(df, dep_var, ACCEPTANCE_THRES)\n",
        "print(\"Dataset is a roulette:\", is_roulette)"
      ],
      "execution_count": null,
      "outputs": []
    },
    {
      "cell_type": "markdown",
      "metadata": {
        "id": "plpVm3Fpr66f"
      },
      "source": [
        "This check may or may not be relevant depending on the context of the dataset. Consider an actual roulette wheel's results or the results of a series of horse races, which may in fact contain a number of full duplicates that is higher than our threshold. In such a scenario, it would be beneficial to know before pursuing such a data science project further, as the dataset's value entropy may be too high to warrant further work."
      ]
    },
    {
      "cell_type": "markdown",
      "metadata": {
        "id": "XJX9mr-mvx5_"
      },
      "source": [
        "#### **Highly Correlated Features**\n",
        "\n",
        "Some features within the dataset may be highly correlated, and we may want to check for these and then make some decision about them."
      ]
    },
    {
      "cell_type": "code",
      "metadata": {
        "id": "wzgOX6MQfZ9i",
        "colab": {
          "base_uri": "https://localhost:8080/",
          "height": 336
        },
        "outputId": "cfe5b80b-daa5-42eb-c211-bf0925b63c69"
      },
      "source": [
        "import seaborn as sn\n",
        "\n",
        "corrMatrix = full_df.corr()\n",
        "sn.heatmap(corrMatrix, annot=True)\n",
        "plt.show()"
      ],
      "execution_count": null,
      "outputs": [
        {
          "output_type": "display_data",
          "data": {
            "image/png": "[encoded data removed]",
            "text/plain": [
              "<Figure size 432x288 with 2 Axes>"
            ]
          },
          "metadata": {
            "tags": [],
            "needs_background": "light"
          }
        }
      ]
    },
    {
      "cell_type": "markdown",
      "metadata": {
        "id": "-TBD0vHSe3tF"
      },
      "source": [
        "### **Feature Engineering**\n",
        "\n",
        "Here we can do some feature engineering in order to improve the model's eventual understanding of the data."
      ]
    },
    {
      "cell_type": "markdown",
      "metadata": {
        "id": "RmVSahl84W29"
      },
      "source": [
        "#### **Feature Interactions**\n",
        "\n",
        "We can calculate some feature interactions based on the types of features that we have, in order to prompt the model to look at their relationships."
      ]
    },
    {
      "cell_type": "code",
      "metadata": {
        "id": "KmKjU3m8kCNM",
        "colab": {
          "base_uri": "https://localhost:8080/"
        },
        "outputId": "6152a281-562a-4ad1-c237-cd461dd54263"
      },
      "source": [
        "# We can start by creating some interactions\n",
        "full_df['Age_Fare'] = full_df.apply(lambda row: row.Age * row.Fare, axis=1)\n",
        "full_df['Age_Fare']"
      ],
      "execution_count": null,
      "outputs": [
        {
          "output_type": "execute_result",
          "data": {
            "text/plain": [
              "0        159.5000\n",
              "1       2708.7654\n",
              "2        206.0500\n",
              "3       1858.5000\n",
              "4        281.7500\n",
              "          ...    \n",
              "1304     201.2500\n",
              "1305    4247.1000\n",
              "1306     279.1250\n",
              "1307     201.2500\n",
              "1308     558.9575\n",
              "Name: Age_Fare, Length: 1309, dtype: float64"
            ]
          },
          "metadata": {
            "tags": []
          },
          "execution_count": 55
        }
      ]
    },
    {
      "cell_type": "markdown",
      "metadata": {
        "id": "w1PIy5zNn8kA"
      },
      "source": [
        "We may also need to specify interesting interactions based on the specifics of our datasets"
      ]
    },
    {
      "cell_type": "code",
      "metadata": {
        "id": "Q_Q3yknzoCaU",
        "colab": {
          "base_uri": "https://localhost:8080/"
        },
        "outputId": "597ac7f4-6d44-4146-cf0d-aeff03df4aa4"
      },
      "source": [
        "def is_female_and_high_class(row):\n",
        "  if row.Sex == \"female\" and row.Pclass < 2:\n",
        "    return 1\n",
        "  return 0\n",
        " \n",
        "full_df['Fem_HC'] = full_df.apply(is_female_and_high_class, axis=1)\n",
        "full_df['Fem_HC'].head(10)"
      ],
      "execution_count": null,
      "outputs": [
        {
          "output_type": "execute_result",
          "data": {
            "text/plain": [
              "0    0\n",
              "1    1\n",
              "2    0\n",
              "3    1\n",
              "4    0\n",
              "5    0\n",
              "6    0\n",
              "7    0\n",
              "8    0\n",
              "9    0\n",
              "Name: Fem_HC, dtype: int64"
            ]
          },
          "metadata": {
            "tags": []
          },
          "execution_count": 78
        }
      ]
    },
    {
      "cell_type": "code",
      "metadata": {
        "id": "EEibOam1BKdC",
        "colab": {
          "base_uri": "https://localhost:8080/"
        },
        "outputId": "36f4a897-9b0f-4b07-dbbb-93d70f557532"
      },
      "source": [
        "def has_no_cabin_and_male(row):\n",
        "  if row.Sex == \"male\" and row.Cabin_NaN == 1:\n",
        "    return 1\n",
        "  return 0\n",
        "\n",
        "full_df['Mal_CNaN'] = full_df.apply(has_no_cabin_and_male, axis=1)\n",
        "full_df['Mal_CNaN'].head()"
      ],
      "execution_count": null,
      "outputs": [
        {
          "output_type": "execute_result",
          "data": {
            "text/plain": [
              "0    1\n",
              "1    0\n",
              "2    0\n",
              "3    0\n",
              "4    1\n",
              "Name: Mal_CNaN, dtype: int64"
            ]
          },
          "metadata": {
            "tags": []
          },
          "execution_count": 57
        }
      ]
    },
    {
      "cell_type": "code",
      "metadata": {
        "id": "GWbgb1KosO2K"
      },
      "source": [
        "def add_all_manual_features(df):\n",
        "  df['Age_Fare'] = df.apply(lambda row: row.Age * row.Fare, axis=1)\n",
        "  df['Fem_HC'] = df.apply(is_female_and_high_class, axis=1)\n",
        "  df['Mal_CNaN'] = df.apply(has_no_cabin_and_male, axis=1)"
      ],
      "execution_count": null,
      "outputs": []
    },
    {
      "cell_type": "markdown",
      "metadata": {
        "id": "_hw2AQsF5DXq"
      },
      "source": [
        "#### **Handle Outliers**"
      ]
    },
    {
      "cell_type": "code",
      "metadata": {
        "colab": {
          "base_uri": "https://localhost:8080/",
          "height": 282
        },
        "id": "TfB_eRDM5Zlu",
        "outputId": "2854509b-9355-499e-b3a7-ee610dc8115d"
      },
      "source": [
        "full_df.boxplot(column='Fare')"
      ],
      "execution_count": null,
      "outputs": [
        {
          "output_type": "execute_result",
          "data": {
            "text/plain": [
              "<matplotlib.axes._subplots.AxesSubplot at 0x7f140274d090>"
            ]
          },
          "metadata": {
            "tags": []
          },
          "execution_count": 59
        },
        {
          "output_type": "display_data",
          "data": {
            "image/png": "[encoded data removed]",
            "text/plain": [
              "<Figure size 432x288 with 1 Axes>"
            ]
          },
          "metadata": {
            "tags": [],
            "needs_background": "light"
          }
        }
      ]
    },
    {
      "cell_type": "code",
      "metadata": {
        "colab": {
          "base_uri": "https://localhost:8080/",
          "height": 282
        },
        "id": "ouGyti7a5ekZ",
        "outputId": "10f6d9da-7ea7-477e-80a7-a23e9214cd24"
      },
      "source": [
        "full_df.boxplot(column='Age')"
      ],
      "execution_count": null,
      "outputs": [
        {
          "output_type": "execute_result",
          "data": {
            "text/plain": [
              "<matplotlib.axes._subplots.AxesSubplot at 0x7f2c0f11a690>"
            ]
          },
          "metadata": {
            "tags": []
          },
          "execution_count": 134
        },
        {
          "output_type": "display_data",
          "data": {
            "image/png": "[encoded data removed]",
            "text/plain": [
              "<Figure size 432x288 with 1 Axes>"
            ]
          },
          "metadata": {
            "tags": [],
            "needs_background": "light"
          }
        }
      ]
    },
    {
      "cell_type": "markdown",
      "metadata": {
        "id": "2Bv4Z0hi5i9q"
      },
      "source": [
        "Okay, so we have some outliers for both Age and Fare and we want to reduce any impact they may have on our model, so we'll continue by binning these values by distribution. For Fare we will assign the same number of cases to each category and for Age we will build the categories based on the values of the variable. This is also the difference between [cut](https://pandas.pydata.org/pandas-docs/stable/reference/api/pandas.cut.html) and [qcut](https://pandas.pydata.org/pandas-docs/stable/reference/api/pandas.qcut.html). With `cut`, the bins are formed based on the values of the variable, regardless of how many cases fall into a category. With `qcut` we decompose a distribution so that there are the same number of cases in each category."
      ]
    },
    {
      "cell_type": "code",
      "metadata": {
        "id": "1vxRNIOf6K9K"
      },
      "source": [
        "full_df['Age_Cut'] = pd.cut(full_df['Age'].astype(int), 5)\n",
        "full_df['Fare_Cut'] = pd.qcut(full_df['Fare'], 5)"
      ],
      "execution_count": null,
      "outputs": []
    },
    {
      "cell_type": "code",
      "metadata": {
        "colab": {
          "base_uri": "https://localhost:8080/"
        },
        "id": "wwx754fa6iih",
        "outputId": "628039a8-2893-4422-d1b5-088fffe82bde"
      },
      "source": [
        "# For Age, each category has a different number of classes:\n",
        "full_df['Age_Cut'].value_counts()"
      ],
      "execution_count": null,
      "outputs": [
        {
          "output_type": "execute_result",
          "data": {
            "text/plain": [
              "(16.0, 32.0]     752\n",
              "(32.0, 48.0]     304\n",
              "(-0.08, 16.0]    134\n",
              "(48.0, 64.0]     106\n",
              "(64.0, 80.0]      13\n",
              "Name: Age_Cut, dtype: int64"
            ]
          },
          "metadata": {
            "tags": []
          },
          "execution_count": 61
        }
      ]
    },
    {
      "cell_type": "code",
      "metadata": {
        "colab": {
          "base_uri": "https://localhost:8080/"
        },
        "id": "ihnj6nnK6ptW",
        "outputId": "49a8904e-7ecc-4171-c4da-4a7249f2791c"
      },
      "source": [
        "# For Fare, they are nearly the same\n",
        "full_df['Fare_Cut'].value_counts()"
      ],
      "execution_count": null,
      "outputs": [
        {
          "output_type": "execute_result",
          "data": {
            "text/plain": [
              "(-0.001, 7.854]      275\n",
              "(21.558, 41.579]     265\n",
              "(41.579, 512.329]    259\n",
              "(10.5, 21.558]       255\n",
              "(7.854, 10.5]        255\n",
              "Name: Fare_Cut, dtype: int64"
            ]
          },
          "metadata": {
            "tags": []
          },
          "execution_count": 62
        }
      ]
    },
    {
      "cell_type": "markdown",
      "metadata": {
        "id": "gYcGi1wu7Lb7"
      },
      "source": [
        "#### **Some Exploration**\n",
        "\n",
        "We expect a correlation between ticket frequencies and survival rates, because identical ticket numbers are an indicator that people have travelled together."
      ]
    },
    {
      "cell_type": "code",
      "metadata": {
        "colab": {
          "base_uri": "https://localhost:8080/"
        },
        "id": "obNvWFLa7SzC",
        "outputId": "57bceb7f-2900-4cba-cec2-d5bd56e4fdcf"
      },
      "source": [
        "full_df['Ticket_Freq'] = full_df.groupby('Ticket')['Ticket'].transform('count')\n",
        "full_df['Ticket_Freq'].value_counts()"
      ],
      "execution_count": null,
      "outputs": [
        {
          "output_type": "execute_result",
          "data": {
            "text/plain": [
              "1     713\n",
              "2     264\n",
              "3     147\n",
              "4      64\n",
              "7      35\n",
              "5      35\n",
              "6      24\n",
              "8      16\n",
              "11     11\n",
              "Name: Ticket_Freq, dtype: int64"
            ]
          },
          "metadata": {
            "tags": []
          },
          "execution_count": 63
        }
      ]
    },
    {
      "cell_type": "code",
      "metadata": {
        "colab": {
          "base_uri": "https://localhost:8080/",
          "height": 359
        },
        "id": "TM5z920M7jLL",
        "outputId": "72f21754-4de1-454a-ec17-dd9688668094"
      },
      "source": [
        "full_df[['Ticket_Freq', 'Survived']].groupby('Ticket_Freq').mean()"
      ],
      "execution_count": null,
      "outputs": [
        {
          "output_type": "execute_result",
          "data": {
            "text/html": [
              "<div>\n",
              "<style scoped>\n",
              "    .dataframe tbody tr th:only-of-type {\n",
              "        vertical-align: middle;\n",
              "    }\n",
              "\n",
              "    .dataframe tbody tr th {\n",
              "        vertical-align: top;\n",
              "    }\n",
              "\n",
              "    .dataframe thead th {\n",
              "        text-align: right;\n",
              "    }\n",
              "</style>\n",
              "<table border=\"1\" class=\"dataframe\">\n",
              "  <thead>\n",
              "    <tr style=\"text-align: right;\">\n",
              "      <th></th>\n",
              "      <th>Survived</th>\n",
              "    </tr>\n",
              "    <tr>\n",
              "      <th>Ticket_Freq</th>\n",
              "      <th></th>\n",
              "    </tr>\n",
              "  </thead>\n",
              "  <tbody>\n",
              "    <tr>\n",
              "      <th>1</th>\n",
              "      <td>0.270270</td>\n",
              "    </tr>\n",
              "    <tr>\n",
              "      <th>2</th>\n",
              "      <td>0.513812</td>\n",
              "    </tr>\n",
              "    <tr>\n",
              "      <th>3</th>\n",
              "      <td>0.653465</td>\n",
              "    </tr>\n",
              "    <tr>\n",
              "      <th>4</th>\n",
              "      <td>0.727273</td>\n",
              "    </tr>\n",
              "    <tr>\n",
              "      <th>5</th>\n",
              "      <td>0.333333</td>\n",
              "    </tr>\n",
              "    <tr>\n",
              "      <th>6</th>\n",
              "      <td>0.210526</td>\n",
              "    </tr>\n",
              "    <tr>\n",
              "      <th>7</th>\n",
              "      <td>0.208333</td>\n",
              "    </tr>\n",
              "    <tr>\n",
              "      <th>8</th>\n",
              "      <td>0.384615</td>\n",
              "    </tr>\n",
              "    <tr>\n",
              "      <th>11</th>\n",
              "      <td>0.000000</td>\n",
              "    </tr>\n",
              "  </tbody>\n",
              "</table>\n",
              "</div>"
            ],
            "text/plain": [
              "             Survived\n",
              "Ticket_Freq          \n",
              "1            0.270270\n",
              "2            0.513812\n",
              "3            0.653465\n",
              "4            0.727273\n",
              "5            0.333333\n",
              "6            0.210526\n",
              "7            0.208333\n",
              "8            0.384615\n",
              "11           0.000000"
            ]
          },
          "metadata": {
            "tags": []
          },
          "execution_count": 64
        }
      ]
    },
    {
      "cell_type": "markdown",
      "metadata": {
        "id": "gAuwXWPU8Ww6"
      },
      "source": [
        "There definitely seems to be a difference in survival rate depending on ticket frequency. Interesting."
      ]
    },
    {
      "cell_type": "markdown",
      "metadata": {
        "id": "9VYfHp4_8cdA"
      },
      "source": [
        "Now let's take a look at potentially pulling out the title of an individual, as this could be a good marker for socio-economic status (married or unmarried) and therefore give us clues about whether or not their survival rate was likely to be higher."
      ]
    },
    {
      "cell_type": "code",
      "metadata": {
        "colab": {
          "base_uri": "https://localhost:8080/"
        },
        "id": "44bspqig8sds",
        "outputId": "1edbfb6a-e715-4c4a-b467-3091e0d6bc0d"
      },
      "source": [
        "full_df['Name'].head(10)"
      ],
      "execution_count": null,
      "outputs": [
        {
          "output_type": "execute_result",
          "data": {
            "text/plain": [
              "0                                Braund, Mr. Owen Harris\n",
              "1    Cumings, Mrs. John Bradley (Florence Briggs Thayer)\n",
              "2                                 Heikkinen, Miss. Laina\n",
              "3           Futrelle, Mrs. Jacques Heath (Lily May Peel)\n",
              "4                               Allen, Mr. William Henry\n",
              "5                                       Moran, Mr. James\n",
              "6                                McCarthy, Mr. Timothy J\n",
              "7                         Palsson, Master. Gosta Leonard\n",
              "8      Johnson, Mrs. Oscar W (Elisabeth Vilhelmina Berg)\n",
              "9                    Nasser, Mrs. Nicholas (Adele Achem)\n",
              "Name: Name, dtype: object"
            ]
          },
          "metadata": {
            "tags": []
          },
          "execution_count": 65
        }
      ]
    },
    {
      "cell_type": "code",
      "metadata": {
        "colab": {
          "base_uri": "https://localhost:8080/",
          "height": 496
        },
        "id": "Q4sw38hu80JB",
        "outputId": "13e289aa-0a6a-4211-c6e5-f19019ef7839"
      },
      "source": [
        "full_df[full_df['Name'].str.contains(\"Palsson\")]"
      ],
      "execution_count": null,
      "outputs": [
        {
          "output_type": "execute_result",
          "data": {
            "text/html": [
              "<div>\n",
              "<style scoped>\n",
              "    .dataframe tbody tr th:only-of-type {\n",
              "        vertical-align: middle;\n",
              "    }\n",
              "\n",
              "    .dataframe tbody tr th {\n",
              "        vertical-align: top;\n",
              "    }\n",
              "\n",
              "    .dataframe thead th {\n",
              "        text-align: right;\n",
              "    }\n",
              "</style>\n",
              "<table border=\"1\" class=\"dataframe\">\n",
              "  <thead>\n",
              "    <tr style=\"text-align: right;\">\n",
              "      <th></th>\n",
              "      <th>Age</th>\n",
              "      <th>Embarked</th>\n",
              "      <th>Fare</th>\n",
              "      <th>Name</th>\n",
              "      <th>Parch</th>\n",
              "      <th>PassengerId</th>\n",
              "      <th>Pclass</th>\n",
              "      <th>Sex</th>\n",
              "      <th>SibSp</th>\n",
              "      <th>Survived</th>\n",
              "      <th>Ticket</th>\n",
              "      <th>Age_NaN</th>\n",
              "      <th>Cabin_NaN</th>\n",
              "      <th>Embarked_NaN</th>\n",
              "      <th>Fare_NaN</th>\n",
              "      <th>Survived_NaN</th>\n",
              "      <th>Deck</th>\n",
              "      <th>Ship_Pos</th>\n",
              "      <th>Survival_Pos</th>\n",
              "      <th>Age_Fare</th>\n",
              "      <th>Fem_HC</th>\n",
              "      <th>Mal_CNaN</th>\n",
              "      <th>Age_Cut</th>\n",
              "      <th>Fare_Cut</th>\n",
              "      <th>Ticket_Freq</th>\n",
              "    </tr>\n",
              "  </thead>\n",
              "  <tbody>\n",
              "    <tr>\n",
              "      <th>7</th>\n",
              "      <td>2.0</td>\n",
              "      <td>S</td>\n",
              "      <td>21.075</td>\n",
              "      <td>Palsson, Master. Gosta Leonard</td>\n",
              "      <td>1</td>\n",
              "      <td>8</td>\n",
              "      <td>3</td>\n",
              "      <td>male</td>\n",
              "      <td>3</td>\n",
              "      <td>0.0</td>\n",
              "      <td>349909</td>\n",
              "      <td>0</td>\n",
              "      <td>1</td>\n",
              "      <td>0</td>\n",
              "      <td>0</td>\n",
              "      <td>0</td>\n",
              "      <td>M</td>\n",
              "      <td>38.0</td>\n",
              "      <td>0</td>\n",
              "      <td>42.150</td>\n",
              "      <td>0</td>\n",
              "      <td>1</td>\n",
              "      <td>(-0.08, 16.0]</td>\n",
              "      <td>(10.5, 21.558]</td>\n",
              "      <td>5</td>\n",
              "    </tr>\n",
              "    <tr>\n",
              "      <th>24</th>\n",
              "      <td>8.0</td>\n",
              "      <td>S</td>\n",
              "      <td>21.075</td>\n",
              "      <td>Palsson, Miss. Torborg Danira</td>\n",
              "      <td>1</td>\n",
              "      <td>25</td>\n",
              "      <td>3</td>\n",
              "      <td>female</td>\n",
              "      <td>3</td>\n",
              "      <td>0.0</td>\n",
              "      <td>349909</td>\n",
              "      <td>0</td>\n",
              "      <td>1</td>\n",
              "      <td>0</td>\n",
              "      <td>0</td>\n",
              "      <td>0</td>\n",
              "      <td>M</td>\n",
              "      <td>38.0</td>\n",
              "      <td>0</td>\n",
              "      <td>168.600</td>\n",
              "      <td>1</td>\n",
              "      <td>0</td>\n",
              "      <td>(-0.08, 16.0]</td>\n",
              "      <td>(10.5, 21.558]</td>\n",
              "      <td>5</td>\n",
              "    </tr>\n",
              "    <tr>\n",
              "      <th>374</th>\n",
              "      <td>3.0</td>\n",
              "      <td>S</td>\n",
              "      <td>21.075</td>\n",
              "      <td>Palsson, Miss. Stina Viola</td>\n",
              "      <td>1</td>\n",
              "      <td>375</td>\n",
              "      <td>3</td>\n",
              "      <td>female</td>\n",
              "      <td>3</td>\n",
              "      <td>0.0</td>\n",
              "      <td>349909</td>\n",
              "      <td>0</td>\n",
              "      <td>1</td>\n",
              "      <td>0</td>\n",
              "      <td>0</td>\n",
              "      <td>0</td>\n",
              "      <td>M</td>\n",
              "      <td>38.0</td>\n",
              "      <td>0</td>\n",
              "      <td>63.225</td>\n",
              "      <td>1</td>\n",
              "      <td>0</td>\n",
              "      <td>(-0.08, 16.0]</td>\n",
              "      <td>(10.5, 21.558]</td>\n",
              "      <td>5</td>\n",
              "    </tr>\n",
              "    <tr>\n",
              "      <th>567</th>\n",
              "      <td>29.0</td>\n",
              "      <td>S</td>\n",
              "      <td>21.075</td>\n",
              "      <td>Palsson, Mrs. Nils (Alma Cornelia Berglund)</td>\n",
              "      <td>4</td>\n",
              "      <td>568</td>\n",
              "      <td>3</td>\n",
              "      <td>female</td>\n",
              "      <td>0</td>\n",
              "      <td>0.0</td>\n",
              "      <td>349909</td>\n",
              "      <td>0</td>\n",
              "      <td>1</td>\n",
              "      <td>0</td>\n",
              "      <td>0</td>\n",
              "      <td>0</td>\n",
              "      <td>M</td>\n",
              "      <td>38.0</td>\n",
              "      <td>0</td>\n",
              "      <td>611.175</td>\n",
              "      <td>1</td>\n",
              "      <td>0</td>\n",
              "      <td>(16.0, 32.0]</td>\n",
              "      <td>(10.5, 21.558]</td>\n",
              "      <td>5</td>\n",
              "    </tr>\n",
              "    <tr>\n",
              "      <th>1280</th>\n",
              "      <td>6.0</td>\n",
              "      <td>S</td>\n",
              "      <td>21.075</td>\n",
              "      <td>Palsson, Master. Paul Folke</td>\n",
              "      <td>1</td>\n",
              "      <td>1281</td>\n",
              "      <td>3</td>\n",
              "      <td>male</td>\n",
              "      <td>3</td>\n",
              "      <td>NaN</td>\n",
              "      <td>349909</td>\n",
              "      <td>0</td>\n",
              "      <td>1</td>\n",
              "      <td>0</td>\n",
              "      <td>0</td>\n",
              "      <td>1</td>\n",
              "      <td>M</td>\n",
              "      <td>38.0</td>\n",
              "      <td>0</td>\n",
              "      <td>126.450</td>\n",
              "      <td>0</td>\n",
              "      <td>1</td>\n",
              "      <td>(-0.08, 16.0]</td>\n",
              "      <td>(10.5, 21.558]</td>\n",
              "      <td>5</td>\n",
              "    </tr>\n",
              "  </tbody>\n",
              "</table>\n",
              "</div>"
            ],
            "text/plain": [
              "       Age Embarked    Fare  ...        Age_Cut        Fare_Cut  Ticket_Freq\n",
              "7      2.0        S  21.075  ...  (-0.08, 16.0]  (10.5, 21.558]            5\n",
              "24     8.0        S  21.075  ...  (-0.08, 16.0]  (10.5, 21.558]            5\n",
              "374    3.0        S  21.075  ...  (-0.08, 16.0]  (10.5, 21.558]            5\n",
              "567   29.0        S  21.075  ...   (16.0, 32.0]  (10.5, 21.558]            5\n",
              "1280   6.0        S  21.075  ...  (-0.08, 16.0]  (10.5, 21.558]            5\n",
              "\n",
              "[5 rows x 25 columns]"
            ]
          },
          "metadata": {
            "tags": []
          },
          "execution_count": 66
        }
      ]
    },
    {
      "cell_type": "markdown",
      "metadata": {
        "id": "IPZznpAe9aB_"
      },
      "source": [
        "We can tell a lot now just by looking at familial relationships. It's unlikely that Master Paul Folke Palsson, in the test set, survived given that the rest of his family did not. This also tells us that children or the unmarried (Miss and Master) were more likely to be travelling with family and therefore were likely to share their family's fate."
      ]
    },
    {
      "cell_type": "code",
      "metadata": {
        "colab": {
          "base_uri": "https://localhost:8080/"
        },
        "id": "nrNqPNmt5v10",
        "outputId": "1d3ee5f4-793c-487e-90c6-f17643b96b65"
      },
      "source": [
        "# Let's extract the surname, as this may allows us to match families\n",
        "full_df['Surname'] = full_df['Name'].str.split(', ', expand=True)[0]\n",
        "\n",
        "full_df['Surname'].head()"
      ],
      "execution_count": null,
      "outputs": [
        {
          "output_type": "execute_result",
          "data": {
            "text/plain": [
              "0       Braund\n",
              "1      Cumings\n",
              "2    Heikkinen\n",
              "3     Futrelle\n",
              "4        Allen\n",
              "Name: Surname, dtype: object"
            ]
          },
          "metadata": {
            "tags": []
          },
          "execution_count": 68
        }
      ]
    },
    {
      "cell_type": "code",
      "metadata": {
        "colab": {
          "base_uri": "https://localhost:8080/",
          "height": 359
        },
        "id": "G1eV_T2F91nQ",
        "outputId": "6341ce14-e733-4b2c-e562-632021352c2d"
      },
      "source": [
        "# Then let's extract the title of the individual\n",
        "full_df['Title'] = full_df['Name'].str.split(', ', expand=True)[1].str.split('. ', expand=True)[0]\n",
        "full_df['Is_Married'] = np.where((full_df['Title'] == 'Mrs') | (full_df['Title'] == 'Mr'), 1, 0)\n",
        "\n",
        "full_df[['Is_Married', 'Name', 'Title']].head(10)"
      ],
      "execution_count": null,
      "outputs": [
        {
          "output_type": "execute_result",
          "data": {
            "text/html": [
              "<div>\n",
              "<style scoped>\n",
              "    .dataframe tbody tr th:only-of-type {\n",
              "        vertical-align: middle;\n",
              "    }\n",
              "\n",
              "    .dataframe tbody tr th {\n",
              "        vertical-align: top;\n",
              "    }\n",
              "\n",
              "    .dataframe thead th {\n",
              "        text-align: right;\n",
              "    }\n",
              "</style>\n",
              "<table border=\"1\" class=\"dataframe\">\n",
              "  <thead>\n",
              "    <tr style=\"text-align: right;\">\n",
              "      <th></th>\n",
              "      <th>Is_Married</th>\n",
              "      <th>Name</th>\n",
              "      <th>Title</th>\n",
              "    </tr>\n",
              "  </thead>\n",
              "  <tbody>\n",
              "    <tr>\n",
              "      <th>0</th>\n",
              "      <td>1</td>\n",
              "      <td>Braund, Mr. Owen Harris</td>\n",
              "      <td>Mr</td>\n",
              "    </tr>\n",
              "    <tr>\n",
              "      <th>1</th>\n",
              "      <td>1</td>\n",
              "      <td>Cumings, Mrs. John Bradley (Florence Briggs Thayer)</td>\n",
              "      <td>Mrs</td>\n",
              "    </tr>\n",
              "    <tr>\n",
              "      <th>2</th>\n",
              "      <td>0</td>\n",
              "      <td>Heikkinen, Miss. Laina</td>\n",
              "      <td>Miss</td>\n",
              "    </tr>\n",
              "    <tr>\n",
              "      <th>3</th>\n",
              "      <td>1</td>\n",
              "      <td>Futrelle, Mrs. Jacques Heath (Lily May Peel)</td>\n",
              "      <td>Mrs</td>\n",
              "    </tr>\n",
              "    <tr>\n",
              "      <th>4</th>\n",
              "      <td>1</td>\n",
              "      <td>Allen, Mr. William Henry</td>\n",
              "      <td>Mr</td>\n",
              "    </tr>\n",
              "    <tr>\n",
              "      <th>5</th>\n",
              "      <td>1</td>\n",
              "      <td>Moran, Mr. James</td>\n",
              "      <td>Mr</td>\n",
              "    </tr>\n",
              "    <tr>\n",
              "      <th>6</th>\n",
              "      <td>1</td>\n",
              "      <td>McCarthy, Mr. Timothy J</td>\n",
              "      <td>Mr</td>\n",
              "    </tr>\n",
              "    <tr>\n",
              "      <th>7</th>\n",
              "      <td>0</td>\n",
              "      <td>Palsson, Master. Gosta Leonard</td>\n",
              "      <td>Master</td>\n",
              "    </tr>\n",
              "    <tr>\n",
              "      <th>8</th>\n",
              "      <td>1</td>\n",
              "      <td>Johnson, Mrs. Oscar W (Elisabeth Vilhelmina Berg)</td>\n",
              "      <td>Mrs</td>\n",
              "    </tr>\n",
              "    <tr>\n",
              "      <th>9</th>\n",
              "      <td>1</td>\n",
              "      <td>Nasser, Mrs. Nicholas (Adele Achem)</td>\n",
              "      <td>Mrs</td>\n",
              "    </tr>\n",
              "  </tbody>\n",
              "</table>\n",
              "</div>"
            ],
            "text/plain": [
              "   Is_Married                                                 Name   Title\n",
              "0           1                              Braund, Mr. Owen Harris      Mr\n",
              "1           1  Cumings, Mrs. John Bradley (Florence Briggs Thayer)     Mrs\n",
              "2           0                               Heikkinen, Miss. Laina    Miss\n",
              "3           1         Futrelle, Mrs. Jacques Heath (Lily May Peel)     Mrs\n",
              "4           1                             Allen, Mr. William Henry      Mr\n",
              "5           1                                     Moran, Mr. James      Mr\n",
              "6           1                              McCarthy, Mr. Timothy J      Mr\n",
              "7           0                       Palsson, Master. Gosta Leonard  Master\n",
              "8           1    Johnson, Mrs. Oscar W (Elisabeth Vilhelmina Berg)     Mrs\n",
              "9           1                  Nasser, Mrs. Nicholas (Adele Achem)     Mrs"
            ]
          },
          "metadata": {
            "tags": []
          },
          "execution_count": 69
        }
      ]
    },
    {
      "cell_type": "code",
      "metadata": {
        "id": "nCQDo3tB8eOy"
      },
      "source": [
        "def is_young_male(row):\n",
        "  if row.Sex == \"male\" and row.Is_Married == 0:\n",
        "    return 1\n",
        "  return 0\n",
        "\n",
        "full_df['Male_Young'] = full_df.apply(is_young_male, axis=1)"
      ],
      "execution_count": null,
      "outputs": []
    },
    {
      "cell_type": "code",
      "metadata": {
        "id": "pY9mai5LA_ey"
      },
      "source": [
        "# We'll need to handle cases where the median fill value for a NaN age doesn't align with the Master title\n",
        "def reset_master_age(row):\n",
        "  if row.Title == \"Master\" and row.Age > 18:\n",
        "    return 17\n",
        "  return row.Age\n",
        "\n",
        "full_df['Age'] = full_df.apply(reset_master_age, axis=1)"
      ],
      "execution_count": null,
      "outputs": []
    },
    {
      "cell_type": "code",
      "metadata": {
        "colab": {
          "base_uri": "https://localhost:8080/",
          "height": 165
        },
        "id": "AuHJNfmX_aXp",
        "outputId": "a4414633-254c-4cba-9f3d-083efade517f"
      },
      "source": [
        "full_df[full_df['Surname'].str.contains(\"Kiernan\")]"
      ],
      "execution_count": null,
      "outputs": [
        {
          "output_type": "execute_result",
          "data": {
            "text/html": [
              "<div>\n",
              "<style scoped>\n",
              "    .dataframe tbody tr th:only-of-type {\n",
              "        vertical-align: middle;\n",
              "    }\n",
              "\n",
              "    .dataframe tbody tr th {\n",
              "        vertical-align: top;\n",
              "    }\n",
              "\n",
              "    .dataframe thead th {\n",
              "        text-align: right;\n",
              "    }\n",
              "</style>\n",
              "<table border=\"1\" class=\"dataframe\">\n",
              "  <thead>\n",
              "    <tr style=\"text-align: right;\">\n",
              "      <th></th>\n",
              "      <th>Age</th>\n",
              "      <th>Embarked</th>\n",
              "      <th>Fare</th>\n",
              "      <th>Parch</th>\n",
              "      <th>Pclass</th>\n",
              "      <th>Sex</th>\n",
              "      <th>SibSp</th>\n",
              "      <th>Survived</th>\n",
              "      <th>Age_NaN</th>\n",
              "      <th>Cabin_NaN</th>\n",
              "      <th>Deck</th>\n",
              "      <th>Ship_Pos</th>\n",
              "      <th>Age_Fare</th>\n",
              "      <th>Fem_HC</th>\n",
              "      <th>Mal_CNaN</th>\n",
              "      <th>Age_Cut</th>\n",
              "      <th>Fare_Cut</th>\n",
              "      <th>Ticket_Freq</th>\n",
              "      <th>Title</th>\n",
              "      <th>Is_Married</th>\n",
              "      <th>Surname</th>\n",
              "      <th>Male_Young</th>\n",
              "    </tr>\n",
              "  </thead>\n",
              "  <tbody>\n",
              "    <tr>\n",
              "      <th>214</th>\n",
              "      <td>25.0</td>\n",
              "      <td>Q</td>\n",
              "      <td>7.75</td>\n",
              "      <td>0</td>\n",
              "      <td>3</td>\n",
              "      <td>male</td>\n",
              "      <td>1</td>\n",
              "      <td>0.0</td>\n",
              "      <td>1</td>\n",
              "      <td>1</td>\n",
              "      <td>M</td>\n",
              "      <td>38.0</td>\n",
              "      <td>193.75</td>\n",
              "      <td>0</td>\n",
              "      <td>1</td>\n",
              "      <td>(16.0, 32.0]</td>\n",
              "      <td>(-0.001, 7.854]</td>\n",
              "      <td>1</td>\n",
              "      <td>Mr</td>\n",
              "      <td>1</td>\n",
              "      <td>Kiernan</td>\n",
              "      <td>0</td>\n",
              "    </tr>\n",
              "    <tr>\n",
              "      <th>1012</th>\n",
              "      <td>25.0</td>\n",
              "      <td>Q</td>\n",
              "      <td>7.75</td>\n",
              "      <td>0</td>\n",
              "      <td>3</td>\n",
              "      <td>male</td>\n",
              "      <td>1</td>\n",
              "      <td>NaN</td>\n",
              "      <td>1</td>\n",
              "      <td>1</td>\n",
              "      <td>M</td>\n",
              "      <td>38.0</td>\n",
              "      <td>193.75</td>\n",
              "      <td>0</td>\n",
              "      <td>1</td>\n",
              "      <td>(16.0, 32.0]</td>\n",
              "      <td>(-0.001, 7.854]</td>\n",
              "      <td>1</td>\n",
              "      <td>Mr</td>\n",
              "      <td>1</td>\n",
              "      <td>Kiernan</td>\n",
              "      <td>0</td>\n",
              "    </tr>\n",
              "  </tbody>\n",
              "</table>\n",
              "</div>"
            ],
            "text/plain": [
              "       Age Embarked  Fare  Parch  ... Title Is_Married  Surname  Male_Young\n",
              "214   25.0        Q  7.75      0  ...    Mr          1  Kiernan           0\n",
              "1012  25.0        Q  7.75      0  ...    Mr          1  Kiernan           0\n",
              "\n",
              "[2 rows x 22 columns]"
            ]
          },
          "metadata": {
            "tags": []
          },
          "execution_count": 127
        }
      ]
    },
    {
      "cell_type": "markdown",
      "metadata": {
        "id": "KIXSGloV6QnN"
      },
      "source": [
        "At this point we can also drop the related features from before the engineering phase:"
      ]
    },
    {
      "cell_type": "code",
      "metadata": {
        "id": "ChgoIvSg6Pie"
      },
      "source": [
        "full_df.drop(['Ticket', 'Name', 'Survived_NaN', 'PassengerId'], inplace=True, axis=1, errors='ignore')"
      ],
      "execution_count": null,
      "outputs": []
    },
    {
      "cell_type": "markdown",
      "metadata": {
        "id": "N-nfk0oYsi6K"
      },
      "source": [
        "#### **Target Encoding**\n",
        "\n",
        "We can also do some target encoding for categorical inputs. This won't always be a worthwhile approach, but it's worth trying out."
      ]
    },
    {
      "cell_type": "code",
      "metadata": {
        "id": "ADhtWRbv_5Rs"
      },
      "source": [
        "# Let's start by saving the current data state before continuing with target encoding\n",
        "save_pickle(\"{}/df_without_te.pkl\".format(path),full_df)"
      ],
      "execution_count": null,
      "outputs": []
    },
    {
      "cell_type": "code",
      "metadata": {
        "colab": {
          "base_uri": "https://localhost:8080/",
          "height": 549
        },
        "id": "gBEE3WFzGYEC",
        "outputId": "47b31db1-f90f-494f-fae4-14b14274e376"
      },
      "source": [
        "full_df = load_pickle(\"{}/df_without_te.pkl\".format(path))\n",
        "\n",
        "full_df.head(10)"
      ],
      "execution_count": null,
      "outputs": [
        {
          "output_type": "execute_result",
          "data": {
            "text/html": [
              "<div>\n",
              "<style scoped>\n",
              "    .dataframe tbody tr th:only-of-type {\n",
              "        vertical-align: middle;\n",
              "    }\n",
              "\n",
              "    .dataframe tbody tr th {\n",
              "        vertical-align: top;\n",
              "    }\n",
              "\n",
              "    .dataframe thead th {\n",
              "        text-align: right;\n",
              "    }\n",
              "</style>\n",
              "<table border=\"1\" class=\"dataframe\">\n",
              "  <thead>\n",
              "    <tr style=\"text-align: right;\">\n",
              "      <th></th>\n",
              "      <th>Age</th>\n",
              "      <th>Embarked</th>\n",
              "      <th>Fare</th>\n",
              "      <th>Parch</th>\n",
              "      <th>Pclass</th>\n",
              "      <th>Sex</th>\n",
              "      <th>SibSp</th>\n",
              "      <th>Survived</th>\n",
              "      <th>Age_NaN</th>\n",
              "      <th>Cabin_NaN</th>\n",
              "      <th>Deck</th>\n",
              "      <th>Ship_Pos</th>\n",
              "      <th>Age_Fare</th>\n",
              "      <th>Fem_HC</th>\n",
              "      <th>Mal_CNaN</th>\n",
              "      <th>Age_Cut</th>\n",
              "      <th>Fare_Cut</th>\n",
              "      <th>Ticket_Freq</th>\n",
              "      <th>Title</th>\n",
              "      <th>Is_Married</th>\n",
              "      <th>Surname</th>\n",
              "      <th>Male_Young</th>\n",
              "    </tr>\n",
              "  </thead>\n",
              "  <tbody>\n",
              "    <tr>\n",
              "      <th>0</th>\n",
              "      <td>22.0</td>\n",
              "      <td>S</td>\n",
              "      <td>7.2500</td>\n",
              "      <td>0</td>\n",
              "      <td>3</td>\n",
              "      <td>male</td>\n",
              "      <td>1</td>\n",
              "      <td>0.0</td>\n",
              "      <td>0</td>\n",
              "      <td>1</td>\n",
              "      <td>M</td>\n",
              "      <td>38.0</td>\n",
              "      <td>159.5000</td>\n",
              "      <td>0</td>\n",
              "      <td>1</td>\n",
              "      <td>(16.0, 32.0]</td>\n",
              "      <td>(-0.001, 7.854]</td>\n",
              "      <td>1</td>\n",
              "      <td>Mr</td>\n",
              "      <td>1</td>\n",
              "      <td>Braund</td>\n",
              "      <td>0</td>\n",
              "    </tr>\n",
              "    <tr>\n",
              "      <th>1</th>\n",
              "      <td>38.0</td>\n",
              "      <td>C</td>\n",
              "      <td>71.2833</td>\n",
              "      <td>0</td>\n",
              "      <td>1</td>\n",
              "      <td>female</td>\n",
              "      <td>1</td>\n",
              "      <td>1.0</td>\n",
              "      <td>0</td>\n",
              "      <td>0</td>\n",
              "      <td>ABC</td>\n",
              "      <td>85.0</td>\n",
              "      <td>2708.7654</td>\n",
              "      <td>1</td>\n",
              "      <td>0</td>\n",
              "      <td>(32.0, 48.0]</td>\n",
              "      <td>(41.579, 512.329]</td>\n",
              "      <td>2</td>\n",
              "      <td>Mrs</td>\n",
              "      <td>1</td>\n",
              "      <td>Cumings</td>\n",
              "      <td>0</td>\n",
              "    </tr>\n",
              "    <tr>\n",
              "      <th>2</th>\n",
              "      <td>26.0</td>\n",
              "      <td>S</td>\n",
              "      <td>7.9250</td>\n",
              "      <td>0</td>\n",
              "      <td>3</td>\n",
              "      <td>female</td>\n",
              "      <td>0</td>\n",
              "      <td>1.0</td>\n",
              "      <td>0</td>\n",
              "      <td>1</td>\n",
              "      <td>M</td>\n",
              "      <td>38.0</td>\n",
              "      <td>206.0500</td>\n",
              "      <td>0</td>\n",
              "      <td>0</td>\n",
              "      <td>(16.0, 32.0]</td>\n",
              "      <td>(7.854, 10.5]</td>\n",
              "      <td>1</td>\n",
              "      <td>Miss</td>\n",
              "      <td>0</td>\n",
              "      <td>Heikkinen</td>\n",
              "      <td>0</td>\n",
              "    </tr>\n",
              "    <tr>\n",
              "      <th>3</th>\n",
              "      <td>35.0</td>\n",
              "      <td>S</td>\n",
              "      <td>53.1000</td>\n",
              "      <td>0</td>\n",
              "      <td>1</td>\n",
              "      <td>female</td>\n",
              "      <td>1</td>\n",
              "      <td>1.0</td>\n",
              "      <td>0</td>\n",
              "      <td>0</td>\n",
              "      <td>ABC</td>\n",
              "      <td>123.0</td>\n",
              "      <td>1858.5000</td>\n",
              "      <td>1</td>\n",
              "      <td>0</td>\n",
              "      <td>(32.0, 48.0]</td>\n",
              "      <td>(41.579, 512.329]</td>\n",
              "      <td>2</td>\n",
              "      <td>Mrs</td>\n",
              "      <td>1</td>\n",
              "      <td>Futrelle</td>\n",
              "      <td>0</td>\n",
              "    </tr>\n",
              "    <tr>\n",
              "      <th>4</th>\n",
              "      <td>35.0</td>\n",
              "      <td>S</td>\n",
              "      <td>8.0500</td>\n",
              "      <td>0</td>\n",
              "      <td>3</td>\n",
              "      <td>male</td>\n",
              "      <td>0</td>\n",
              "      <td>0.0</td>\n",
              "      <td>0</td>\n",
              "      <td>1</td>\n",
              "      <td>M</td>\n",
              "      <td>38.0</td>\n",
              "      <td>281.7500</td>\n",
              "      <td>0</td>\n",
              "      <td>1</td>\n",
              "      <td>(32.0, 48.0]</td>\n",
              "      <td>(7.854, 10.5]</td>\n",
              "      <td>1</td>\n",
              "      <td>Mr</td>\n",
              "      <td>1</td>\n",
              "      <td>Allen</td>\n",
              "      <td>0</td>\n",
              "    </tr>\n",
              "    <tr>\n",
              "      <th>5</th>\n",
              "      <td>25.0</td>\n",
              "      <td>Q</td>\n",
              "      <td>8.4583</td>\n",
              "      <td>0</td>\n",
              "      <td>3</td>\n",
              "      <td>male</td>\n",
              "      <td>0</td>\n",
              "      <td>0.0</td>\n",
              "      <td>1</td>\n",
              "      <td>1</td>\n",
              "      <td>M</td>\n",
              "      <td>38.0</td>\n",
              "      <td>211.4575</td>\n",
              "      <td>0</td>\n",
              "      <td>1</td>\n",
              "      <td>(16.0, 32.0]</td>\n",
              "      <td>(7.854, 10.5]</td>\n",
              "      <td>1</td>\n",
              "      <td>Mr</td>\n",
              "      <td>1</td>\n",
              "      <td>Moran</td>\n",
              "      <td>0</td>\n",
              "    </tr>\n",
              "    <tr>\n",
              "      <th>6</th>\n",
              "      <td>54.0</td>\n",
              "      <td>S</td>\n",
              "      <td>51.8625</td>\n",
              "      <td>0</td>\n",
              "      <td>1</td>\n",
              "      <td>male</td>\n",
              "      <td>0</td>\n",
              "      <td>0.0</td>\n",
              "      <td>0</td>\n",
              "      <td>0</td>\n",
              "      <td>DE</td>\n",
              "      <td>46.0</td>\n",
              "      <td>2800.5750</td>\n",
              "      <td>0</td>\n",
              "      <td>0</td>\n",
              "      <td>(48.0, 64.0]</td>\n",
              "      <td>(41.579, 512.329]</td>\n",
              "      <td>2</td>\n",
              "      <td>Mr</td>\n",
              "      <td>1</td>\n",
              "      <td>McCarthy</td>\n",
              "      <td>0</td>\n",
              "    </tr>\n",
              "    <tr>\n",
              "      <th>7</th>\n",
              "      <td>2.0</td>\n",
              "      <td>S</td>\n",
              "      <td>21.0750</td>\n",
              "      <td>1</td>\n",
              "      <td>3</td>\n",
              "      <td>male</td>\n",
              "      <td>3</td>\n",
              "      <td>0.0</td>\n",
              "      <td>0</td>\n",
              "      <td>1</td>\n",
              "      <td>M</td>\n",
              "      <td>38.0</td>\n",
              "      <td>42.1500</td>\n",
              "      <td>0</td>\n",
              "      <td>1</td>\n",
              "      <td>(-0.08, 16.0]</td>\n",
              "      <td>(10.5, 21.558]</td>\n",
              "      <td>5</td>\n",
              "      <td>Master</td>\n",
              "      <td>0</td>\n",
              "      <td>Palsson</td>\n",
              "      <td>1</td>\n",
              "    </tr>\n",
              "    <tr>\n",
              "      <th>8</th>\n",
              "      <td>27.0</td>\n",
              "      <td>S</td>\n",
              "      <td>11.1333</td>\n",
              "      <td>2</td>\n",
              "      <td>3</td>\n",
              "      <td>female</td>\n",
              "      <td>0</td>\n",
              "      <td>1.0</td>\n",
              "      <td>0</td>\n",
              "      <td>1</td>\n",
              "      <td>M</td>\n",
              "      <td>38.0</td>\n",
              "      <td>300.5991</td>\n",
              "      <td>0</td>\n",
              "      <td>0</td>\n",
              "      <td>(16.0, 32.0]</td>\n",
              "      <td>(10.5, 21.558]</td>\n",
              "      <td>3</td>\n",
              "      <td>Mrs</td>\n",
              "      <td>1</td>\n",
              "      <td>Johnson</td>\n",
              "      <td>0</td>\n",
              "    </tr>\n",
              "    <tr>\n",
              "      <th>9</th>\n",
              "      <td>14.0</td>\n",
              "      <td>C</td>\n",
              "      <td>30.0708</td>\n",
              "      <td>0</td>\n",
              "      <td>2</td>\n",
              "      <td>female</td>\n",
              "      <td>1</td>\n",
              "      <td>1.0</td>\n",
              "      <td>0</td>\n",
              "      <td>1</td>\n",
              "      <td>M</td>\n",
              "      <td>38.0</td>\n",
              "      <td>420.9912</td>\n",
              "      <td>0</td>\n",
              "      <td>0</td>\n",
              "      <td>(-0.08, 16.0]</td>\n",
              "      <td>(21.558, 41.579]</td>\n",
              "      <td>2</td>\n",
              "      <td>Mrs</td>\n",
              "      <td>1</td>\n",
              "      <td>Nasser</td>\n",
              "      <td>0</td>\n",
              "    </tr>\n",
              "  </tbody>\n",
              "</table>\n",
              "</div>"
            ],
            "text/plain": [
              "    Age Embarked     Fare  Parch  ...   Title Is_Married    Surname  Male_Young\n",
              "0  22.0        S   7.2500      0  ...      Mr          1     Braund           0\n",
              "1  38.0        C  71.2833      0  ...     Mrs          1    Cumings           0\n",
              "2  26.0        S   7.9250      0  ...    Miss          0  Heikkinen           0\n",
              "3  35.0        S  53.1000      0  ...     Mrs          1   Futrelle           0\n",
              "4  35.0        S   8.0500      0  ...      Mr          1      Allen           0\n",
              "5  25.0        Q   8.4583      0  ...      Mr          1      Moran           0\n",
              "6  54.0        S  51.8625      0  ...      Mr          1   McCarthy           0\n",
              "7   2.0        S  21.0750      1  ...  Master          0    Palsson           1\n",
              "8  27.0        S  11.1333      2  ...     Mrs          1    Johnson           0\n",
              "9  14.0        C  30.0708      0  ...     Mrs          1     Nasser           0\n",
              "\n",
              "[10 rows x 22 columns]"
            ]
          },
          "metadata": {
            "tags": []
          },
          "execution_count": 135
        }
      ]
    },
    {
      "cell_type": "code",
      "metadata": {
        "colab": {
          "base_uri": "https://localhost:8080/"
        },
        "id": "oQVn7iXI-xxL",
        "outputId": "8c513514-7ef2-4e48-c61c-1349b90a5936"
      },
      "source": [
        "len(full_df)"
      ],
      "execution_count": null,
      "outputs": [
        {
          "output_type": "execute_result",
          "data": {
            "text/plain": [
              "1309"
            ]
          },
          "metadata": {
            "tags": []
          },
          "execution_count": 109
        }
      ]
    },
    {
      "cell_type": "code",
      "metadata": {
        "colab": {
          "base_uri": "https://localhost:8080/"
        },
        "id": "YXhYAzTpD0e_",
        "outputId": "c3a13b1a-8166-400e-a5d9-42f08ca104cb"
      },
      "source": [
        "# Let's take a look at what columns are present\n",
        "list(full_df.columns)"
      ],
      "execution_count": null,
      "outputs": [
        {
          "output_type": "execute_result",
          "data": {
            "text/plain": [
              "['Age',\n",
              " 'Embarked',\n",
              " 'Fare',\n",
              " 'Parch',\n",
              " 'Pclass',\n",
              " 'Sex',\n",
              " 'SibSp',\n",
              " 'Survived',\n",
              " 'Age_NaN',\n",
              " 'Cabin_NaN',\n",
              " 'Deck',\n",
              " 'Ship_Pos',\n",
              " 'Age_Fare',\n",
              " 'Fem_HC',\n",
              " 'Mal_CNaN',\n",
              " 'Age_Cut',\n",
              " 'Fare_Cut',\n",
              " 'Ticket_Freq',\n",
              " 'Title',\n",
              " 'Is_Married',\n",
              " 'Surname',\n",
              " 'Male_Young']"
            ]
          },
          "metadata": {
            "tags": []
          },
          "execution_count": 132
        }
      ]
    },
    {
      "cell_type": "code",
      "metadata": {
        "id": "QdfAnlR8ssgM"
      },
      "source": [
        "def target_encoding(df, feature, target=DEP_VAR, agg_functions={\"mean\",\"std\"}):\n",
        "    agg=df.groupby(feature)[target].agg(agg_functions)\n",
        "    agg.columns=[column+\"_per_{}_{}\".format(feature,target) for column in agg.columns.tolist()]\n",
        "    return agg"
      ],
      "execution_count": null,
      "outputs": []
    },
    {
      "cell_type": "markdown",
      "metadata": {
        "id": "CThl3U_RtEA_"
      },
      "source": [
        "This is only useful if we use a subset of the training set to try and encode features, because if we try to use the entire training set we will introduce massive data leakage. It's also better to apply target encoding only to categorical columns with high cardinality."
      ]
    },
    {
      "cell_type": "code",
      "metadata": {
        "colab": {
          "base_uri": "https://localhost:8080/"
        },
        "id": "0OCdK7j4-H9M",
        "outputId": "99b78e74-60fb-47e2-f43d-27839c4e5e3d"
      },
      "source": [
        "full_df['Surname'].unique()"
      ],
      "execution_count": null,
      "outputs": [
        {
          "output_type": "execute_result",
          "data": {
            "text/plain": [
              "array(['Braund', 'Cumings', 'Heikkinen', 'Futrelle', 'Allen', 'Moran',\n",
              "       'McCarthy', 'Palsson', 'Johnson', 'Nasser', 'Sandstrom', 'Bonnell',\n",
              "       'Saundercock', 'Andersson', 'Vestrom', 'Hewlett', 'Rice',\n",
              "       'Williams', 'Vander Planke', 'Masselmani', 'Fynney', 'Beesley',\n",
              "       'McGowan', 'Sloper', 'Asplund', 'Emir', 'Fortune', \"O'Dwyer\",\n",
              "       'Todoroff', 'Uruchurtu', 'Spencer', 'Glynn', 'Wheadon', 'Meyer',\n",
              "       'Holverson', 'Mamee', 'Cann', 'Nicola-Yarred', 'Ahlin', 'Turpin',\n",
              "       'Kraeff', 'Laroche', 'Devaney', 'Rogers', 'Lennon', \"O'Driscoll\",\n",
              "       'Samaan', 'Arnold-Franchi', 'Panula', 'Nosworthy', 'Harper',\n",
              "       'Faunthorpe', 'Ostby', 'Woolner', 'Rugg', 'Novel', 'West',\n",
              "       'Goodwin', 'Sirayanian', 'Icard', 'Harris', 'Skoog', 'Stewart',\n",
              "       'Moubarek', 'Nye', 'Crease', 'Kink', 'Jenkin', 'Hood',\n",
              "       'Chronopoulos', 'Bing', 'Moen', 'Staneff', 'Moutal', 'Caldwell',\n",
              "       'Dowdell', 'Waelens', 'Sheerlinck', 'McDermott', 'Carrau', 'Ilett',\n",
              "       'Backstrom', 'Ford', 'Slocovski', 'Celotti', 'Christmann',\n",
              "       'Andreasson', 'Chaffee', 'Dean', 'Coxon', 'Shorney', 'Goldschmidt',\n",
              "       'Greenfield', 'Doling', 'Kantor', 'Petranec', 'Petroff', 'White',\n",
              "       'Johansson', 'Gustafsson', 'Mionoff', 'Salkjelsvik', 'Moss',\n",
              "       'Rekic', 'Porter', 'Zabour', 'Barton', 'Jussila', 'Attalah',\n",
              "       'Pekoniemi', 'Connors', 'Baxter', 'Hickman', 'Moore', 'Webber',\n",
              "       'McMahon', 'Madsen', 'Peter', 'Ekstrom', 'Drazenoic', 'Coelho',\n",
              "       'Robins', 'Weisz', 'Sobey', 'Richard', 'Newsom', 'Osen', 'Giglio',\n",
              "       'Boulos', 'Nysten', 'Hakkarainen', 'Burke', 'Andrew', 'Nicholls',\n",
              "       'Navratil', 'Byles', 'Bateman', 'Pears', 'Meo', 'van Billiard',\n",
              "       'Olsen', 'Gilnagh', 'Corn', 'Smiljanic', 'Sage', 'Cribb', 'Watt',\n",
              "       'Bengtsson', 'Calic', 'Goldsmith', 'Chibnall', 'Baumann', 'Ling',\n",
              "       'Van der hoef', 'Sivola', 'Smith', 'Klasen', 'Lefebre', 'Isham',\n",
              "       'Hale', 'Leonard', 'Pernot', 'Becker', 'Kink-Heilmann', 'Rood',\n",
              "       \"O'Brien\", 'Romaine', 'Bourke', 'Turcin', 'Pinsky', 'Carbines',\n",
              "       'Andersen-Jensen', 'Brown', 'Lurette', 'Mernagh', 'Madigan',\n",
              "       'Yrois', 'Vande Walle', 'Johanson', 'Youseff', 'Cohen', 'Strom',\n",
              "       'Albimona', 'Carr', 'Blank', 'Ali', 'Cameron', 'Perkin', 'Givard',\n",
              "       'Kiernan', 'Newell', 'Honkanen', 'Jacobsohn', 'Bazzani',\n",
              "       'Sunderland', 'Bracken', 'Green', 'Nenkoff', 'Hoyt', 'Berglund',\n",
              "       'Mellors', 'Lovell', 'Fahlstrom', 'Larsson', 'Sjostedt', 'Leyson',\n",
              "       'Harknett', 'Hold', 'Collyer', 'Pengelly', 'Hunt', 'Murphy',\n",
              "       'Coleridge', 'Maenpaa', 'Minahan', 'Lindahl', 'Hamalainen',\n",
              "       'Beckwith', 'Carter', 'Reed', 'Stead', 'Lobb', 'Rosblom', 'Touma',\n",
              "       'Thorne', 'Cherry', 'Ward', 'Parrish', 'Taussig', 'Harrison',\n",
              "       'Henry', 'Reeves', 'Persson', 'Graham', 'Bissette', 'Cairns',\n",
              "       'Tornquist', 'Mellinger', 'Natsch', 'Healy', 'Andrews', 'Lindblom',\n",
              "       'Parkes', 'Abbott', 'Duane', 'Olsson', 'de Pelsmaeker', 'Dorking',\n",
              "       'Stankovic', 'de Mulder', 'Naidenoff', 'Hosono', 'Connolly',\n",
              "       'Barber', 'Bishop', 'Levy', 'Haas', 'Mineff', 'Lewy', 'Hanna',\n",
              "       'Allison', 'Saalfeld', 'Kelly', 'McCoy', 'Keane', 'Fleming',\n",
              "       'Penasco y Castellana', 'Abelson', 'Francatelli', 'Hays',\n",
              "       'Ryerson', 'Lahtinen', 'Hendekovic', 'Hart', 'Nilsson', 'Moraweck',\n",
              "       'Wick', 'Spedden', 'Dennis', 'Danoff', 'Slayter', 'Young',\n",
              "       'Nysveen', 'Ball', 'Hippach', 'Partner', 'Frauenthal', 'Denkoff',\n",
              "       'Burns', 'Dahl', 'Blackwell', 'Collander', 'Sedgwick', 'Fox',\n",
              "       'Davison', 'Coutts', 'Dimic', 'Odahl', 'Williams-Lambert', 'Elias',\n",
              "       'Yousif', 'Vanden Steen', 'Bowerman', 'Funk', 'McGovern',\n",
              "       'Mockler', 'del Carlo', 'Barbara', 'Asim', 'Adahl', 'Warren',\n",
              "       'Moussa', 'Jermyn', 'Aubart', 'Harder', 'Wiklund', 'Beavan',\n",
              "       'Ringhini', 'Landergren', 'Widener', 'Betros', 'Bidois', 'Nakid',\n",
              "       'Tikkanen', 'Plotcharsky', 'Davies', 'Buss', 'Sadlier', 'Lehmann',\n",
              "       'Jansson', 'McKane', 'Pain', 'Trout', 'Niskanen', 'Adams',\n",
              "       'Oreskovic', 'Gale', 'Widegren', 'Richards', 'Birkeland',\n",
              "       'Sdycoff', 'Cunningham', 'Sundman', 'Meek', 'Drew', 'Silven',\n",
              "       'Matthews', 'Van Impe', 'Gheorgheff', 'Charters', 'Zimmerman',\n",
              "       'Danbom', 'Wiseman', 'Clarke', 'Phillips', 'Flynn', 'Pickard',\n",
              "       'Bjornstrom-Steffansson', 'Thorneycroft', 'Louch', 'Kallio',\n",
              "       'Silvey', 'Kvillner', 'Hampe', 'Petterson', 'Reynaldo',\n",
              "       'Johannesen-Bratthammer', 'Dodge', 'Seward', 'Baclini', 'Peuchen',\n",
              "       'Hagland', 'Foreman', 'Goldenberg', 'Peduzzi', 'Jalsevac',\n",
              "       'Millet', 'Kenyon', 'Toomey', \"O'Connor\", 'Anderson', 'Morley',\n",
              "       'Gee', 'Milling', 'Maisner', 'Goncalves', 'Campbell', 'Smart',\n",
              "       'Scanlan', 'Keefe', 'Cacic', 'Jerwan', 'Strandberg', 'Clifford',\n",
              "       'Renouf', 'Karlsson', 'Hirvonen', 'Frost', 'Rouse', 'Turkula',\n",
              "       'Kent', 'Somerton', 'Windelov', 'Molson', 'Artagaveytia',\n",
              "       'Stanley', 'Yousseff', 'Eustis', 'Shellard', 'Svensson', 'Canavan',\n",
              "       \"O'Sullivan\", 'Laitinen', 'Maioni', 'Quick', 'Bradley', 'Lang',\n",
              "       'Daly', 'McGough', 'Rothschild', 'Coleff', 'Walker', 'Lemore',\n",
              "       'Ryan', 'Angle', 'Pavlovic', 'Perreault', 'Vovk', 'Lahoud',\n",
              "       'Kassem', 'Farrell', 'Ridsdale', 'Farthing', 'Salonen', 'Hocking',\n",
              "       'Toufik', 'Butt', 'LeRoy', 'Risien', 'Frolicher', 'Crosby',\n",
              "       'Beane', 'Douglas', 'Nicholson', 'Padro y Manent', 'Thayer',\n",
              "       'Sharp', 'Leeni', 'Ohman', 'Wright', 'Duff Gordon', 'Robbins',\n",
              "       'de Messemaeker', 'Morrow', 'Sivic', 'Norman', 'Simmons',\n",
              "       'Meanwell', 'Stoytcheff', 'Doharr', 'Jonsson', 'Appleton', 'Rush',\n",
              "       'Patchett', 'Garside', 'Caram', 'Christy', 'Downton', 'Ross',\n",
              "       'Paulner', 'Jarvis', 'Frolicher-Stehli', 'Gilinski', 'Murdlin',\n",
              "       'Rintamaki', 'Stephenson', 'Elsbury', 'Chapman', 'Leitch',\n",
              "       'Slabenoff', 'Harrington', 'Torber', 'Homer', 'Lindell', 'Karaic',\n",
              "       'Daniel', 'Shutes', 'Jardin', 'Horgan', 'Brocklebank', 'Herman',\n",
              "       'Gavey', 'Yasbeck', 'Kimball', 'Hansen', 'Bowen', 'Sutton',\n",
              "       'Kirkland', 'Longley', 'Bostandyeff', \"O'Connell\", 'Barkworth',\n",
              "       'Lundahl', 'Stahelin-Maeglin', 'Parr', 'Davis', 'Leinonen',\n",
              "       'Jensen', 'Sagesser', 'Foo', 'Cor', 'Simonius-Blumer', 'Willey',\n",
              "       'Mitkoff', 'Kalvik', \"O'Leary\", 'Hegarty', 'Radeff', 'Eitemiller',\n",
              "       'Badt', 'Colley', 'Lindqvist', 'Butler', 'Rommetvedt', 'Cook',\n",
              "       'Taylor', 'Davidson', 'Mitchell', 'Wilhelms', 'Watson',\n",
              "       'Edvardsson', 'Sawyer', 'Turja', 'Cardeza', 'Peters', 'Hassab',\n",
              "       'Olsvigen', 'Dakic', 'Fischer', 'Madill', 'Dick', 'Karun', 'Lam',\n",
              "       'Saad', 'Weir', 'Mullens', 'Humblen', 'Astor', 'Silverthorne',\n",
              "       'Gallagher', 'Calderhead', 'Cleaver', 'Mayne', 'Klaber',\n",
              "       'Greenberg', 'Soholt', 'Endres', 'Troutt', 'McEvoy', 'Gillespie',\n",
              "       'Hodges', 'Chambers', 'Mannion', 'Bryhl', 'Ilmakangas', 'Hassan',\n",
              "       'Knight', 'Berriman', 'Troupiansky', 'Lesurer', 'Ivanoff',\n",
              "       'Nankoff', 'Hawksford', 'Cavendish', 'McNamee', 'Stranden',\n",
              "       'Sinkkonen', 'Marvin', 'Connaghton', 'Wells', 'Moor',\n",
              "       'Vande Velde', 'Jonkoff', 'Carlsson', 'Bailey', 'Theobald',\n",
              "       'Rothes', 'Garfirth', 'Nirva', 'Barah', 'Eklund', 'Hogeboom',\n",
              "       'Brewe', 'Mangan', 'Gronnestad', 'Lievens', 'Mack', 'Myhrman',\n",
              "       'Tobin', 'Emanuel', 'Kilgannon', 'Robert', 'Ayoub', 'Long',\n",
              "       'Johnston', 'Harmer', 'Sjoblom', 'Guggenheim', 'Gaskell',\n",
              "       'Dantcheff', 'Otter', 'Leader', 'Osman', 'Ibrahim Shawah',\n",
              "       'Ponesell', 'Thomas', 'Hedman', 'Pettersson', 'Alexander',\n",
              "       'Lester', 'Slemen', 'Tomlin', 'Fry', 'Heininen', 'Mallet', 'Holm',\n",
              "       'Lulic', 'Reuchlin', 'McCormack', 'Stone', 'Augustsson', 'Allum',\n",
              "       'Compton', 'Pasic', 'Sirota', 'Chip', 'Marechal', 'Alhomaki',\n",
              "       'Mudd', 'Serepeca', 'Lemberopolous', 'Culumovic', 'Abbing',\n",
              "       'Markoff', 'Lines', 'Aks', 'Razi', 'Giles', 'Swift', 'Gill',\n",
              "       'Bystrom', 'Duran y More', 'Roebling', 'van Melkebeke', 'Balkic',\n",
              "       'Vander Cruyssen', 'Najib', 'Laleff', 'Potter', 'Shelley',\n",
              "       'Markun', 'Dahlberg', 'Banfield', 'Sutehall', 'Montvila', 'Behr',\n",
              "       'Dooley', 'Wilkes', 'Myles', 'Wirz', 'Abrahim', 'Ilieff', 'Jones',\n",
              "       'Snyder', 'Howard', 'Assaf', 'Assaf Khalil', 'Flegenheim', 'Daher',\n",
              "       'Brady', 'Jefferys', 'Mock', 'Katavelas', 'Roth', 'Sap', 'Hee',\n",
              "       'Franklin', 'Corbett', 'Peltomaki', 'Chevre', 'Shaughnessy',\n",
              "       'Bucknell', 'Pulbaum', 'Mangiavacchi', 'Abelseth', 'Chaudanson',\n",
              "       'Dika', 'McCrae', 'Bjorklund', 'Corey', 'Tucker', 'Mulvihill',\n",
              "       'Minkoff', 'Nieminen', 'Ovies y Rodriguez', 'Geiger', 'Keeping',\n",
              "       'Miles', 'Cornell', 'Aldworth', 'Doyle', 'Straus', 'Case',\n",
              "       'Demetri', 'Lamb', 'Khalil', 'Barry', 'Badman', \"O'Donoghue\",\n",
              "       'Dyker', 'Pedersen', 'Guest', 'Birnbaum', 'Tenglin', 'Makinen',\n",
              "       'Braf', 'Nancarrow', 'Stengel', 'Foley', 'Johansson Palmquist',\n",
              "       'Holthen', 'Buckley', 'Willer', 'Swane', 'Stanton', 'Shine',\n",
              "       'Evans', 'Beattie', 'Schabert', 'Carver', 'Kennedy', 'Brobeck',\n",
              "       'Bowenur', 'Petersen', 'Spinner', 'Gracie', 'Dintcheff',\n",
              "       'Zakarian', 'Schmidt', 'Drapkin', 'Daniels', 'Beauchamp',\n",
              "       'Lindeberg-Lind', 'Hilliard', 'Crafton', 'Earnshaw', 'Matinoff',\n",
              "       'Storey', 'Duquemin', 'Bird', 'Lundin', 'Borebank', 'Peacock',\n",
              "       'Smyth', 'Pearce', 'Peruschitz', 'Brandeis', 'Cassebeer',\n",
              "       'Hellstrom', 'Lithman', 'Torfa', 'Sincock', 'McCrie', 'Lane',\n",
              "       'Maybery', 'Veal', 'Salomon', 'Lingane', 'Baimbrigge', 'Rasmussen',\n",
              "       'Omont', 'Collett', 'Rosenbaum', 'Delalic', 'Andersen', 'Finoli',\n",
              "       'Deacon', 'Head', 'Mahon', 'Thomson', 'Reynolds', 'Candee',\n",
              "       'McNeill', 'Everett', 'Sweet', 'Willard', 'Linehan', 'Vendel',\n",
              "       'Baccos', 'Hiltunen', 'Lindstrom', 'Hyman', 'Karnes',\n",
              "       'Abrahamsson', 'Clark', 'Salander', 'Wenzel', 'MacKay',\n",
              "       'Niklasson', 'Bentham', 'Midtsjo', 'Portaluppi', 'Lyntakoff',\n",
              "       'Chisholm', 'Pokrnic', 'McCaffry', 'Saade', 'Parker', 'Ware',\n",
              "       'Oxenham', 'Mardirosian', 'Rheims', 'Nasr', 'Wittevrongel',\n",
              "       'Angheloff', 'Loring', 'Malachard', 'Vartanian', 'Sadowitz',\n",
              "       'Hagardon', 'Krekorian', 'Nesson', 'Rowe', 'Kreuchen', 'Assam',\n",
              "       'Rosenshine', 'Enander', 'Dulles', 'Maguire', 'de Brito',\n",
              "       'Denbury', 'Fillbrook', 'Lundstrom', 'Botsford', 'Whabee',\n",
              "       'Walcroft', 'Stokes', 'Dibden', 'Julian', 'Lockyer', \"O'Keefe\",\n",
              "       'Strilic', 'Riihivouri', 'Gibson', 'Pallas y Castello', 'Wilson',\n",
              "       'Ismay', 'Harbeck', 'Cotterill', 'Hipkins', 'Wheeler', 'Aronsson',\n",
              "       'Ashby', 'Payne', 'Gilbert', 'Colbert', 'Larsson-Rondberg',\n",
              "       'Conlon', 'Nourney', 'Riordan', 'Naughton', 'Henriksson',\n",
              "       'Spector', 'Oliva y Ocana', 'Saether'], dtype=object)"
            ]
          },
          "metadata": {
            "tags": []
          },
          "execution_count": 133
        }
      ]
    },
    {
      "cell_type": "code",
      "metadata": {
        "id": "JYwXfbwhtG3Q",
        "colab": {
          "base_uri": "https://localhost:8080/",
          "height": 343
        },
        "outputId": "9fbceabf-40fd-4876-ad45-05358009a6be"
      },
      "source": [
        "from sklearn.model_selection import train_test_split\n",
        "\n",
        "te_df = full_df[0:len(train_df)].copy(deep=True)\n",
        "train, test = train_test_split(te_df, random_state=42, test_size=.2)\n",
        "train_VTE, val_VTE = train_test_split(train,random_state=42,test_size=0.1)\n",
        "test_VTE = test.copy(deep=True)\n",
        "\n",
        "categorical_features = ['Surname']\n",
        "\n",
        "def add_target_encoding_features_validation(train, val, test):\n",
        "    aggs = {}\n",
        "    for feature in categorical_features:\n",
        "        agg = target_encoding(train, feature)\n",
        "        aggs[feature] = agg\n",
        "\n",
        "        train = train.merge(agg, how=\"left\", on=feature)\n",
        "        val = val.merge(agg, how=\"left\", on=feature)\n",
        "        test = test.merge(agg, how=\"left\", on=feature)\n",
        "        \n",
        "    return train, val, test, aggs\n",
        "\n",
        "train_VTE, val_VTE, test_VTE, all_aggs = add_target_encoding_features_validation(train_VTE, val_VTE, test_VTE)\n",
        "\n",
        "stitch = pd.concat([train_VTE, val_VTE, test_VTE]).reset_index(drop=True)\n",
        "\n",
        "print(len(stitch))\n",
        "print(len(te_df))\n",
        "\n",
        "stitch.head()"
      ],
      "execution_count": null,
      "outputs": [
        {
          "output_type": "stream",
          "text": [
            "891\n",
            "891\n"
          ],
          "name": "stdout"
        },
        {
          "output_type": "execute_result",
          "data": {
            "text/html": [
              "<div>\n",
              "<style scoped>\n",
              "    .dataframe tbody tr th:only-of-type {\n",
              "        vertical-align: middle;\n",
              "    }\n",
              "\n",
              "    .dataframe tbody tr th {\n",
              "        vertical-align: top;\n",
              "    }\n",
              "\n",
              "    .dataframe thead th {\n",
              "        text-align: right;\n",
              "    }\n",
              "</style>\n",
              "<table border=\"1\" class=\"dataframe\">\n",
              "  <thead>\n",
              "    <tr style=\"text-align: right;\">\n",
              "      <th></th>\n",
              "      <th>Age</th>\n",
              "      <th>Embarked</th>\n",
              "      <th>Fare</th>\n",
              "      <th>Parch</th>\n",
              "      <th>Pclass</th>\n",
              "      <th>Sex</th>\n",
              "      <th>SibSp</th>\n",
              "      <th>Survived</th>\n",
              "      <th>Age_NaN</th>\n",
              "      <th>Cabin_NaN</th>\n",
              "      <th>Deck</th>\n",
              "      <th>Ship_Pos</th>\n",
              "      <th>Age_Fare</th>\n",
              "      <th>Fem_HC</th>\n",
              "      <th>Mal_CNaN</th>\n",
              "      <th>Age_Cut</th>\n",
              "      <th>Fare_Cut</th>\n",
              "      <th>Ticket_Freq</th>\n",
              "      <th>Title</th>\n",
              "      <th>Is_Married</th>\n",
              "      <th>Surname</th>\n",
              "      <th>Male_Young</th>\n",
              "      <th>std_per_Surname_Survived</th>\n",
              "      <th>mean_per_Surname_Survived</th>\n",
              "    </tr>\n",
              "  </thead>\n",
              "  <tbody>\n",
              "    <tr>\n",
              "      <th>0</th>\n",
              "      <td>1.0</td>\n",
              "      <td>S</td>\n",
              "      <td>46.9000</td>\n",
              "      <td>2</td>\n",
              "      <td>3</td>\n",
              "      <td>male</td>\n",
              "      <td>5</td>\n",
              "      <td>0.0</td>\n",
              "      <td>0</td>\n",
              "      <td>1</td>\n",
              "      <td>M</td>\n",
              "      <td>38.0</td>\n",
              "      <td>46.9000</td>\n",
              "      <td>0</td>\n",
              "      <td>1</td>\n",
              "      <td>(-0.08, 16.0]</td>\n",
              "      <td>(41.579, 512.329]</td>\n",
              "      <td>8</td>\n",
              "      <td>Master</td>\n",
              "      <td>0</td>\n",
              "      <td>Goodwin</td>\n",
              "      <td>1</td>\n",
              "      <td>0.0</td>\n",
              "      <td>0.0</td>\n",
              "    </tr>\n",
              "    <tr>\n",
              "      <th>1</th>\n",
              "      <td>25.0</td>\n",
              "      <td>S</td>\n",
              "      <td>9.5000</td>\n",
              "      <td>0</td>\n",
              "      <td>3</td>\n",
              "      <td>male</td>\n",
              "      <td>0</td>\n",
              "      <td>0.0</td>\n",
              "      <td>1</td>\n",
              "      <td>1</td>\n",
              "      <td>M</td>\n",
              "      <td>38.0</td>\n",
              "      <td>237.5000</td>\n",
              "      <td>0</td>\n",
              "      <td>1</td>\n",
              "      <td>(16.0, 32.0]</td>\n",
              "      <td>(7.854, 10.5]</td>\n",
              "      <td>1</td>\n",
              "      <td>Mr</td>\n",
              "      <td>1</td>\n",
              "      <td>van Melkebeke</td>\n",
              "      <td>0</td>\n",
              "      <td>NaN</td>\n",
              "      <td>0.0</td>\n",
              "    </tr>\n",
              "    <tr>\n",
              "      <th>2</th>\n",
              "      <td>50.0</td>\n",
              "      <td>S</td>\n",
              "      <td>13.0000</td>\n",
              "      <td>0</td>\n",
              "      <td>2</td>\n",
              "      <td>male</td>\n",
              "      <td>0</td>\n",
              "      <td>0.0</td>\n",
              "      <td>0</td>\n",
              "      <td>1</td>\n",
              "      <td>M</td>\n",
              "      <td>38.0</td>\n",
              "      <td>650.0000</td>\n",
              "      <td>0</td>\n",
              "      <td>1</td>\n",
              "      <td>(48.0, 64.0]</td>\n",
              "      <td>(10.5, 21.558]</td>\n",
              "      <td>1</td>\n",
              "      <td>Mr</td>\n",
              "      <td>1</td>\n",
              "      <td>Hodges</td>\n",
              "      <td>0</td>\n",
              "      <td>NaN</td>\n",
              "      <td>0.0</td>\n",
              "    </tr>\n",
              "    <tr>\n",
              "      <th>3</th>\n",
              "      <td>47.0</td>\n",
              "      <td>S</td>\n",
              "      <td>25.5875</td>\n",
              "      <td>0</td>\n",
              "      <td>1</td>\n",
              "      <td>male</td>\n",
              "      <td>0</td>\n",
              "      <td>0.0</td>\n",
              "      <td>0</td>\n",
              "      <td>0</td>\n",
              "      <td>DE</td>\n",
              "      <td>58.0</td>\n",
              "      <td>1202.6125</td>\n",
              "      <td>0</td>\n",
              "      <td>0</td>\n",
              "      <td>(32.0, 48.0]</td>\n",
              "      <td>(21.558, 41.579]</td>\n",
              "      <td>1</td>\n",
              "      <td>Mr</td>\n",
              "      <td>1</td>\n",
              "      <td>Colley</td>\n",
              "      <td>0</td>\n",
              "      <td>NaN</td>\n",
              "      <td>0.0</td>\n",
              "    </tr>\n",
              "    <tr>\n",
              "      <th>4</th>\n",
              "      <td>51.0</td>\n",
              "      <td>S</td>\n",
              "      <td>77.9583</td>\n",
              "      <td>0</td>\n",
              "      <td>1</td>\n",
              "      <td>female</td>\n",
              "      <td>1</td>\n",
              "      <td>1.0</td>\n",
              "      <td>0</td>\n",
              "      <td>0</td>\n",
              "      <td>DE</td>\n",
              "      <td>11.0</td>\n",
              "      <td>3975.8733</td>\n",
              "      <td>1</td>\n",
              "      <td>0</td>\n",
              "      <td>(48.0, 64.0]</td>\n",
              "      <td>(41.579, 512.329]</td>\n",
              "      <td>3</td>\n",
              "      <td>Mrs</td>\n",
              "      <td>1</td>\n",
              "      <td>Hogeboom</td>\n",
              "      <td>0</td>\n",
              "      <td>NaN</td>\n",
              "      <td>1.0</td>\n",
              "    </tr>\n",
              "  </tbody>\n",
              "</table>\n",
              "</div>"
            ],
            "text/plain": [
              "    Age Embarked  ...  std_per_Surname_Survived  mean_per_Surname_Survived\n",
              "0   1.0        S  ...                       0.0                        0.0\n",
              "1  25.0        S  ...                       NaN                        0.0\n",
              "2  50.0        S  ...                       NaN                        0.0\n",
              "3  47.0        S  ...                       NaN                        0.0\n",
              "4  51.0        S  ...                       NaN                        1.0\n",
              "\n",
              "[5 rows x 24 columns]"
            ]
          },
          "metadata": {
            "tags": []
          },
          "execution_count": 136
        }
      ]
    },
    {
      "cell_type": "code",
      "metadata": {
        "colab": {
          "base_uri": "https://localhost:8080/"
        },
        "id": "CjFhTLKOEelM",
        "outputId": "eaae2dbb-4b7b-4ea7-9a33-ba388905727c"
      },
      "source": [
        "print(stitch['std_per_Surname_Survived'].isna().sum())\n",
        "print(stitch['mean_per_Surname_Survived'].isna().sum())\n",
        "len(stitch)"
      ],
      "execution_count": null,
      "outputs": [
        {
          "output_type": "stream",
          "text": [
            "628\n",
            "175\n"
          ],
          "name": "stdout"
        },
        {
          "output_type": "execute_result",
          "data": {
            "text/plain": [
              "891"
            ]
          },
          "metadata": {
            "tags": []
          },
          "execution_count": 140
        }
      ]
    },
    {
      "cell_type": "code",
      "metadata": {
        "colab": {
          "base_uri": "https://localhost:8080/",
          "height": 309
        },
        "id": "8VHvg8boH-UI",
        "outputId": "cc48c29e-b403-48d1-f173-799285782b20"
      },
      "source": [
        "# Add in target encodings\n",
        "def add_target_encodings_to_test_set(df):\n",
        "  for feature in categorical_features:\n",
        "    agg = all_aggs[feature]\n",
        "    df = df.merge(agg, how=\"left\", on=feature)\n",
        "\n",
        "  return df\n",
        "\n",
        "test_df = add_target_encodings_to_test_set(full_df[len(train_df):].copy(deep=True))\n",
        "test_df.head()"
      ],
      "execution_count": null,
      "outputs": [
        {
          "output_type": "execute_result",
          "data": {
            "text/html": [
              "<div>\n",
              "<style scoped>\n",
              "    .dataframe tbody tr th:only-of-type {\n",
              "        vertical-align: middle;\n",
              "    }\n",
              "\n",
              "    .dataframe tbody tr th {\n",
              "        vertical-align: top;\n",
              "    }\n",
              "\n",
              "    .dataframe thead th {\n",
              "        text-align: right;\n",
              "    }\n",
              "</style>\n",
              "<table border=\"1\" class=\"dataframe\">\n",
              "  <thead>\n",
              "    <tr style=\"text-align: right;\">\n",
              "      <th></th>\n",
              "      <th>Age</th>\n",
              "      <th>Embarked</th>\n",
              "      <th>Fare</th>\n",
              "      <th>Parch</th>\n",
              "      <th>Pclass</th>\n",
              "      <th>Sex</th>\n",
              "      <th>SibSp</th>\n",
              "      <th>Survived</th>\n",
              "      <th>Age_NaN</th>\n",
              "      <th>Cabin_NaN</th>\n",
              "      <th>Deck</th>\n",
              "      <th>Ship_Pos</th>\n",
              "      <th>Age_Fare</th>\n",
              "      <th>Fem_HC</th>\n",
              "      <th>Mal_CNaN</th>\n",
              "      <th>Age_Cut</th>\n",
              "      <th>Fare_Cut</th>\n",
              "      <th>Ticket_Freq</th>\n",
              "      <th>Title</th>\n",
              "      <th>Is_Married</th>\n",
              "      <th>Surname</th>\n",
              "      <th>Male_Young</th>\n",
              "      <th>std_per_Surname_Survived</th>\n",
              "      <th>mean_per_Surname_Survived</th>\n",
              "    </tr>\n",
              "  </thead>\n",
              "  <tbody>\n",
              "    <tr>\n",
              "      <th>0</th>\n",
              "      <td>34.5</td>\n",
              "      <td>Q</td>\n",
              "      <td>7.8292</td>\n",
              "      <td>0</td>\n",
              "      <td>3</td>\n",
              "      <td>male</td>\n",
              "      <td>0</td>\n",
              "      <td>NaN</td>\n",
              "      <td>0</td>\n",
              "      <td>1</td>\n",
              "      <td>M</td>\n",
              "      <td>38.0</td>\n",
              "      <td>270.1074</td>\n",
              "      <td>0</td>\n",
              "      <td>1</td>\n",
              "      <td>(32.0, 48.0]</td>\n",
              "      <td>(-0.001, 7.854]</td>\n",
              "      <td>1</td>\n",
              "      <td>Mr</td>\n",
              "      <td>1</td>\n",
              "      <td>Kelly</td>\n",
              "      <td>0</td>\n",
              "      <td>0.0</td>\n",
              "      <td>1.0</td>\n",
              "    </tr>\n",
              "    <tr>\n",
              "      <th>1</th>\n",
              "      <td>47.0</td>\n",
              "      <td>S</td>\n",
              "      <td>7.0000</td>\n",
              "      <td>0</td>\n",
              "      <td>3</td>\n",
              "      <td>female</td>\n",
              "      <td>1</td>\n",
              "      <td>NaN</td>\n",
              "      <td>0</td>\n",
              "      <td>1</td>\n",
              "      <td>M</td>\n",
              "      <td>38.0</td>\n",
              "      <td>329.0000</td>\n",
              "      <td>0</td>\n",
              "      <td>0</td>\n",
              "      <td>(32.0, 48.0]</td>\n",
              "      <td>(-0.001, 7.854]</td>\n",
              "      <td>1</td>\n",
              "      <td>Mrs</td>\n",
              "      <td>1</td>\n",
              "      <td>Wilkes</td>\n",
              "      <td>0</td>\n",
              "      <td>NaN</td>\n",
              "      <td>NaN</td>\n",
              "    </tr>\n",
              "    <tr>\n",
              "      <th>2</th>\n",
              "      <td>62.0</td>\n",
              "      <td>Q</td>\n",
              "      <td>9.6875</td>\n",
              "      <td>0</td>\n",
              "      <td>2</td>\n",
              "      <td>male</td>\n",
              "      <td>0</td>\n",
              "      <td>NaN</td>\n",
              "      <td>0</td>\n",
              "      <td>1</td>\n",
              "      <td>M</td>\n",
              "      <td>38.0</td>\n",
              "      <td>600.6250</td>\n",
              "      <td>0</td>\n",
              "      <td>1</td>\n",
              "      <td>(48.0, 64.0]</td>\n",
              "      <td>(7.854, 10.5]</td>\n",
              "      <td>1</td>\n",
              "      <td>Mr</td>\n",
              "      <td>1</td>\n",
              "      <td>Myles</td>\n",
              "      <td>0</td>\n",
              "      <td>NaN</td>\n",
              "      <td>NaN</td>\n",
              "    </tr>\n",
              "    <tr>\n",
              "      <th>3</th>\n",
              "      <td>27.0</td>\n",
              "      <td>S</td>\n",
              "      <td>8.6625</td>\n",
              "      <td>0</td>\n",
              "      <td>3</td>\n",
              "      <td>male</td>\n",
              "      <td>0</td>\n",
              "      <td>NaN</td>\n",
              "      <td>0</td>\n",
              "      <td>1</td>\n",
              "      <td>M</td>\n",
              "      <td>38.0</td>\n",
              "      <td>233.8875</td>\n",
              "      <td>0</td>\n",
              "      <td>1</td>\n",
              "      <td>(16.0, 32.0]</td>\n",
              "      <td>(7.854, 10.5]</td>\n",
              "      <td>1</td>\n",
              "      <td>Mr</td>\n",
              "      <td>1</td>\n",
              "      <td>Wirz</td>\n",
              "      <td>0</td>\n",
              "      <td>NaN</td>\n",
              "      <td>NaN</td>\n",
              "    </tr>\n",
              "    <tr>\n",
              "      <th>4</th>\n",
              "      <td>22.0</td>\n",
              "      <td>S</td>\n",
              "      <td>12.2875</td>\n",
              "      <td>1</td>\n",
              "      <td>3</td>\n",
              "      <td>female</td>\n",
              "      <td>1</td>\n",
              "      <td>NaN</td>\n",
              "      <td>0</td>\n",
              "      <td>1</td>\n",
              "      <td>M</td>\n",
              "      <td>38.0</td>\n",
              "      <td>270.3250</td>\n",
              "      <td>0</td>\n",
              "      <td>0</td>\n",
              "      <td>(16.0, 32.0]</td>\n",
              "      <td>(10.5, 21.558]</td>\n",
              "      <td>2</td>\n",
              "      <td>Mrs</td>\n",
              "      <td>1</td>\n",
              "      <td>Hirvonen</td>\n",
              "      <td>0</td>\n",
              "      <td>NaN</td>\n",
              "      <td>1.0</td>\n",
              "    </tr>\n",
              "  </tbody>\n",
              "</table>\n",
              "</div>"
            ],
            "text/plain": [
              "    Age Embarked  ...  std_per_Surname_Survived  mean_per_Surname_Survived\n",
              "0  34.5        Q  ...                       0.0                        1.0\n",
              "1  47.0        S  ...                       NaN                        NaN\n",
              "2  62.0        Q  ...                       NaN                        NaN\n",
              "3  27.0        S  ...                       NaN                        NaN\n",
              "4  22.0        S  ...                       NaN                        1.0\n",
              "\n",
              "[5 rows x 24 columns]"
            ]
          },
          "metadata": {
            "tags": []
          },
          "execution_count": 137
        }
      ]
    },
    {
      "cell_type": "code",
      "metadata": {
        "colab": {
          "base_uri": "https://localhost:8080/"
        },
        "id": "JAtYlftrHyh9",
        "outputId": "f22e1a86-79b8-4728-ee22-615fd1bde551"
      },
      "source": [
        "full_df = pd.concat([stitch, test_df])\n",
        "full_df.head()\n",
        "\n",
        "len(full_df)"
      ],
      "execution_count": null,
      "outputs": [
        {
          "output_type": "execute_result",
          "data": {
            "text/plain": [
              "1309"
            ]
          },
          "metadata": {
            "tags": []
          },
          "execution_count": 271
        }
      ]
    },
    {
      "cell_type": "code",
      "metadata": {
        "colab": {
          "base_uri": "https://localhost:8080/"
        },
        "id": "fGwaE-3NmeuA",
        "outputId": "463059cb-c1c0-47cc-a736-b3787f11fdd2"
      },
      "source": [
        "full_df.columns[full_df.isna().any()].tolist()"
      ],
      "execution_count": null,
      "outputs": [
        {
          "output_type": "execute_result",
          "data": {
            "text/plain": [
              "['Survived',\n",
              " 'mean_per_Parch_Survived',\n",
              " 'std_per_Parch_Survived',\n",
              " 'mean_per_Title_Survived',\n",
              " 'std_per_Title_Survived']"
            ]
          },
          "metadata": {
            "tags": []
          },
          "execution_count": 272
        }
      ]
    },
    {
      "cell_type": "code",
      "metadata": {
        "colab": {
          "base_uri": "https://localhost:8080/"
        },
        "id": "9iKpqRLXsgqp",
        "outputId": "6de32c90-e7e9-4784-e228-381920adf847"
      },
      "source": [
        "def fill_nans_from_target_encoding(df):\n",
        "  nan_cols = df.columns[df.isna().any()].tolist()\n",
        "\n",
        "  for col in nan_cols:\n",
        "    if col != DEP_VAR:\n",
        "      df[col].fillna(df[col].mean(), inplace=True)\n",
        "\n",
        "fill_nans_from_target_encoding(full_df)\n",
        "\n",
        "full_df.columns[full_df.isna().any()].tolist()"
      ],
      "execution_count": null,
      "outputs": [
        {
          "output_type": "execute_result",
          "data": {
            "text/plain": [
              "['Survived']"
            ]
          },
          "metadata": {
            "tags": []
          },
          "execution_count": 273
        }
      ]
    },
    {
      "cell_type": "code",
      "metadata": {
        "colab": {
          "base_uri": "https://localhost:8080/"
        },
        "id": "wFzDCwG8xzTa",
        "outputId": "be83a567-7f63-4a2a-f995-55c76dc29580"
      },
      "source": [
        "full_df.columns"
      ],
      "execution_count": null,
      "outputs": [
        {
          "output_type": "execute_result",
          "data": {
            "text/plain": [
              "Index(['Age', 'Embarked', 'Fare', 'Name', 'Parch', 'Pclass', 'Sex', 'SibSp',\n",
              "       'Survived', 'Ticket', 'Age_NaN', 'Cabin_NaN', 'Embarked_NaN',\n",
              "       'Fare_NaN', 'Deck', 'Ship_Pos', 'Survival_Pos', 'Age_Fare', 'Fem_HC',\n",
              "       'Mal_CNaN', 'Ticket_Freq', 'Title', 'Is_Married',\n",
              "       'mean_per_Age_Survived', 'std_per_Age_Survived',\n",
              "       'mean_per_Embarked_Survived', 'std_per_Embarked_Survived',\n",
              "       'mean_per_Fare_Survived', 'std_per_Fare_Survived',\n",
              "       'mean_per_Parch_Survived', 'std_per_Parch_Survived',\n",
              "       'mean_per_Pclass_Survived', 'std_per_Pclass_Survived',\n",
              "       'mean_per_Sex_Survived', 'std_per_Sex_Survived',\n",
              "       'mean_per_SibSp_Survived', 'std_per_SibSp_Survived',\n",
              "       'mean_per_Age_NaN_Survived', 'std_per_Age_NaN_Survived',\n",
              "       'mean_per_Cabin_NaN_Survived', 'std_per_Cabin_NaN_Survived',\n",
              "       'mean_per_Deck_Survived', 'std_per_Deck_Survived',\n",
              "       'mean_per_Fem_HC_Survived', 'std_per_Fem_HC_Survived',\n",
              "       'mean_per_Mal_CNaN_Survived', 'std_per_Mal_CNaN_Survived',\n",
              "       'mean_per_Ticket_Freq_Survived', 'std_per_Ticket_Freq_Survived',\n",
              "       'mean_per_Title_Survived', 'std_per_Title_Survived',\n",
              "       'mean_per_Is_Married_Survived', 'std_per_Is_Married_Survived'],\n",
              "      dtype='object')"
            ]
          },
          "metadata": {
            "tags": []
          },
          "execution_count": 274
        }
      ]
    },
    {
      "cell_type": "markdown",
      "metadata": {
        "id": "Qz0Bep8PdU2P"
      },
      "source": [
        "\n",
        "### **Basic Data Cleaning**"
      ]
    },
    {
      "cell_type": "markdown",
      "metadata": {
        "id": "6BzChTcvmBcB"
      },
      "source": [
        "#### **Drop Rare Features**\n",
        "\n",
        "Certain features may have too few events to provide any meaningful insight to a model, and we can remove these automatically if needed."
      ]
    },
    {
      "cell_type": "code",
      "metadata": {
        "id": "hVR3oGxzmNYC"
      },
      "source": [
        "# export\n",
        "def drop_rare_features(df, thres=.95):\n",
        "  \"\"\"\n",
        "  Drops features in the dataset that have \n",
        "  events that are too rare to be statistically useful\n",
        "  \"\"\"\n",
        "  rare_f = []\n",
        "  print(\"Running with threshold\", thres)\n",
        "  print(\"\")\n",
        "\n",
        "  for col in df.columns:\n",
        "    if df[col].name not in df.select_dtypes(include='category').columns:\n",
        "      freq = df[col].value_counts(normalize=True)\n",
        "      sum_freq = df[col].sum()\n",
        "              \n",
        "      # should be enough to check whether the most freq is dominant\n",
        "      if freq.iloc[0] >= thres:\n",
        "        rare_f.append(col)\n",
        "        print(\"\\x1b[31m{c}: {v}\\x1b[0m\".format(c=col, v=freq.iloc[0]))\n",
        "      else:\n",
        "        print(\"{c}: {v}\".format(c=col, v=freq.iloc[0]))\n",
        "  \n",
        "  df = df.drop(rare_f, axis=1)\n",
        "  return df"
      ],
      "execution_count": null,
      "outputs": []
    },
    {
      "cell_type": "markdown",
      "metadata": {
        "id": "DrS0-hE2m_Wb"
      },
      "source": [
        "#### **Final Clean Up**"
      ]
    },
    {
      "cell_type": "code",
      "metadata": {
        "id": "1vrvTiiAuTzP"
      },
      "source": [
        "# Remove outliers\n",
        "print(\"DF before:\", df.shape)\n",
        "print(\"\")\n",
        "\n",
        "df = remove_outliers(df, ['Age_Fare','Fare'])\n",
        "\n",
        "print(\"\")\n",
        "print(\"DF after removing outliers\", df.shape)"
      ],
      "execution_count": null,
      "outputs": []
    },
    {
      "cell_type": "code",
      "metadata": {
        "id": "GHQlGG2rnG-o",
        "colab": {
          "base_uri": "https://localhost:8080/"
        },
        "outputId": "aa92d429-53cd-4f41-80e9-21f6fe2d4bdd"
      },
      "source": [
        "# Drop rare features\n",
        "print(\"DF before:\", len(full_df.columns))\n",
        "print(\"\")\n",
        "\n",
        "full_df = drop_rare_features(full_df)\n",
        "\n",
        "print(\"\")\n",
        "print(\"DF after drop rare features:\", len(full_df.columns))"
      ],
      "execution_count": null,
      "outputs": [
        {
          "output_type": "stream",
          "text": [
            "DF before: 22\n",
            "\n",
            "Running with threshold 0.95\n",
            "\n",
            "Age: 0.12987012987012986\n",
            "Embarked: 0.6997708174178763\n",
            "Fare: 0.04583651642475172\n",
            "Parch: 0.7654698242933538\n",
            "Sex: 0.6440030557677616\n",
            "SibSp: 0.680672268907563\n",
            "Survived: 0.6161616161616161\n",
            "Age_NaN: 0.799083269671505\n",
            "Cabin_NaN: 0.774637127578304\n",
            "Ship_Pos: 0.7776928953399541\n",
            "Age_Fare: 0.016042780748663103\n",
            "Fem_HC: 0.8899923605805958\n",
            "Mal_CNaN: 0.5263559969442322\n",
            "Ticket_Freq: 0.5446906035141329\n",
            "Title: 0.5783040488922842\n",
            "Is_Married: 0.7288006111535523\n",
            "Surname: 0.008403361344537815\n",
            "Male_Young: 0.9343009931245225\n",
            "\n",
            "DF after drop rare features: 22\n"
          ],
          "name": "stdout"
        }
      ]
    },
    {
      "cell_type": "code",
      "metadata": {
        "colab": {
          "base_uri": "https://localhost:8080/"
        },
        "id": "PRd_t11J-4at",
        "outputId": "838c9fba-00eb-4b0c-a823-2d118f1c7cf2"
      },
      "source": [
        "get_relevant_duplicates(full_df, DEP_VAR)"
      ],
      "execution_count": null,
      "outputs": [
        {
          "output_type": "execute_result",
          "data": {
            "text/plain": [
              "8"
            ]
          },
          "metadata": {
            "tags": []
          },
          "execution_count": 142
        }
      ]
    },
    {
      "cell_type": "code",
      "metadata": {
        "colab": {
          "base_uri": "https://localhost:8080/",
          "height": 1000
        },
        "id": "dvzmgX6d_jJh",
        "outputId": "d9a701ed-2367-46cd-bf17-53255a5661b1"
      },
      "source": [
        "full_df[full_df[[i for i in full_df.columns if i != DEP_VAR]].duplicated(keep=False)]"
      ],
      "execution_count": null,
      "outputs": [
        {
          "output_type": "execute_result",
          "data": {
            "text/html": [
              "<div>\n",
              "<style scoped>\n",
              "    .dataframe tbody tr th:only-of-type {\n",
              "        vertical-align: middle;\n",
              "    }\n",
              "\n",
              "    .dataframe tbody tr th {\n",
              "        vertical-align: top;\n",
              "    }\n",
              "\n",
              "    .dataframe thead th {\n",
              "        text-align: right;\n",
              "    }\n",
              "</style>\n",
              "<table border=\"1\" class=\"dataframe\">\n",
              "  <thead>\n",
              "    <tr style=\"text-align: right;\">\n",
              "      <th></th>\n",
              "      <th>Age</th>\n",
              "      <th>Embarked</th>\n",
              "      <th>Fare</th>\n",
              "      <th>Parch</th>\n",
              "      <th>Pclass</th>\n",
              "      <th>Sex</th>\n",
              "      <th>SibSp</th>\n",
              "      <th>Survived</th>\n",
              "      <th>Age_NaN</th>\n",
              "      <th>Cabin_NaN</th>\n",
              "      <th>Deck</th>\n",
              "      <th>Ship_Pos</th>\n",
              "      <th>Age_Fare</th>\n",
              "      <th>Fem_HC</th>\n",
              "      <th>Mal_CNaN</th>\n",
              "      <th>Age_Cut</th>\n",
              "      <th>Fare_Cut</th>\n",
              "      <th>Ticket_Freq</th>\n",
              "      <th>Title</th>\n",
              "      <th>Is_Married</th>\n",
              "      <th>Surname</th>\n",
              "      <th>Male_Young</th>\n",
              "    </tr>\n",
              "  </thead>\n",
              "  <tbody>\n",
              "    <tr>\n",
              "      <th>48</th>\n",
              "      <td>25.00</td>\n",
              "      <td>C</td>\n",
              "      <td>21.6792</td>\n",
              "      <td>0</td>\n",
              "      <td>3</td>\n",
              "      <td>male</td>\n",
              "      <td>2</td>\n",
              "      <td>0.0</td>\n",
              "      <td>1</td>\n",
              "      <td>1</td>\n",
              "      <td>M</td>\n",
              "      <td>38.0</td>\n",
              "      <td>541.980000</td>\n",
              "      <td>0</td>\n",
              "      <td>1</td>\n",
              "      <td>(16.0, 32.0]</td>\n",
              "      <td>(21.558, 41.579]</td>\n",
              "      <td>3</td>\n",
              "      <td>Mr</td>\n",
              "      <td>1</td>\n",
              "      <td>Samaan</td>\n",
              "      <td>0</td>\n",
              "    </tr>\n",
              "    <tr>\n",
              "      <th>65</th>\n",
              "      <td>18.00</td>\n",
              "      <td>C</td>\n",
              "      <td>15.2458</td>\n",
              "      <td>1</td>\n",
              "      <td>3</td>\n",
              "      <td>male</td>\n",
              "      <td>1</td>\n",
              "      <td>1.0</td>\n",
              "      <td>1</td>\n",
              "      <td>1</td>\n",
              "      <td>M</td>\n",
              "      <td>38.0</td>\n",
              "      <td>381.145000</td>\n",
              "      <td>0</td>\n",
              "      <td>1</td>\n",
              "      <td>(16.0, 32.0]</td>\n",
              "      <td>(10.5, 21.558]</td>\n",
              "      <td>3</td>\n",
              "      <td>Master</td>\n",
              "      <td>0</td>\n",
              "      <td>Moubarek</td>\n",
              "      <td>1</td>\n",
              "    </tr>\n",
              "    <tr>\n",
              "      <th>163</th>\n",
              "      <td>17.00</td>\n",
              "      <td>S</td>\n",
              "      <td>8.6625</td>\n",
              "      <td>0</td>\n",
              "      <td>3</td>\n",
              "      <td>male</td>\n",
              "      <td>0</td>\n",
              "      <td>0.0</td>\n",
              "      <td>0</td>\n",
              "      <td>1</td>\n",
              "      <td>M</td>\n",
              "      <td>38.0</td>\n",
              "      <td>147.262500</td>\n",
              "      <td>0</td>\n",
              "      <td>1</td>\n",
              "      <td>(16.0, 32.0]</td>\n",
              "      <td>(7.854, 10.5]</td>\n",
              "      <td>1</td>\n",
              "      <td>Mr</td>\n",
              "      <td>1</td>\n",
              "      <td>Calic</td>\n",
              "      <td>0</td>\n",
              "    </tr>\n",
              "    <tr>\n",
              "      <th>180</th>\n",
              "      <td>22.00</td>\n",
              "      <td>S</td>\n",
              "      <td>69.5500</td>\n",
              "      <td>2</td>\n",
              "      <td>3</td>\n",
              "      <td>female</td>\n",
              "      <td>8</td>\n",
              "      <td>0.0</td>\n",
              "      <td>1</td>\n",
              "      <td>1</td>\n",
              "      <td>M</td>\n",
              "      <td>38.0</td>\n",
              "      <td>1530.100000</td>\n",
              "      <td>0</td>\n",
              "      <td>0</td>\n",
              "      <td>(16.0, 32.0]</td>\n",
              "      <td>(41.579, 512.329]</td>\n",
              "      <td>11</td>\n",
              "      <td>Miss</td>\n",
              "      <td>0</td>\n",
              "      <td>Sage</td>\n",
              "      <td>0</td>\n",
              "    </tr>\n",
              "    <tr>\n",
              "      <th>201</th>\n",
              "      <td>25.00</td>\n",
              "      <td>S</td>\n",
              "      <td>69.5500</td>\n",
              "      <td>2</td>\n",
              "      <td>3</td>\n",
              "      <td>male</td>\n",
              "      <td>8</td>\n",
              "      <td>0.0</td>\n",
              "      <td>1</td>\n",
              "      <td>1</td>\n",
              "      <td>M</td>\n",
              "      <td>38.0</td>\n",
              "      <td>1738.750000</td>\n",
              "      <td>0</td>\n",
              "      <td>1</td>\n",
              "      <td>(16.0, 32.0]</td>\n",
              "      <td>(41.579, 512.329]</td>\n",
              "      <td>11</td>\n",
              "      <td>Mr</td>\n",
              "      <td>1</td>\n",
              "      <td>Sage</td>\n",
              "      <td>0</td>\n",
              "    </tr>\n",
              "    <tr>\n",
              "      <th>214</th>\n",
              "      <td>25.00</td>\n",
              "      <td>Q</td>\n",
              "      <td>7.7500</td>\n",
              "      <td>0</td>\n",
              "      <td>3</td>\n",
              "      <td>male</td>\n",
              "      <td>1</td>\n",
              "      <td>0.0</td>\n",
              "      <td>1</td>\n",
              "      <td>1</td>\n",
              "      <td>M</td>\n",
              "      <td>38.0</td>\n",
              "      <td>193.750000</td>\n",
              "      <td>0</td>\n",
              "      <td>1</td>\n",
              "      <td>(16.0, 32.0]</td>\n",
              "      <td>(-0.001, 7.854]</td>\n",
              "      <td>1</td>\n",
              "      <td>Mr</td>\n",
              "      <td>1</td>\n",
              "      <td>Kiernan</td>\n",
              "      <td>0</td>\n",
              "    </tr>\n",
              "    <tr>\n",
              "      <th>229</th>\n",
              "      <td>22.00</td>\n",
              "      <td>S</td>\n",
              "      <td>25.4667</td>\n",
              "      <td>1</td>\n",
              "      <td>3</td>\n",
              "      <td>female</td>\n",
              "      <td>3</td>\n",
              "      <td>0.0</td>\n",
              "      <td>1</td>\n",
              "      <td>1</td>\n",
              "      <td>M</td>\n",
              "      <td>38.0</td>\n",
              "      <td>560.267400</td>\n",
              "      <td>0</td>\n",
              "      <td>0</td>\n",
              "      <td>(16.0, 32.0]</td>\n",
              "      <td>(21.558, 41.579]</td>\n",
              "      <td>5</td>\n",
              "      <td>Miss</td>\n",
              "      <td>0</td>\n",
              "      <td>Lefebre</td>\n",
              "      <td>0</td>\n",
              "    </tr>\n",
              "    <tr>\n",
              "      <th>241</th>\n",
              "      <td>22.00</td>\n",
              "      <td>Q</td>\n",
              "      <td>15.5000</td>\n",
              "      <td>0</td>\n",
              "      <td>3</td>\n",
              "      <td>female</td>\n",
              "      <td>1</td>\n",
              "      <td>1.0</td>\n",
              "      <td>1</td>\n",
              "      <td>1</td>\n",
              "      <td>M</td>\n",
              "      <td>38.0</td>\n",
              "      <td>341.000000</td>\n",
              "      <td>0</td>\n",
              "      <td>0</td>\n",
              "      <td>(16.0, 32.0]</td>\n",
              "      <td>(10.5, 21.558]</td>\n",
              "      <td>2</td>\n",
              "      <td>Miss</td>\n",
              "      <td>0</td>\n",
              "      <td>Murphy</td>\n",
              "      <td>0</td>\n",
              "    </tr>\n",
              "    <tr>\n",
              "      <th>300</th>\n",
              "      <td>22.00</td>\n",
              "      <td>Q</td>\n",
              "      <td>7.7500</td>\n",
              "      <td>0</td>\n",
              "      <td>3</td>\n",
              "      <td>female</td>\n",
              "      <td>0</td>\n",
              "      <td>1.0</td>\n",
              "      <td>1</td>\n",
              "      <td>1</td>\n",
              "      <td>M</td>\n",
              "      <td>38.0</td>\n",
              "      <td>170.500000</td>\n",
              "      <td>0</td>\n",
              "      <td>0</td>\n",
              "      <td>(16.0, 32.0]</td>\n",
              "      <td>(-0.001, 7.854]</td>\n",
              "      <td>1</td>\n",
              "      <td>Miss</td>\n",
              "      <td>0</td>\n",
              "      <td>Kelly</td>\n",
              "      <td>0</td>\n",
              "    </tr>\n",
              "    <tr>\n",
              "      <th>324</th>\n",
              "      <td>25.00</td>\n",
              "      <td>S</td>\n",
              "      <td>69.5500</td>\n",
              "      <td>2</td>\n",
              "      <td>3</td>\n",
              "      <td>male</td>\n",
              "      <td>8</td>\n",
              "      <td>0.0</td>\n",
              "      <td>1</td>\n",
              "      <td>1</td>\n",
              "      <td>M</td>\n",
              "      <td>38.0</td>\n",
              "      <td>1738.750000</td>\n",
              "      <td>0</td>\n",
              "      <td>1</td>\n",
              "      <td>(16.0, 32.0]</td>\n",
              "      <td>(41.579, 512.329]</td>\n",
              "      <td>11</td>\n",
              "      <td>Mr</td>\n",
              "      <td>1</td>\n",
              "      <td>Sage</td>\n",
              "      <td>0</td>\n",
              "    </tr>\n",
              "    <tr>\n",
              "      <th>330</th>\n",
              "      <td>22.00</td>\n",
              "      <td>Q</td>\n",
              "      <td>23.2500</td>\n",
              "      <td>0</td>\n",
              "      <td>3</td>\n",
              "      <td>female</td>\n",
              "      <td>2</td>\n",
              "      <td>1.0</td>\n",
              "      <td>1</td>\n",
              "      <td>1</td>\n",
              "      <td>M</td>\n",
              "      <td>38.0</td>\n",
              "      <td>511.500000</td>\n",
              "      <td>0</td>\n",
              "      <td>0</td>\n",
              "      <td>(16.0, 32.0]</td>\n",
              "      <td>(21.558, 41.579]</td>\n",
              "      <td>3</td>\n",
              "      <td>Miss</td>\n",
              "      <td>0</td>\n",
              "      <td>McCoy</td>\n",
              "      <td>0</td>\n",
              "    </tr>\n",
              "    <tr>\n",
              "      <th>409</th>\n",
              "      <td>22.00</td>\n",
              "      <td>S</td>\n",
              "      <td>25.4667</td>\n",
              "      <td>1</td>\n",
              "      <td>3</td>\n",
              "      <td>female</td>\n",
              "      <td>3</td>\n",
              "      <td>0.0</td>\n",
              "      <td>1</td>\n",
              "      <td>1</td>\n",
              "      <td>M</td>\n",
              "      <td>38.0</td>\n",
              "      <td>560.267400</td>\n",
              "      <td>0</td>\n",
              "      <td>0</td>\n",
              "      <td>(16.0, 32.0]</td>\n",
              "      <td>(21.558, 41.579]</td>\n",
              "      <td>5</td>\n",
              "      <td>Miss</td>\n",
              "      <td>0</td>\n",
              "      <td>Lefebre</td>\n",
              "      <td>0</td>\n",
              "    </tr>\n",
              "    <tr>\n",
              "      <th>451</th>\n",
              "      <td>25.00</td>\n",
              "      <td>S</td>\n",
              "      <td>19.9667</td>\n",
              "      <td>0</td>\n",
              "      <td>3</td>\n",
              "      <td>male</td>\n",
              "      <td>1</td>\n",
              "      <td>0.0</td>\n",
              "      <td>1</td>\n",
              "      <td>1</td>\n",
              "      <td>M</td>\n",
              "      <td>38.0</td>\n",
              "      <td>499.167500</td>\n",
              "      <td>0</td>\n",
              "      <td>1</td>\n",
              "      <td>(16.0, 32.0]</td>\n",
              "      <td>(10.5, 21.558]</td>\n",
              "      <td>1</td>\n",
              "      <td>Mr</td>\n",
              "      <td>1</td>\n",
              "      <td>Hagland</td>\n",
              "      <td>0</td>\n",
              "    </tr>\n",
              "    <tr>\n",
              "      <th>459</th>\n",
              "      <td>25.00</td>\n",
              "      <td>Q</td>\n",
              "      <td>7.7500</td>\n",
              "      <td>0</td>\n",
              "      <td>3</td>\n",
              "      <td>male</td>\n",
              "      <td>0</td>\n",
              "      <td>0.0</td>\n",
              "      <td>1</td>\n",
              "      <td>1</td>\n",
              "      <td>M</td>\n",
              "      <td>38.0</td>\n",
              "      <td>193.750000</td>\n",
              "      <td>0</td>\n",
              "      <td>1</td>\n",
              "      <td>(16.0, 32.0]</td>\n",
              "      <td>(-0.001, 7.854]</td>\n",
              "      <td>1</td>\n",
              "      <td>Mr</td>\n",
              "      <td>1</td>\n",
              "      <td>O'Connor</td>\n",
              "      <td>0</td>\n",
              "    </tr>\n",
              "    <tr>\n",
              "      <th>469</th>\n",
              "      <td>0.75</td>\n",
              "      <td>C</td>\n",
              "      <td>19.2583</td>\n",
              "      <td>1</td>\n",
              "      <td>3</td>\n",
              "      <td>female</td>\n",
              "      <td>2</td>\n",
              "      <td>1.0</td>\n",
              "      <td>0</td>\n",
              "      <td>1</td>\n",
              "      <td>M</td>\n",
              "      <td>38.0</td>\n",
              "      <td>14.443725</td>\n",
              "      <td>0</td>\n",
              "      <td>0</td>\n",
              "      <td>(-0.08, 16.0]</td>\n",
              "      <td>(10.5, 21.558]</td>\n",
              "      <td>4</td>\n",
              "      <td>Miss</td>\n",
              "      <td>0</td>\n",
              "      <td>Baclini</td>\n",
              "      <td>0</td>\n",
              "    </tr>\n",
              "    <tr>\n",
              "      <th>485</th>\n",
              "      <td>22.00</td>\n",
              "      <td>S</td>\n",
              "      <td>25.4667</td>\n",
              "      <td>1</td>\n",
              "      <td>3</td>\n",
              "      <td>female</td>\n",
              "      <td>3</td>\n",
              "      <td>0.0</td>\n",
              "      <td>1</td>\n",
              "      <td>1</td>\n",
              "      <td>M</td>\n",
              "      <td>38.0</td>\n",
              "      <td>560.267400</td>\n",
              "      <td>0</td>\n",
              "      <td>0</td>\n",
              "      <td>(16.0, 32.0]</td>\n",
              "      <td>(21.558, 41.579]</td>\n",
              "      <td>5</td>\n",
              "      <td>Miss</td>\n",
              "      <td>0</td>\n",
              "      <td>Lefebre</td>\n",
              "      <td>0</td>\n",
              "    </tr>\n",
              "    <tr>\n",
              "      <th>490</th>\n",
              "      <td>25.00</td>\n",
              "      <td>S</td>\n",
              "      <td>19.9667</td>\n",
              "      <td>0</td>\n",
              "      <td>3</td>\n",
              "      <td>male</td>\n",
              "      <td>1</td>\n",
              "      <td>0.0</td>\n",
              "      <td>1</td>\n",
              "      <td>1</td>\n",
              "      <td>M</td>\n",
              "      <td>38.0</td>\n",
              "      <td>499.167500</td>\n",
              "      <td>0</td>\n",
              "      <td>1</td>\n",
              "      <td>(16.0, 32.0]</td>\n",
              "      <td>(10.5, 21.558]</td>\n",
              "      <td>1</td>\n",
              "      <td>Mr</td>\n",
              "      <td>1</td>\n",
              "      <td>Hagland</td>\n",
              "      <td>0</td>\n",
              "    </tr>\n",
              "    <tr>\n",
              "      <th>500</th>\n",
              "      <td>17.00</td>\n",
              "      <td>S</td>\n",
              "      <td>8.6625</td>\n",
              "      <td>0</td>\n",
              "      <td>3</td>\n",
              "      <td>male</td>\n",
              "      <td>0</td>\n",
              "      <td>0.0</td>\n",
              "      <td>0</td>\n",
              "      <td>1</td>\n",
              "      <td>M</td>\n",
              "      <td>38.0</td>\n",
              "      <td>147.262500</td>\n",
              "      <td>0</td>\n",
              "      <td>1</td>\n",
              "      <td>(16.0, 32.0]</td>\n",
              "      <td>(7.854, 10.5]</td>\n",
              "      <td>1</td>\n",
              "      <td>Mr</td>\n",
              "      <td>1</td>\n",
              "      <td>Calic</td>\n",
              "      <td>0</td>\n",
              "    </tr>\n",
              "    <tr>\n",
              "      <th>573</th>\n",
              "      <td>22.00</td>\n",
              "      <td>Q</td>\n",
              "      <td>7.7500</td>\n",
              "      <td>0</td>\n",
              "      <td>3</td>\n",
              "      <td>female</td>\n",
              "      <td>0</td>\n",
              "      <td>1.0</td>\n",
              "      <td>1</td>\n",
              "      <td>1</td>\n",
              "      <td>M</td>\n",
              "      <td>38.0</td>\n",
              "      <td>170.500000</td>\n",
              "      <td>0</td>\n",
              "      <td>0</td>\n",
              "      <td>(16.0, 32.0]</td>\n",
              "      <td>(-0.001, 7.854]</td>\n",
              "      <td>1</td>\n",
              "      <td>Miss</td>\n",
              "      <td>0</td>\n",
              "      <td>Kelly</td>\n",
              "      <td>0</td>\n",
              "    </tr>\n",
              "    <tr>\n",
              "      <th>612</th>\n",
              "      <td>22.00</td>\n",
              "      <td>Q</td>\n",
              "      <td>15.5000</td>\n",
              "      <td>0</td>\n",
              "      <td>3</td>\n",
              "      <td>female</td>\n",
              "      <td>1</td>\n",
              "      <td>1.0</td>\n",
              "      <td>1</td>\n",
              "      <td>1</td>\n",
              "      <td>M</td>\n",
              "      <td>38.0</td>\n",
              "      <td>341.000000</td>\n",
              "      <td>0</td>\n",
              "      <td>0</td>\n",
              "      <td>(16.0, 32.0]</td>\n",
              "      <td>(10.5, 21.558]</td>\n",
              "      <td>2</td>\n",
              "      <td>Miss</td>\n",
              "      <td>0</td>\n",
              "      <td>Murphy</td>\n",
              "      <td>0</td>\n",
              "    </tr>\n",
              "    <tr>\n",
              "      <th>615</th>\n",
              "      <td>24.00</td>\n",
              "      <td>S</td>\n",
              "      <td>65.0000</td>\n",
              "      <td>2</td>\n",
              "      <td>2</td>\n",
              "      <td>female</td>\n",
              "      <td>1</td>\n",
              "      <td>1.0</td>\n",
              "      <td>0</td>\n",
              "      <td>1</td>\n",
              "      <td>M</td>\n",
              "      <td>38.0</td>\n",
              "      <td>1560.000000</td>\n",
              "      <td>0</td>\n",
              "      <td>0</td>\n",
              "      <td>(16.0, 32.0]</td>\n",
              "      <td>(41.579, 512.329]</td>\n",
              "      <td>5</td>\n",
              "      <td>Miss</td>\n",
              "      <td>0</td>\n",
              "      <td>Herman</td>\n",
              "      <td>0</td>\n",
              "    </tr>\n",
              "    <tr>\n",
              "      <th>644</th>\n",
              "      <td>0.75</td>\n",
              "      <td>C</td>\n",
              "      <td>19.2583</td>\n",
              "      <td>1</td>\n",
              "      <td>3</td>\n",
              "      <td>female</td>\n",
              "      <td>2</td>\n",
              "      <td>1.0</td>\n",
              "      <td>0</td>\n",
              "      <td>1</td>\n",
              "      <td>M</td>\n",
              "      <td>38.0</td>\n",
              "      <td>14.443725</td>\n",
              "      <td>0</td>\n",
              "      <td>0</td>\n",
              "      <td>(-0.08, 16.0]</td>\n",
              "      <td>(10.5, 21.558]</td>\n",
              "      <td>4</td>\n",
              "      <td>Miss</td>\n",
              "      <td>0</td>\n",
              "      <td>Baclini</td>\n",
              "      <td>0</td>\n",
              "    </tr>\n",
              "    <tr>\n",
              "      <th>692</th>\n",
              "      <td>25.00</td>\n",
              "      <td>S</td>\n",
              "      <td>56.4958</td>\n",
              "      <td>0</td>\n",
              "      <td>3</td>\n",
              "      <td>male</td>\n",
              "      <td>0</td>\n",
              "      <td>1.0</td>\n",
              "      <td>1</td>\n",
              "      <td>1</td>\n",
              "      <td>M</td>\n",
              "      <td>38.0</td>\n",
              "      <td>1412.395000</td>\n",
              "      <td>0</td>\n",
              "      <td>1</td>\n",
              "      <td>(16.0, 32.0]</td>\n",
              "      <td>(41.579, 512.329]</td>\n",
              "      <td>8</td>\n",
              "      <td>Mr</td>\n",
              "      <td>1</td>\n",
              "      <td>Lam</td>\n",
              "      <td>0</td>\n",
              "    </tr>\n",
              "    <tr>\n",
              "      <th>709</th>\n",
              "      <td>18.00</td>\n",
              "      <td>C</td>\n",
              "      <td>15.2458</td>\n",
              "      <td>1</td>\n",
              "      <td>3</td>\n",
              "      <td>male</td>\n",
              "      <td>1</td>\n",
              "      <td>1.0</td>\n",
              "      <td>1</td>\n",
              "      <td>1</td>\n",
              "      <td>M</td>\n",
              "      <td>38.0</td>\n",
              "      <td>381.145000</td>\n",
              "      <td>0</td>\n",
              "      <td>1</td>\n",
              "      <td>(16.0, 32.0]</td>\n",
              "      <td>(10.5, 21.558]</td>\n",
              "      <td>3</td>\n",
              "      <td>Master</td>\n",
              "      <td>0</td>\n",
              "      <td>Moubarek</td>\n",
              "      <td>1</td>\n",
              "    </tr>\n",
              "    <tr>\n",
              "      <th>792</th>\n",
              "      <td>22.00</td>\n",
              "      <td>S</td>\n",
              "      <td>69.5500</td>\n",
              "      <td>2</td>\n",
              "      <td>3</td>\n",
              "      <td>female</td>\n",
              "      <td>8</td>\n",
              "      <td>0.0</td>\n",
              "      <td>1</td>\n",
              "      <td>1</td>\n",
              "      <td>M</td>\n",
              "      <td>38.0</td>\n",
              "      <td>1530.100000</td>\n",
              "      <td>0</td>\n",
              "      <td>0</td>\n",
              "      <td>(16.0, 32.0]</td>\n",
              "      <td>(41.579, 512.329]</td>\n",
              "      <td>11</td>\n",
              "      <td>Miss</td>\n",
              "      <td>0</td>\n",
              "      <td>Sage</td>\n",
              "      <td>0</td>\n",
              "    </tr>\n",
              "    <tr>\n",
              "      <th>826</th>\n",
              "      <td>25.00</td>\n",
              "      <td>S</td>\n",
              "      <td>56.4958</td>\n",
              "      <td>0</td>\n",
              "      <td>3</td>\n",
              "      <td>male</td>\n",
              "      <td>0</td>\n",
              "      <td>0.0</td>\n",
              "      <td>1</td>\n",
              "      <td>1</td>\n",
              "      <td>M</td>\n",
              "      <td>38.0</td>\n",
              "      <td>1412.395000</td>\n",
              "      <td>0</td>\n",
              "      <td>1</td>\n",
              "      <td>(16.0, 32.0]</td>\n",
              "      <td>(41.579, 512.329]</td>\n",
              "      <td>8</td>\n",
              "      <td>Mr</td>\n",
              "      <td>1</td>\n",
              "      <td>Lam</td>\n",
              "      <td>0</td>\n",
              "    </tr>\n",
              "    <tr>\n",
              "      <th>846</th>\n",
              "      <td>25.00</td>\n",
              "      <td>S</td>\n",
              "      <td>69.5500</td>\n",
              "      <td>2</td>\n",
              "      <td>3</td>\n",
              "      <td>male</td>\n",
              "      <td>8</td>\n",
              "      <td>0.0</td>\n",
              "      <td>1</td>\n",
              "      <td>1</td>\n",
              "      <td>M</td>\n",
              "      <td>38.0</td>\n",
              "      <td>1738.750000</td>\n",
              "      <td>0</td>\n",
              "      <td>1</td>\n",
              "      <td>(16.0, 32.0]</td>\n",
              "      <td>(41.579, 512.329]</td>\n",
              "      <td>11</td>\n",
              "      <td>Mr</td>\n",
              "      <td>1</td>\n",
              "      <td>Sage</td>\n",
              "      <td>0</td>\n",
              "    </tr>\n",
              "    <tr>\n",
              "      <th>861</th>\n",
              "      <td>21.00</td>\n",
              "      <td>S</td>\n",
              "      <td>11.5000</td>\n",
              "      <td>0</td>\n",
              "      <td>2</td>\n",
              "      <td>male</td>\n",
              "      <td>1</td>\n",
              "      <td>0.0</td>\n",
              "      <td>0</td>\n",
              "      <td>1</td>\n",
              "      <td>M</td>\n",
              "      <td>38.0</td>\n",
              "      <td>241.500000</td>\n",
              "      <td>0</td>\n",
              "      <td>1</td>\n",
              "      <td>(16.0, 32.0]</td>\n",
              "      <td>(10.5, 21.558]</td>\n",
              "      <td>1</td>\n",
              "      <td>Mr</td>\n",
              "      <td>1</td>\n",
              "      <td>Giles</td>\n",
              "      <td>0</td>\n",
              "    </tr>\n",
              "    <tr>\n",
              "      <th>863</th>\n",
              "      <td>22.00</td>\n",
              "      <td>S</td>\n",
              "      <td>69.5500</td>\n",
              "      <td>2</td>\n",
              "      <td>3</td>\n",
              "      <td>female</td>\n",
              "      <td>8</td>\n",
              "      <td>0.0</td>\n",
              "      <td>1</td>\n",
              "      <td>1</td>\n",
              "      <td>M</td>\n",
              "      <td>38.0</td>\n",
              "      <td>1530.100000</td>\n",
              "      <td>0</td>\n",
              "      <td>0</td>\n",
              "      <td>(16.0, 32.0]</td>\n",
              "      <td>(41.579, 512.329]</td>\n",
              "      <td>11</td>\n",
              "      <td>Miss</td>\n",
              "      <td>0</td>\n",
              "      <td>Sage</td>\n",
              "      <td>0</td>\n",
              "    </tr>\n",
              "    <tr>\n",
              "      <th>920</th>\n",
              "      <td>25.00</td>\n",
              "      <td>C</td>\n",
              "      <td>21.6792</td>\n",
              "      <td>0</td>\n",
              "      <td>3</td>\n",
              "      <td>male</td>\n",
              "      <td>2</td>\n",
              "      <td>NaN</td>\n",
              "      <td>1</td>\n",
              "      <td>1</td>\n",
              "      <td>M</td>\n",
              "      <td>38.0</td>\n",
              "      <td>541.980000</td>\n",
              "      <td>0</td>\n",
              "      <td>1</td>\n",
              "      <td>(16.0, 32.0]</td>\n",
              "      <td>(21.558, 41.579]</td>\n",
              "      <td>3</td>\n",
              "      <td>Mr</td>\n",
              "      <td>1</td>\n",
              "      <td>Samaan</td>\n",
              "      <td>0</td>\n",
              "    </tr>\n",
              "    <tr>\n",
              "      <th>1012</th>\n",
              "      <td>25.00</td>\n",
              "      <td>Q</td>\n",
              "      <td>7.7500</td>\n",
              "      <td>0</td>\n",
              "      <td>3</td>\n",
              "      <td>male</td>\n",
              "      <td>1</td>\n",
              "      <td>NaN</td>\n",
              "      <td>1</td>\n",
              "      <td>1</td>\n",
              "      <td>M</td>\n",
              "      <td>38.0</td>\n",
              "      <td>193.750000</td>\n",
              "      <td>0</td>\n",
              "      <td>1</td>\n",
              "      <td>(16.0, 32.0]</td>\n",
              "      <td>(-0.001, 7.854]</td>\n",
              "      <td>1</td>\n",
              "      <td>Mr</td>\n",
              "      <td>1</td>\n",
              "      <td>Kiernan</td>\n",
              "      <td>0</td>\n",
              "    </tr>\n",
              "    <tr>\n",
              "      <th>1018</th>\n",
              "      <td>22.00</td>\n",
              "      <td>Q</td>\n",
              "      <td>23.2500</td>\n",
              "      <td>0</td>\n",
              "      <td>3</td>\n",
              "      <td>female</td>\n",
              "      <td>2</td>\n",
              "      <td>NaN</td>\n",
              "      <td>1</td>\n",
              "      <td>1</td>\n",
              "      <td>M</td>\n",
              "      <td>38.0</td>\n",
              "      <td>511.500000</td>\n",
              "      <td>0</td>\n",
              "      <td>0</td>\n",
              "      <td>(16.0, 32.0]</td>\n",
              "      <td>(21.558, 41.579]</td>\n",
              "      <td>3</td>\n",
              "      <td>Miss</td>\n",
              "      <td>0</td>\n",
              "      <td>McCoy</td>\n",
              "      <td>0</td>\n",
              "    </tr>\n",
              "    <tr>\n",
              "      <th>1079</th>\n",
              "      <td>22.00</td>\n",
              "      <td>S</td>\n",
              "      <td>69.5500</td>\n",
              "      <td>2</td>\n",
              "      <td>3</td>\n",
              "      <td>female</td>\n",
              "      <td>8</td>\n",
              "      <td>NaN</td>\n",
              "      <td>1</td>\n",
              "      <td>1</td>\n",
              "      <td>M</td>\n",
              "      <td>38.0</td>\n",
              "      <td>1530.100000</td>\n",
              "      <td>0</td>\n",
              "      <td>0</td>\n",
              "      <td>(16.0, 32.0]</td>\n",
              "      <td>(41.579, 512.329]</td>\n",
              "      <td>11</td>\n",
              "      <td>Miss</td>\n",
              "      <td>0</td>\n",
              "      <td>Sage</td>\n",
              "      <td>0</td>\n",
              "    </tr>\n",
              "    <tr>\n",
              "      <th>1188</th>\n",
              "      <td>25.00</td>\n",
              "      <td>C</td>\n",
              "      <td>21.6792</td>\n",
              "      <td>0</td>\n",
              "      <td>3</td>\n",
              "      <td>male</td>\n",
              "      <td>2</td>\n",
              "      <td>NaN</td>\n",
              "      <td>1</td>\n",
              "      <td>1</td>\n",
              "      <td>M</td>\n",
              "      <td>38.0</td>\n",
              "      <td>541.980000</td>\n",
              "      <td>0</td>\n",
              "      <td>1</td>\n",
              "      <td>(16.0, 32.0]</td>\n",
              "      <td>(21.558, 41.579]</td>\n",
              "      <td>3</td>\n",
              "      <td>Mr</td>\n",
              "      <td>1</td>\n",
              "      <td>Samaan</td>\n",
              "      <td>0</td>\n",
              "    </tr>\n",
              "    <tr>\n",
              "      <th>1261</th>\n",
              "      <td>21.00</td>\n",
              "      <td>S</td>\n",
              "      <td>11.5000</td>\n",
              "      <td>0</td>\n",
              "      <td>2</td>\n",
              "      <td>male</td>\n",
              "      <td>1</td>\n",
              "      <td>NaN</td>\n",
              "      <td>0</td>\n",
              "      <td>1</td>\n",
              "      <td>M</td>\n",
              "      <td>38.0</td>\n",
              "      <td>241.500000</td>\n",
              "      <td>0</td>\n",
              "      <td>1</td>\n",
              "      <td>(16.0, 32.0]</td>\n",
              "      <td>(10.5, 21.558]</td>\n",
              "      <td>1</td>\n",
              "      <td>Mr</td>\n",
              "      <td>1</td>\n",
              "      <td>Giles</td>\n",
              "      <td>0</td>\n",
              "    </tr>\n",
              "    <tr>\n",
              "      <th>1271</th>\n",
              "      <td>25.00</td>\n",
              "      <td>Q</td>\n",
              "      <td>7.7500</td>\n",
              "      <td>0</td>\n",
              "      <td>3</td>\n",
              "      <td>male</td>\n",
              "      <td>0</td>\n",
              "      <td>NaN</td>\n",
              "      <td>1</td>\n",
              "      <td>1</td>\n",
              "      <td>M</td>\n",
              "      <td>38.0</td>\n",
              "      <td>193.750000</td>\n",
              "      <td>0</td>\n",
              "      <td>1</td>\n",
              "      <td>(16.0, 32.0]</td>\n",
              "      <td>(-0.001, 7.854]</td>\n",
              "      <td>1</td>\n",
              "      <td>Mr</td>\n",
              "      <td>1</td>\n",
              "      <td>O'Connor</td>\n",
              "      <td>0</td>\n",
              "    </tr>\n",
              "    <tr>\n",
              "      <th>1276</th>\n",
              "      <td>24.00</td>\n",
              "      <td>S</td>\n",
              "      <td>65.0000</td>\n",
              "      <td>2</td>\n",
              "      <td>2</td>\n",
              "      <td>female</td>\n",
              "      <td>1</td>\n",
              "      <td>NaN</td>\n",
              "      <td>0</td>\n",
              "      <td>1</td>\n",
              "      <td>M</td>\n",
              "      <td>38.0</td>\n",
              "      <td>1560.000000</td>\n",
              "      <td>0</td>\n",
              "      <td>0</td>\n",
              "      <td>(16.0, 32.0]</td>\n",
              "      <td>(41.579, 512.329]</td>\n",
              "      <td>5</td>\n",
              "      <td>Miss</td>\n",
              "      <td>0</td>\n",
              "      <td>Herman</td>\n",
              "      <td>0</td>\n",
              "    </tr>\n",
              "  </tbody>\n",
              "</table>\n",
              "</div>"
            ],
            "text/plain": [
              "        Age Embarked     Fare  Parch  ...   Title Is_Married   Surname  Male_Young\n",
              "48    25.00        C  21.6792      0  ...      Mr          1    Samaan           0\n",
              "65    18.00        C  15.2458      1  ...  Master          0  Moubarek           1\n",
              "163   17.00        S   8.6625      0  ...      Mr          1     Calic           0\n",
              "180   22.00        S  69.5500      2  ...    Miss          0      Sage           0\n",
              "201   25.00        S  69.5500      2  ...      Mr          1      Sage           0\n",
              "214   25.00        Q   7.7500      0  ...      Mr          1   Kiernan           0\n",
              "229   22.00        S  25.4667      1  ...    Miss          0   Lefebre           0\n",
              "241   22.00        Q  15.5000      0  ...    Miss          0    Murphy           0\n",
              "300   22.00        Q   7.7500      0  ...    Miss          0     Kelly           0\n",
              "324   25.00        S  69.5500      2  ...      Mr          1      Sage           0\n",
              "330   22.00        Q  23.2500      0  ...    Miss          0     McCoy           0\n",
              "409   22.00        S  25.4667      1  ...    Miss          0   Lefebre           0\n",
              "451   25.00        S  19.9667      0  ...      Mr          1   Hagland           0\n",
              "459   25.00        Q   7.7500      0  ...      Mr          1  O'Connor           0\n",
              "469    0.75        C  19.2583      1  ...    Miss          0   Baclini           0\n",
              "485   22.00        S  25.4667      1  ...    Miss          0   Lefebre           0\n",
              "490   25.00        S  19.9667      0  ...      Mr          1   Hagland           0\n",
              "500   17.00        S   8.6625      0  ...      Mr          1     Calic           0\n",
              "573   22.00        Q   7.7500      0  ...    Miss          0     Kelly           0\n",
              "612   22.00        Q  15.5000      0  ...    Miss          0    Murphy           0\n",
              "615   24.00        S  65.0000      2  ...    Miss          0    Herman           0\n",
              "644    0.75        C  19.2583      1  ...    Miss          0   Baclini           0\n",
              "692   25.00        S  56.4958      0  ...      Mr          1       Lam           0\n",
              "709   18.00        C  15.2458      1  ...  Master          0  Moubarek           1\n",
              "792   22.00        S  69.5500      2  ...    Miss          0      Sage           0\n",
              "826   25.00        S  56.4958      0  ...      Mr          1       Lam           0\n",
              "846   25.00        S  69.5500      2  ...      Mr          1      Sage           0\n",
              "861   21.00        S  11.5000      0  ...      Mr          1     Giles           0\n",
              "863   22.00        S  69.5500      2  ...    Miss          0      Sage           0\n",
              "920   25.00        C  21.6792      0  ...      Mr          1    Samaan           0\n",
              "1012  25.00        Q   7.7500      0  ...      Mr          1   Kiernan           0\n",
              "1018  22.00        Q  23.2500      0  ...    Miss          0     McCoy           0\n",
              "1079  22.00        S  69.5500      2  ...    Miss          0      Sage           0\n",
              "1188  25.00        C  21.6792      0  ...      Mr          1    Samaan           0\n",
              "1261  21.00        S  11.5000      0  ...      Mr          1     Giles           0\n",
              "1271  25.00        Q   7.7500      0  ...      Mr          1  O'Connor           0\n",
              "1276  24.00        S  65.0000      2  ...    Miss          0    Herman           0\n",
              "\n",
              "[37 rows x 22 columns]"
            ]
          },
          "metadata": {
            "tags": []
          },
          "execution_count": 122
        }
      ]
    },
    {
      "cell_type": "code",
      "metadata": {
        "id": "RKqUimg7dYD_",
        "colab": {
          "base_uri": "https://localhost:8080/"
        },
        "outputId": "a99d2fd3-21b5-4e31-8e88-84b786577672"
      },
      "source": [
        "print(\"DF before:\", len(full_df))\n",
        "\n",
        "ind_vars = [c for c in full_df.columns if c != DEP_VAR]\n",
        "\n",
        "# Remove duplicates\n",
        "full_df.drop_duplicates(subset=ind_vars, inplace=True)\n",
        "print(\"DF after drop duplicates:\", len(full_df))"
      ],
      "execution_count": null,
      "outputs": [
        {
          "output_type": "stream",
          "text": [
            "DF before: 1309\n",
            "DF after drop duplicates: 1288\n"
          ],
          "name": "stdout"
        }
      ]
    },
    {
      "cell_type": "code",
      "metadata": {
        "id": "jP5RESYOFdoZ"
      },
      "source": [
        "# Let's save the current state before continuing with a TabularPandas\n",
        "save_pickle(\"{}/df_without_te.pkl\".format(path),full_df)"
      ],
      "execution_count": null,
      "outputs": []
    },
    {
      "cell_type": "markdown",
      "metadata": {
        "id": "W8GM0jhtFNXw"
      },
      "source": [
        "### **Conversion to TabularPandas**\n",
        "\n",
        "If we want to convert our dataset into a `TabularPandas` dataset from [fast.ai](https://docs.fast.ai/tabular.core.html#TabularPandas) we can do so here, specifying all the preprocessing and splitting we'd require."
      ]
    },
    {
      "cell_type": "code",
      "metadata": {
        "id": "zirkuUqZ_jza"
      },
      "source": [
        "full_df = load_pickle(\"{}/df_without_te.pkl\".format(path))"
      ],
      "execution_count": null,
      "outputs": []
    },
    {
      "cell_type": "code",
      "metadata": {
        "id": "JY7uAAR_Har0"
      },
      "source": [
        "# Start by defining procs\n",
        "procs = [Categorify, Normalize]"
      ],
      "execution_count": null,
      "outputs": []
    },
    {
      "cell_type": "code",
      "metadata": {
        "colab": {
          "base_uri": "https://localhost:8080/"
        },
        "id": "0Ris22QjAwI_",
        "outputId": "421ff207-b65f-4132-8a0e-3efe6b31ee2c"
      },
      "source": [
        "full_df_cop = full_df.copy(deep=True)\n",
        "\n",
        "train_tb = full_df_cop[0: len(train_df)]\n",
        "test_tb = full_df_cop[len(train_df):]\n",
        "\n",
        "print(\"ORIGINAL TRAIN SET LENGTH\", len(train_df))\n",
        "print(\"Train\", len(train_tb))\n",
        "print(\"Test\", len(test_tb))"
      ],
      "execution_count": null,
      "outputs": [
        {
          "output_type": "stream",
          "text": [
            "ORIGINAL TRAIN SET LENGTH 891\n",
            "Train 891\n",
            "Test 418\n"
          ],
          "name": "stdout"
        }
      ]
    },
    {
      "cell_type": "code",
      "metadata": {
        "colab": {
          "base_uri": "https://localhost:8080/",
          "height": 309
        },
        "id": "YMRpnNkuBW2d",
        "outputId": "89322c6e-494e-4cee-99fe-09a27ccc7183"
      },
      "source": [
        "train_tb.tail()"
      ],
      "execution_count": null,
      "outputs": [
        {
          "output_type": "execute_result",
          "data": {
            "text/html": [
              "<div>\n",
              "<style scoped>\n",
              "    .dataframe tbody tr th:only-of-type {\n",
              "        vertical-align: middle;\n",
              "    }\n",
              "\n",
              "    .dataframe tbody tr th {\n",
              "        vertical-align: top;\n",
              "    }\n",
              "\n",
              "    .dataframe thead th {\n",
              "        text-align: right;\n",
              "    }\n",
              "</style>\n",
              "<table border=\"1\" class=\"dataframe\">\n",
              "  <thead>\n",
              "    <tr style=\"text-align: right;\">\n",
              "      <th></th>\n",
              "      <th>Age</th>\n",
              "      <th>Embarked</th>\n",
              "      <th>Fare</th>\n",
              "      <th>Parch</th>\n",
              "      <th>Pclass</th>\n",
              "      <th>Sex</th>\n",
              "      <th>SibSp</th>\n",
              "      <th>Survived</th>\n",
              "      <th>Age_NaN</th>\n",
              "      <th>Cabin_NaN</th>\n",
              "      <th>Deck</th>\n",
              "      <th>Ship_Pos</th>\n",
              "      <th>Age_Fare</th>\n",
              "      <th>Fem_HC</th>\n",
              "      <th>Mal_CNaN</th>\n",
              "      <th>Age_Cut</th>\n",
              "      <th>Fare_Cut</th>\n",
              "      <th>Ticket_Freq</th>\n",
              "      <th>Title</th>\n",
              "      <th>Is_Married</th>\n",
              "      <th>Surname</th>\n",
              "      <th>Male_Young</th>\n",
              "    </tr>\n",
              "  </thead>\n",
              "  <tbody>\n",
              "    <tr>\n",
              "      <th>886</th>\n",
              "      <td>27.0</td>\n",
              "      <td>S</td>\n",
              "      <td>13.00</td>\n",
              "      <td>0</td>\n",
              "      <td>2</td>\n",
              "      <td>male</td>\n",
              "      <td>0</td>\n",
              "      <td>0.0</td>\n",
              "      <td>0</td>\n",
              "      <td>1</td>\n",
              "      <td>M</td>\n",
              "      <td>38.0</td>\n",
              "      <td>351.0</td>\n",
              "      <td>0</td>\n",
              "      <td>1</td>\n",
              "      <td>(16.0, 32.0]</td>\n",
              "      <td>(10.5, 21.558]</td>\n",
              "      <td>1</td>\n",
              "      <td>Rev</td>\n",
              "      <td>0</td>\n",
              "      <td>Montvila</td>\n",
              "      <td>1</td>\n",
              "    </tr>\n",
              "    <tr>\n",
              "      <th>887</th>\n",
              "      <td>19.0</td>\n",
              "      <td>S</td>\n",
              "      <td>30.00</td>\n",
              "      <td>0</td>\n",
              "      <td>1</td>\n",
              "      <td>female</td>\n",
              "      <td>0</td>\n",
              "      <td>1.0</td>\n",
              "      <td>0</td>\n",
              "      <td>0</td>\n",
              "      <td>ABC</td>\n",
              "      <td>42.0</td>\n",
              "      <td>570.0</td>\n",
              "      <td>1</td>\n",
              "      <td>0</td>\n",
              "      <td>(16.0, 32.0]</td>\n",
              "      <td>(21.558, 41.579]</td>\n",
              "      <td>1</td>\n",
              "      <td>Miss</td>\n",
              "      <td>0</td>\n",
              "      <td>Graham</td>\n",
              "      <td>0</td>\n",
              "    </tr>\n",
              "    <tr>\n",
              "      <th>888</th>\n",
              "      <td>22.0</td>\n",
              "      <td>S</td>\n",
              "      <td>23.45</td>\n",
              "      <td>2</td>\n",
              "      <td>3</td>\n",
              "      <td>female</td>\n",
              "      <td>1</td>\n",
              "      <td>0.0</td>\n",
              "      <td>1</td>\n",
              "      <td>1</td>\n",
              "      <td>M</td>\n",
              "      <td>38.0</td>\n",
              "      <td>515.9</td>\n",
              "      <td>0</td>\n",
              "      <td>0</td>\n",
              "      <td>(16.0, 32.0]</td>\n",
              "      <td>(21.558, 41.579]</td>\n",
              "      <td>4</td>\n",
              "      <td>Miss</td>\n",
              "      <td>0</td>\n",
              "      <td>Johnston</td>\n",
              "      <td>0</td>\n",
              "    </tr>\n",
              "    <tr>\n",
              "      <th>889</th>\n",
              "      <td>26.0</td>\n",
              "      <td>C</td>\n",
              "      <td>30.00</td>\n",
              "      <td>0</td>\n",
              "      <td>1</td>\n",
              "      <td>male</td>\n",
              "      <td>0</td>\n",
              "      <td>1.0</td>\n",
              "      <td>0</td>\n",
              "      <td>0</td>\n",
              "      <td>ABC</td>\n",
              "      <td>148.0</td>\n",
              "      <td>780.0</td>\n",
              "      <td>0</td>\n",
              "      <td>0</td>\n",
              "      <td>(16.0, 32.0]</td>\n",
              "      <td>(21.558, 41.579]</td>\n",
              "      <td>1</td>\n",
              "      <td>Mr</td>\n",
              "      <td>1</td>\n",
              "      <td>Behr</td>\n",
              "      <td>0</td>\n",
              "    </tr>\n",
              "    <tr>\n",
              "      <th>890</th>\n",
              "      <td>32.0</td>\n",
              "      <td>Q</td>\n",
              "      <td>7.75</td>\n",
              "      <td>0</td>\n",
              "      <td>3</td>\n",
              "      <td>male</td>\n",
              "      <td>0</td>\n",
              "      <td>0.0</td>\n",
              "      <td>0</td>\n",
              "      <td>1</td>\n",
              "      <td>M</td>\n",
              "      <td>38.0</td>\n",
              "      <td>248.0</td>\n",
              "      <td>0</td>\n",
              "      <td>1</td>\n",
              "      <td>(16.0, 32.0]</td>\n",
              "      <td>(-0.001, 7.854]</td>\n",
              "      <td>1</td>\n",
              "      <td>Mr</td>\n",
              "      <td>1</td>\n",
              "      <td>Dooley</td>\n",
              "      <td>0</td>\n",
              "    </tr>\n",
              "  </tbody>\n",
              "</table>\n",
              "</div>"
            ],
            "text/plain": [
              "      Age Embarked   Fare  Parch  ... Title Is_Married   Surname  Male_Young\n",
              "886  27.0        S  13.00      0  ...   Rev          0  Montvila           1\n",
              "887  19.0        S  30.00      0  ...  Miss          0    Graham           0\n",
              "888  22.0        S  23.45      2  ...  Miss          0  Johnston           0\n",
              "889  26.0        C  30.00      0  ...    Mr          1      Behr           0\n",
              "890  32.0        Q   7.75      0  ...    Mr          1    Dooley           0\n",
              "\n",
              "[5 rows x 22 columns]"
            ]
          },
          "metadata": {
            "tags": []
          },
          "execution_count": 146
        }
      ]
    },
    {
      "cell_type": "code",
      "metadata": {
        "colab": {
          "base_uri": "https://localhost:8080/",
          "height": 309
        },
        "id": "wcmde8QcBThq",
        "outputId": "6a2c55ca-f33c-41dc-b86e-e8b896607101"
      },
      "source": [
        "test_tb.head()"
      ],
      "execution_count": null,
      "outputs": [
        {
          "output_type": "execute_result",
          "data": {
            "text/html": [
              "<div>\n",
              "<style scoped>\n",
              "    .dataframe tbody tr th:only-of-type {\n",
              "        vertical-align: middle;\n",
              "    }\n",
              "\n",
              "    .dataframe tbody tr th {\n",
              "        vertical-align: top;\n",
              "    }\n",
              "\n",
              "    .dataframe thead th {\n",
              "        text-align: right;\n",
              "    }\n",
              "</style>\n",
              "<table border=\"1\" class=\"dataframe\">\n",
              "  <thead>\n",
              "    <tr style=\"text-align: right;\">\n",
              "      <th></th>\n",
              "      <th>Age</th>\n",
              "      <th>Embarked</th>\n",
              "      <th>Fare</th>\n",
              "      <th>Parch</th>\n",
              "      <th>Pclass</th>\n",
              "      <th>Sex</th>\n",
              "      <th>SibSp</th>\n",
              "      <th>Survived</th>\n",
              "      <th>Age_NaN</th>\n",
              "      <th>Cabin_NaN</th>\n",
              "      <th>Deck</th>\n",
              "      <th>Ship_Pos</th>\n",
              "      <th>Age_Fare</th>\n",
              "      <th>Fem_HC</th>\n",
              "      <th>Mal_CNaN</th>\n",
              "      <th>Age_Cut</th>\n",
              "      <th>Fare_Cut</th>\n",
              "      <th>Ticket_Freq</th>\n",
              "      <th>Title</th>\n",
              "      <th>Is_Married</th>\n",
              "      <th>Surname</th>\n",
              "      <th>Male_Young</th>\n",
              "    </tr>\n",
              "  </thead>\n",
              "  <tbody>\n",
              "    <tr>\n",
              "      <th>891</th>\n",
              "      <td>34.5</td>\n",
              "      <td>Q</td>\n",
              "      <td>7.8292</td>\n",
              "      <td>0</td>\n",
              "      <td>3</td>\n",
              "      <td>male</td>\n",
              "      <td>0</td>\n",
              "      <td>NaN</td>\n",
              "      <td>0</td>\n",
              "      <td>1</td>\n",
              "      <td>M</td>\n",
              "      <td>38.0</td>\n",
              "      <td>270.1074</td>\n",
              "      <td>0</td>\n",
              "      <td>1</td>\n",
              "      <td>(32.0, 48.0]</td>\n",
              "      <td>(-0.001, 7.854]</td>\n",
              "      <td>1</td>\n",
              "      <td>Mr</td>\n",
              "      <td>1</td>\n",
              "      <td>Kelly</td>\n",
              "      <td>0</td>\n",
              "    </tr>\n",
              "    <tr>\n",
              "      <th>892</th>\n",
              "      <td>47.0</td>\n",
              "      <td>S</td>\n",
              "      <td>7.0000</td>\n",
              "      <td>0</td>\n",
              "      <td>3</td>\n",
              "      <td>female</td>\n",
              "      <td>1</td>\n",
              "      <td>NaN</td>\n",
              "      <td>0</td>\n",
              "      <td>1</td>\n",
              "      <td>M</td>\n",
              "      <td>38.0</td>\n",
              "      <td>329.0000</td>\n",
              "      <td>0</td>\n",
              "      <td>0</td>\n",
              "      <td>(32.0, 48.0]</td>\n",
              "      <td>(-0.001, 7.854]</td>\n",
              "      <td>1</td>\n",
              "      <td>Mrs</td>\n",
              "      <td>1</td>\n",
              "      <td>Wilkes</td>\n",
              "      <td>0</td>\n",
              "    </tr>\n",
              "    <tr>\n",
              "      <th>893</th>\n",
              "      <td>62.0</td>\n",
              "      <td>Q</td>\n",
              "      <td>9.6875</td>\n",
              "      <td>0</td>\n",
              "      <td>2</td>\n",
              "      <td>male</td>\n",
              "      <td>0</td>\n",
              "      <td>NaN</td>\n",
              "      <td>0</td>\n",
              "      <td>1</td>\n",
              "      <td>M</td>\n",
              "      <td>38.0</td>\n",
              "      <td>600.6250</td>\n",
              "      <td>0</td>\n",
              "      <td>1</td>\n",
              "      <td>(48.0, 64.0]</td>\n",
              "      <td>(7.854, 10.5]</td>\n",
              "      <td>1</td>\n",
              "      <td>Mr</td>\n",
              "      <td>1</td>\n",
              "      <td>Myles</td>\n",
              "      <td>0</td>\n",
              "    </tr>\n",
              "    <tr>\n",
              "      <th>894</th>\n",
              "      <td>27.0</td>\n",
              "      <td>S</td>\n",
              "      <td>8.6625</td>\n",
              "      <td>0</td>\n",
              "      <td>3</td>\n",
              "      <td>male</td>\n",
              "      <td>0</td>\n",
              "      <td>NaN</td>\n",
              "      <td>0</td>\n",
              "      <td>1</td>\n",
              "      <td>M</td>\n",
              "      <td>38.0</td>\n",
              "      <td>233.8875</td>\n",
              "      <td>0</td>\n",
              "      <td>1</td>\n",
              "      <td>(16.0, 32.0]</td>\n",
              "      <td>(7.854, 10.5]</td>\n",
              "      <td>1</td>\n",
              "      <td>Mr</td>\n",
              "      <td>1</td>\n",
              "      <td>Wirz</td>\n",
              "      <td>0</td>\n",
              "    </tr>\n",
              "    <tr>\n",
              "      <th>895</th>\n",
              "      <td>22.0</td>\n",
              "      <td>S</td>\n",
              "      <td>12.2875</td>\n",
              "      <td>1</td>\n",
              "      <td>3</td>\n",
              "      <td>female</td>\n",
              "      <td>1</td>\n",
              "      <td>NaN</td>\n",
              "      <td>0</td>\n",
              "      <td>1</td>\n",
              "      <td>M</td>\n",
              "      <td>38.0</td>\n",
              "      <td>270.3250</td>\n",
              "      <td>0</td>\n",
              "      <td>0</td>\n",
              "      <td>(16.0, 32.0]</td>\n",
              "      <td>(10.5, 21.558]</td>\n",
              "      <td>2</td>\n",
              "      <td>Mrs</td>\n",
              "      <td>1</td>\n",
              "      <td>Hirvonen</td>\n",
              "      <td>0</td>\n",
              "    </tr>\n",
              "  </tbody>\n",
              "</table>\n",
              "</div>"
            ],
            "text/plain": [
              "      Age Embarked     Fare  Parch  ... Title Is_Married   Surname  Male_Young\n",
              "891  34.5        Q   7.8292      0  ...    Mr          1     Kelly           0\n",
              "892  47.0        S   7.0000      0  ...   Mrs          1    Wilkes           0\n",
              "893  62.0        Q   9.6875      0  ...    Mr          1     Myles           0\n",
              "894  27.0        S   8.6625      0  ...    Mr          1      Wirz           0\n",
              "895  22.0        S  12.2875      1  ...   Mrs          1  Hirvonen           0\n",
              "\n",
              "[5 rows x 22 columns]"
            ]
          },
          "metadata": {
            "tags": []
          },
          "execution_count": 147
        }
      ]
    },
    {
      "cell_type": "markdown",
      "metadata": {
        "id": "fM9gGiNhFxiO"
      },
      "source": [
        "#### **Splitting**\n",
        "\n",
        "If we have timeseries data we'll probably want to manually specify a validation set, as the sequential nature may be important to the understanding of the data:"
      ]
    },
    {
      "cell_type": "code",
      "metadata": {
        "id": "Tv55ZkhdF_H5"
      },
      "source": [
        "# Example splitting for timeseries\n",
        "cond = (df.saleYear<2011) | (df.saleMonth<10)\n",
        "train_idx = np.where( cond)[0]\n",
        "valid_idx = np.where(~cond)[0]\n",
        "\n",
        "splits = (list(train_idx),list(valid_idx))"
      ],
      "execution_count": null,
      "outputs": []
    },
    {
      "cell_type": "markdown",
      "metadata": {
        "id": "kcZJuvPOHQZU"
      },
      "source": [
        "Alternatively you can split randomly:"
      ]
    },
    {
      "cell_type": "code",
      "metadata": {
        "id": "SnADgAkWHSJC",
        "colab": {
          "base_uri": "https://localhost:8080/"
        },
        "outputId": "278a2d63-88ab-411a-b9cd-5e464a37e3de"
      },
      "source": [
        "splits = RandomSplitter(valid_pct=0.2)(range_of(train_tb))\n",
        "splits"
      ],
      "execution_count": null,
      "outputs": [
        {
          "output_type": "execute_result",
          "data": {
            "text/plain": [
              "((#713) [132,204,285,338,316,255,750,59,679,40...],\n",
              " (#178) [31,836,538,470,761,161,317,758,81,14...])"
            ]
          },
          "metadata": {
            "tags": []
          },
          "execution_count": 31
        }
      ]
    },
    {
      "cell_type": "markdown",
      "metadata": {
        "id": "ayezjCayGI7Q"
      },
      "source": [
        "#### **Final Setup**\n",
        "\n",
        "For categorical data we'll want to tell `TabularPandas` which columns are categorical and which are continuous:"
      ]
    },
    {
      "cell_type": "code",
      "metadata": {
        "id": "VJk2fu61GO4u",
        "colab": {
          "base_uri": "https://localhost:8080/"
        },
        "outputId": "abda94c9-4893-4c26-984d-3de26a8ac07c"
      },
      "source": [
        "cont,cat = cont_cat_split(train_tb, dep_var=DEP_VAR)\n",
        "\n",
        "print(\"Continuous columns:\", cont)\n",
        "print(\"Categorical columns:\", cat)"
      ],
      "execution_count": null,
      "outputs": [
        {
          "output_type": "stream",
          "text": [
            "Continuous columns: ['Age', 'Fare', 'Ship_Pos', 'Age_Fare']\n",
            "Categorical columns: ['Embarked', 'Parch', 'Pclass', 'Sex', 'SibSp', 'Age_NaN', 'Cabin_NaN', 'Deck', 'Fem_HC', 'Mal_CNaN', 'Age_Cut', 'Fare_Cut', 'Ticket_Freq', 'Title', 'Is_Married', 'Surname', 'Male_Young']\n"
          ],
          "name": "stdout"
        }
      ]
    },
    {
      "cell_type": "code",
      "metadata": {
        "id": "LQ3XgTs8HtTX"
      },
      "source": [
        "# Finally we set the TabularPandas df up\n",
        "tdf = TabularPandas(train_tb, procs, cat, cont, y_names=DEP_VAR, splits=splits, y_block=CategoryBlock)"
      ],
      "execution_count": null,
      "outputs": []
    },
    {
      "cell_type": "code",
      "metadata": {
        "id": "jDtS5_suH9xs",
        "colab": {
          "base_uri": "https://localhost:8080/",
          "height": 309
        },
        "outputId": "0de94a96-0d62-493c-b194-34a8903e4070"
      },
      "source": [
        "tdf.show(5)"
      ],
      "execution_count": null,
      "outputs": [
        {
          "output_type": "display_data",
          "data": {
            "text/html": [
              "<table border=\"1\" class=\"dataframe\">\n",
              "  <thead>\n",
              "    <tr style=\"text-align: right;\">\n",
              "      <th></th>\n",
              "      <th>Embarked</th>\n",
              "      <th>Parch</th>\n",
              "      <th>Pclass</th>\n",
              "      <th>Sex</th>\n",
              "      <th>SibSp</th>\n",
              "      <th>Age_NaN</th>\n",
              "      <th>Cabin_NaN</th>\n",
              "      <th>Deck</th>\n",
              "      <th>Fem_HC</th>\n",
              "      <th>Mal_CNaN</th>\n",
              "      <th>Age_Cut</th>\n",
              "      <th>Fare_Cut</th>\n",
              "      <th>Ticket_Freq</th>\n",
              "      <th>Title</th>\n",
              "      <th>Is_Married</th>\n",
              "      <th>Surname</th>\n",
              "      <th>Male_Young</th>\n",
              "      <th>Age</th>\n",
              "      <th>Fare</th>\n",
              "      <th>Ship_Pos</th>\n",
              "      <th>Age_Fare</th>\n",
              "      <th>Survived</th>\n",
              "    </tr>\n",
              "  </thead>\n",
              "  <tbody>\n",
              "    <tr>\n",
              "      <th>782</th>\n",
              "      <td>S</td>\n",
              "      <td>0</td>\n",
              "      <td>1</td>\n",
              "      <td>male</td>\n",
              "      <td>0</td>\n",
              "      <td>0</td>\n",
              "      <td>0</td>\n",
              "      <td>DE</td>\n",
              "      <td>0</td>\n",
              "      <td>0</td>\n",
              "      <td>(16.0, 32.0]</td>\n",
              "      <td>(21.558, 41.579]</td>\n",
              "      <td>1</td>\n",
              "      <td>Mr</td>\n",
              "      <td>1</td>\n",
              "      <td>Long</td>\n",
              "      <td>0</td>\n",
              "      <td>29.0</td>\n",
              "      <td>30.0000</td>\n",
              "      <td>6.0</td>\n",
              "      <td>870.000000</td>\n",
              "      <td>0.0</td>\n",
              "    </tr>\n",
              "    <tr>\n",
              "      <th>668</th>\n",
              "      <td>S</td>\n",
              "      <td>0</td>\n",
              "      <td>3</td>\n",
              "      <td>male</td>\n",
              "      <td>0</td>\n",
              "      <td>0</td>\n",
              "      <td>1</td>\n",
              "      <td>M</td>\n",
              "      <td>0</td>\n",
              "      <td>1</td>\n",
              "      <td>(32.0, 48.0]</td>\n",
              "      <td>(7.854, 10.5]</td>\n",
              "      <td>1</td>\n",
              "      <td>Mr</td>\n",
              "      <td>1</td>\n",
              "      <td>Cook</td>\n",
              "      <td>0</td>\n",
              "      <td>43.0</td>\n",
              "      <td>8.0500</td>\n",
              "      <td>38.0</td>\n",
              "      <td>346.149994</td>\n",
              "      <td>0.0</td>\n",
              "    </tr>\n",
              "    <tr>\n",
              "      <th>372</th>\n",
              "      <td>S</td>\n",
              "      <td>0</td>\n",
              "      <td>3</td>\n",
              "      <td>male</td>\n",
              "      <td>0</td>\n",
              "      <td>0</td>\n",
              "      <td>1</td>\n",
              "      <td>M</td>\n",
              "      <td>0</td>\n",
              "      <td>1</td>\n",
              "      <td>(16.0, 32.0]</td>\n",
              "      <td>(7.854, 10.5]</td>\n",
              "      <td>1</td>\n",
              "      <td>Mr</td>\n",
              "      <td>1</td>\n",
              "      <td>Beavan</td>\n",
              "      <td>0</td>\n",
              "      <td>19.0</td>\n",
              "      <td>8.0500</td>\n",
              "      <td>38.0</td>\n",
              "      <td>152.949997</td>\n",
              "      <td>0.0</td>\n",
              "    </tr>\n",
              "    <tr>\n",
              "      <th>670</th>\n",
              "      <td>S</td>\n",
              "      <td>1</td>\n",
              "      <td>2</td>\n",
              "      <td>female</td>\n",
              "      <td>1</td>\n",
              "      <td>0</td>\n",
              "      <td>1</td>\n",
              "      <td>M</td>\n",
              "      <td>0</td>\n",
              "      <td>0</td>\n",
              "      <td>(32.0, 48.0]</td>\n",
              "      <td>(21.558, 41.579]</td>\n",
              "      <td>3</td>\n",
              "      <td>Mrs</td>\n",
              "      <td>1</td>\n",
              "      <td>Brown</td>\n",
              "      <td>0</td>\n",
              "      <td>40.0</td>\n",
              "      <td>39.0000</td>\n",
              "      <td>38.0</td>\n",
              "      <td>1560.000000</td>\n",
              "      <td>1.0</td>\n",
              "    </tr>\n",
              "    <tr>\n",
              "      <th>189</th>\n",
              "      <td>S</td>\n",
              "      <td>0</td>\n",
              "      <td>3</td>\n",
              "      <td>male</td>\n",
              "      <td>0</td>\n",
              "      <td>0</td>\n",
              "      <td>1</td>\n",
              "      <td>M</td>\n",
              "      <td>0</td>\n",
              "      <td>1</td>\n",
              "      <td>(32.0, 48.0]</td>\n",
              "      <td>(7.854, 10.5]</td>\n",
              "      <td>1</td>\n",
              "      <td>Mr</td>\n",
              "      <td>1</td>\n",
              "      <td>Turcin</td>\n",
              "      <td>0</td>\n",
              "      <td>36.0</td>\n",
              "      <td>7.8958</td>\n",
              "      <td>38.0</td>\n",
              "      <td>284.248810</td>\n",
              "      <td>0.0</td>\n",
              "    </tr>\n",
              "  </tbody>\n",
              "</table>"
            ],
            "text/plain": [
              "<IPython.core.display.HTML object>"
            ]
          },
          "metadata": {
            "tags": []
          }
        }
      ]
    },
    {
      "cell_type": "code",
      "metadata": {
        "id": "v22gG_oDIcIw",
        "colab": {
          "base_uri": "https://localhost:8080/",
          "height": 224
        },
        "outputId": "a244bebe-f239-4059-a73d-c8f23aecbcb6"
      },
      "source": [
        "tdf.items.head(5)"
      ],
      "execution_count": null,
      "outputs": [
        {
          "output_type": "execute_result",
          "data": {
            "text/html": [
              "<div>\n",
              "<style scoped>\n",
              "    .dataframe tbody tr th:only-of-type {\n",
              "        vertical-align: middle;\n",
              "    }\n",
              "\n",
              "    .dataframe tbody tr th {\n",
              "        vertical-align: top;\n",
              "    }\n",
              "\n",
              "    .dataframe thead th {\n",
              "        text-align: right;\n",
              "    }\n",
              "</style>\n",
              "<table border=\"1\" class=\"dataframe\">\n",
              "  <thead>\n",
              "    <tr style=\"text-align: right;\">\n",
              "      <th></th>\n",
              "      <th>Age</th>\n",
              "      <th>Embarked</th>\n",
              "      <th>Fare</th>\n",
              "      <th>Parch</th>\n",
              "      <th>Pclass</th>\n",
              "      <th>Sex</th>\n",
              "      <th>SibSp</th>\n",
              "      <th>Survived</th>\n",
              "      <th>Age_NaN</th>\n",
              "      <th>Cabin_NaN</th>\n",
              "      <th>Deck</th>\n",
              "      <th>Ship_Pos</th>\n",
              "      <th>Age_Fare</th>\n",
              "      <th>Fem_HC</th>\n",
              "      <th>Mal_CNaN</th>\n",
              "      <th>Age_Cut</th>\n",
              "      <th>Fare_Cut</th>\n",
              "      <th>Ticket_Freq</th>\n",
              "      <th>Title</th>\n",
              "      <th>Is_Married</th>\n",
              "      <th>Surname</th>\n",
              "      <th>Male_Young</th>\n",
              "    </tr>\n",
              "  </thead>\n",
              "  <tbody>\n",
              "    <tr>\n",
              "      <th>782</th>\n",
              "      <td>-0.004649</td>\n",
              "      <td>3</td>\n",
              "      <td>-0.047447</td>\n",
              "      <td>1</td>\n",
              "      <td>1</td>\n",
              "      <td>2</td>\n",
              "      <td>1</td>\n",
              "      <td>0</td>\n",
              "      <td>1</td>\n",
              "      <td>1</td>\n",
              "      <td>2</td>\n",
              "      <td>-1.957879</td>\n",
              "      <td>-0.083524</td>\n",
              "      <td>1</td>\n",
              "      <td>1</td>\n",
              "      <td>2</td>\n",
              "      <td>4</td>\n",
              "      <td>1</td>\n",
              "      <td>12</td>\n",
              "      <td>2</td>\n",
              "      <td>354</td>\n",
              "      <td>1</td>\n",
              "    </tr>\n",
              "    <tr>\n",
              "      <th>668</th>\n",
              "      <td>1.035912</td>\n",
              "      <td>3</td>\n",
              "      <td>-0.475004</td>\n",
              "      <td>1</td>\n",
              "      <td>3</td>\n",
              "      <td>2</td>\n",
              "      <td>1</td>\n",
              "      <td>0</td>\n",
              "      <td>1</td>\n",
              "      <td>2</td>\n",
              "      <td>4</td>\n",
              "      <td>-0.149099</td>\n",
              "      <td>-0.359769</td>\n",
              "      <td>1</td>\n",
              "      <td>2</td>\n",
              "      <td>3</td>\n",
              "      <td>2</td>\n",
              "      <td>1</td>\n",
              "      <td>12</td>\n",
              "      <td>2</td>\n",
              "      <td>128</td>\n",
              "      <td>1</td>\n",
              "    </tr>\n",
              "    <tr>\n",
              "      <th>372</th>\n",
              "      <td>-0.747908</td>\n",
              "      <td>3</td>\n",
              "      <td>-0.475004</td>\n",
              "      <td>1</td>\n",
              "      <td>3</td>\n",
              "      <td>2</td>\n",
              "      <td>1</td>\n",
              "      <td>0</td>\n",
              "      <td>1</td>\n",
              "      <td>2</td>\n",
              "      <td>4</td>\n",
              "      <td>-0.149099</td>\n",
              "      <td>-0.461650</td>\n",
              "      <td>1</td>\n",
              "      <td>2</td>\n",
              "      <td>2</td>\n",
              "      <td>2</td>\n",
              "      <td>1</td>\n",
              "      <td>12</td>\n",
              "      <td>2</td>\n",
              "      <td>49</td>\n",
              "      <td>1</td>\n",
              "    </tr>\n",
              "    <tr>\n",
              "      <th>670</th>\n",
              "      <td>0.812935</td>\n",
              "      <td>3</td>\n",
              "      <td>0.127862</td>\n",
              "      <td>2</td>\n",
              "      <td>2</td>\n",
              "      <td>1</td>\n",
              "      <td>2</td>\n",
              "      <td>1</td>\n",
              "      <td>1</td>\n",
              "      <td>2</td>\n",
              "      <td>4</td>\n",
              "      <td>-0.149099</td>\n",
              "      <td>0.280337</td>\n",
              "      <td>1</td>\n",
              "      <td>1</td>\n",
              "      <td>3</td>\n",
              "      <td>4</td>\n",
              "      <td>3</td>\n",
              "      <td>13</td>\n",
              "      <td>2</td>\n",
              "      <td>77</td>\n",
              "      <td>1</td>\n",
              "    </tr>\n",
              "    <tr>\n",
              "      <th>189</th>\n",
              "      <td>0.515631</td>\n",
              "      <td>3</td>\n",
              "      <td>-0.478008</td>\n",
              "      <td>1</td>\n",
              "      <td>3</td>\n",
              "      <td>2</td>\n",
              "      <td>1</td>\n",
              "      <td>0</td>\n",
              "      <td>1</td>\n",
              "      <td>2</td>\n",
              "      <td>4</td>\n",
              "      <td>-0.149099</td>\n",
              "      <td>-0.392412</td>\n",
              "      <td>1</td>\n",
              "      <td>2</td>\n",
              "      <td>3</td>\n",
              "      <td>2</td>\n",
              "      <td>1</td>\n",
              "      <td>12</td>\n",
              "      <td>2</td>\n",
              "      <td>615</td>\n",
              "      <td>1</td>\n",
              "    </tr>\n",
              "  </tbody>\n",
              "</table>\n",
              "</div>"
            ],
            "text/plain": [
              "          Age  Embarked      Fare  ...  Is_Married  Surname  Male_Young\n",
              "782 -0.004649         3 -0.047447  ...           2      354           1\n",
              "668  1.035912         3 -0.475004  ...           2      128           1\n",
              "372 -0.747908         3 -0.475004  ...           2       49           1\n",
              "670  0.812935         3  0.127862  ...           2       77           1\n",
              "189  0.515631         3 -0.478008  ...           2      615           1\n",
              "\n",
              "[5 rows x 22 columns]"
            ]
          },
          "metadata": {
            "tags": []
          },
          "execution_count": 20
        }
      ]
    },
    {
      "cell_type": "code",
      "metadata": {
        "id": "pcFqbV-GH48g",
        "colab": {
          "base_uri": "https://localhost:8080/"
        },
        "outputId": "5d4111f0-ca0e-45b6-9563-8803d3c49149"
      },
      "source": [
        "len(tdf.train),len(tdf.valid)"
      ],
      "execution_count": null,
      "outputs": [
        {
          "output_type": "execute_result",
          "data": {
            "text/plain": [
              "(713, 178)"
            ]
          },
          "metadata": {
            "tags": []
          },
          "execution_count": 34
        }
      ]
    },
    {
      "cell_type": "markdown",
      "metadata": {
        "id": "iWiFq4uyKrVr"
      },
      "source": [
        "We can also now save the data, as we've probably done a lot of work on it up to this point."
      ]
    },
    {
      "cell_type": "code",
      "metadata": {
        "id": "ChZrwTMZKynH"
      },
      "source": [
        "save_pickle(\"{}/tdf.pkl\".format(path),tdf)"
      ],
      "execution_count": null,
      "outputs": []
    },
    {
      "cell_type": "markdown",
      "metadata": {
        "id": "ecQ0yAjL2zj_"
      },
      "source": [
        "\n",
        "\n",
        "---\n",
        "\n"
      ]
    },
    {
      "cell_type": "markdown",
      "metadata": {
        "id": "xkp4T4fR20X7"
      },
      "source": [
        "## **Model**\n",
        "\n",
        "Model work can be performed here, with utilities to help with cross-validation and architecture construction."
      ]
    },
    {
      "cell_type": "code",
      "metadata": {
        "id": "8RGf33ZchtpI"
      },
      "source": [
        "tdf = load_pickle(\"{}/tdf.pkl\".format(path))"
      ],
      "execution_count": 9,
      "outputs": []
    },
    {
      "cell_type": "code",
      "metadata": {
        "id": "VuominZJ3bd2"
      },
      "source": [
        "# Let's start by setting up our separate sets\n",
        "train_x, train_y = tdf.train.xs, tdf.train.y\n",
        "valid_x, valid_y = tdf.valid.xs, tdf.valid.y"
      ],
      "execution_count": 10,
      "outputs": []
    },
    {
      "cell_type": "code",
      "metadata": {
        "id": "m3BDScygR9T8",
        "colab": {
          "base_uri": "https://localhost:8080/"
        },
        "outputId": "607d2407-cd9d-4d64-fafb-d55dbdc10fa1"
      },
      "source": [
        "print(\"First train features:\", train_x.iloc[0])\n",
        "print(\"\")\n",
        "print(\"First train label:\", train_y.iloc[0])"
      ],
      "execution_count": 11,
      "outputs": [
        {
          "output_type": "stream",
          "text": [
            "First train features: Embarked         3.000000\n",
            "Parch            1.000000\n",
            "Pclass           3.000000\n",
            "Sex              1.000000\n",
            "SibSp            2.000000\n",
            "Age_NaN          1.000000\n",
            "Cabin_NaN        2.000000\n",
            "Deck             4.000000\n",
            "Fem_HC           1.000000\n",
            "Mal_CNaN         1.000000\n",
            "Age_Cut          3.000000\n",
            "Fare_Cut         3.000000\n",
            "Ticket_Freq      2.000000\n",
            "Title           13.000000\n",
            "Is_Married       2.000000\n",
            "Surname        515.000000\n",
            "Male_Young       1.000000\n",
            "Age              1.423430\n",
            "Fare            -0.353035\n",
            "Ship_Pos        -0.176358\n",
            "Age_Fare        -0.179610\n",
            "Name: 132, dtype: float64\n",
            "\n",
            "First train label: 0\n"
          ],
          "name": "stdout"
        }
      ]
    },
    {
      "cell_type": "markdown",
      "metadata": {
        "id": "YUem8Cp9Orb7"
      },
      "source": [
        "### **Baseline Tree Model**\n",
        "\n",
        "Tabular data has not been completely dominated by neural nets, and tree models are still a viable option to model such datasets. Even if we do go with a neural net (or some ensemble) for the final model, we can still infer a lot about how a model sees the data by starting with a tree."
      ]
    },
    {
      "cell_type": "code",
      "metadata": {
        "id": "m_ezujRlQVQA"
      },
      "source": [
        "m = DecisionTreeClassifier(max_leaf_nodes=4)\n",
        "m.fit(train_x, train_y);"
      ],
      "execution_count": null,
      "outputs": []
    },
    {
      "cell_type": "markdown",
      "metadata": {
        "id": "XEVCXHj2QmKk"
      },
      "source": [
        "We can then view the results visually:"
      ]
    },
    {
      "cell_type": "code",
      "metadata": {
        "id": "YB1PW6wASiiB"
      },
      "source": [
        "tree.plot_tree(m, feature_names=train_x.columns, precision=2)"
      ],
      "execution_count": null,
      "outputs": []
    },
    {
      "cell_type": "code",
      "metadata": {
        "id": "BK2aOyjCQqCc",
        "colab": {
          "base_uri": "https://localhost:8080/",
          "height": 431
        },
        "outputId": "b98811e9-e593-42f0-be3c-2298ea4db54f"
      },
      "source": [
        "# DTreeViz result\n",
        "samp_idx = np.random.permutation(len(train_y))[:500]\n",
        "dtreeviz(m, train_x.iloc[samp_idx], train_y.iloc[samp_idx], train_x.columns, DEP_VAR,\n",
        "        fontname='DejaVu Sans', scale=1.6, label_fontsize=10,\n",
        "        orientation='LR')"
      ],
      "execution_count": null,
      "outputs": [
        {
          "output_type": "stream",
          "text": [
            "/usr/local/lib/python3.7/dist-packages/numpy/core/_asarray.py:83: VisibleDeprecationWarning: Creating an ndarray from ragged nested sequences (which is a list-or-tuple of lists-or-tuples-or ndarrays with different lengths or shapes) is deprecated. If you meant to do this, you must specify 'dtype=object' when creating the ndarray\n",
            "  return array(a, dtype, copy=False, order=order)\n",
            "findfont: Font family ['Arial'] not found. Falling back to DejaVu Sans.\n"
          ],
          "name": "stderr"
        },
        {
          "output_type": "execute_result",
          "data": {
            "text/plain": [
              "<dtreeviz.trees.DTreeViz at 0x7f1401ba4150>"
            ],
            "image/svg+xml": "<svg xmlns=\"http://www.w3.org/2000/svg\" xmlns:xlink=\"http://www.w3.org/1999/xlink\" height=\"339.20000000000005\" viewBox=\"0.0 0.0 979.2 338.40000000000003\" width=\"979.2\">\n<g class=\"graph\" id=\"graph0\" transform=\"scale(1.6 1.6) rotate(0) translate(4 207.5)\">\n<title>G</title>\n<polygon fill=\"#ffffff\" points=\"-4,4 -4,-207.5 608,-207.5 608,4 -4,4\" stroke=\"transparent\" />\n<g class=\"cluster\" id=\"clust4\">\n<title>cluster_legend</title>\n</g>\n\n<g class=\"node\" id=\"node1\">\n<title>node4</title>\n<svg height=\"43px\" preserveAspectRatio=\"xMinYMin meet\" version=\"1.1\" viewBox=\"0 0 201.92756 57.345714\" width=\"151px\" x=\"368.5\" y=\"-102\">\n <defs>\n  <style type=\"text/css\">\n*{stroke-linecap:butt;stroke-linejoin:round;}\n  </style>\n </defs>\n <g id=\"figure_1\">\n  <g id=\"patch_1\">\n   <path d=\"M 0 57.345714  L 201.92756 57.345714  L 201.92756 0  L 0 0  z \" style=\"fill:#ffffff;\" />\n  </g>\n  <g id=\"axes_1\">\n   <g id=\"patch_2\">\n    <path d=\"M 17.18 28.925089  L 201.32 28.925089  L 201.32 1.745089  L 17.18 1.745089  z \" style=\"fill:#ffffff;\" />\n   </g>\n   <g id=\"patch_3\">\n    <path clip-path=\"url(#pd9fd0fc6fe)\" d=\"M 17.18 28.925089  L 26.434806 28.925089  L 26.434806 17.600089  L 17.18 17.600089  z \" style=\"fill:#fefebb;stroke:#444443;stroke-linejoin:miter;stroke-width:0.5;\" />\n   </g>\n   <g id=\"patch_4\">\n    <path clip-path=\"url(#pd9fd0fc6fe)\" d=\"M 26.434806 28.925089  L 35.689612 28.925089  L 35.689612 27.307232  L 26.434806 27.307232  z \" style=\"fill:#fefebb;stroke:#444443;stroke-linejoin:miter;stroke-width:0.5;\" />\n   </g>\n   <g id=\"patch_5\">\n    <path clip-path=\"url(#pd9fd0fc6fe)\" d=\"M 35.689612 28.925089  L 44.944417 28.925089  L 44.944417 28.601518  L 35.689612 28.601518  z \" style=\"fill:#fefebb;stroke:#444443;stroke-linejoin:miter;stroke-width:0.5;\" />\n   </g>\n   <g id=\"patch_6\">\n    <path clip-path=\"url(#pd9fd0fc6fe)\" d=\"M 44.944417 28.925089  L 54.199223 28.925089  L 54.199223 28.925089  L 44.944417 28.925089  z \" style=\"fill:#fefebb;stroke:#444443;stroke-linejoin:miter;stroke-width:0.5;\" />\n   </g>\n   <g id=\"patch_7\">\n    <path clip-path=\"url(#pd9fd0fc6fe)\" d=\"M 54.199223 28.925089  L 63.454029 28.925089  L 63.454029 28.925089  L 54.199223 28.925089  z \" style=\"fill:#fefebb;stroke:#444443;stroke-linejoin:miter;stroke-width:0.5;\" />\n   </g>\n   <g id=\"patch_8\">\n    <path clip-path=\"url(#pd9fd0fc6fe)\" d=\"M 63.454029 28.925089  L 72.708835 28.925089  L 72.708835 28.925089  L 63.454029 28.925089  z \" style=\"fill:#fefebb;stroke:#444443;stroke-linejoin:miter;stroke-width:0.5;\" />\n   </g>\n   <g id=\"patch_9\">\n    <path clip-path=\"url(#pd9fd0fc6fe)\" d=\"M 72.708835 28.925089  L 81.963641 28.925089  L 81.963641 28.925089  L 72.708835 28.925089  z \" style=\"fill:#fefebb;stroke:#444443;stroke-linejoin:miter;stroke-width:0.5;\" />\n   </g>\n   <g id=\"patch_10\">\n    <path clip-path=\"url(#pd9fd0fc6fe)\" d=\"M 81.963641 28.925089  L 91.218446 28.925089  L 91.218446 28.925089  L 81.963641 28.925089  z \" style=\"fill:#fefebb;stroke:#444443;stroke-linejoin:miter;stroke-width:0.5;\" />\n   </g>\n   <g id=\"patch_11\">\n    <path clip-path=\"url(#pd9fd0fc6fe)\" d=\"M 91.218446 28.925089  L 100.473252 28.925089  L 100.473252 28.925089  L 91.218446 28.925089  z \" style=\"fill:#fefebb;stroke:#444443;stroke-linejoin:miter;stroke-width:0.5;\" />\n   </g>\n   <g id=\"patch_12\">\n    <path clip-path=\"url(#pd9fd0fc6fe)\" d=\"M 100.473252 28.925089  L 109.728058 28.925089  L 109.728058 28.925089  L 100.473252 28.925089  z \" style=\"fill:#fefebb;stroke:#444443;stroke-linejoin:miter;stroke-width:0.5;\" />\n   </g>\n   <g id=\"patch_13\">\n    <path clip-path=\"url(#pd9fd0fc6fe)\" d=\"M 109.728058 28.925089  L 118.982864 28.925089  L 118.982864 28.925089  L 109.728058 28.925089  z \" style=\"fill:#fefebb;stroke:#444443;stroke-linejoin:miter;stroke-width:0.5;\" />\n   </g>\n   <g id=\"patch_14\">\n    <path clip-path=\"url(#pd9fd0fc6fe)\" d=\"M 118.982864 28.925089  L 128.23767 28.925089  L 128.23767 28.925089  L 118.982864 28.925089  z \" style=\"fill:#fefebb;stroke:#444443;stroke-linejoin:miter;stroke-width:0.5;\" />\n   </g>\n   <g id=\"patch_15\">\n    <path clip-path=\"url(#pd9fd0fc6fe)\" d=\"M 128.23767 28.925089  L 137.492475 28.925089  L 137.492475 28.925089  L 128.23767 28.925089  z \" style=\"fill:#fefebb;stroke:#444443;stroke-linejoin:miter;stroke-width:0.5;\" />\n   </g>\n   <g id=\"patch_16\">\n    <path clip-path=\"url(#pd9fd0fc6fe)\" d=\"M 137.492475 28.925089  L 146.747281 28.925089  L 146.747281 28.925089  L 137.492475 28.925089  z \" style=\"fill:#fefebb;stroke:#444443;stroke-linejoin:miter;stroke-width:0.5;\" />\n   </g>\n   <g id=\"patch_17\">\n    <path clip-path=\"url(#pd9fd0fc6fe)\" d=\"M 146.747281 28.925089  L 156.002087 28.925089  L 156.002087 28.925089  L 146.747281 28.925089  z \" style=\"fill:#fefebb;stroke:#444443;stroke-linejoin:miter;stroke-width:0.5;\" />\n   </g>\n   <g id=\"patch_18\">\n    <path clip-path=\"url(#pd9fd0fc6fe)\" d=\"M 156.002087 28.925089  L 165.256893 28.925089  L 165.256893 28.925089  L 156.002087 28.925089  z \" style=\"fill:#fefebb;stroke:#444443;stroke-linejoin:miter;stroke-width:0.5;\" />\n   </g>\n   <g id=\"patch_19\">\n    <path clip-path=\"url(#pd9fd0fc6fe)\" d=\"M 165.256893 28.925089  L 174.511699 28.925089  L 174.511699 28.925089  L 165.256893 28.925089  z \" style=\"fill:#fefebb;stroke:#444443;stroke-linejoin:miter;stroke-width:0.5;\" />\n   </g>\n   <g id=\"patch_20\">\n    <path clip-path=\"url(#pd9fd0fc6fe)\" d=\"M 174.511699 28.925089  L 183.766504 28.925089  L 183.766504 28.925089  L 174.511699 28.925089  z \" style=\"fill:#fefebb;stroke:#444443;stroke-linejoin:miter;stroke-width:0.5;\" />\n   </g>\n   <g id=\"patch_21\">\n    <path clip-path=\"url(#pd9fd0fc6fe)\" d=\"M 183.766504 28.925089  L 193.02131 28.925089  L 193.02131 28.925089  L 183.766504 28.925089  z \" style=\"fill:#fefebb;stroke:#444443;stroke-linejoin:miter;stroke-width:0.5;\" />\n   </g>\n   <g id=\"patch_22\">\n    <path clip-path=\"url(#pd9fd0fc6fe)\" d=\"M 17.18 17.600089  L 26.434806 17.600089  L 26.434806 3.039375  L 17.18 3.039375  z \" style=\"fill:#a1dab4;stroke:#444443;stroke-linejoin:miter;stroke-width:0.5;\" />\n   </g>\n   <g id=\"patch_23\">\n    <path clip-path=\"url(#pd9fd0fc6fe)\" d=\"M 26.434806 27.307232  L 35.689612 27.307232  L 35.689612 27.307232  L 26.434806 27.307232  z \" style=\"fill:#a1dab4;stroke:#444443;stroke-linejoin:miter;stroke-width:0.5;\" />\n   </g>\n   <g id=\"patch_24\">\n    <path clip-path=\"url(#pd9fd0fc6fe)\" d=\"M 35.689612 28.601518  L 44.944417 28.601518  L 44.944417 28.601518  L 35.689612 28.601518  z \" style=\"fill:#a1dab4;stroke:#444443;stroke-linejoin:miter;stroke-width:0.5;\" />\n   </g>\n   <g id=\"patch_25\">\n    <path clip-path=\"url(#pd9fd0fc6fe)\" d=\"M 44.944417 28.925089  L 54.199223 28.925089  L 54.199223 28.925089  L 44.944417 28.925089  z \" style=\"fill:#a1dab4;stroke:#444443;stroke-linejoin:miter;stroke-width:0.5;\" />\n   </g>\n   <g id=\"patch_26\">\n    <path clip-path=\"url(#pd9fd0fc6fe)\" d=\"M 54.199223 28.925089  L 63.454029 28.925089  L 63.454029 28.925089  L 54.199223 28.925089  z \" style=\"fill:#a1dab4;stroke:#444443;stroke-linejoin:miter;stroke-width:0.5;\" />\n   </g>\n   <g id=\"patch_27\">\n    <path clip-path=\"url(#pd9fd0fc6fe)\" d=\"M 63.454029 28.925089  L 72.708835 28.925089  L 72.708835 28.925089  L 63.454029 28.925089  z \" style=\"fill:#a1dab4;stroke:#444443;stroke-linejoin:miter;stroke-width:0.5;\" />\n   </g>\n   <g id=\"patch_28\">\n    <path clip-path=\"url(#pd9fd0fc6fe)\" d=\"M 72.708835 28.925089  L 81.963641 28.925089  L 81.963641 28.925089  L 72.708835 28.925089  z \" style=\"fill:#a1dab4;stroke:#444443;stroke-linejoin:miter;stroke-width:0.5;\" />\n   </g>\n   <g id=\"patch_29\">\n    <path clip-path=\"url(#pd9fd0fc6fe)\" d=\"M 81.963641 28.925089  L 91.218446 28.925089  L 91.218446 28.925089  L 81.963641 28.925089  z \" style=\"fill:#a1dab4;stroke:#444443;stroke-linejoin:miter;stroke-width:0.5;\" />\n   </g>\n   <g id=\"patch_30\">\n    <path clip-path=\"url(#pd9fd0fc6fe)\" d=\"M 91.218446 28.925089  L 100.473252 28.925089  L 100.473252 28.925089  L 91.218446 28.925089  z \" style=\"fill:#a1dab4;stroke:#444443;stroke-linejoin:miter;stroke-width:0.5;\" />\n   </g>\n   <g id=\"patch_31\">\n    <path clip-path=\"url(#pd9fd0fc6fe)\" d=\"M 100.473252 28.925089  L 109.728058 28.925089  L 109.728058 28.925089  L 100.473252 28.925089  z \" style=\"fill:#a1dab4;stroke:#444443;stroke-linejoin:miter;stroke-width:0.5;\" />\n   </g>\n   <g id=\"patch_32\">\n    <path clip-path=\"url(#pd9fd0fc6fe)\" d=\"M 109.728058 28.925089  L 118.982864 28.925089  L 118.982864 28.925089  L 109.728058 28.925089  z \" style=\"fill:#a1dab4;stroke:#444443;stroke-linejoin:miter;stroke-width:0.5;\" />\n   </g>\n   <g id=\"patch_33\">\n    <path clip-path=\"url(#pd9fd0fc6fe)\" d=\"M 118.982864 28.925089  L 128.23767 28.925089  L 128.23767 28.925089  L 118.982864 28.925089  z \" style=\"fill:#a1dab4;stroke:#444443;stroke-linejoin:miter;stroke-width:0.5;\" />\n   </g>\n   <g id=\"patch_34\">\n    <path clip-path=\"url(#pd9fd0fc6fe)\" d=\"M 128.23767 28.925089  L 137.492475 28.925089  L 137.492475 28.925089  L 128.23767 28.925089  z \" style=\"fill:#a1dab4;stroke:#444443;stroke-linejoin:miter;stroke-width:0.5;\" />\n   </g>\n   <g id=\"patch_35\">\n    <path clip-path=\"url(#pd9fd0fc6fe)\" d=\"M 137.492475 28.925089  L 146.747281 28.925089  L 146.747281 28.925089  L 137.492475 28.925089  z \" style=\"fill:#a1dab4;stroke:#444443;stroke-linejoin:miter;stroke-width:0.5;\" />\n   </g>\n   <g id=\"patch_36\">\n    <path clip-path=\"url(#pd9fd0fc6fe)\" d=\"M 146.747281 28.925089  L 156.002087 28.925089  L 156.002087 28.925089  L 146.747281 28.925089  z \" style=\"fill:#a1dab4;stroke:#444443;stroke-linejoin:miter;stroke-width:0.5;\" />\n   </g>\n   <g id=\"patch_37\">\n    <path clip-path=\"url(#pd9fd0fc6fe)\" d=\"M 156.002087 28.925089  L 165.256893 28.925089  L 165.256893 28.925089  L 156.002087 28.925089  z \" style=\"fill:#a1dab4;stroke:#444443;stroke-linejoin:miter;stroke-width:0.5;\" />\n   </g>\n   <g id=\"patch_38\">\n    <path clip-path=\"url(#pd9fd0fc6fe)\" d=\"M 165.256893 28.925089  L 174.511699 28.925089  L 174.511699 28.925089  L 165.256893 28.925089  z \" style=\"fill:#a1dab4;stroke:#444443;stroke-linejoin:miter;stroke-width:0.5;\" />\n   </g>\n   <g id=\"patch_39\">\n    <path clip-path=\"url(#pd9fd0fc6fe)\" d=\"M 174.511699 28.925089  L 183.766504 28.925089  L 183.766504 28.925089  L 174.511699 28.925089  z \" style=\"fill:#a1dab4;stroke:#444443;stroke-linejoin:miter;stroke-width:0.5;\" />\n   </g>\n   <g id=\"patch_40\">\n    <path clip-path=\"url(#pd9fd0fc6fe)\" d=\"M 183.766504 28.925089  L 193.02131 28.925089  L 193.02131 28.925089  L 183.766504 28.925089  z \" style=\"fill:#a1dab4;stroke:#444443;stroke-linejoin:miter;stroke-width:0.5;\" />\n   </g>\n   <g id=\"patch_41\">\n    <path d=\"M 18.899774 29.740489  L 15.585254 37.079089  L 22.214294 37.079089  z \" style=\"fill:#444443;\" />\n   </g>\n   <g id=\"matplotlib.axis_1\">\n    <g id=\"xtick_1\">\n     <g id=\"line2d_1\">\n      <defs>\n       <path d=\"M 0 0  L 0 3.5  \" id=\"m15e718801e\" style=\"stroke:#000000;stroke-width:0.3;\" />\n      </defs>\n      <g>\n       <use style=\"stroke:#000000;stroke-width:0.3;\" x=\"17.18\" y=\"28.925089\" xlink:href=\"#m15e718801e\" />\n      </g>\n     </g>\n     <g id=\"text_1\">\n      \n      <defs>\n       <path d=\"M 10.59375 35.5  L 73.1875 35.5  L 73.1875 27.203125  L 10.59375 27.203125  z \" id=\"DejaVuSans-8722\" />\n       <path d=\"M 31.78125 66.40625  Q 24.171875 66.40625 20.328125 58.90625  Q 16.5 51.421875 16.5 36.375  Q 16.5 21.390625 20.328125 13.890625  Q 24.171875 6.390625 31.78125 6.390625  Q 39.453125 6.390625 43.28125 13.890625  Q 47.125 21.390625 47.125 36.375  Q 47.125 51.421875 43.28125 58.90625  Q 39.453125 66.40625 31.78125 66.40625  z M 31.78125 74.21875  Q 44.046875 74.21875 50.515625 64.515625  Q 56.984375 54.828125 56.984375 36.375  Q 56.984375 17.96875 50.515625 8.265625  Q 44.046875 -1.421875 31.78125 -1.421875  Q 19.53125 -1.421875 13.0625 8.265625  Q 6.59375 17.96875 6.59375 36.375  Q 6.59375 54.828125 13.0625 64.515625  Q 19.53125 74.21875 31.78125 74.21875  z \" id=\"DejaVuSans-48\" />\n       <path d=\"M 10.6875 12.40625  L 21 12.40625  L 21 0  L 10.6875 0  z \" id=\"DejaVuSans-46\" />\n       <path d=\"M 10.796875 72.90625  L 49.515625 72.90625  L 49.515625 64.59375  L 19.828125 64.59375  L 19.828125 46.734375  Q 21.96875 47.46875 24.109375 47.828125  Q 26.265625 48.1875 28.421875 48.1875  Q 40.625 48.1875 47.75 41.5  Q 54.890625 34.8125 54.890625 23.390625  Q 54.890625 11.625 47.5625 5.09375  Q 40.234375 -1.421875 26.90625 -1.421875  Q 22.3125 -1.421875 17.546875 -0.640625  Q 12.796875 0.140625 7.71875 1.703125  L 7.71875 11.625  Q 12.109375 9.234375 16.796875 8.0625  Q 21.484375 6.890625 26.703125 6.890625  Q 35.15625 6.890625 40.078125 11.328125  Q 45.015625 15.765625 45.015625 23.390625  Q 45.015625 31 40.078125 35.4375  Q 35.15625 39.890625 26.703125 39.890625  Q 22.75 39.890625 18.8125 39.015625  Q 14.890625 38.140625 10.796875 36.28125  z \" id=\"DejaVuSans-53\" />\n       <path d=\"M 33.015625 40.375  Q 26.375 40.375 22.484375 35.828125  Q 18.609375 31.296875 18.609375 23.390625  Q 18.609375 15.53125 22.484375 10.953125  Q 26.375 6.390625 33.015625 6.390625  Q 39.65625 6.390625 43.53125 10.953125  Q 47.40625 15.53125 47.40625 23.390625  Q 47.40625 31.296875 43.53125 35.828125  Q 39.65625 40.375 33.015625 40.375  z M 52.59375 71.296875  L 52.59375 62.3125  Q 48.875 64.0625 45.09375 64.984375  Q 41.3125 65.921875 37.59375 65.921875  Q 27.828125 65.921875 22.671875 59.328125  Q 17.53125 52.734375 16.796875 39.40625  Q 19.671875 43.65625 24.015625 45.921875  Q 28.375 48.1875 33.59375 48.1875  Q 44.578125 48.1875 50.953125 41.515625  Q 57.328125 34.859375 57.328125 23.390625  Q 57.328125 12.15625 50.6875 5.359375  Q 44.046875 -1.421875 33.015625 -1.421875  Q 20.359375 -1.421875 13.671875 8.265625  Q 6.984375 17.96875 6.984375 36.375  Q 6.984375 53.65625 15.1875 63.9375  Q 23.390625 74.21875 37.203125 74.21875  Q 40.921875 74.21875 44.703125 73.484375  Q 48.484375 72.75 52.59375 71.296875  z \" id=\"DejaVuSans-54\" />\n      </defs>\n      <g style=\"fill:#444443;\" transform=\"translate(4.921875 42.003839)scale(0.08 -0.08)\">\n       <use xlink:href=\"#DejaVuSans-8722\" />\n       <use x=\"83.789062\" xlink:href=\"#DejaVuSans-48\" />\n       <use x=\"147.412109\" xlink:href=\"#DejaVuSans-46\" />\n       <use x=\"179.199219\" xlink:href=\"#DejaVuSans-53\" />\n       <use x=\"242.822266\" xlink:href=\"#DejaVuSans-54\" />\n      </g>\n     </g>\n    </g>\n    <g id=\"xtick_2\">\n     <g id=\"line2d_2\">\n      <g>\n       <use style=\"stroke:#000000;stroke-width:0.3;\" x=\"193.02131\" y=\"28.925089\" xlink:href=\"#m15e718801e\" />\n      </g>\n     </g>\n     <g id=\"text_2\">\n      \n      <defs>\n       <path d=\"M 10.984375 1.515625  L 10.984375 10.5  Q 14.703125 8.734375 18.5 7.8125  Q 22.3125 6.890625 25.984375 6.890625  Q 35.75 6.890625 40.890625 13.453125  Q 46.046875 20.015625 46.78125 33.40625  Q 43.953125 29.203125 39.59375 26.953125  Q 35.25 24.703125 29.984375 24.703125  Q 19.046875 24.703125 12.671875 31.3125  Q 6.296875 37.9375 6.296875 49.421875  Q 6.296875 60.640625 12.9375 67.421875  Q 19.578125 74.21875 30.609375 74.21875  Q 43.265625 74.21875 49.921875 64.515625  Q 56.59375 54.828125 56.59375 36.375  Q 56.59375 19.140625 48.40625 8.859375  Q 40.234375 -1.421875 26.421875 -1.421875  Q 22.703125 -1.421875 18.890625 -0.6875  Q 15.09375 0.046875 10.984375 1.515625  z M 30.609375 32.421875  Q 37.25 32.421875 41.125 36.953125  Q 45.015625 41.5 45.015625 49.421875  Q 45.015625 57.28125 41.125 61.84375  Q 37.25 66.40625 30.609375 66.40625  Q 23.96875 66.40625 20.09375 61.84375  Q 16.21875 57.28125 16.21875 49.421875  Q 16.21875 41.5 20.09375 36.953125  Q 23.96875 32.421875 30.609375 32.421875  z \" id=\"DejaVuSans-57\" />\n       <path d=\"M 37.796875 64.3125  L 12.890625 25.390625  L 37.796875 25.390625  z M 35.203125 72.90625  L 47.609375 72.90625  L 47.609375 25.390625  L 58.015625 25.390625  L 58.015625 17.1875  L 47.609375 17.1875  L 47.609375 0  L 37.796875 0  L 37.796875 17.1875  L 4.890625 17.1875  L 4.890625 26.703125  z \" id=\"DejaVuSans-52\" />\n       <path d=\"M 12.40625 8.296875  L 28.515625 8.296875  L 28.515625 63.921875  L 10.984375 60.40625  L 10.984375 69.390625  L 28.421875 72.90625  L 38.28125 72.90625  L 38.28125 8.296875  L 54.390625 8.296875  L 54.390625 0  L 12.40625 0  z \" id=\"DejaVuSans-49\" />\n      </defs>\n      <g style=\"fill:#444443;\" transform=\"translate(184.11506 42.003839)scale(0.08 -0.08)\">\n       <use xlink:href=\"#DejaVuSans-57\" />\n       <use x=\"63.623047\" xlink:href=\"#DejaVuSans-46\" />\n       <use x=\"95.410156\" xlink:href=\"#DejaVuSans-52\" />\n       <use x=\"159.033203\" xlink:href=\"#DejaVuSans-49\" />\n      </g>\n     </g>\n    </g>\n    <g id=\"text_3\">\n     \n     <defs>\n      <path d=\"M 34.1875 63.1875  L 20.796875 26.90625  L 47.609375 26.90625  z M 28.609375 72.90625  L 39.796875 72.90625  L 67.578125 0  L 57.328125 0  L 50.6875 18.703125  L 17.828125 18.703125  L 11.1875 0  L 0.78125 0  z \" id=\"DejaVuSans-65\" />\n      <path d=\"M 45.40625 27.984375  Q 45.40625 37.75 41.375 43.109375  Q 37.359375 48.484375 30.078125 48.484375  Q 22.859375 48.484375 18.828125 43.109375  Q 14.796875 37.75 14.796875 27.984375  Q 14.796875 18.265625 18.828125 12.890625  Q 22.859375 7.515625 30.078125 7.515625  Q 37.359375 7.515625 41.375 12.890625  Q 45.40625 18.265625 45.40625 27.984375  z M 54.390625 6.78125  Q 54.390625 -7.171875 48.1875 -13.984375  Q 42 -20.796875 29.203125 -20.796875  Q 24.46875 -20.796875 20.265625 -20.09375  Q 16.0625 -19.390625 12.109375 -17.921875  L 12.109375 -9.1875  Q 16.0625 -11.328125 19.921875 -12.34375  Q 23.78125 -13.375 27.78125 -13.375  Q 36.625 -13.375 41.015625 -8.765625  Q 45.40625 -4.15625 45.40625 5.171875  L 45.40625 9.625  Q 42.625 4.78125 38.28125 2.390625  Q 33.9375 0 27.875 0  Q 17.828125 0 11.671875 7.65625  Q 5.515625 15.328125 5.515625 27.984375  Q 5.515625 40.671875 11.671875 48.328125  Q 17.828125 56 27.875 56  Q 33.9375 56 38.28125 53.609375  Q 42.625 51.21875 45.40625 46.390625  L 45.40625 54.6875  L 54.390625 54.6875  z \" id=\"DejaVuSans-103\" />\n      <path d=\"M 56.203125 29.59375  L 56.203125 25.203125  L 14.890625 25.203125  Q 15.484375 15.921875 20.484375 11.0625  Q 25.484375 6.203125 34.421875 6.203125  Q 39.59375 6.203125 44.453125 7.46875  Q 49.3125 8.734375 54.109375 11.28125  L 54.109375 2.78125  Q 49.265625 0.734375 44.1875 -0.34375  Q 39.109375 -1.421875 33.890625 -1.421875  Q 20.796875 -1.421875 13.15625 6.1875  Q 5.515625 13.8125 5.515625 26.8125  Q 5.515625 40.234375 12.765625 48.109375  Q 20.015625 56 32.328125 56  Q 43.359375 56 49.78125 48.890625  Q 56.203125 41.796875 56.203125 29.59375  z M 47.21875 32.234375  Q 47.125 39.59375 43.09375 43.984375  Q 39.0625 48.390625 32.421875 48.390625  Q 24.90625 48.390625 20.390625 44.140625  Q 15.875 39.890625 15.1875 32.171875  z \" id=\"DejaVuSans-101\" />\n      <path d=\"M 50.984375 -16.609375  L 50.984375 -23.578125  L -0.984375 -23.578125  L -0.984375 -16.609375  z \" id=\"DejaVuSans-95\" />\n      <path d=\"M 9.8125 72.90625  L 51.703125 72.90625  L 51.703125 64.59375  L 19.671875 64.59375  L 19.671875 43.109375  L 48.578125 43.109375  L 48.578125 34.8125  L 19.671875 34.8125  L 19.671875 0  L 9.8125 0  z \" id=\"DejaVuSans-70\" />\n      <path d=\"M 34.28125 27.484375  Q 23.390625 27.484375 19.1875 25  Q 14.984375 22.515625 14.984375 16.5  Q 14.984375 11.71875 18.140625 8.90625  Q 21.296875 6.109375 26.703125 6.109375  Q 34.1875 6.109375 38.703125 11.40625  Q 43.21875 16.703125 43.21875 25.484375  L 43.21875 27.484375  z M 52.203125 31.203125  L 52.203125 0  L 43.21875 0  L 43.21875 8.296875  Q 40.140625 3.328125 35.546875 0.953125  Q 30.953125 -1.421875 24.3125 -1.421875  Q 15.921875 -1.421875 10.953125 3.296875  Q 6 8.015625 6 15.921875  Q 6 25.140625 12.171875 29.828125  Q 18.359375 34.515625 30.609375 34.515625  L 43.21875 34.515625  L 43.21875 35.40625  Q 43.21875 41.609375 39.140625 45  Q 35.0625 48.390625 27.6875 48.390625  Q 23 48.390625 18.546875 47.265625  Q 14.109375 46.140625 10.015625 43.890625  L 10.015625 52.203125  Q 14.9375 54.109375 19.578125 55.046875  Q 24.21875 56 28.609375 56  Q 40.484375 56 46.34375 49.84375  Q 52.203125 43.703125 52.203125 31.203125  z \" id=\"DejaVuSans-97\" />\n      <path d=\"M 41.109375 46.296875  Q 39.59375 47.171875 37.8125 47.578125  Q 36.03125 48 33.890625 48  Q 26.265625 48 22.1875 43.046875  Q 18.109375 38.09375 18.109375 28.8125  L 18.109375 0  L 9.078125 0  L 9.078125 54.6875  L 18.109375 54.6875  L 18.109375 46.1875  Q 20.953125 51.171875 25.484375 53.578125  Q 30.03125 56 36.53125 56  Q 37.453125 56 38.578125 55.875  Q 39.703125 55.765625 41.0625 55.515625  z \" id=\"DejaVuSans-114\" />\n     </defs>\n     <g style=\"fill:#444443;\" transform=\"translate(86.575781 54.987902)scale(0.1 -0.1)\">\n      <use xlink:href=\"#DejaVuSans-65\" />\n      <use x=\"68.408203\" xlink:href=\"#DejaVuSans-103\" />\n      <use x=\"131.884766\" xlink:href=\"#DejaVuSans-101\" />\n      <use x=\"193.408203\" xlink:href=\"#DejaVuSans-95\" />\n      <use x=\"243.408203\" xlink:href=\"#DejaVuSans-70\" />\n      <use x=\"291.802734\" xlink:href=\"#DejaVuSans-97\" />\n      <use x=\"353.082031\" xlink:href=\"#DejaVuSans-114\" />\n      <use x=\"391.945312\" xlink:href=\"#DejaVuSans-101\" />\n     </g>\n    </g>\n   </g>\n   <g id=\"matplotlib.axis_2\">\n    <g id=\"ytick_1\">\n     <g id=\"line2d_3\">\n      <defs>\n       <path d=\"M 0 0  L -3.5 0  \" id=\"m32fd96e73a\" style=\"stroke:#000000;stroke-width:0.3;\" />\n      </defs>\n      <g>\n       <use style=\"stroke:#000000;stroke-width:0.3;\" x=\"17.18\" y=\"28.925089\" xlink:href=\"#m32fd96e73a\" />\n      </g>\n     </g>\n     <g id=\"text_4\">\n      \n      <g style=\"fill:#444443;\" transform=\"translate(5.09 31.964464)scale(0.08 -0.08)\">\n       <use xlink:href=\"#DejaVuSans-48\" />\n      </g>\n     </g>\n    </g>\n    <g id=\"ytick_2\">\n     <g id=\"line2d_4\">\n      <g>\n       <use style=\"stroke:#000000;stroke-width:0.3;\" x=\"17.18\" y=\"3.039375\" xlink:href=\"#m32fd96e73a\" />\n      </g>\n     </g>\n     <g id=\"text_5\">\n      \n      <defs>\n       <path d=\"M 31.78125 34.625  Q 24.75 34.625 20.71875 30.859375  Q 16.703125 27.09375 16.703125 20.515625  Q 16.703125 13.921875 20.71875 10.15625  Q 24.75 6.390625 31.78125 6.390625  Q 38.8125 6.390625 42.859375 10.171875  Q 46.921875 13.96875 46.921875 20.515625  Q 46.921875 27.09375 42.890625 30.859375  Q 38.875 34.625 31.78125 34.625  z M 21.921875 38.8125  Q 15.578125 40.375 12.03125 44.71875  Q 8.5 49.078125 8.5 55.328125  Q 8.5 64.0625 14.71875 69.140625  Q 20.953125 74.21875 31.78125 74.21875  Q 42.671875 74.21875 48.875 69.140625  Q 55.078125 64.0625 55.078125 55.328125  Q 55.078125 49.078125 51.53125 44.71875  Q 48 40.375 41.703125 38.8125  Q 48.828125 37.15625 52.796875 32.3125  Q 56.78125 27.484375 56.78125 20.515625  Q 56.78125 9.90625 50.3125 4.234375  Q 43.84375 -1.421875 31.78125 -1.421875  Q 19.734375 -1.421875 13.25 4.234375  Q 6.78125 9.90625 6.78125 20.515625  Q 6.78125 27.484375 10.78125 32.3125  Q 14.796875 37.15625 21.921875 38.8125  z M 18.3125 54.390625  Q 18.3125 48.734375 21.84375 45.5625  Q 25.390625 42.390625 31.78125 42.390625  Q 38.140625 42.390625 41.71875 45.5625  Q 45.3125 48.734375 45.3125 54.390625  Q 45.3125 60.0625 41.71875 63.234375  Q 38.140625 66.40625 31.78125 66.40625  Q 25.390625 66.40625 21.84375 63.234375  Q 18.3125 60.0625 18.3125 54.390625  z \" id=\"DejaVuSans-56\" />\n      </defs>\n      <g style=\"fill:#444443;\" transform=\"translate(0 6.07875)scale(0.08 -0.08)\">\n       <use xlink:href=\"#DejaVuSans-56\" />\n       <use x=\"63.623047\" xlink:href=\"#DejaVuSans-48\" />\n      </g>\n     </g>\n    </g>\n   </g>\n   <g id=\"patch_42\">\n    <path d=\"M 17.18 28.925089  L 17.18 1.745089  \" style=\"fill:none;stroke:#000000;stroke-linecap:square;stroke-linejoin:miter;stroke-width:0.3;\" />\n   </g>\n   <g id=\"patch_43\">\n    <path d=\"M 17.18 28.925089  L 201.32 28.925089  \" style=\"fill:none;stroke:#000000;stroke-linecap:square;stroke-linejoin:miter;stroke-width:0.3;\" />\n   </g>\n   <g id=\"text_6\">\n    \n    <defs>\n     <path d=\"M 4.890625 31.390625  L 31.203125 31.390625  L 31.203125 23.390625  L 4.890625 23.390625  z \" id=\"DejaVuSans-45\" />\n    </defs>\n    <g style=\"fill:#444443;\" transform=\"translate(8.550399 45.233089)scale(0.08 -0.08)\">\n     <use xlink:href=\"#DejaVuSans-45\" />\n     <use x=\"36.083984\" xlink:href=\"#DejaVuSans-48\" />\n     <use x=\"99.707031\" xlink:href=\"#DejaVuSans-46\" />\n     <use x=\"131.494141\" xlink:href=\"#DejaVuSans-52\" />\n     <use x=\"195.117188\" xlink:href=\"#DejaVuSans-54\" />\n    </g>\n   </g>\n  </g>\n </g>\n <defs>\n  <clipPath id=\"pd9fd0fc6fe\">\n   <rect height=\"27.18\" width=\"184.14\" x=\"17.18\" y=\"1.745089\" />\n  </clipPath>\n </defs>\n</svg></g>\n\n<g class=\"node\" id=\"node4\">\n<title>leaf5</title>\n<polygon fill=\"none\" points=\"594,-152.5 550,-152.5 550,-93.5 594,-93.5 594,-152.5\" stroke=\"#444443\" stroke-width=\"0\" />\n<svg height=\"51px\" preserveAspectRatio=\"xMinYMin meet\" version=\"1.1\" viewBox=\"0 0 48.166317 68.500054\" width=\"36px\" x=\"554\" y=\"-148\">\n <defs>\n  <style type=\"text/css\">\n*{stroke-linecap:butt;stroke-linejoin:round;}\n  </style>\n </defs>\n <g id=\"figure_1\">\n  <g id=\"patch_1\">\n   <path d=\"M 0 68.500054  L 48.166317 68.500054  L 48.166317 0  L 0 0  z \" style=\"fill:#ffffff;\" />\n  </g>\n  <g id=\"axes_1\">\n   <g id=\"patch_2\">\n    <path d=\"M 48.166316 23.94507  C 48.166316 20.750232 47.524582 17.587702 46.279279 14.645558  C 45.033977 11.703415 43.210291 9.041162 40.916679 6.817127  C 38.623067 4.593092 35.905916 2.852255 32.926818 1.698147  C 29.94772 0.544039 26.766928 -0 23.573605 0.098386  L 24.308316 23.94507  L 48.166316 23.94507  z \" style=\"fill:#fefebb;stroke:#444443;stroke-linejoin:miter;stroke-width:0.5;\" />\n   </g>\n   <g id=\"patch_3\">\n    <path d=\"M 23.573605 0.098386  C 18.888995 0.242717 14.349164 1.764315 10.523786 4.472246  C 6.698407 7.180176 3.754471 10.956227 2.061392 15.326569  C 0.368313 19.696911 0 24.470763 1.002669 29.049089  C 2.005339 33.627414 4.33522 37.810352 7.699955 41.073015  C 11.064689 44.335678 15.317392 46.53564 19.924423 47.396843  C 24.531455 48.258046 29.2917 47.742895 33.607831 45.916032  C 37.923961 44.08917 41.607562 41.030346 44.196404 37.12339  C 46.785246 33.216434 48.166317 28.631899 48.166316 23.945066  L 24.308316 23.94507  L 23.573605 0.098386  z \" style=\"fill:#a1dab4;stroke:#444443;stroke-linejoin:miter;stroke-width:0.5;\" />\n   </g>\n   <g id=\"text_1\">\n    \n    <defs>\n     <path d=\"M 54.890625 33.015625  L 54.890625 0  L 45.90625 0  L 45.90625 32.71875  Q 45.90625 40.484375 42.875 44.328125  Q 39.84375 48.1875 33.796875 48.1875  Q 26.515625 48.1875 22.3125 43.546875  Q 18.109375 38.921875 18.109375 30.90625  L 18.109375 0  L 9.078125 0  L 9.078125 54.6875  L 18.109375 54.6875  L 18.109375 46.1875  Q 21.34375 51.125 25.703125 53.5625  Q 30.078125 56 35.796875 56  Q 45.21875 56 50.046875 50.171875  Q 54.890625 44.34375 54.890625 33.015625  z \" id=\"DejaVuSans-110\" />\n     <path d=\"M 10.59375 45.40625  L 73.1875 45.40625  L 73.1875 37.203125  L 10.59375 37.203125  z M 10.59375 25.484375  L 73.1875 25.484375  L 73.1875 17.1875  L 10.59375 17.1875  z \" id=\"DejaVuSans-61\" />\n     <path d=\"M 40.578125 39.3125  Q 47.65625 37.796875 51.625 33  Q 55.609375 28.21875 55.609375 21.1875  Q 55.609375 10.40625 48.1875 4.484375  Q 40.765625 -1.421875 27.09375 -1.421875  Q 22.515625 -1.421875 17.65625 -0.515625  Q 12.796875 0.390625 7.625 2.203125  L 7.625 11.71875  Q 11.71875 9.328125 16.59375 8.109375  Q 21.484375 6.890625 26.8125 6.890625  Q 36.078125 6.890625 40.9375 10.546875  Q 45.796875 14.203125 45.796875 21.1875  Q 45.796875 27.640625 41.28125 31.265625  Q 36.765625 34.90625 28.71875 34.90625  L 20.21875 34.90625  L 20.21875 43.015625  L 29.109375 43.015625  Q 36.375 43.015625 40.234375 45.921875  Q 44.09375 48.828125 44.09375 54.296875  Q 44.09375 59.90625 40.109375 62.90625  Q 36.140625 65.921875 28.71875 65.921875  Q 24.65625 65.921875 20.015625 65.03125  Q 15.375 64.15625 9.8125 62.3125  L 9.8125 71.09375  Q 15.4375 72.65625 20.34375 73.4375  Q 25.25 74.21875 29.59375 74.21875  Q 40.828125 74.21875 47.359375 69.109375  Q 53.90625 64.015625 53.90625 55.328125  Q 53.90625 49.265625 50.4375 45.09375  Q 46.96875 40.921875 40.578125 39.3125  z \" id=\"DejaVuSans-51\" />\n     <path d=\"M 19.1875 8.296875  L 53.609375 8.296875  L 53.609375 0  L 7.328125 0  L 7.328125 8.296875  Q 12.9375 14.109375 22.625 23.890625  Q 32.328125 33.6875 34.8125 36.53125  Q 39.546875 41.84375 41.421875 45.53125  Q 43.3125 49.21875 43.3125 52.78125  Q 43.3125 58.59375 39.234375 62.25  Q 35.15625 65.921875 28.609375 65.921875  Q 23.96875 65.921875 18.8125 64.3125  Q 13.671875 62.703125 7.8125 59.421875  L 7.8125 69.390625  Q 13.765625 71.78125 18.9375 73  Q 24.125 74.21875 28.421875 74.21875  Q 39.75 74.21875 46.484375 68.546875  Q 53.21875 62.890625 53.21875 53.421875  Q 53.21875 48.921875 51.53125 44.890625  Q 49.859375 40.875 45.40625 35.40625  Q 44.1875 33.984375 37.640625 27.21875  Q 31.109375 20.453125 19.1875 8.296875  z \" id=\"DejaVuSans-50\" />\n    </defs>\n    <g style=\"fill:#444443;\" transform=\"translate(11.959331 56.550304)scale(0.09 -0.09)\">\n     <use xlink:href=\"#DejaVuSans-110\" />\n     <use x=\"63.378906\" xlink:href=\"#DejaVuSans-61\" />\n     <use x=\"147.167969\" xlink:href=\"#DejaVuSans-51\" />\n     <use x=\"210.791016\" xlink:href=\"#DejaVuSans-50\" />\n    </g>\n    \n    <defs>\n     <path d=\"M 48.78125 52.59375  L 48.78125 44.1875  Q 44.96875 46.296875 41.140625 47.34375  Q 37.3125 48.390625 33.40625 48.390625  Q 24.65625 48.390625 19.8125 42.84375  Q 14.984375 37.3125 14.984375 27.296875  Q 14.984375 17.28125 19.8125 11.734375  Q 24.65625 6.203125 33.40625 6.203125  Q 37.3125 6.203125 41.140625 7.25  Q 44.96875 8.296875 48.78125 10.40625  L 48.78125 2.09375  Q 45.015625 0.34375 40.984375 -0.53125  Q 36.96875 -1.421875 32.421875 -1.421875  Q 20.0625 -1.421875 12.78125 6.34375  Q 5.515625 14.109375 5.515625 27.296875  Q 5.515625 40.671875 12.859375 48.328125  Q 20.21875 56 33.015625 56  Q 37.15625 56 41.109375 55.140625  Q 45.0625 54.296875 48.78125 52.59375  z \" id=\"DejaVuSans-99\" />\n     <path d=\"M 9.421875 75.984375  L 18.40625 75.984375  L 18.40625 0  L 9.421875 0  z \" id=\"DejaVuSans-108\" />\n     <path d=\"M 34.28125 27.484375  Q 23.390625 27.484375 19.1875 25  Q 14.984375 22.515625 14.984375 16.5  Q 14.984375 11.71875 18.140625 8.90625  Q 21.296875 6.109375 26.703125 6.109375  Q 34.1875 6.109375 38.703125 11.40625  Q 43.21875 16.703125 43.21875 25.484375  L 43.21875 27.484375  z M 52.203125 31.203125  L 52.203125 0  L 43.21875 0  L 43.21875 8.296875  Q 40.140625 3.328125 35.546875 0.953125  Q 30.953125 -1.421875 24.3125 -1.421875  Q 15.921875 -1.421875 10.953125 3.296875  Q 6 8.015625 6 15.921875  Q 6 25.140625 12.171875 29.828125  Q 18.359375 34.515625 30.609375 34.515625  L 43.21875 34.515625  L 43.21875 35.40625  Q 43.21875 41.609375 39.140625 45  Q 35.0625 48.390625 27.6875 48.390625  Q 23 48.390625 18.546875 47.265625  Q 14.109375 46.140625 10.015625 43.890625  L 10.015625 52.203125  Q 14.9375 54.109375 19.578125 55.046875  Q 24.21875 56 28.609375 56  Q 40.484375 56 46.34375 49.84375  Q 52.203125 43.703125 52.203125 31.203125  z \" id=\"DejaVuSans-97\" />\n     <path d=\"M 44.28125 53.078125  L 44.28125 44.578125  Q 40.484375 46.53125 36.375 47.5  Q 32.28125 48.484375 27.875 48.484375  Q 21.1875 48.484375 17.84375 46.4375  Q 14.5 44.390625 14.5 40.28125  Q 14.5 37.15625 16.890625 35.375  Q 19.28125 33.59375 26.515625 31.984375  L 29.59375 31.296875  Q 39.15625 29.25 43.1875 25.515625  Q 47.21875 21.78125 47.21875 15.09375  Q 47.21875 7.46875 41.1875 3.015625  Q 35.15625 -1.421875 24.609375 -1.421875  Q 20.21875 -1.421875 15.453125 -0.5625  Q 10.6875 0.296875 5.421875 2  L 5.421875 11.28125  Q 10.40625 8.6875 15.234375 7.390625  Q 20.0625 6.109375 24.8125 6.109375  Q 31.15625 6.109375 34.5625 8.28125  Q 37.984375 10.453125 37.984375 14.40625  Q 37.984375 18.0625 35.515625 20.015625  Q 33.0625 21.96875 24.703125 23.78125  L 21.578125 24.515625  Q 13.234375 26.265625 9.515625 29.90625  Q 5.8125 33.546875 5.8125 39.890625  Q 5.8125 47.609375 11.28125 51.796875  Q 16.75 56 26.8125 56  Q 31.78125 56 36.171875 55.265625  Q 40.578125 54.546875 44.28125 53.078125  z \" id=\"DejaVuSans-115\" />\n     <path id=\"DejaVuSans-32\" />\n     <path d=\"M 12.40625 8.296875  L 28.515625 8.296875  L 28.515625 63.921875  L 10.984375 60.40625  L 10.984375 69.390625  L 28.421875 72.90625  L 38.28125 72.90625  L 38.28125 8.296875  L 54.390625 8.296875  L 54.390625 0  L 12.40625 0  z \" id=\"DejaVuSans-49\" />\n    </defs>\n    <g style=\"fill:#444443;\" transform=\"translate(8.844488 66.628335)scale(0.09 -0.09)\">\n     <use xlink:href=\"#DejaVuSans-99\" />\n     <use x=\"54.980469\" xlink:href=\"#DejaVuSans-108\" />\n     <use x=\"82.763672\" xlink:href=\"#DejaVuSans-97\" />\n     <use x=\"144.042969\" xlink:href=\"#DejaVuSans-115\" />\n     <use x=\"196.142578\" xlink:href=\"#DejaVuSans-115\" />\n     <use x=\"248.242188\" xlink:href=\"#DejaVuSans-32\" />\n     <use x=\"280.029297\" xlink:href=\"#DejaVuSans-49\" />\n    </g>\n   </g>\n  </g>\n </g>\n</svg></g>\n\n<g class=\"edge\" id=\"edge1\">\n<title>node4-&gt;leaf5</title>\n<path d=\"M521.5822,-106.521C530.2734,-109.3617 538.6101,-112.0866 545.9145,-114.474\" fill=\"none\" stroke=\"#444443\" stroke-width=\".3\" />\n<polygon fill=\"#444443\" points=\"545.625,-115.8522 549.8621,-115.7643 546.495,-113.1908 545.625,-115.8522\" stroke=\"#444443\" stroke-width=\".3\" />\n</g>\n\n<g class=\"node\" id=\"node5\">\n<title>leaf6</title>\n<polygon fill=\"none\" points=\"604,-80 540,-80 540,0 604,0 604,-80\" stroke=\"#444443\" stroke-width=\"0\" />\n<svg height=\"72px\" preserveAspectRatio=\"xMinYMin meet\" version=\"1.1\" viewBox=\"0 0 74.292002 96.052024\" width=\"56px\" x=\"544\" y=\"-76\">\n <defs>\n  <style type=\"text/css\">\n*{stroke-linecap:butt;stroke-linejoin:round;}\n  </style>\n </defs>\n <g id=\"figure_1\">\n  <g id=\"patch_1\">\n   <path d=\"M 0 96.052024  L 74.292002 96.052024  L 74.292002 0  L 0 0  z \" style=\"fill:#ffffff;\" />\n  </g>\n  <g id=\"axes_1\">\n   <g id=\"patch_2\">\n    <path d=\"M 74.292001 37.146  C 74.292001 30.626001 72.57538 24.219485 69.31538 18.573  C 66.05538 12.926515 61.365485 8.23662 55.719 4.97662  C 50.072514 1.71662 43.665999 0 37.145999 0  C 30.625999 0.000001 24.219484 1.716622 18.572999 4.976622  C 12.926513 8.236622 8.236619 12.926517 4.97662 18.573003  C 1.71662 24.219488 0 30.626004 0.000001 37.146004  C 0.000001 43.666003 1.716623 50.072519 4.976623 55.719004  C 8.236623 61.365489 12.926519 66.055383 18.573005 69.315382  L 37.146001 37.146  L 74.292001 37.146  z \" style=\"fill:#fefebb;stroke:#444443;stroke-linejoin:miter;stroke-width:0.5;\" />\n   </g>\n   <g id=\"patch_3\">\n    <path d=\"M 18.573005 69.315382  C 24.21949 72.575381 30.626006 74.292001 37.146006 74.292  C 43.666005 74.291999 50.072521 72.575378 55.719006 69.315377  C 61.36549 66.055376 66.055385 61.365481 69.315383 55.718995  C 72.575382 50.072509 74.292002 43.665993 74.292001 37.145993  L 37.146001 37.146  L 18.573005 69.315382  z \" style=\"fill:#a1dab4;stroke:#444443;stroke-linejoin:miter;stroke-width:0.5;\" />\n   </g>\n   <g id=\"text_1\">\n    \n    <defs>\n     <path d=\"M 54.890625 33.015625  L 54.890625 0  L 45.90625 0  L 45.90625 32.71875  Q 45.90625 40.484375 42.875 44.328125  Q 39.84375 48.1875 33.796875 48.1875  Q 26.515625 48.1875 22.3125 43.546875  Q 18.109375 38.921875 18.109375 30.90625  L 18.109375 0  L 9.078125 0  L 9.078125 54.6875  L 18.109375 54.6875  L 18.109375 46.1875  Q 21.34375 51.125 25.703125 53.5625  Q 30.078125 56 35.796875 56  Q 45.21875 56 50.046875 50.171875  Q 54.890625 44.34375 54.890625 33.015625  z \" id=\"DejaVuSans-110\" />\n     <path d=\"M 10.59375 45.40625  L 73.1875 45.40625  L 73.1875 37.203125  L 10.59375 37.203125  z M 10.59375 25.484375  L 73.1875 25.484375  L 73.1875 17.1875  L 10.59375 17.1875  z \" id=\"DejaVuSans-61\" />\n     <path d=\"M 10.796875 72.90625  L 49.515625 72.90625  L 49.515625 64.59375  L 19.828125 64.59375  L 19.828125 46.734375  Q 21.96875 47.46875 24.109375 47.828125  Q 26.265625 48.1875 28.421875 48.1875  Q 40.625 48.1875 47.75 41.5  Q 54.890625 34.8125 54.890625 23.390625  Q 54.890625 11.625 47.5625 5.09375  Q 40.234375 -1.421875 26.90625 -1.421875  Q 22.3125 -1.421875 17.546875 -0.640625  Q 12.796875 0.140625 7.71875 1.703125  L 7.71875 11.625  Q 12.109375 9.234375 16.796875 8.0625  Q 21.484375 6.890625 26.703125 6.890625  Q 35.15625 6.890625 40.078125 11.328125  Q 45.015625 15.765625 45.015625 23.390625  Q 45.015625 31 40.078125 35.4375  Q 35.15625 39.890625 26.703125 39.890625  Q 22.75 39.890625 18.8125 39.015625  Q 14.890625 38.140625 10.796875 36.28125  z \" id=\"DejaVuSans-53\" />\n     <path d=\"M 37.796875 64.3125  L 12.890625 25.390625  L 37.796875 25.390625  z M 35.203125 72.90625  L 47.609375 72.90625  L 47.609375 25.390625  L 58.015625 25.390625  L 58.015625 17.1875  L 47.609375 17.1875  L 47.609375 0  L 37.796875 0  L 37.796875 17.1875  L 4.890625 17.1875  L 4.890625 26.703125  z \" id=\"DejaVuSans-52\" />\n    </defs>\n    <g style=\"fill:#444443;\" transform=\"translate(24.797016 84.102274)scale(0.09 -0.09)\">\n     <use xlink:href=\"#DejaVuSans-110\" />\n     <use x=\"63.378906\" xlink:href=\"#DejaVuSans-61\" />\n     <use x=\"147.167969\" xlink:href=\"#DejaVuSans-53\" />\n     <use x=\"210.791016\" xlink:href=\"#DejaVuSans-52\" />\n    </g>\n    \n    <defs>\n     <path d=\"M 48.78125 52.59375  L 48.78125 44.1875  Q 44.96875 46.296875 41.140625 47.34375  Q 37.3125 48.390625 33.40625 48.390625  Q 24.65625 48.390625 19.8125 42.84375  Q 14.984375 37.3125 14.984375 27.296875  Q 14.984375 17.28125 19.8125 11.734375  Q 24.65625 6.203125 33.40625 6.203125  Q 37.3125 6.203125 41.140625 7.25  Q 44.96875 8.296875 48.78125 10.40625  L 48.78125 2.09375  Q 45.015625 0.34375 40.984375 -0.53125  Q 36.96875 -1.421875 32.421875 -1.421875  Q 20.0625 -1.421875 12.78125 6.34375  Q 5.515625 14.109375 5.515625 27.296875  Q 5.515625 40.671875 12.859375 48.328125  Q 20.21875 56 33.015625 56  Q 37.15625 56 41.109375 55.140625  Q 45.0625 54.296875 48.78125 52.59375  z \" id=\"DejaVuSans-99\" />\n     <path d=\"M 9.421875 75.984375  L 18.40625 75.984375  L 18.40625 0  L 9.421875 0  z \" id=\"DejaVuSans-108\" />\n     <path d=\"M 34.28125 27.484375  Q 23.390625 27.484375 19.1875 25  Q 14.984375 22.515625 14.984375 16.5  Q 14.984375 11.71875 18.140625 8.90625  Q 21.296875 6.109375 26.703125 6.109375  Q 34.1875 6.109375 38.703125 11.40625  Q 43.21875 16.703125 43.21875 25.484375  L 43.21875 27.484375  z M 52.203125 31.203125  L 52.203125 0  L 43.21875 0  L 43.21875 8.296875  Q 40.140625 3.328125 35.546875 0.953125  Q 30.953125 -1.421875 24.3125 -1.421875  Q 15.921875 -1.421875 10.953125 3.296875  Q 6 8.015625 6 15.921875  Q 6 25.140625 12.171875 29.828125  Q 18.359375 34.515625 30.609375 34.515625  L 43.21875 34.515625  L 43.21875 35.40625  Q 43.21875 41.609375 39.140625 45  Q 35.0625 48.390625 27.6875 48.390625  Q 23 48.390625 18.546875 47.265625  Q 14.109375 46.140625 10.015625 43.890625  L 10.015625 52.203125  Q 14.9375 54.109375 19.578125 55.046875  Q 24.21875 56 28.609375 56  Q 40.484375 56 46.34375 49.84375  Q 52.203125 43.703125 52.203125 31.203125  z \" id=\"DejaVuSans-97\" />\n     <path d=\"M 44.28125 53.078125  L 44.28125 44.578125  Q 40.484375 46.53125 36.375 47.5  Q 32.28125 48.484375 27.875 48.484375  Q 21.1875 48.484375 17.84375 46.4375  Q 14.5 44.390625 14.5 40.28125  Q 14.5 37.15625 16.890625 35.375  Q 19.28125 33.59375 26.515625 31.984375  L 29.59375 31.296875  Q 39.15625 29.25 43.1875 25.515625  Q 47.21875 21.78125 47.21875 15.09375  Q 47.21875 7.46875 41.1875 3.015625  Q 35.15625 -1.421875 24.609375 -1.421875  Q 20.21875 -1.421875 15.453125 -0.5625  Q 10.6875 0.296875 5.421875 2  L 5.421875 11.28125  Q 10.40625 8.6875 15.234375 7.390625  Q 20.0625 6.109375 24.8125 6.109375  Q 31.15625 6.109375 34.5625 8.28125  Q 37.984375 10.453125 37.984375 14.40625  Q 37.984375 18.0625 35.515625 20.015625  Q 33.0625 21.96875 24.703125 23.78125  L 21.578125 24.515625  Q 13.234375 26.265625 9.515625 29.90625  Q 5.8125 33.546875 5.8125 39.890625  Q 5.8125 47.609375 11.28125 51.796875  Q 16.75 56 26.8125 56  Q 31.78125 56 36.171875 55.265625  Q 40.578125 54.546875 44.28125 53.078125  z \" id=\"DejaVuSans-115\" />\n     <path id=\"DejaVuSans-32\" />\n     <path d=\"M 31.78125 66.40625  Q 24.171875 66.40625 20.328125 58.90625  Q 16.5 51.421875 16.5 36.375  Q 16.5 21.390625 20.328125 13.890625  Q 24.171875 6.390625 31.78125 6.390625  Q 39.453125 6.390625 43.28125 13.890625  Q 47.125 21.390625 47.125 36.375  Q 47.125 51.421875 43.28125 58.90625  Q 39.453125 66.40625 31.78125 66.40625  z M 31.78125 74.21875  Q 44.046875 74.21875 50.515625 64.515625  Q 56.984375 54.828125 56.984375 36.375  Q 56.984375 17.96875 50.515625 8.265625  Q 44.046875 -1.421875 31.78125 -1.421875  Q 19.53125 -1.421875 13.0625 8.265625  Q 6.59375 17.96875 6.59375 36.375  Q 6.59375 54.828125 13.0625 64.515625  Q 19.53125 74.21875 31.78125 74.21875  z \" id=\"DejaVuSans-48\" />\n    </defs>\n    <g style=\"fill:#444443;\" transform=\"translate(21.682172 94.180305)scale(0.09 -0.09)\">\n     <use xlink:href=\"#DejaVuSans-99\" />\n     <use x=\"54.980469\" xlink:href=\"#DejaVuSans-108\" />\n     <use x=\"82.763672\" xlink:href=\"#DejaVuSans-97\" />\n     <use x=\"144.042969\" xlink:href=\"#DejaVuSans-115\" />\n     <use x=\"196.142578\" xlink:href=\"#DejaVuSans-115\" />\n     <use x=\"248.242188\" xlink:href=\"#DejaVuSans-32\" />\n     <use x=\"280.029297\" xlink:href=\"#DejaVuSans-48\" />\n    </g>\n   </g>\n  </g>\n </g>\n</svg></g>\n\n<g class=\"edge\" id=\"edge2\">\n<title>node4-&gt;leaf6</title>\n<path d=\"M523.0531,-55.6173C527.443,-54.2166 531.7317,-52.8483 535.8305,-51.5405\" fill=\"none\" stroke=\"#444443\" stroke-width=\".3\" />\n<polygon fill=\"#444443\" points=\"536.4777,-52.8036 539.8628,-50.2539 535.6265,-50.1361 536.4777,-52.8036\" stroke=\"#444443\" stroke-width=\".3\" />\n</g>\n\n<g class=\"node\" id=\"node2\">\n<title>node1</title>\n<svg height=\"44px\" preserveAspectRatio=\"xMinYMin meet\" version=\"1.1\" viewBox=\"0 0 201.32 58.661937\" width=\"151px\" x=\"192.5\" y=\"-152\">\n <defs>\n  <style type=\"text/css\">\n*{stroke-linecap:butt;stroke-linejoin:round;}\n  </style>\n </defs>\n <g id=\"figure_1\">\n  <g id=\"patch_1\">\n   <path d=\"M 0 58.661937  L 201.32 58.661937  L 201.32 0  L 0 0  z \" style=\"fill:#ffffff;\" />\n  </g>\n  <g id=\"axes_1\">\n   <g id=\"patch_2\">\n    <path d=\"M 17.18 30.241312  L 201.32 30.241312  L 201.32 1.679278  L 17.18 1.679278  z \" style=\"fill:#ffffff;\" />\n   </g>\n   <g id=\"patch_3\">\n    <path clip-path=\"url(#pc117048871)\" d=\"M 23.785919 30.241312  L 32.477918 30.241312  L 32.477918 29.608709  L 23.785919 29.608709  z \" style=\"fill:#fefebb;stroke:#444443;stroke-linejoin:miter;stroke-width:0.5;\" />\n   </g>\n   <g id=\"patch_4\">\n    <path clip-path=\"url(#pc117048871)\" d=\"M 32.477918 30.241312  L 41.169917 30.241312  L 41.169917 30.241312  L 32.477918 30.241312  z \" style=\"fill:#fefebb;stroke:#444443;stroke-linejoin:miter;stroke-width:0.5;\" />\n   </g>\n   <g id=\"patch_5\">\n    <path clip-path=\"url(#pc117048871)\" d=\"M 41.169917 30.241312  L 49.861916 30.241312  L 49.861916 30.241312  L 41.169917 30.241312  z \" style=\"fill:#fefebb;stroke:#444443;stroke-linejoin:miter;stroke-width:0.5;\" />\n   </g>\n   <g id=\"patch_6\">\n    <path clip-path=\"url(#pc117048871)\" d=\"M 49.861916 30.241312  L 58.553916 30.241312  L 58.553916 30.241312  L 49.861916 30.241312  z \" style=\"fill:#fefebb;stroke:#444443;stroke-linejoin:miter;stroke-width:0.5;\" />\n   </g>\n   <g id=\"patch_7\">\n    <path clip-path=\"url(#pc117048871)\" d=\"M 58.553916 30.241312  L 67.245915 30.241312  L 67.245915 30.241312  L 58.553916 30.241312  z \" style=\"fill:#fefebb;stroke:#444443;stroke-linejoin:miter;stroke-width:0.5;\" />\n   </g>\n   <g id=\"patch_8\">\n    <path clip-path=\"url(#pc117048871)\" d=\"M 67.245915 30.241312  L 75.937914 30.241312  L 75.937914 30.241312  L 67.245915 30.241312  z \" style=\"fill:#fefebb;stroke:#444443;stroke-linejoin:miter;stroke-width:0.5;\" />\n   </g>\n   <g id=\"patch_9\">\n    <path clip-path=\"url(#pc117048871)\" d=\"M 75.937914 30.241312  L 84.629913 30.241312  L 84.629913 30.241312  L 75.937914 30.241312  z \" style=\"fill:#fefebb;stroke:#444443;stroke-linejoin:miter;stroke-width:0.5;\" />\n   </g>\n   <g id=\"patch_10\">\n    <path clip-path=\"url(#pc117048871)\" d=\"M 84.629913 30.241312  L 93.321912 30.241312  L 93.321912 30.241312  L 84.629913 30.241312  z \" style=\"fill:#fefebb;stroke:#444443;stroke-linejoin:miter;stroke-width:0.5;\" />\n   </g>\n   <g id=\"patch_11\">\n    <path clip-path=\"url(#pc117048871)\" d=\"M 93.321912 30.241312  L 102.013911 30.241312  L 102.013911 30.241312  L 93.321912 30.241312  z \" style=\"fill:#fefebb;stroke:#444443;stroke-linejoin:miter;stroke-width:0.5;\" />\n   </g>\n   <g id=\"patch_12\">\n    <path clip-path=\"url(#pc117048871)\" d=\"M 102.013911 30.241312  L 110.70591 30.241312  L 110.70591 28.343502  L 102.013911 28.343502  z \" style=\"fill:#fefebb;stroke:#444443;stroke-linejoin:miter;stroke-width:0.5;\" />\n   </g>\n   <g id=\"patch_13\">\n    <path clip-path=\"url(#pc117048871)\" d=\"M 110.70591 30.241312  L 119.397909 30.241312  L 119.397909 30.241312  L 110.70591 30.241312  z \" style=\"fill:#fefebb;stroke:#444443;stroke-linejoin:miter;stroke-width:0.5;\" />\n   </g>\n   <g id=\"patch_14\">\n    <path clip-path=\"url(#pc117048871)\" d=\"M 119.397909 30.241312  L 128.089908 30.241312  L 128.089908 30.241312  L 119.397909 30.241312  z \" style=\"fill:#fefebb;stroke:#444443;stroke-linejoin:miter;stroke-width:0.5;\" />\n   </g>\n   <g id=\"patch_15\">\n    <path clip-path=\"url(#pc117048871)\" d=\"M 128.089908 30.241312  L 136.781907 30.241312  L 136.781907 30.241312  L 128.089908 30.241312  z \" style=\"fill:#fefebb;stroke:#444443;stroke-linejoin:miter;stroke-width:0.5;\" />\n   </g>\n   <g id=\"patch_16\">\n    <path clip-path=\"url(#pc117048871)\" d=\"M 136.781907 30.241312  L 145.473906 30.241312  L 145.473906 30.241312  L 136.781907 30.241312  z \" style=\"fill:#fefebb;stroke:#444443;stroke-linejoin:miter;stroke-width:0.5;\" />\n   </g>\n   <g id=\"patch_17\">\n    <path clip-path=\"url(#pc117048871)\" d=\"M 145.473906 30.241312  L 154.165905 30.241312  L 154.165905 30.241312  L 145.473906 30.241312  z \" style=\"fill:#fefebb;stroke:#444443;stroke-linejoin:miter;stroke-width:0.5;\" />\n   </g>\n   <g id=\"patch_18\">\n    <path clip-path=\"url(#pc117048871)\" d=\"M 154.165905 30.241312  L 162.857904 30.241312  L 162.857904 30.241312  L 154.165905 30.241312  z \" style=\"fill:#fefebb;stroke:#444443;stroke-linejoin:miter;stroke-width:0.5;\" />\n   </g>\n   <g id=\"patch_19\">\n    <path clip-path=\"url(#pc117048871)\" d=\"M 162.857904 30.241312  L 171.549903 30.241312  L 171.549903 30.241312  L 162.857904 30.241312  z \" style=\"fill:#fefebb;stroke:#444443;stroke-linejoin:miter;stroke-width:0.5;\" />\n   </g>\n   <g id=\"patch_20\">\n    <path clip-path=\"url(#pc117048871)\" d=\"M 171.549903 30.241312  L 180.241902 30.241312  L 180.241902 30.241312  L 171.549903 30.241312  z \" style=\"fill:#fefebb;stroke:#444443;stroke-linejoin:miter;stroke-width:0.5;\" />\n   </g>\n   <g id=\"patch_21\">\n    <path clip-path=\"url(#pc117048871)\" d=\"M 180.241902 30.241312  L 188.933901 30.241312  L 188.933901 17.272947  L 180.241902 17.272947  z \" style=\"fill:#fefebb;stroke:#444443;stroke-linejoin:miter;stroke-width:0.5;\" />\n   </g>\n   <g id=\"patch_22\">\n    <path clip-path=\"url(#pc117048871)\" d=\"M 23.785919 29.608709  L 32.477918 29.608709  L 32.477918 13.793629  L 23.785919 13.793629  z \" style=\"fill:#a1dab4;stroke:#444443;stroke-linejoin:miter;stroke-width:0.5;\" />\n   </g>\n   <g id=\"patch_23\">\n    <path clip-path=\"url(#pc117048871)\" d=\"M 32.477918 30.241312  L 41.169917 30.241312  L 41.169917 30.241312  L 32.477918 30.241312  z \" style=\"fill:#a1dab4;stroke:#444443;stroke-linejoin:miter;stroke-width:0.5;\" />\n   </g>\n   <g id=\"patch_24\">\n    <path clip-path=\"url(#pc117048871)\" d=\"M 41.169917 30.241312  L 49.861916 30.241312  L 49.861916 30.241312  L 41.169917 30.241312  z \" style=\"fill:#a1dab4;stroke:#444443;stroke-linejoin:miter;stroke-width:0.5;\" />\n   </g>\n   <g id=\"patch_25\">\n    <path clip-path=\"url(#pc117048871)\" d=\"M 49.861916 30.241312  L 58.553916 30.241312  L 58.553916 30.241312  L 49.861916 30.241312  z \" style=\"fill:#a1dab4;stroke:#444443;stroke-linejoin:miter;stroke-width:0.5;\" />\n   </g>\n   <g id=\"patch_26\">\n    <path clip-path=\"url(#pc117048871)\" d=\"M 58.553916 30.241312  L 67.245915 30.241312  L 67.245915 30.241312  L 58.553916 30.241312  z \" style=\"fill:#a1dab4;stroke:#444443;stroke-linejoin:miter;stroke-width:0.5;\" />\n   </g>\n   <g id=\"patch_27\">\n    <path clip-path=\"url(#pc117048871)\" d=\"M 67.245915 30.241312  L 75.937914 30.241312  L 75.937914 30.241312  L 67.245915 30.241312  z \" style=\"fill:#a1dab4;stroke:#444443;stroke-linejoin:miter;stroke-width:0.5;\" />\n   </g>\n   <g id=\"patch_28\">\n    <path clip-path=\"url(#pc117048871)\" d=\"M 75.937914 30.241312  L 84.629913 30.241312  L 84.629913 30.241312  L 75.937914 30.241312  z \" style=\"fill:#a1dab4;stroke:#444443;stroke-linejoin:miter;stroke-width:0.5;\" />\n   </g>\n   <g id=\"patch_29\">\n    <path clip-path=\"url(#pc117048871)\" d=\"M 84.629913 30.241312  L 93.321912 30.241312  L 93.321912 30.241312  L 84.629913 30.241312  z \" style=\"fill:#a1dab4;stroke:#444443;stroke-linejoin:miter;stroke-width:0.5;\" />\n   </g>\n   <g id=\"patch_30\">\n    <path clip-path=\"url(#pc117048871)\" d=\"M 93.321912 30.241312  L 102.013911 30.241312  L 102.013911 30.241312  L 93.321912 30.241312  z \" style=\"fill:#a1dab4;stroke:#444443;stroke-linejoin:miter;stroke-width:0.5;\" />\n   </g>\n   <g id=\"patch_31\">\n    <path clip-path=\"url(#pc117048871)\" d=\"M 102.013911 28.343502  L 110.70591 28.343502  L 110.70591 15.691439  L 102.013911 15.691439  z \" style=\"fill:#a1dab4;stroke:#444443;stroke-linejoin:miter;stroke-width:0.5;\" />\n   </g>\n   <g id=\"patch_32\">\n    <path clip-path=\"url(#pc117048871)\" d=\"M 110.70591 30.241312  L 119.397909 30.241312  L 119.397909 30.241312  L 110.70591 30.241312  z \" style=\"fill:#a1dab4;stroke:#444443;stroke-linejoin:miter;stroke-width:0.5;\" />\n   </g>\n   <g id=\"patch_33\">\n    <path clip-path=\"url(#pc117048871)\" d=\"M 119.397909 30.241312  L 128.089908 30.241312  L 128.089908 30.241312  L 119.397909 30.241312  z \" style=\"fill:#a1dab4;stroke:#444443;stroke-linejoin:miter;stroke-width:0.5;\" />\n   </g>\n   <g id=\"patch_34\">\n    <path clip-path=\"url(#pc117048871)\" d=\"M 128.089908 30.241312  L 136.781907 30.241312  L 136.781907 30.241312  L 128.089908 30.241312  z \" style=\"fill:#a1dab4;stroke:#444443;stroke-linejoin:miter;stroke-width:0.5;\" />\n   </g>\n   <g id=\"patch_35\">\n    <path clip-path=\"url(#pc117048871)\" d=\"M 136.781907 30.241312  L 145.473906 30.241312  L 145.473906 30.241312  L 136.781907 30.241312  z \" style=\"fill:#a1dab4;stroke:#444443;stroke-linejoin:miter;stroke-width:0.5;\" />\n   </g>\n   <g id=\"patch_36\">\n    <path clip-path=\"url(#pc117048871)\" d=\"M 145.473906 30.241312  L 154.165905 30.241312  L 154.165905 30.241312  L 145.473906 30.241312  z \" style=\"fill:#a1dab4;stroke:#444443;stroke-linejoin:miter;stroke-width:0.5;\" />\n   </g>\n   <g id=\"patch_37\">\n    <path clip-path=\"url(#pc117048871)\" d=\"M 154.165905 30.241312  L 162.857904 30.241312  L 162.857904 30.241312  L 154.165905 30.241312  z \" style=\"fill:#a1dab4;stroke:#444443;stroke-linejoin:miter;stroke-width:0.5;\" />\n   </g>\n   <g id=\"patch_38\">\n    <path clip-path=\"url(#pc117048871)\" d=\"M 162.857904 30.241312  L 171.549903 30.241312  L 171.549903 30.241312  L 162.857904 30.241312  z \" style=\"fill:#a1dab4;stroke:#444443;stroke-linejoin:miter;stroke-width:0.5;\" />\n   </g>\n   <g id=\"patch_39\">\n    <path clip-path=\"url(#pc117048871)\" d=\"M 171.549903 30.241312  L 180.241902 30.241312  L 180.241902 30.241312  L 171.549903 30.241312  z \" style=\"fill:#a1dab4;stroke:#444443;stroke-linejoin:miter;stroke-width:0.5;\" />\n   </g>\n   <g id=\"patch_40\">\n    <path clip-path=\"url(#pc117048871)\" d=\"M 180.241902 17.272947  L 188.933901 17.272947  L 188.933901 3.039375  L 180.241902 3.039375  z \" style=\"fill:#a1dab4;stroke:#444443;stroke-linejoin:miter;stroke-width:0.5;\" />\n   </g>\n   <g id=\"patch_41\">\n    <path d=\"M 147.646906 31.056712  L 144.332386 38.395312  L 150.961426 38.395312  z \" style=\"fill:#444443;\" />\n   </g>\n   <g id=\"matplotlib.axis_1\">\n    <g id=\"xtick_1\">\n     <g id=\"line2d_1\">\n      <defs>\n       <path d=\"M 0 0  L 0 3.5  \" id=\"meb17a3d413\" style=\"stroke:#000000;stroke-width:0.3;\" />\n      </defs>\n      <g>\n       <use style=\"stroke:#000000;stroke-width:0.3;\" x=\"23.785919\" y=\"30.241312\" xlink:href=\"#meb17a3d413\" />\n      </g>\n     </g>\n     <g id=\"text_1\">\n      \n      <defs>\n       <path d=\"M 12.40625 8.296875  L 28.515625 8.296875  L 28.515625 63.921875  L 10.984375 60.40625  L 10.984375 69.390625  L 28.421875 72.90625  L 38.28125 72.90625  L 38.28125 8.296875  L 54.390625 8.296875  L 54.390625 0  L 12.40625 0  z \" id=\"DejaVuSans-49\" />\n      </defs>\n      <g style=\"fill:#444443;\" transform=\"translate(21.240919 43.320062)scale(0.08 -0.08)\">\n       <use xlink:href=\"#DejaVuSans-49\" />\n      </g>\n     </g>\n    </g>\n    <g id=\"xtick_2\">\n     <g id=\"line2d_2\">\n      <g>\n       <use style=\"stroke:#000000;stroke-width:0.3;\" x=\"188.933901\" y=\"30.241312\" xlink:href=\"#meb17a3d413\" />\n      </g>\n     </g>\n     <g id=\"text_2\">\n      \n      <defs>\n       <path d=\"M 40.578125 39.3125  Q 47.65625 37.796875 51.625 33  Q 55.609375 28.21875 55.609375 21.1875  Q 55.609375 10.40625 48.1875 4.484375  Q 40.765625 -1.421875 27.09375 -1.421875  Q 22.515625 -1.421875 17.65625 -0.515625  Q 12.796875 0.390625 7.625 2.203125  L 7.625 11.71875  Q 11.71875 9.328125 16.59375 8.109375  Q 21.484375 6.890625 26.8125 6.890625  Q 36.078125 6.890625 40.9375 10.546875  Q 45.796875 14.203125 45.796875 21.1875  Q 45.796875 27.640625 41.28125 31.265625  Q 36.765625 34.90625 28.71875 34.90625  L 20.21875 34.90625  L 20.21875 43.015625  L 29.109375 43.015625  Q 36.375 43.015625 40.234375 45.921875  Q 44.09375 48.828125 44.09375 54.296875  Q 44.09375 59.90625 40.109375 62.90625  Q 36.140625 65.921875 28.71875 65.921875  Q 24.65625 65.921875 20.015625 65.03125  Q 15.375 64.15625 9.8125 62.3125  L 9.8125 71.09375  Q 15.4375 72.65625 20.34375 73.4375  Q 25.25 74.21875 29.59375 74.21875  Q 40.828125 74.21875 47.359375 69.109375  Q 53.90625 64.015625 53.90625 55.328125  Q 53.90625 49.265625 50.4375 45.09375  Q 46.96875 40.921875 40.578125 39.3125  z \" id=\"DejaVuSans-51\" />\n      </defs>\n      <g style=\"fill:#444443;\" transform=\"translate(186.388901 43.320062)scale(0.08 -0.08)\">\n       <use xlink:href=\"#DejaVuSans-51\" />\n      </g>\n     </g>\n    </g>\n    <g id=\"text_3\">\n     \n     <defs>\n      <path d=\"M 19.671875 64.796875  L 19.671875 37.40625  L 32.078125 37.40625  Q 38.96875 37.40625 42.71875 40.96875  Q 46.484375 44.53125 46.484375 51.125  Q 46.484375 57.671875 42.71875 61.234375  Q 38.96875 64.796875 32.078125 64.796875  z M 9.8125 72.90625  L 32.078125 72.90625  Q 44.34375 72.90625 50.609375 67.359375  Q 56.890625 61.8125 56.890625 51.125  Q 56.890625 40.328125 50.609375 34.8125  Q 44.34375 29.296875 32.078125 29.296875  L 19.671875 29.296875  L 19.671875 0  L 9.8125 0  z \" id=\"DejaVuSans-80\" />\n      <path d=\"M 48.78125 52.59375  L 48.78125 44.1875  Q 44.96875 46.296875 41.140625 47.34375  Q 37.3125 48.390625 33.40625 48.390625  Q 24.65625 48.390625 19.8125 42.84375  Q 14.984375 37.3125 14.984375 27.296875  Q 14.984375 17.28125 19.8125 11.734375  Q 24.65625 6.203125 33.40625 6.203125  Q 37.3125 6.203125 41.140625 7.25  Q 44.96875 8.296875 48.78125 10.40625  L 48.78125 2.09375  Q 45.015625 0.34375 40.984375 -0.53125  Q 36.96875 -1.421875 32.421875 -1.421875  Q 20.0625 -1.421875 12.78125 6.34375  Q 5.515625 14.109375 5.515625 27.296875  Q 5.515625 40.671875 12.859375 48.328125  Q 20.21875 56 33.015625 56  Q 37.15625 56 41.109375 55.140625  Q 45.0625 54.296875 48.78125 52.59375  z \" id=\"DejaVuSans-99\" />\n      <path d=\"M 9.421875 75.984375  L 18.40625 75.984375  L 18.40625 0  L 9.421875 0  z \" id=\"DejaVuSans-108\" />\n      <path d=\"M 34.28125 27.484375  Q 23.390625 27.484375 19.1875 25  Q 14.984375 22.515625 14.984375 16.5  Q 14.984375 11.71875 18.140625 8.90625  Q 21.296875 6.109375 26.703125 6.109375  Q 34.1875 6.109375 38.703125 11.40625  Q 43.21875 16.703125 43.21875 25.484375  L 43.21875 27.484375  z M 52.203125 31.203125  L 52.203125 0  L 43.21875 0  L 43.21875 8.296875  Q 40.140625 3.328125 35.546875 0.953125  Q 30.953125 -1.421875 24.3125 -1.421875  Q 15.921875 -1.421875 10.953125 3.296875  Q 6 8.015625 6 15.921875  Q 6 25.140625 12.171875 29.828125  Q 18.359375 34.515625 30.609375 34.515625  L 43.21875 34.515625  L 43.21875 35.40625  Q 43.21875 41.609375 39.140625 45  Q 35.0625 48.390625 27.6875 48.390625  Q 23 48.390625 18.546875 47.265625  Q 14.109375 46.140625 10.015625 43.890625  L 10.015625 52.203125  Q 14.9375 54.109375 19.578125 55.046875  Q 24.21875 56 28.609375 56  Q 40.484375 56 46.34375 49.84375  Q 52.203125 43.703125 52.203125 31.203125  z \" id=\"DejaVuSans-97\" />\n      <path d=\"M 44.28125 53.078125  L 44.28125 44.578125  Q 40.484375 46.53125 36.375 47.5  Q 32.28125 48.484375 27.875 48.484375  Q 21.1875 48.484375 17.84375 46.4375  Q 14.5 44.390625 14.5 40.28125  Q 14.5 37.15625 16.890625 35.375  Q 19.28125 33.59375 26.515625 31.984375  L 29.59375 31.296875  Q 39.15625 29.25 43.1875 25.515625  Q 47.21875 21.78125 47.21875 15.09375  Q 47.21875 7.46875 41.1875 3.015625  Q 35.15625 -1.421875 24.609375 -1.421875  Q 20.21875 -1.421875 15.453125 -0.5625  Q 10.6875 0.296875 5.421875 2  L 5.421875 11.28125  Q 10.40625 8.6875 15.234375 7.390625  Q 20.0625 6.109375 24.8125 6.109375  Q 31.15625 6.109375 34.5625 8.28125  Q 37.984375 10.453125 37.984375 14.40625  Q 37.984375 18.0625 35.515625 20.015625  Q 33.0625 21.96875 24.703125 23.78125  L 21.578125 24.515625  Q 13.234375 26.265625 9.515625 29.90625  Q 5.8125 33.546875 5.8125 39.890625  Q 5.8125 47.609375 11.28125 51.796875  Q 16.75 56 26.8125 56  Q 31.78125 56 36.171875 55.265625  Q 40.578125 54.546875 44.28125 53.078125  z \" id=\"DejaVuSans-115\" />\n     </defs>\n     <g style=\"fill:#444443;\" transform=\"translate(93.823437 56.58225)scale(0.1 -0.1)\">\n      <use xlink:href=\"#DejaVuSans-80\" />\n      <use x=\"60.302734\" xlink:href=\"#DejaVuSans-99\" />\n      <use x=\"115.283203\" xlink:href=\"#DejaVuSans-108\" />\n      <use x=\"143.066406\" xlink:href=\"#DejaVuSans-97\" />\n      <use x=\"204.345703\" xlink:href=\"#DejaVuSans-115\" />\n      <use x=\"256.445312\" xlink:href=\"#DejaVuSans-115\" />\n     </g>\n    </g>\n   </g>\n   <g id=\"matplotlib.axis_2\">\n    <g id=\"ytick_1\">\n     <g id=\"line2d_3\">\n      <defs>\n       <path d=\"M 0 0  L -3.5 0  \" id=\"m6e61aa3d54\" style=\"stroke:#000000;stroke-width:0.3;\" />\n      </defs>\n      <g>\n       <use style=\"stroke:#000000;stroke-width:0.3;\" x=\"17.18\" y=\"30.241312\" xlink:href=\"#m6e61aa3d54\" />\n      </g>\n     </g>\n     <g id=\"text_4\">\n      \n      <defs>\n       <path d=\"M 31.78125 66.40625  Q 24.171875 66.40625 20.328125 58.90625  Q 16.5 51.421875 16.5 36.375  Q 16.5 21.390625 20.328125 13.890625  Q 24.171875 6.390625 31.78125 6.390625  Q 39.453125 6.390625 43.28125 13.890625  Q 47.125 21.390625 47.125 36.375  Q 47.125 51.421875 43.28125 58.90625  Q 39.453125 66.40625 31.78125 66.40625  z M 31.78125 74.21875  Q 44.046875 74.21875 50.515625 64.515625  Q 56.984375 54.828125 56.984375 36.375  Q 56.984375 17.96875 50.515625 8.265625  Q 44.046875 -1.421875 31.78125 -1.421875  Q 19.53125 -1.421875 13.0625 8.265625  Q 6.59375 17.96875 6.59375 36.375  Q 6.59375 54.828125 13.0625 64.515625  Q 19.53125 74.21875 31.78125 74.21875  z \" id=\"DejaVuSans-48\" />\n      </defs>\n      <g style=\"fill:#444443;\" transform=\"translate(5.09 33.280687)scale(0.08 -0.08)\">\n       <use xlink:href=\"#DejaVuSans-48\" />\n      </g>\n     </g>\n    </g>\n    <g id=\"ytick_2\">\n     <g id=\"line2d_4\">\n      <g>\n       <use style=\"stroke:#000000;stroke-width:0.3;\" x=\"17.18\" y=\"3.039375\" xlink:href=\"#m6e61aa3d54\" />\n      </g>\n     </g>\n     <g id=\"text_5\">\n      \n      <defs>\n       <path d=\"M 31.78125 34.625  Q 24.75 34.625 20.71875 30.859375  Q 16.703125 27.09375 16.703125 20.515625  Q 16.703125 13.921875 20.71875 10.15625  Q 24.75 6.390625 31.78125 6.390625  Q 38.8125 6.390625 42.859375 10.171875  Q 46.921875 13.96875 46.921875 20.515625  Q 46.921875 27.09375 42.890625 30.859375  Q 38.875 34.625 31.78125 34.625  z M 21.921875 38.8125  Q 15.578125 40.375 12.03125 44.71875  Q 8.5 49.078125 8.5 55.328125  Q 8.5 64.0625 14.71875 69.140625  Q 20.953125 74.21875 31.78125 74.21875  Q 42.671875 74.21875 48.875 69.140625  Q 55.078125 64.0625 55.078125 55.328125  Q 55.078125 49.078125 51.53125 44.71875  Q 48 40.375 41.703125 38.8125  Q 48.828125 37.15625 52.796875 32.3125  Q 56.78125 27.484375 56.78125 20.515625  Q 56.78125 9.90625 50.3125 4.234375  Q 43.84375 -1.421875 31.78125 -1.421875  Q 19.734375 -1.421875 13.25 4.234375  Q 6.78125 9.90625 6.78125 20.515625  Q 6.78125 27.484375 10.78125 32.3125  Q 14.796875 37.15625 21.921875 38.8125  z M 18.3125 54.390625  Q 18.3125 48.734375 21.84375 45.5625  Q 25.390625 42.390625 31.78125 42.390625  Q 38.140625 42.390625 41.71875 45.5625  Q 45.3125 48.734375 45.3125 54.390625  Q 45.3125 60.0625 41.71875 63.234375  Q 38.140625 66.40625 31.78125 66.40625  Q 25.390625 66.40625 21.84375 63.234375  Q 18.3125 60.0625 18.3125 54.390625  z \" id=\"DejaVuSans-56\" />\n       <path d=\"M 33.015625 40.375  Q 26.375 40.375 22.484375 35.828125  Q 18.609375 31.296875 18.609375 23.390625  Q 18.609375 15.53125 22.484375 10.953125  Q 26.375 6.390625 33.015625 6.390625  Q 39.65625 6.390625 43.53125 10.953125  Q 47.40625 15.53125 47.40625 23.390625  Q 47.40625 31.296875 43.53125 35.828125  Q 39.65625 40.375 33.015625 40.375  z M 52.59375 71.296875  L 52.59375 62.3125  Q 48.875 64.0625 45.09375 64.984375  Q 41.3125 65.921875 37.59375 65.921875  Q 27.828125 65.921875 22.671875 59.328125  Q 17.53125 52.734375 16.796875 39.40625  Q 19.671875 43.65625 24.015625 45.921875  Q 28.375 48.1875 33.59375 48.1875  Q 44.578125 48.1875 50.953125 41.515625  Q 57.328125 34.859375 57.328125 23.390625  Q 57.328125 12.15625 50.6875 5.359375  Q 44.046875 -1.421875 33.015625 -1.421875  Q 20.359375 -1.421875 13.671875 8.265625  Q 6.984375 17.96875 6.984375 36.375  Q 6.984375 53.65625 15.1875 63.9375  Q 23.390625 74.21875 37.203125 74.21875  Q 40.921875 74.21875 44.703125 73.484375  Q 48.484375 72.75 52.59375 71.296875  z \" id=\"DejaVuSans-54\" />\n      </defs>\n      <g style=\"fill:#444443;\" transform=\"translate(0 6.07875)scale(0.08 -0.08)\">\n       <use xlink:href=\"#DejaVuSans-56\" />\n       <use x=\"63.623047\" xlink:href=\"#DejaVuSans-54\" />\n      </g>\n     </g>\n    </g>\n   </g>\n   <g id=\"patch_42\">\n    <path d=\"M 17.18 30.241312  L 17.18 1.679278  \" style=\"fill:none;stroke:#000000;stroke-linecap:square;stroke-linejoin:miter;stroke-width:0.3;\" />\n   </g>\n   <g id=\"patch_43\">\n    <path d=\"M 17.18 30.241312  L 201.32 30.241312  \" style=\"fill:none;stroke:#000000;stroke-linecap:square;stroke-linejoin:miter;stroke-width:0.3;\" />\n   </g>\n   <g id=\"text_6\">\n    \n    <defs>\n     <path d=\"M 19.1875 8.296875  L 53.609375 8.296875  L 53.609375 0  L 7.328125 0  L 7.328125 8.296875  Q 12.9375 14.109375 22.625 23.890625  Q 32.328125 33.6875 34.8125 36.53125  Q 39.546875 41.84375 41.421875 45.53125  Q 43.3125 49.21875 43.3125 52.78125  Q 43.3125 58.59375 39.234375 62.25  Q 35.15625 65.921875 28.609375 65.921875  Q 23.96875 65.921875 18.8125 64.3125  Q 13.671875 62.703125 7.8125 59.421875  L 7.8125 69.390625  Q 13.765625 71.78125 18.9375 73  Q 24.125 74.21875 28.421875 74.21875  Q 39.75 74.21875 46.484375 68.546875  Q 53.21875 62.890625 53.21875 53.421875  Q 53.21875 48.921875 51.53125 44.890625  Q 49.859375 40.875 45.40625 35.40625  Q 44.1875 33.984375 37.640625 27.21875  Q 31.109375 20.453125 19.1875 8.296875  z \" id=\"DejaVuSans-50\" />\n     <path d=\"M 10.6875 12.40625  L 21 12.40625  L 21 0  L 10.6875 0  z \" id=\"DejaVuSans-46\" />\n     <path d=\"M 10.796875 72.90625  L 49.515625 72.90625  L 49.515625 64.59375  L 19.828125 64.59375  L 19.828125 46.734375  Q 21.96875 47.46875 24.109375 47.828125  Q 26.265625 48.1875 28.421875 48.1875  Q 40.625 48.1875 47.75 41.5  Q 54.890625 34.8125 54.890625 23.390625  Q 54.890625 11.625 47.5625 5.09375  Q 40.234375 -1.421875 26.90625 -1.421875  Q 22.3125 -1.421875 17.546875 -0.640625  Q 12.796875 0.140625 7.71875 1.703125  L 7.71875 11.625  Q 12.109375 9.234375 16.796875 8.0625  Q 21.484375 6.890625 26.703125 6.890625  Q 35.15625 6.890625 40.078125 11.328125  Q 45.015625 15.765625 45.015625 23.390625  Q 45.015625 31 40.078125 35.4375  Q 35.15625 39.890625 26.703125 39.890625  Q 22.75 39.890625 18.8125 39.015625  Q 14.890625 38.140625 10.796875 36.28125  z \" id=\"DejaVuSans-53\" />\n    </defs>\n    <g style=\"fill:#444443;\" transform=\"translate(138.740656 46.549312)scale(0.08 -0.08)\">\n     <use xlink:href=\"#DejaVuSans-50\" />\n     <use x=\"63.623047\" xlink:href=\"#DejaVuSans-46\" />\n     <use x=\"95.410156\" xlink:href=\"#DejaVuSans-53\" />\n     <use x=\"159.033203\" xlink:href=\"#DejaVuSans-48\" />\n    </g>\n   </g>\n  </g>\n </g>\n <defs>\n  <clipPath id=\"pc117048871\">\n   <rect height=\"28.562034\" width=\"184.14\" x=\"17.18\" y=\"1.679278\" />\n  </clipPath>\n </defs>\n</svg></g>\n\n<g class=\"edge\" id=\"edge5\">\n<title>node1-&gt;node4</title>\n<path d=\"M347.004,-107.8654C351.3282,-106.6615 355.6801,-105.4499 360.0172,-104.2424\" fill=\"none\" stroke=\"#444443\" stroke-width=\".3\" />\n<polygon fill=\"#444443\" points=\"360.5171,-105.5565 363.995,-103.1349 359.7661,-102.8591 360.5171,-105.5565\" stroke=\"#444443\" stroke-width=\".3\" />\n</g>\n\n<g class=\"node\" id=\"node6\">\n<title>leaf3</title>\n<polygon fill=\"none\" points=\"477,-203.5 410,-203.5 410,-120.5 477,-120.5 477,-203.5\" stroke=\"#444443\" stroke-width=\"0\" />\n<svg height=\"75px\" preserveAspectRatio=\"xMinYMin meet\" version=\"1.1\" viewBox=\"0 0 78.773115 100.688805\" width=\"59px\" x=\"414.5\" y=\"-199\">\n <defs>\n  <style type=\"text/css\">\n*{stroke-linecap:butt;stroke-linejoin:round;}\n  </style>\n </defs>\n <g id=\"figure_1\">\n  <g id=\"patch_1\">\n   <path d=\"M 0 100.688805  L 78.773115 100.688805  L 78.773115 0  L 0 0  z \" style=\"fill:#ffffff;\" />\n  </g>\n  <g id=\"axes_1\">\n   <g id=\"patch_2\">\n    <path d=\"M 78.773115 39.499661  C 78.773115 36.891759 78.513265 34.290334 77.997417 31.733958  C 77.481569 29.177583 76.712285 26.678955 75.700974 24.275125  L 39.513115 39.499661  L 78.773115 39.499661  z \" style=\"fill:#fefebb;stroke:#444443;stroke-linejoin:miter;stroke-width:0.5;\" />\n   </g>\n   <g id=\"patch_3\">\n    <path d=\"M 75.700974 24.275125  C 73.829151 19.825909 71.152747 15.75981 67.806302 12.281227  C 64.459857 8.802644 60.500401 5.970858 56.126973 3.928222  C 51.753545 1.885585 47.040677 0.666909 42.22528 0.333455  C 37.409884 0 32.574023 0.55745 27.960793 1.977782  C 23.347562 3.398114 19.035581 5.657123 15.241609 8.641249  C 11.447637 11.625376 8.236331 15.283766 5.769121 19.432514  C 3.30191 23.581261 1.620842 28.149665 0.810421 32.908074  C 0 37.666482 0.074038 42.533804 1.028813 47.265362  C 1.983589 51.99692 3.80283 56.512079 6.395085 60.583866  C 8.98734 64.655653 12.308433 68.214676 16.191413 71.082027  C 20.074393 73.949377 24.453088 76.07619 29.107384 77.355551  C 33.76168 78.634912 38.612259 79.045019 43.415285 78.565256  C 48.218312 78.085493 52.891933 76.724036 57.20121 74.549325  C 61.510487 72.374614 65.381981 69.423709 68.621075 65.844952  C 71.860168 62.266194 74.411662 58.120572 76.147293 53.616482  C 77.882924 49.112393 78.773115 44.326595 78.773115 39.499667  L 39.513115 39.499661  L 75.700974 24.275125  z \" style=\"fill:#a1dab4;stroke:#444443;stroke-linejoin:miter;stroke-width:0.5;\" />\n   </g>\n   <g id=\"text_1\">\n    \n    <defs>\n     <path d=\"M 54.890625 33.015625  L 54.890625 0  L 45.90625 0  L 45.90625 32.71875  Q 45.90625 40.484375 42.875 44.328125  Q 39.84375 48.1875 33.796875 48.1875  Q 26.515625 48.1875 22.3125 43.546875  Q 18.109375 38.921875 18.109375 30.90625  L 18.109375 0  L 9.078125 0  L 9.078125 54.6875  L 18.109375 54.6875  L 18.109375 46.1875  Q 21.34375 51.125 25.703125 53.5625  Q 30.078125 56 35.796875 56  Q 45.21875 56 50.046875 50.171875  Q 54.890625 44.34375 54.890625 33.015625  z \" id=\"DejaVuSans-110\" />\n     <path d=\"M 10.59375 45.40625  L 73.1875 45.40625  L 73.1875 37.203125  L 10.59375 37.203125  z M 10.59375 25.484375  L 73.1875 25.484375  L 73.1875 17.1875  L 10.59375 17.1875  z \" id=\"DejaVuSans-61\" />\n     <path d=\"M 10.984375 1.515625  L 10.984375 10.5  Q 14.703125 8.734375 18.5 7.8125  Q 22.3125 6.890625 25.984375 6.890625  Q 35.75 6.890625 40.890625 13.453125  Q 46.046875 20.015625 46.78125 33.40625  Q 43.953125 29.203125 39.59375 26.953125  Q 35.25 24.703125 29.984375 24.703125  Q 19.046875 24.703125 12.671875 31.3125  Q 6.296875 37.9375 6.296875 49.421875  Q 6.296875 60.640625 12.9375 67.421875  Q 19.578125 74.21875 30.609375 74.21875  Q 43.265625 74.21875 49.921875 64.515625  Q 56.59375 54.828125 56.59375 36.375  Q 56.59375 19.140625 48.40625 8.859375  Q 40.234375 -1.421875 26.421875 -1.421875  Q 22.703125 -1.421875 18.890625 -0.6875  Q 15.09375 0.046875 10.984375 1.515625  z M 30.609375 32.421875  Q 37.25 32.421875 41.125 36.953125  Q 45.015625 41.5 45.015625 49.421875  Q 45.015625 57.28125 41.125 61.84375  Q 37.25 66.40625 30.609375 66.40625  Q 23.96875 66.40625 20.09375 61.84375  Q 16.21875 57.28125 16.21875 49.421875  Q 16.21875 41.5 20.09375 36.953125  Q 23.96875 32.421875 30.609375 32.421875  z \" id=\"DejaVuSans-57\" />\n     <path d=\"M 31.78125 34.625  Q 24.75 34.625 20.71875 30.859375  Q 16.703125 27.09375 16.703125 20.515625  Q 16.703125 13.921875 20.71875 10.15625  Q 24.75 6.390625 31.78125 6.390625  Q 38.8125 6.390625 42.859375 10.171875  Q 46.921875 13.96875 46.921875 20.515625  Q 46.921875 27.09375 42.890625 30.859375  Q 38.875 34.625 31.78125 34.625  z M 21.921875 38.8125  Q 15.578125 40.375 12.03125 44.71875  Q 8.5 49.078125 8.5 55.328125  Q 8.5 64.0625 14.71875 69.140625  Q 20.953125 74.21875 31.78125 74.21875  Q 42.671875 74.21875 48.875 69.140625  Q 55.078125 64.0625 55.078125 55.328125  Q 55.078125 49.078125 51.53125 44.71875  Q 48 40.375 41.703125 38.8125  Q 48.828125 37.15625 52.796875 32.3125  Q 56.78125 27.484375 56.78125 20.515625  Q 56.78125 9.90625 50.3125 4.234375  Q 43.84375 -1.421875 31.78125 -1.421875  Q 19.734375 -1.421875 13.25 4.234375  Q 6.78125 9.90625 6.78125 20.515625  Q 6.78125 27.484375 10.78125 32.3125  Q 14.796875 37.15625 21.921875 38.8125  z M 18.3125 54.390625  Q 18.3125 48.734375 21.84375 45.5625  Q 25.390625 42.390625 31.78125 42.390625  Q 38.140625 42.390625 41.71875 45.5625  Q 45.3125 48.734375 45.3125 54.390625  Q 45.3125 60.0625 41.71875 63.234375  Q 38.140625 66.40625 31.78125 66.40625  Q 25.390625 66.40625 21.84375 63.234375  Q 18.3125 60.0625 18.3125 54.390625  z \" id=\"DejaVuSans-56\" />\n    </defs>\n    <g style=\"fill:#444443;\" transform=\"translate(27.164131 88.739055)scale(0.09 -0.09)\">\n     <use xlink:href=\"#DejaVuSans-110\" />\n     <use x=\"63.378906\" xlink:href=\"#DejaVuSans-61\" />\n     <use x=\"147.167969\" xlink:href=\"#DejaVuSans-57\" />\n     <use x=\"210.791016\" xlink:href=\"#DejaVuSans-56\" />\n    </g>\n    \n    <defs>\n     <path d=\"M 48.78125 52.59375  L 48.78125 44.1875  Q 44.96875 46.296875 41.140625 47.34375  Q 37.3125 48.390625 33.40625 48.390625  Q 24.65625 48.390625 19.8125 42.84375  Q 14.984375 37.3125 14.984375 27.296875  Q 14.984375 17.28125 19.8125 11.734375  Q 24.65625 6.203125 33.40625 6.203125  Q 37.3125 6.203125 41.140625 7.25  Q 44.96875 8.296875 48.78125 10.40625  L 48.78125 2.09375  Q 45.015625 0.34375 40.984375 -0.53125  Q 36.96875 -1.421875 32.421875 -1.421875  Q 20.0625 -1.421875 12.78125 6.34375  Q 5.515625 14.109375 5.515625 27.296875  Q 5.515625 40.671875 12.859375 48.328125  Q 20.21875 56 33.015625 56  Q 37.15625 56 41.109375 55.140625  Q 45.0625 54.296875 48.78125 52.59375  z \" id=\"DejaVuSans-99\" />\n     <path d=\"M 9.421875 75.984375  L 18.40625 75.984375  L 18.40625 0  L 9.421875 0  z \" id=\"DejaVuSans-108\" />\n     <path d=\"M 34.28125 27.484375  Q 23.390625 27.484375 19.1875 25  Q 14.984375 22.515625 14.984375 16.5  Q 14.984375 11.71875 18.140625 8.90625  Q 21.296875 6.109375 26.703125 6.109375  Q 34.1875 6.109375 38.703125 11.40625  Q 43.21875 16.703125 43.21875 25.484375  L 43.21875 27.484375  z M 52.203125 31.203125  L 52.203125 0  L 43.21875 0  L 43.21875 8.296875  Q 40.140625 3.328125 35.546875 0.953125  Q 30.953125 -1.421875 24.3125 -1.421875  Q 15.921875 -1.421875 10.953125 3.296875  Q 6 8.015625 6 15.921875  Q 6 25.140625 12.171875 29.828125  Q 18.359375 34.515625 30.609375 34.515625  L 43.21875 34.515625  L 43.21875 35.40625  Q 43.21875 41.609375 39.140625 45  Q 35.0625 48.390625 27.6875 48.390625  Q 23 48.390625 18.546875 47.265625  Q 14.109375 46.140625 10.015625 43.890625  L 10.015625 52.203125  Q 14.9375 54.109375 19.578125 55.046875  Q 24.21875 56 28.609375 56  Q 40.484375 56 46.34375 49.84375  Q 52.203125 43.703125 52.203125 31.203125  z \" id=\"DejaVuSans-97\" />\n     <path d=\"M 44.28125 53.078125  L 44.28125 44.578125  Q 40.484375 46.53125 36.375 47.5  Q 32.28125 48.484375 27.875 48.484375  Q 21.1875 48.484375 17.84375 46.4375  Q 14.5 44.390625 14.5 40.28125  Q 14.5 37.15625 16.890625 35.375  Q 19.28125 33.59375 26.515625 31.984375  L 29.59375 31.296875  Q 39.15625 29.25 43.1875 25.515625  Q 47.21875 21.78125 47.21875 15.09375  Q 47.21875 7.46875 41.1875 3.015625  Q 35.15625 -1.421875 24.609375 -1.421875  Q 20.21875 -1.421875 15.453125 -0.5625  Q 10.6875 0.296875 5.421875 2  L 5.421875 11.28125  Q 10.40625 8.6875 15.234375 7.390625  Q 20.0625 6.109375 24.8125 6.109375  Q 31.15625 6.109375 34.5625 8.28125  Q 37.984375 10.453125 37.984375 14.40625  Q 37.984375 18.0625 35.515625 20.015625  Q 33.0625 21.96875 24.703125 23.78125  L 21.578125 24.515625  Q 13.234375 26.265625 9.515625 29.90625  Q 5.8125 33.546875 5.8125 39.890625  Q 5.8125 47.609375 11.28125 51.796875  Q 16.75 56 26.8125 56  Q 31.78125 56 36.171875 55.265625  Q 40.578125 54.546875 44.28125 53.078125  z \" id=\"DejaVuSans-115\" />\n     <path id=\"DejaVuSans-32\" />\n     <path d=\"M 12.40625 8.296875  L 28.515625 8.296875  L 28.515625 63.921875  L 10.984375 60.40625  L 10.984375 69.390625  L 28.421875 72.90625  L 38.28125 72.90625  L 38.28125 8.296875  L 54.390625 8.296875  L 54.390625 0  L 12.40625 0  z \" id=\"DejaVuSans-49\" />\n    </defs>\n    <g style=\"fill:#444443;\" transform=\"translate(24.049287 98.817086)scale(0.09 -0.09)\">\n     <use xlink:href=\"#DejaVuSans-99\" />\n     <use x=\"54.980469\" xlink:href=\"#DejaVuSans-108\" />\n     <use x=\"82.763672\" xlink:href=\"#DejaVuSans-97\" />\n     <use x=\"144.042969\" xlink:href=\"#DejaVuSans-115\" />\n     <use x=\"196.142578\" xlink:href=\"#DejaVuSans-115\" />\n     <use x=\"248.242188\" xlink:href=\"#DejaVuSans-32\" />\n     <use x=\"280.029297\" xlink:href=\"#DejaVuSans-49\" />\n    </g>\n   </g>\n  </g>\n </g>\n</svg></g>\n\n<g class=\"edge\" id=\"edge4\">\n<title>node1-&gt;leaf3</title>\n<path d=\"M347.004,-144.4553C367.327,-148.1504 388.2601,-151.9564 405.4131,-155.0751\" fill=\"none\" stroke=\"#444443\" stroke-width=\".3\" />\n<polygon fill=\"#444443\" points=\"405.504,-156.5145 409.6899,-155.8527 406.0049,-153.7597 405.504,-156.5145\" stroke=\"#444443\" stroke-width=\".3\" />\n</g>\n\n<g class=\"node\" id=\"node7\">\n<title>leaf2</title>\n<polygon fill=\"none\" points=\"301,-90.5 234,-90.5 234,-7.5 301,-7.5 301,-90.5\" stroke=\"#444443\" stroke-width=\"0\" />\n<svg height=\"75px\" preserveAspectRatio=\"xMinYMin meet\" version=\"1.1\" viewBox=\"0 0 78.574175 100.477197\" width=\"59px\" x=\"238.5\" y=\"-86\">\n <defs>\n  <style type=\"text/css\">\n*{stroke-linecap:butt;stroke-linejoin:round;}\n  </style>\n </defs>\n <g id=\"figure_1\">\n  <g id=\"patch_1\">\n   <path d=\"M 0 100.477197  L 78.574175 100.477197  L 78.574175 0  L 0 0  z \" style=\"fill:#ffffff;\" />\n  </g>\n  <g id=\"axes_1\">\n   <g id=\"patch_2\">\n    <path d=\"M 78.574175 39.288053  C 78.574175 35.149854 77.919894 31.037556 76.635602 27.103691  C 75.351309 23.169827 73.453082 19.463642 71.011328 16.122604  C 68.569574 12.781566 65.614861 9.8475 62.256782 7.429234  C 58.898704 5.010969 55.179299 3.138778 51.236525 1.882102  C 47.293751 0.625427 43.176967 0 39.038869 0.029019  C 34.900771 0.058037 30.793162 0.741138 26.8684 2.052985  C 22.943639 3.364832 19.250856 5.289001 15.927022 7.754124  C 12.603189 10.219247 9.689915 13.194462 7.295257 16.569416  C 4.900599 19.944369 3.054536 23.676811 1.82554 27.628301  C 0.596543 31.57979 0 35.700859 0.058036 39.838652  C 0.116072 43.976444 0.82796 48.079162 2.167296 51.994628  C 3.506633 55.910094 5.45665 59.589293 7.94502 62.895759  C 10.43339 66.202224 13.428961 69.094563 16.820624 71.465496  C 20.212287 73.836428 23.957583 75.656273 27.917593 76.857529  C 31.877603 78.058786 36.002754 78.626416 40.140038 78.539366  C 44.277322 78.452316 48.374947 77.711675 52.280925 76.344915  L 39.314175 39.288053  L 78.574175 39.288053  z \" style=\"fill:#fefebb;stroke:#444443;stroke-linejoin:miter;stroke-width:0.5;\" />\n   </g>\n   <g id=\"patch_3\">\n    <path d=\"M 52.280925 76.344915  C 59.963449 73.656685 66.623126 68.644765 71.33309 62.006694  C 76.043055 55.368623 78.574173 47.427333 78.574175 39.288061  L 39.314175 39.288053  L 52.280925 76.344915  z \" style=\"fill:#a1dab4;stroke:#444443;stroke-linejoin:miter;stroke-width:0.5;\" />\n   </g>\n   <g id=\"text_1\">\n    \n    <defs>\n     <path d=\"M 54.890625 33.015625  L 54.890625 0  L 45.90625 0  L 45.90625 32.71875  Q 45.90625 40.484375 42.875 44.328125  Q 39.84375 48.1875 33.796875 48.1875  Q 26.515625 48.1875 22.3125 43.546875  Q 18.109375 38.921875 18.109375 30.90625  L 18.109375 0  L 9.078125 0  L 9.078125 54.6875  L 18.109375 54.6875  L 18.109375 46.1875  Q 21.34375 51.125 25.703125 53.5625  Q 30.078125 56 35.796875 56  Q 45.21875 56 50.046875 50.171875  Q 54.890625 44.34375 54.890625 33.015625  z \" id=\"DejaVuSans-110\" />\n     <path d=\"M 10.59375 45.40625  L 73.1875 45.40625  L 73.1875 37.203125  L 10.59375 37.203125  z M 10.59375 25.484375  L 73.1875 25.484375  L 73.1875 17.1875  L 10.59375 17.1875  z \" id=\"DejaVuSans-61\" />\n     <path d=\"M 40.578125 39.3125  Q 47.65625 37.796875 51.625 33  Q 55.609375 28.21875 55.609375 21.1875  Q 55.609375 10.40625 48.1875 4.484375  Q 40.765625 -1.421875 27.09375 -1.421875  Q 22.515625 -1.421875 17.65625 -0.515625  Q 12.796875 0.390625 7.625 2.203125  L 7.625 11.71875  Q 11.71875 9.328125 16.59375 8.109375  Q 21.484375 6.890625 26.8125 6.890625  Q 36.078125 6.890625 40.9375 10.546875  Q 45.796875 14.203125 45.796875 21.1875  Q 45.796875 27.640625 41.28125 31.265625  Q 36.765625 34.90625 28.71875 34.90625  L 20.21875 34.90625  L 20.21875 43.015625  L 29.109375 43.015625  Q 36.375 43.015625 40.234375 45.921875  Q 44.09375 48.828125 44.09375 54.296875  Q 44.09375 59.90625 40.109375 62.90625  Q 36.140625 65.921875 28.71875 65.921875  Q 24.65625 65.921875 20.015625 65.03125  Q 15.375 64.15625 9.8125 62.3125  L 9.8125 71.09375  Q 15.4375 72.65625 20.34375 73.4375  Q 25.25 74.21875 29.59375 74.21875  Q 40.828125 74.21875 47.359375 69.109375  Q 53.90625 64.015625 53.90625 55.328125  Q 53.90625 49.265625 50.4375 45.09375  Q 46.96875 40.921875 40.578125 39.3125  z \" id=\"DejaVuSans-51\" />\n     <path d=\"M 12.40625 8.296875  L 28.515625 8.296875  L 28.515625 63.921875  L 10.984375 60.40625  L 10.984375 69.390625  L 28.421875 72.90625  L 38.28125 72.90625  L 38.28125 8.296875  L 54.390625 8.296875  L 54.390625 0  L 12.40625 0  z \" id=\"DejaVuSans-49\" />\n     <path d=\"M 33.015625 40.375  Q 26.375 40.375 22.484375 35.828125  Q 18.609375 31.296875 18.609375 23.390625  Q 18.609375 15.53125 22.484375 10.953125  Q 26.375 6.390625 33.015625 6.390625  Q 39.65625 6.390625 43.53125 10.953125  Q 47.40625 15.53125 47.40625 23.390625  Q 47.40625 31.296875 43.53125 35.828125  Q 39.65625 40.375 33.015625 40.375  z M 52.59375 71.296875  L 52.59375 62.3125  Q 48.875 64.0625 45.09375 64.984375  Q 41.3125 65.921875 37.59375 65.921875  Q 27.828125 65.921875 22.671875 59.328125  Q 17.53125 52.734375 16.796875 39.40625  Q 19.671875 43.65625 24.015625 45.921875  Q 28.375 48.1875 33.59375 48.1875  Q 44.578125 48.1875 50.953125 41.515625  Q 57.328125 34.859375 57.328125 23.390625  Q 57.328125 12.15625 50.6875 5.359375  Q 44.046875 -1.421875 33.015625 -1.421875  Q 20.359375 -1.421875 13.671875 8.265625  Q 6.984375 17.96875 6.984375 36.375  Q 6.984375 53.65625 15.1875 63.9375  Q 23.390625 74.21875 37.203125 74.21875  Q 40.921875 74.21875 44.703125 73.484375  Q 48.484375 72.75 52.59375 71.296875  z \" id=\"DejaVuSans-54\" />\n    </defs>\n    <g style=\"fill:#444443;\" transform=\"translate(24.102065 88.527447)scale(0.09 -0.09)\">\n     <use xlink:href=\"#DejaVuSans-110\" />\n     <use x=\"63.378906\" xlink:href=\"#DejaVuSans-61\" />\n     <use x=\"147.167969\" xlink:href=\"#DejaVuSans-51\" />\n     <use x=\"210.791016\" xlink:href=\"#DejaVuSans-49\" />\n     <use x=\"274.414062\" xlink:href=\"#DejaVuSans-54\" />\n    </g>\n    \n    <defs>\n     <path d=\"M 48.78125 52.59375  L 48.78125 44.1875  Q 44.96875 46.296875 41.140625 47.34375  Q 37.3125 48.390625 33.40625 48.390625  Q 24.65625 48.390625 19.8125 42.84375  Q 14.984375 37.3125 14.984375 27.296875  Q 14.984375 17.28125 19.8125 11.734375  Q 24.65625 6.203125 33.40625 6.203125  Q 37.3125 6.203125 41.140625 7.25  Q 44.96875 8.296875 48.78125 10.40625  L 48.78125 2.09375  Q 45.015625 0.34375 40.984375 -0.53125  Q 36.96875 -1.421875 32.421875 -1.421875  Q 20.0625 -1.421875 12.78125 6.34375  Q 5.515625 14.109375 5.515625 27.296875  Q 5.515625 40.671875 12.859375 48.328125  Q 20.21875 56 33.015625 56  Q 37.15625 56 41.109375 55.140625  Q 45.0625 54.296875 48.78125 52.59375  z \" id=\"DejaVuSans-99\" />\n     <path d=\"M 9.421875 75.984375  L 18.40625 75.984375  L 18.40625 0  L 9.421875 0  z \" id=\"DejaVuSans-108\" />\n     <path d=\"M 34.28125 27.484375  Q 23.390625 27.484375 19.1875 25  Q 14.984375 22.515625 14.984375 16.5  Q 14.984375 11.71875 18.140625 8.90625  Q 21.296875 6.109375 26.703125 6.109375  Q 34.1875 6.109375 38.703125 11.40625  Q 43.21875 16.703125 43.21875 25.484375  L 43.21875 27.484375  z M 52.203125 31.203125  L 52.203125 0  L 43.21875 0  L 43.21875 8.296875  Q 40.140625 3.328125 35.546875 0.953125  Q 30.953125 -1.421875 24.3125 -1.421875  Q 15.921875 -1.421875 10.953125 3.296875  Q 6 8.015625 6 15.921875  Q 6 25.140625 12.171875 29.828125  Q 18.359375 34.515625 30.609375 34.515625  L 43.21875 34.515625  L 43.21875 35.40625  Q 43.21875 41.609375 39.140625 45  Q 35.0625 48.390625 27.6875 48.390625  Q 23 48.390625 18.546875 47.265625  Q 14.109375 46.140625 10.015625 43.890625  L 10.015625 52.203125  Q 14.9375 54.109375 19.578125 55.046875  Q 24.21875 56 28.609375 56  Q 40.484375 56 46.34375 49.84375  Q 52.203125 43.703125 52.203125 31.203125  z \" id=\"DejaVuSans-97\" />\n     <path d=\"M 44.28125 53.078125  L 44.28125 44.578125  Q 40.484375 46.53125 36.375 47.5  Q 32.28125 48.484375 27.875 48.484375  Q 21.1875 48.484375 17.84375 46.4375  Q 14.5 44.390625 14.5 40.28125  Q 14.5 37.15625 16.890625 35.375  Q 19.28125 33.59375 26.515625 31.984375  L 29.59375 31.296875  Q 39.15625 29.25 43.1875 25.515625  Q 47.21875 21.78125 47.21875 15.09375  Q 47.21875 7.46875 41.1875 3.015625  Q 35.15625 -1.421875 24.609375 -1.421875  Q 20.21875 -1.421875 15.453125 -0.5625  Q 10.6875 0.296875 5.421875 2  L 5.421875 11.28125  Q 10.40625 8.6875 15.234375 7.390625  Q 20.0625 6.109375 24.8125 6.109375  Q 31.15625 6.109375 34.5625 8.28125  Q 37.984375 10.453125 37.984375 14.40625  Q 37.984375 18.0625 35.515625 20.015625  Q 33.0625 21.96875 24.703125 23.78125  L 21.578125 24.515625  Q 13.234375 26.265625 9.515625 29.90625  Q 5.8125 33.546875 5.8125 39.890625  Q 5.8125 47.609375 11.28125 51.796875  Q 16.75 56 26.8125 56  Q 31.78125 56 36.171875 55.265625  Q 40.578125 54.546875 44.28125 53.078125  z \" id=\"DejaVuSans-115\" />\n     <path id=\"DejaVuSans-32\" />\n     <path d=\"M 31.78125 66.40625  Q 24.171875 66.40625 20.328125 58.90625  Q 16.5 51.421875 16.5 36.375  Q 16.5 21.390625 20.328125 13.890625  Q 24.171875 6.390625 31.78125 6.390625  Q 39.453125 6.390625 43.28125 13.890625  Q 47.125 21.390625 47.125 36.375  Q 47.125 51.421875 43.28125 58.90625  Q 39.453125 66.40625 31.78125 66.40625  z M 31.78125 74.21875  Q 44.046875 74.21875 50.515625 64.515625  Q 56.984375 54.828125 56.984375 36.375  Q 56.984375 17.96875 50.515625 8.265625  Q 44.046875 -1.421875 31.78125 -1.421875  Q 19.53125 -1.421875 13.0625 8.265625  Q 6.59375 17.96875 6.59375 36.375  Q 6.59375 54.828125 13.0625 64.515625  Q 19.53125 74.21875 31.78125 74.21875  z \" id=\"DejaVuSans-48\" />\n    </defs>\n    <g style=\"fill:#444443;\" transform=\"translate(23.850347 98.605478)scale(0.09 -0.09)\">\n     <use xlink:href=\"#DejaVuSans-99\" />\n     <use x=\"54.980469\" xlink:href=\"#DejaVuSans-108\" />\n     <use x=\"82.763672\" xlink:href=\"#DejaVuSans-97\" />\n     <use x=\"144.042969\" xlink:href=\"#DejaVuSans-115\" />\n     <use x=\"196.142578\" xlink:href=\"#DejaVuSans-115\" />\n     <use x=\"248.242188\" xlink:href=\"#DejaVuSans-32\" />\n     <use x=\"280.029297\" xlink:href=\"#DejaVuSans-48\" />\n    </g>\n   </g>\n  </g>\n </g>\n</svg></g>\n\n\n<g class=\"node\" id=\"node3\">\n<title>node0</title>\n<svg height=\"82px\" preserveAspectRatio=\"xMinYMin meet\" version=\"1.1\" viewBox=\"0 0 206.41 109.960625\" width=\"155px\" x=\"4.5\" y=\"-130\">\n <defs>\n  <style type=\"text/css\">\n*{stroke-linecap:butt;stroke-linejoin:round;}\n  </style>\n </defs>\n <g id=\"figure_1\">\n  <g id=\"patch_1\">\n   <path d=\"M 0 109.960625  L 206.41 109.960625  L 206.41 0  L 0 0  z \" style=\"fill:#ffffff;\" />\n  </g>\n  <g id=\"axes_1\">\n   <g id=\"patch_2\">\n    <path d=\"M 22.27 81.54  L 206.41 81.54  L 206.41 -0  L 22.27 -0  z \" style=\"fill:#ffffff;\" />\n   </g>\n   <g id=\"patch_3\">\n    <path clip-path=\"url(#p9b845478e6)\" d=\"M 34.754068 81.54  L 42.96727 81.54  L 42.96727 69.498228  L 34.754068 69.498228  z \" style=\"fill:#fefebb;stroke:#444443;stroke-linejoin:miter;stroke-width:0.5;\" />\n   </g>\n   <g id=\"patch_4\">\n    <path clip-path=\"url(#p9b845478e6)\" d=\"M 42.96727 81.54  L 51.180473 81.54  L 51.180473 81.54  L 42.96727 81.54  z \" style=\"fill:#fefebb;stroke:#444443;stroke-linejoin:miter;stroke-width:0.5;\" />\n   </g>\n   <g id=\"patch_5\">\n    <path clip-path=\"url(#p9b845478e6)\" d=\"M 51.180473 81.54  L 59.393675 81.54  L 59.393675 81.54  L 51.180473 81.54  z \" style=\"fill:#fefebb;stroke:#444443;stroke-linejoin:miter;stroke-width:0.5;\" />\n   </g>\n   <g id=\"patch_6\">\n    <path clip-path=\"url(#p9b845478e6)\" d=\"M 59.393675 81.54  L 67.606878 81.54  L 67.606878 81.54  L 59.393675 81.54  z \" style=\"fill:#fefebb;stroke:#444443;stroke-linejoin:miter;stroke-width:0.5;\" />\n   </g>\n   <g id=\"patch_7\">\n    <path clip-path=\"url(#p9b845478e6)\" d=\"M 67.606878 81.54  L 75.82008 81.54  L 75.82008 81.54  L 67.606878 81.54  z \" style=\"fill:#fefebb;stroke:#444443;stroke-linejoin:miter;stroke-width:0.5;\" />\n   </g>\n   <g id=\"patch_8\">\n    <path clip-path=\"url(#p9b845478e6)\" d=\"M 75.82008 81.54  L 84.033283 81.54  L 84.033283 81.54  L 75.82008 81.54  z \" style=\"fill:#fefebb;stroke:#444443;stroke-linejoin:miter;stroke-width:0.5;\" />\n   </g>\n   <g id=\"patch_9\">\n    <path clip-path=\"url(#p9b845478e6)\" d=\"M 84.033283 81.54  L 92.246485 81.54  L 92.246485 81.54  L 84.033283 81.54  z \" style=\"fill:#fefebb;stroke:#444443;stroke-linejoin:miter;stroke-width:0.5;\" />\n   </g>\n   <g id=\"patch_10\">\n    <path clip-path=\"url(#p9b845478e6)\" d=\"M 92.246485 81.54  L 100.459688 81.54  L 100.459688 81.54  L 92.246485 81.54  z \" style=\"fill:#fefebb;stroke:#444443;stroke-linejoin:miter;stroke-width:0.5;\" />\n   </g>\n   <g id=\"patch_11\">\n    <path clip-path=\"url(#p9b845478e6)\" d=\"M 100.459688 81.54  L 108.67289 81.54  L 108.67289 81.54  L 100.459688 81.54  z \" style=\"fill:#fefebb;stroke:#444443;stroke-linejoin:miter;stroke-width:0.5;\" />\n   </g>\n   <g id=\"patch_12\">\n    <path clip-path=\"url(#p9b845478e6)\" d=\"M 108.67289 81.54  L 116.886093 81.54  L 116.886093 81.54  L 108.67289 81.54  z \" style=\"fill:#fefebb;stroke:#444443;stroke-linejoin:miter;stroke-width:0.5;\" />\n   </g>\n   <g id=\"patch_13\">\n    <path clip-path=\"url(#p9b845478e6)\" d=\"M 116.886093 81.54  L 125.099295 81.54  L 125.099295 81.54  L 116.886093 81.54  z \" style=\"fill:#fefebb;stroke:#444443;stroke-linejoin:miter;stroke-width:0.5;\" />\n   </g>\n   <g id=\"patch_14\">\n    <path clip-path=\"url(#p9b845478e6)\" d=\"M 125.099295 81.54  L 133.312498 81.54  L 133.312498 81.54  L 125.099295 81.54  z \" style=\"fill:#fefebb;stroke:#444443;stroke-linejoin:miter;stroke-width:0.5;\" />\n   </g>\n   <g id=\"patch_15\">\n    <path clip-path=\"url(#p9b845478e6)\" d=\"M 133.312498 81.54  L 141.5257 81.54  L 141.5257 81.54  L 133.312498 81.54  z \" style=\"fill:#fefebb;stroke:#444443;stroke-linejoin:miter;stroke-width:0.5;\" />\n   </g>\n   <g id=\"patch_16\">\n    <path clip-path=\"url(#p9b845478e6)\" d=\"M 141.5257 81.54  L 149.738903 81.54  L 149.738903 81.54  L 141.5257 81.54  z \" style=\"fill:#fefebb;stroke:#444443;stroke-linejoin:miter;stroke-width:0.5;\" />\n   </g>\n   <g id=\"patch_17\">\n    <path clip-path=\"url(#p9b845478e6)\" d=\"M 149.738903 81.54  L 157.952105 81.54  L 157.952105 81.54  L 149.738903 81.54  z \" style=\"fill:#fefebb;stroke:#444443;stroke-linejoin:miter;stroke-width:0.5;\" />\n   </g>\n   <g id=\"patch_18\">\n    <path clip-path=\"url(#p9b845478e6)\" d=\"M 157.952105 81.54  L 166.165308 81.54  L 166.165308 81.54  L 157.952105 81.54  z \" style=\"fill:#fefebb;stroke:#444443;stroke-linejoin:miter;stroke-width:0.5;\" />\n   </g>\n   <g id=\"patch_19\">\n    <path clip-path=\"url(#p9b845478e6)\" d=\"M 166.165308 81.54  L 174.37851 81.54  L 174.37851 81.54  L 166.165308 81.54  z \" style=\"fill:#fefebb;stroke:#444443;stroke-linejoin:miter;stroke-width:0.5;\" />\n   </g>\n   <g id=\"patch_20\">\n    <path clip-path=\"url(#p9b845478e6)\" d=\"M 174.37851 81.54  L 182.591713 81.54  L 182.591713 81.54  L 174.37851 81.54  z \" style=\"fill:#fefebb;stroke:#444443;stroke-linejoin:miter;stroke-width:0.5;\" />\n   </g>\n   <g id=\"patch_21\">\n    <path clip-path=\"url(#p9b845478e6)\" d=\"M 182.591713 81.54  L 190.804915 81.54  L 190.804915 19.119385  L 182.591713 19.119385  z \" style=\"fill:#fefebb;stroke:#444443;stroke-linejoin:miter;stroke-width:0.5;\" />\n   </g>\n   <g id=\"patch_22\">\n    <path clip-path=\"url(#p9b845478e6)\" d=\"M 34.754068 69.498228  L 42.96727 69.498228  L 42.96727 36.321917  L 34.754068 36.321917  z \" style=\"fill:#a1dab4;stroke:#444443;stroke-linejoin:miter;stroke-width:0.5;\" />\n   </g>\n   <g id=\"patch_23\">\n    <path clip-path=\"url(#p9b845478e6)\" d=\"M 42.96727 81.54  L 51.180473 81.54  L 51.180473 81.54  L 42.96727 81.54  z \" style=\"fill:#a1dab4;stroke:#444443;stroke-linejoin:miter;stroke-width:0.5;\" />\n   </g>\n   <g id=\"patch_24\">\n    <path clip-path=\"url(#p9b845478e6)\" d=\"M 51.180473 81.54  L 59.393675 81.54  L 59.393675 81.54  L 51.180473 81.54  z \" style=\"fill:#a1dab4;stroke:#444443;stroke-linejoin:miter;stroke-width:0.5;\" />\n   </g>\n   <g id=\"patch_25\">\n    <path clip-path=\"url(#p9b845478e6)\" d=\"M 59.393675 81.54  L 67.606878 81.54  L 67.606878 81.54  L 59.393675 81.54  z \" style=\"fill:#a1dab4;stroke:#444443;stroke-linejoin:miter;stroke-width:0.5;\" />\n   </g>\n   <g id=\"patch_26\">\n    <path clip-path=\"url(#p9b845478e6)\" d=\"M 67.606878 81.54  L 75.82008 81.54  L 75.82008 81.54  L 67.606878 81.54  z \" style=\"fill:#a1dab4;stroke:#444443;stroke-linejoin:miter;stroke-width:0.5;\" />\n   </g>\n   <g id=\"patch_27\">\n    <path clip-path=\"url(#p9b845478e6)\" d=\"M 75.82008 81.54  L 84.033283 81.54  L 84.033283 81.54  L 75.82008 81.54  z \" style=\"fill:#a1dab4;stroke:#444443;stroke-linejoin:miter;stroke-width:0.5;\" />\n   </g>\n   <g id=\"patch_28\">\n    <path clip-path=\"url(#p9b845478e6)\" d=\"M 84.033283 81.54  L 92.246485 81.54  L 92.246485 81.54  L 84.033283 81.54  z \" style=\"fill:#a1dab4;stroke:#444443;stroke-linejoin:miter;stroke-width:0.5;\" />\n   </g>\n   <g id=\"patch_29\">\n    <path clip-path=\"url(#p9b845478e6)\" d=\"M 92.246485 81.54  L 100.459688 81.54  L 100.459688 81.54  L 92.246485 81.54  z \" style=\"fill:#a1dab4;stroke:#444443;stroke-linejoin:miter;stroke-width:0.5;\" />\n   </g>\n   <g id=\"patch_30\">\n    <path clip-path=\"url(#p9b845478e6)\" d=\"M 100.459688 81.54  L 108.67289 81.54  L 108.67289 81.54  L 100.459688 81.54  z \" style=\"fill:#a1dab4;stroke:#444443;stroke-linejoin:miter;stroke-width:0.5;\" />\n   </g>\n   <g id=\"patch_31\">\n    <path clip-path=\"url(#p9b845478e6)\" d=\"M 108.67289 81.54  L 116.886093 81.54  L 116.886093 81.54  L 108.67289 81.54  z \" style=\"fill:#a1dab4;stroke:#444443;stroke-linejoin:miter;stroke-width:0.5;\" />\n   </g>\n   <g id=\"patch_32\">\n    <path clip-path=\"url(#p9b845478e6)\" d=\"M 116.886093 81.54  L 125.099295 81.54  L 125.099295 81.54  L 116.886093 81.54  z \" style=\"fill:#a1dab4;stroke:#444443;stroke-linejoin:miter;stroke-width:0.5;\" />\n   </g>\n   <g id=\"patch_33\">\n    <path clip-path=\"url(#p9b845478e6)\" d=\"M 125.099295 81.54  L 133.312498 81.54  L 133.312498 81.54  L 125.099295 81.54  z \" style=\"fill:#a1dab4;stroke:#444443;stroke-linejoin:miter;stroke-width:0.5;\" />\n   </g>\n   <g id=\"patch_34\">\n    <path clip-path=\"url(#p9b845478e6)\" d=\"M 133.312498 81.54  L 141.5257 81.54  L 141.5257 81.54  L 133.312498 81.54  z \" style=\"fill:#a1dab4;stroke:#444443;stroke-linejoin:miter;stroke-width:0.5;\" />\n   </g>\n   <g id=\"patch_35\">\n    <path clip-path=\"url(#p9b845478e6)\" d=\"M 141.5257 81.54  L 149.738903 81.54  L 149.738903 81.54  L 141.5257 81.54  z \" style=\"fill:#a1dab4;stroke:#444443;stroke-linejoin:miter;stroke-width:0.5;\" />\n   </g>\n   <g id=\"patch_36\">\n    <path clip-path=\"url(#p9b845478e6)\" d=\"M 149.738903 81.54  L 157.952105 81.54  L 157.952105 81.54  L 149.738903 81.54  z \" style=\"fill:#a1dab4;stroke:#444443;stroke-linejoin:miter;stroke-width:0.5;\" />\n   </g>\n   <g id=\"patch_37\">\n    <path clip-path=\"url(#p9b845478e6)\" d=\"M 157.952105 81.54  L 166.165308 81.54  L 166.165308 81.54  L 157.952105 81.54  z \" style=\"fill:#a1dab4;stroke:#444443;stroke-linejoin:miter;stroke-width:0.5;\" />\n   </g>\n   <g id=\"patch_38\">\n    <path clip-path=\"url(#p9b845478e6)\" d=\"M 166.165308 81.54  L 174.37851 81.54  L 174.37851 81.54  L 166.165308 81.54  z \" style=\"fill:#a1dab4;stroke:#444443;stroke-linejoin:miter;stroke-width:0.5;\" />\n   </g>\n   <g id=\"patch_39\">\n    <path clip-path=\"url(#p9b845478e6)\" d=\"M 174.37851 81.54  L 182.591713 81.54  L 182.591713 81.54  L 174.37851 81.54  z \" style=\"fill:#a1dab4;stroke:#444443;stroke-linejoin:miter;stroke-width:0.5;\" />\n   </g>\n   <g id=\"patch_40\">\n    <path clip-path=\"url(#p9b845478e6)\" d=\"M 182.591713 19.119385  L 190.804915 19.119385  L 190.804915 3.882857  L 182.591713 3.882857  z \" style=\"fill:#a1dab4;stroke:#444443;stroke-linejoin:miter;stroke-width:0.5;\" />\n   </g>\n   <g id=\"patch_41\">\n    <path d=\"M 112.779492 82.3554  L 109.464972 89.694  L 116.094012 89.694  z \" style=\"fill:#444443;\" />\n   </g>\n   <g id=\"matplotlib.axis_1\">\n    <g id=\"xtick_1\">\n     <g id=\"line2d_1\">\n      <defs>\n       <path d=\"M 0 0  L 0 3.5  \" id=\"m2dc62c8bc8\" style=\"stroke:#000000;stroke-width:0.3;\" />\n      </defs>\n      <g>\n       <use style=\"stroke:#000000;stroke-width:0.3;\" x=\"34.754068\" y=\"81.54\" xlink:href=\"#m2dc62c8bc8\" />\n      </g>\n     </g>\n     <g id=\"text_1\">\n      \n      <defs>\n       <path d=\"M 12.40625 8.296875  L 28.515625 8.296875  L 28.515625 63.921875  L 10.984375 60.40625  L 10.984375 69.390625  L 28.421875 72.90625  L 38.28125 72.90625  L 38.28125 8.296875  L 54.390625 8.296875  L 54.390625 0  L 12.40625 0  z \" id=\"DejaVuSans-49\" />\n      </defs>\n      <g style=\"fill:#444443;\" transform=\"translate(32.209068 94.61875)scale(0.08 -0.08)\">\n       <use xlink:href=\"#DejaVuSans-49\" />\n      </g>\n     </g>\n    </g>\n    <g id=\"xtick_2\">\n     <g id=\"line2d_2\">\n      <g>\n       <use style=\"stroke:#000000;stroke-width:0.3;\" x=\"190.804915\" y=\"81.54\" xlink:href=\"#m2dc62c8bc8\" />\n      </g>\n     </g>\n     <g id=\"text_2\">\n      \n      <defs>\n       <path d=\"M 19.1875 8.296875  L 53.609375 8.296875  L 53.609375 0  L 7.328125 0  L 7.328125 8.296875  Q 12.9375 14.109375 22.625 23.890625  Q 32.328125 33.6875 34.8125 36.53125  Q 39.546875 41.84375 41.421875 45.53125  Q 43.3125 49.21875 43.3125 52.78125  Q 43.3125 58.59375 39.234375 62.25  Q 35.15625 65.921875 28.609375 65.921875  Q 23.96875 65.921875 18.8125 64.3125  Q 13.671875 62.703125 7.8125 59.421875  L 7.8125 69.390625  Q 13.765625 71.78125 18.9375 73  Q 24.125 74.21875 28.421875 74.21875  Q 39.75 74.21875 46.484375 68.546875  Q 53.21875 62.890625 53.21875 53.421875  Q 53.21875 48.921875 51.53125 44.890625  Q 49.859375 40.875 45.40625 35.40625  Q 44.1875 33.984375 37.640625 27.21875  Q 31.109375 20.453125 19.1875 8.296875  z \" id=\"DejaVuSans-50\" />\n      </defs>\n      <g style=\"fill:#444443;\" transform=\"translate(188.259915 94.61875)scale(0.08 -0.08)\">\n       <use xlink:href=\"#DejaVuSans-50\" />\n      </g>\n     </g>\n    </g>\n    <g id=\"text_3\">\n     \n     <defs>\n      <path d=\"M 53.515625 70.515625  L 53.515625 60.890625  Q 47.90625 63.578125 42.921875 64.890625  Q 37.9375 66.21875 33.296875 66.21875  Q 25.25 66.21875 20.875 63.09375  Q 16.5 59.96875 16.5 54.203125  Q 16.5 49.359375 19.40625 46.890625  Q 22.3125 44.4375 30.421875 42.921875  L 36.375 41.703125  Q 47.40625 39.59375 52.65625 34.296875  Q 57.90625 29 57.90625 20.125  Q 57.90625 9.515625 50.796875 4.046875  Q 43.703125 -1.421875 29.984375 -1.421875  Q 24.8125 -1.421875 18.96875 -0.25  Q 13.140625 0.921875 6.890625 3.21875  L 6.890625 13.375  Q 12.890625 10.015625 18.65625 8.296875  Q 24.421875 6.59375 29.984375 6.59375  Q 38.421875 6.59375 43.015625 9.90625  Q 47.609375 13.234375 47.609375 19.390625  Q 47.609375 24.75 44.3125 27.78125  Q 41.015625 30.8125 33.5 32.328125  L 27.484375 33.5  Q 16.453125 35.6875 11.515625 40.375  Q 6.59375 45.0625 6.59375 53.421875  Q 6.59375 63.09375 13.40625 68.65625  Q 20.21875 74.21875 32.171875 74.21875  Q 37.3125 74.21875 42.625 73.28125  Q 47.953125 72.359375 53.515625 70.515625  z \" id=\"DejaVuSans-83\" />\n      <path d=\"M 56.203125 29.59375  L 56.203125 25.203125  L 14.890625 25.203125  Q 15.484375 15.921875 20.484375 11.0625  Q 25.484375 6.203125 34.421875 6.203125  Q 39.59375 6.203125 44.453125 7.46875  Q 49.3125 8.734375 54.109375 11.28125  L 54.109375 2.78125  Q 49.265625 0.734375 44.1875 -0.34375  Q 39.109375 -1.421875 33.890625 -1.421875  Q 20.796875 -1.421875 13.15625 6.1875  Q 5.515625 13.8125 5.515625 26.8125  Q 5.515625 40.234375 12.765625 48.109375  Q 20.015625 56 32.328125 56  Q 43.359375 56 49.78125 48.890625  Q 56.203125 41.796875 56.203125 29.59375  z M 47.21875 32.234375  Q 47.125 39.59375 43.09375 43.984375  Q 39.0625 48.390625 32.421875 48.390625  Q 24.90625 48.390625 20.390625 44.140625  Q 15.875 39.890625 15.1875 32.171875  z \" id=\"DejaVuSans-101\" />\n      <path d=\"M 54.890625 54.6875  L 35.109375 28.078125  L 55.90625 0  L 45.3125 0  L 29.390625 21.484375  L 13.484375 0  L 2.875 0  L 24.125 28.609375  L 4.6875 54.6875  L 15.28125 54.6875  L 29.78125 35.203125  L 44.28125 54.6875  z \" id=\"DejaVuSans-120\" />\n     </defs>\n     <g style=\"fill:#444443;\" transform=\"translate(105.217344 107.880937)scale(0.1 -0.1)\">\n      <use xlink:href=\"#DejaVuSans-83\" />\n      <use x=\"63.476562\" xlink:href=\"#DejaVuSans-101\" />\n      <use x=\"123.25\" xlink:href=\"#DejaVuSans-120\" />\n     </g>\n    </g>\n   </g>\n   <g id=\"matplotlib.axis_2\">\n    <g id=\"ytick_1\">\n     <g id=\"line2d_3\">\n      <defs>\n       <path d=\"M 0 0  L -3.5 0  \" id=\"m75238d91dd\" style=\"stroke:#000000;stroke-width:0.3;\" />\n      </defs>\n      <g>\n       <use style=\"stroke:#000000;stroke-width:0.3;\" x=\"22.27\" y=\"81.54\" xlink:href=\"#m75238d91dd\" />\n      </g>\n     </g>\n     <g id=\"text_4\">\n      \n      <defs>\n       <path d=\"M 31.78125 66.40625  Q 24.171875 66.40625 20.328125 58.90625  Q 16.5 51.421875 16.5 36.375  Q 16.5 21.390625 20.328125 13.890625  Q 24.171875 6.390625 31.78125 6.390625  Q 39.453125 6.390625 43.28125 13.890625  Q 47.125 21.390625 47.125 36.375  Q 47.125 51.421875 43.28125 58.90625  Q 39.453125 66.40625 31.78125 66.40625  z M 31.78125 74.21875  Q 44.046875 74.21875 50.515625 64.515625  Q 56.984375 54.828125 56.984375 36.375  Q 56.984375 17.96875 50.515625 8.265625  Q 44.046875 -1.421875 31.78125 -1.421875  Q 19.53125 -1.421875 13.0625 8.265625  Q 6.59375 17.96875 6.59375 36.375  Q 6.59375 54.828125 13.0625 64.515625  Q 19.53125 74.21875 31.78125 74.21875  z \" id=\"DejaVuSans-48\" />\n      </defs>\n      <g style=\"fill:#444443;\" transform=\"translate(10.18 84.579375)scale(0.08 -0.08)\">\n       <use xlink:href=\"#DejaVuSans-48\" />\n      </g>\n     </g>\n    </g>\n    <g id=\"ytick_2\">\n     <g id=\"line2d_4\">\n      <g>\n       <use style=\"stroke:#000000;stroke-width:0.3;\" x=\"22.27\" y=\"3.882857\" xlink:href=\"#m75238d91dd\" />\n      </g>\n     </g>\n     <g id=\"text_5\">\n      \n      <defs>\n       <path d=\"M 40.578125 39.3125  Q 47.65625 37.796875 51.625 33  Q 55.609375 28.21875 55.609375 21.1875  Q 55.609375 10.40625 48.1875 4.484375  Q 40.765625 -1.421875 27.09375 -1.421875  Q 22.515625 -1.421875 17.65625 -0.515625  Q 12.796875 0.390625 7.625 2.203125  L 7.625 11.71875  Q 11.71875 9.328125 16.59375 8.109375  Q 21.484375 6.890625 26.8125 6.890625  Q 36.078125 6.890625 40.9375 10.546875  Q 45.796875 14.203125 45.796875 21.1875  Q 45.796875 27.640625 41.28125 31.265625  Q 36.765625 34.90625 28.71875 34.90625  L 20.21875 34.90625  L 20.21875 43.015625  L 29.109375 43.015625  Q 36.375 43.015625 40.234375 45.921875  Q 44.09375 48.828125 44.09375 54.296875  Q 44.09375 59.90625 40.109375 62.90625  Q 36.140625 65.921875 28.71875 65.921875  Q 24.65625 65.921875 20.015625 65.03125  Q 15.375 64.15625 9.8125 62.3125  L 9.8125 71.09375  Q 15.4375 72.65625 20.34375 73.4375  Q 25.25 74.21875 29.59375 74.21875  Q 40.828125 74.21875 47.359375 69.109375  Q 53.90625 64.015625 53.90625 55.328125  Q 53.90625 49.265625 50.4375 45.09375  Q 46.96875 40.921875 40.578125 39.3125  z \" id=\"DejaVuSans-51\" />\n       <path d=\"M 33.015625 40.375  Q 26.375 40.375 22.484375 35.828125  Q 18.609375 31.296875 18.609375 23.390625  Q 18.609375 15.53125 22.484375 10.953125  Q 26.375 6.390625 33.015625 6.390625  Q 39.65625 6.390625 43.53125 10.953125  Q 47.40625 15.53125 47.40625 23.390625  Q 47.40625 31.296875 43.53125 35.828125  Q 39.65625 40.375 33.015625 40.375  z M 52.59375 71.296875  L 52.59375 62.3125  Q 48.875 64.0625 45.09375 64.984375  Q 41.3125 65.921875 37.59375 65.921875  Q 27.828125 65.921875 22.671875 59.328125  Q 17.53125 52.734375 16.796875 39.40625  Q 19.671875 43.65625 24.015625 45.921875  Q 28.375 48.1875 33.59375 48.1875  Q 44.578125 48.1875 50.953125 41.515625  Q 57.328125 34.859375 57.328125 23.390625  Q 57.328125 12.15625 50.6875 5.359375  Q 44.046875 -1.421875 33.015625 -1.421875  Q 20.359375 -1.421875 13.671875 8.265625  Q 6.984375 17.96875 6.984375 36.375  Q 6.984375 53.65625 15.1875 63.9375  Q 23.390625 74.21875 37.203125 74.21875  Q 40.921875 74.21875 44.703125 73.484375  Q 48.484375 72.75 52.59375 71.296875  z \" id=\"DejaVuSans-54\" />\n      </defs>\n      <g style=\"fill:#444443;\" transform=\"translate(0 6.922232)scale(0.08 -0.08)\">\n       <use xlink:href=\"#DejaVuSans-51\" />\n       <use x=\"63.623047\" xlink:href=\"#DejaVuSans-49\" />\n       <use x=\"127.246094\" xlink:href=\"#DejaVuSans-54\" />\n      </g>\n     </g>\n    </g>\n   </g>\n   <g id=\"patch_42\">\n    <path d=\"M 22.27 81.54  L 22.27 -0  \" style=\"fill:none;stroke:#000000;stroke-linecap:square;stroke-linejoin:miter;stroke-width:0.3;\" />\n   </g>\n   <g id=\"patch_43\">\n    <path d=\"M 22.27 81.54  L 206.41 81.54  \" style=\"fill:none;stroke:#000000;stroke-linecap:square;stroke-linejoin:miter;stroke-width:0.3;\" />\n   </g>\n   <g id=\"text_6\">\n    \n    <defs>\n     <path d=\"M 10.6875 12.40625  L 21 12.40625  L 21 0  L 10.6875 0  z \" id=\"DejaVuSans-46\" />\n     <path d=\"M 10.796875 72.90625  L 49.515625 72.90625  L 49.515625 64.59375  L 19.828125 64.59375  L 19.828125 46.734375  Q 21.96875 47.46875 24.109375 47.828125  Q 26.265625 48.1875 28.421875 48.1875  Q 40.625 48.1875 47.75 41.5  Q 54.890625 34.8125 54.890625 23.390625  Q 54.890625 11.625 47.5625 5.09375  Q 40.234375 -1.421875 26.90625 -1.421875  Q 22.3125 -1.421875 17.546875 -0.640625  Q 12.796875 0.140625 7.71875 1.703125  L 7.71875 11.625  Q 12.109375 9.234375 16.796875 8.0625  Q 21.484375 6.890625 26.703125 6.890625  Q 35.15625 6.890625 40.078125 11.328125  Q 45.015625 15.765625 45.015625 23.390625  Q 45.015625 31 40.078125 35.4375  Q 35.15625 39.890625 26.703125 39.890625  Q 22.75 39.890625 18.8125 39.015625  Q 14.890625 38.140625 10.796875 36.28125  z \" id=\"DejaVuSans-53\" />\n    </defs>\n    <g style=\"fill:#444443;\" transform=\"translate(103.873242 97.848)scale(0.08 -0.08)\">\n     <use xlink:href=\"#DejaVuSans-49\" />\n     <use x=\"63.623047\" xlink:href=\"#DejaVuSans-46\" />\n     <use x=\"95.410156\" xlink:href=\"#DejaVuSans-53\" />\n     <use x=\"159.033203\" xlink:href=\"#DejaVuSans-48\" />\n    </g>\n   </g>\n  </g>\n </g>\n <defs>\n  <clipPath id=\"p9b845478e6\">\n   <rect height=\"81.54\" width=\"184.14\" x=\"22.27\" y=\"-0\" />\n  </clipPath>\n </defs>\n</svg></g>\n\n<g class=\"edge\" id=\"edge7\">\n<title>node0-&gt;node1</title>\n<path d=\"M163.0823,-106.9832C169.8722,-108.4799 176.7446,-109.9948 183.5517,-111.4953\" fill=\"none\" stroke=\"#444443\" stroke-width=\".3\" />\n<polygon fill=\"#444443\" points=\"183.5727,-112.9334 187.7803,-112.4274 184.1755,-110.1991 183.5727,-112.9334\" stroke=\"#444443\" stroke-width=\".3\" />\n<text fill=\"#000000\" font-family=\"Times,serif\" font-size=\"14.00\" text-anchor=\"start\" x=\"171.5\" y=\"-113.8\">&#8804;</text>\n</g>\n\n<g class=\"edge\" id=\"edge8\">\n<title>node0-&gt;leaf2</title>\n<path d=\"M163.0823,-71.4554C186.1318,-66.4985 210.1313,-61.3374 229.3014,-57.2148\" fill=\"none\" stroke=\"#444443\" stroke-width=\".3\" />\n<polygon fill=\"#444443\" points=\"229.9493,-58.5075 233.5656,-56.2977 229.3606,-55.7701 229.9493,-58.5075\" stroke=\"#444443\" stroke-width=\".3\" />\n<text fill=\"#000000\" font-family=\"Times,serif\" font-size=\"14.00\" text-anchor=\"start\" x=\"171\" y=\"-72.8\">&gt;</text>\n</g>\n\n\n\n<g class=\"node\" id=\"node8\">\n<title>legend</title>\n<polygon fill=\"none\" points=\"111,-187 52,-187 52,-141 111,-141 111,-187\" stroke=\"#000000\" stroke-width=\"0\" />\n<svg height=\"42px\" preserveAspectRatio=\"xMinYMin meet\" version=\"1.1\" viewBox=\"0 0 73.864062 55.034375\" width=\"55px\" x=\"54.5\" y=\"-185\">\n <defs>\n  <style type=\"text/css\">\n*{stroke-linecap:butt;stroke-linejoin:round;}\n  </style>\n </defs>\n <g id=\"figure_1\">\n  <g id=\"patch_1\">\n   <path d=\"M 0 55.034375  L 73.864062 55.034375  L 73.864062 0  L 0 0  z \" style=\"fill:#ffffff;\" />\n  </g>\n  <g id=\"axes_1\">\n   <g id=\"legend_1\">\n    <g id=\"patch_2\">\n     <path d=\"M 2 55.034375  L 71.864063 55.034375  Q 73.864063 55.034375 73.864063 53.034375  L 73.864063 2  Q 73.864063 -0 71.864063 -0  L 2 -0  Q 0 -0 0 2  L 0 53.034375  Q 0 55.034375 2 55.034375  z \" style=\"fill:#ffffff;opacity:0.8;stroke:#444443;stroke-linejoin:miter;stroke-width:0.5;\" />\n    </g>\n    <g id=\"text_1\">\n     \n     <defs>\n      <path d=\"M 59.90625 70.609375  L 59.90625 55.171875  Q 53.90625 57.859375 48.1875 59.21875  Q 42.484375 60.59375 37.40625 60.59375  Q 30.671875 60.59375 27.4375 58.734375  Q 24.21875 56.890625 24.21875 52.984375  Q 24.21875 50.046875 26.390625 48.40625  Q 28.5625 46.78125 34.28125 45.609375  L 42.28125 44  Q 54.4375 41.546875 59.5625 36.5625  Q 64.703125 31.59375 64.703125 22.40625  Q 64.703125 10.359375 57.546875 4.46875  Q 50.390625 -1.421875 35.6875 -1.421875  Q 28.765625 -1.421875 21.78125 -0.09375  Q 14.796875 1.21875 7.8125 3.8125  L 7.8125 19.671875  Q 14.796875 15.96875 21.3125 14.078125  Q 27.828125 12.203125 33.890625 12.203125  Q 40.046875 12.203125 43.3125 14.25  Q 46.578125 16.3125 46.578125 20.125  Q 46.578125 23.53125 44.359375 25.390625  Q 42.140625 27.25 35.5 28.71875  L 28.21875 30.328125  Q 17.28125 32.671875 12.21875 37.796875  Q 7.171875 42.921875 7.171875 51.609375  Q 7.171875 62.5 14.203125 68.359375  Q 21.234375 74.21875 34.421875 74.21875  Q 40.4375 74.21875 46.78125 73.3125  Q 53.125 72.40625 59.90625 70.609375  z \" id=\"DejaVuSans-Bold-83\" />\n      <path d=\"M 7.8125 21.296875  L 7.8125 54.6875  L 25.390625 54.6875  L 25.390625 49.21875  Q 25.390625 44.78125 25.34375 38.0625  Q 25.296875 31.34375 25.296875 29.109375  Q 25.296875 22.515625 25.640625 19.609375  Q 25.984375 16.703125 26.8125 15.375  Q 27.875 13.671875 29.609375 12.734375  Q 31.34375 11.8125 33.59375 11.8125  Q 39.0625 11.8125 42.1875 16.015625  Q 45.3125 20.21875 45.3125 27.6875  L 45.3125 54.6875  L 62.796875 54.6875  L 62.796875 0  L 45.3125 0  L 45.3125 7.90625  Q 41.359375 3.125 36.9375 0.84375  Q 32.515625 -1.421875 27.203125 -1.421875  Q 17.71875 -1.421875 12.765625 4.390625  Q 7.8125 10.203125 7.8125 21.296875  z \" id=\"DejaVuSans-Bold-117\" />\n      <path d=\"M 49.03125 39.796875  Q 46.734375 40.875 44.453125 41.375  Q 42.1875 41.890625 39.890625 41.890625  Q 33.15625 41.890625 29.515625 37.5625  Q 25.875 33.25 25.875 25.203125  L 25.875 0  L 8.40625 0  L 8.40625 54.6875  L 25.875 54.6875  L 25.875 45.703125  Q 29.25 51.078125 33.609375 53.53125  Q 37.984375 56 44.09375 56  Q 44.96875 56 45.984375 55.921875  Q 47.015625 55.859375 48.96875 55.609375  z \" id=\"DejaVuSans-Bold-114\" />\n      <path d=\"M 1.515625 54.6875  L 19 54.6875  L 32.625 16.890625  L 46.1875 54.6875  L 63.71875 54.6875  L 42.1875 0  L 23 0  z \" id=\"DejaVuSans-Bold-118\" />\n      <path d=\"M 8.40625 54.6875  L 25.875 54.6875  L 25.875 0  L 8.40625 0  z M 8.40625 75.984375  L 25.875 75.984375  L 25.875 61.71875  L 8.40625 61.71875  z \" id=\"DejaVuSans-Bold-105\" />\n      <path d=\"M 62.984375 27.484375  L 62.984375 22.515625  L 22.125 22.515625  Q 22.75 16.359375 26.5625 13.28125  Q 30.375 10.203125 37.203125 10.203125  Q 42.71875 10.203125 48.5 11.84375  Q 54.296875 13.484375 60.40625 16.796875  L 60.40625 3.328125  Q 54.203125 0.984375 48 -0.21875  Q 41.796875 -1.421875 35.59375 -1.421875  Q 20.75 -1.421875 12.515625 6.125  Q 4.296875 13.671875 4.296875 27.296875  Q 4.296875 40.671875 12.375 48.328125  Q 20.453125 56 34.625 56  Q 47.515625 56 55.25 48.234375  Q 62.984375 40.484375 62.984375 27.484375  z M 45.015625 33.296875  Q 45.015625 38.28125 42.109375 41.328125  Q 39.203125 44.390625 34.515625 44.390625  Q 29.4375 44.390625 26.265625 41.53125  Q 23.09375 38.671875 22.3125 33.296875  z \" id=\"DejaVuSans-Bold-101\" />\n      <path d=\"M 45.609375 46.6875  L 45.609375 75.984375  L 63.1875 75.984375  L 63.1875 0  L 45.609375 0  L 45.609375 7.90625  Q 42 3.078125 37.640625 0.828125  Q 33.296875 -1.421875 27.59375 -1.421875  Q 17.484375 -1.421875 10.984375 6.609375  Q 4.5 14.65625 4.5 27.296875  Q 4.5 39.9375 10.984375 47.96875  Q 17.484375 56 27.59375 56  Q 33.25 56 37.625 53.734375  Q 42 51.46875 45.609375 46.6875  z M 34.078125 11.28125  Q 39.703125 11.28125 42.65625 15.375  Q 45.609375 19.484375 45.609375 27.296875  Q 45.609375 35.109375 42.65625 39.203125  Q 39.703125 43.3125 34.078125 43.3125  Q 28.515625 43.3125 25.5625 39.203125  Q 22.609375 35.109375 22.609375 27.296875  Q 22.609375 19.484375 25.5625 15.375  Q 28.515625 11.28125 34.078125 11.28125  z \" id=\"DejaVuSans-Bold-100\" />\n     </defs>\n     <g style=\"fill:#444443;\" transform=\"translate(12.103125 15.598437)scale(0.1 -0.1)\">\n      <use xlink:href=\"#DejaVuSans-Bold-83\" />\n      <use x=\"72.021484\" xlink:href=\"#DejaVuSans-Bold-117\" />\n      <use x=\"143.212891\" xlink:href=\"#DejaVuSans-Bold-114\" />\n      <use x=\"192.529297\" xlink:href=\"#DejaVuSans-Bold-118\" />\n      <use x=\"257.714844\" xlink:href=\"#DejaVuSans-Bold-105\" />\n      <use x=\"291.992188\" xlink:href=\"#DejaVuSans-Bold-118\" />\n      <use x=\"357.177734\" xlink:href=\"#DejaVuSans-Bold-101\" />\n      <use x=\"425\" xlink:href=\"#DejaVuSans-Bold-100\" />\n     </g>\n    </g>\n    <g id=\"patch_3\">\n     <path d=\"M 8 30.276562  L 28 30.276562  L 28 23.276562  L 8 23.276562  z \" style=\"fill:#fefebb;stroke:#444443;stroke-linejoin:miter;stroke-width:0.4;\" />\n    </g>\n    <g id=\"text_2\">\n     \n     <defs>\n      <path d=\"M 48.78125 52.59375  L 48.78125 44.1875  Q 44.96875 46.296875 41.140625 47.34375  Q 37.3125 48.390625 33.40625 48.390625  Q 24.65625 48.390625 19.8125 42.84375  Q 14.984375 37.3125 14.984375 27.296875  Q 14.984375 17.28125 19.8125 11.734375  Q 24.65625 6.203125 33.40625 6.203125  Q 37.3125 6.203125 41.140625 7.25  Q 44.96875 8.296875 48.78125 10.40625  L 48.78125 2.09375  Q 45.015625 0.34375 40.984375 -0.53125  Q 36.96875 -1.421875 32.421875 -1.421875  Q 20.0625 -1.421875 12.78125 6.34375  Q 5.515625 14.109375 5.515625 27.296875  Q 5.515625 40.671875 12.859375 48.328125  Q 20.21875 56 33.015625 56  Q 37.15625 56 41.109375 55.140625  Q 45.0625 54.296875 48.78125 52.59375  z \" id=\"DejaVuSans-99\" />\n      <path d=\"M 9.421875 75.984375  L 18.40625 75.984375  L 18.40625 0  L 9.421875 0  z \" id=\"DejaVuSans-108\" />\n      <path d=\"M 34.28125 27.484375  Q 23.390625 27.484375 19.1875 25  Q 14.984375 22.515625 14.984375 16.5  Q 14.984375 11.71875 18.140625 8.90625  Q 21.296875 6.109375 26.703125 6.109375  Q 34.1875 6.109375 38.703125 11.40625  Q 43.21875 16.703125 43.21875 25.484375  L 43.21875 27.484375  z M 52.203125 31.203125  L 52.203125 0  L 43.21875 0  L 43.21875 8.296875  Q 40.140625 3.328125 35.546875 0.953125  Q 30.953125 -1.421875 24.3125 -1.421875  Q 15.921875 -1.421875 10.953125 3.296875  Q 6 8.015625 6 15.921875  Q 6 25.140625 12.171875 29.828125  Q 18.359375 34.515625 30.609375 34.515625  L 43.21875 34.515625  L 43.21875 35.40625  Q 43.21875 41.609375 39.140625 45  Q 35.0625 48.390625 27.6875 48.390625  Q 23 48.390625 18.546875 47.265625  Q 14.109375 46.140625 10.015625 43.890625  L 10.015625 52.203125  Q 14.9375 54.109375 19.578125 55.046875  Q 24.21875 56 28.609375 56  Q 40.484375 56 46.34375 49.84375  Q 52.203125 43.703125 52.203125 31.203125  z \" id=\"DejaVuSans-97\" />\n      <path d=\"M 44.28125 53.078125  L 44.28125 44.578125  Q 40.484375 46.53125 36.375 47.5  Q 32.28125 48.484375 27.875 48.484375  Q 21.1875 48.484375 17.84375 46.4375  Q 14.5 44.390625 14.5 40.28125  Q 14.5 37.15625 16.890625 35.375  Q 19.28125 33.59375 26.515625 31.984375  L 29.59375 31.296875  Q 39.15625 29.25 43.1875 25.515625  Q 47.21875 21.78125 47.21875 15.09375  Q 47.21875 7.46875 41.1875 3.015625  Q 35.15625 -1.421875 24.609375 -1.421875  Q 20.21875 -1.421875 15.453125 -0.5625  Q 10.6875 0.296875 5.421875 2  L 5.421875 11.28125  Q 10.40625 8.6875 15.234375 7.390625  Q 20.0625 6.109375 24.8125 6.109375  Q 31.15625 6.109375 34.5625 8.28125  Q 37.984375 10.453125 37.984375 14.40625  Q 37.984375 18.0625 35.515625 20.015625  Q 33.0625 21.96875 24.703125 23.78125  L 21.578125 24.515625  Q 13.234375 26.265625 9.515625 29.90625  Q 5.8125 33.546875 5.8125 39.890625  Q 5.8125 47.609375 11.28125 51.796875  Q 16.75 56 26.8125 56  Q 31.78125 56 36.171875 55.265625  Q 40.578125 54.546875 44.28125 53.078125  z \" id=\"DejaVuSans-115\" />\n      <path id=\"DejaVuSans-32\" />\n      <path d=\"M 31.78125 66.40625  Q 24.171875 66.40625 20.328125 58.90625  Q 16.5 51.421875 16.5 36.375  Q 16.5 21.390625 20.328125 13.890625  Q 24.171875 6.390625 31.78125 6.390625  Q 39.453125 6.390625 43.28125 13.890625  Q 47.125 21.390625 47.125 36.375  Q 47.125 51.421875 43.28125 58.90625  Q 39.453125 66.40625 31.78125 66.40625  z M 31.78125 74.21875  Q 44.046875 74.21875 50.515625 64.515625  Q 56.984375 54.828125 56.984375 36.375  Q 56.984375 17.96875 50.515625 8.265625  Q 44.046875 -1.421875 31.78125 -1.421875  Q 19.53125 -1.421875 13.0625 8.265625  Q 6.59375 17.96875 6.59375 36.375  Q 6.59375 54.828125 13.0625 64.515625  Q 19.53125 74.21875 31.78125 74.21875  z \" id=\"DejaVuSans-48\" />\n     </defs>\n     <g style=\"fill:#444443;\" transform=\"translate(31.5 30.276562)scale(0.1 -0.1)\">\n      <use xlink:href=\"#DejaVuSans-99\" />\n      <use x=\"54.980469\" xlink:href=\"#DejaVuSans-108\" />\n      <use x=\"82.763672\" xlink:href=\"#DejaVuSans-97\" />\n      <use x=\"144.042969\" xlink:href=\"#DejaVuSans-115\" />\n      <use x=\"196.142578\" xlink:href=\"#DejaVuSans-115\" />\n      <use x=\"248.242188\" xlink:href=\"#DejaVuSans-32\" />\n      <use x=\"280.029297\" xlink:href=\"#DejaVuSans-48\" />\n     </g>\n    </g>\n    <g id=\"patch_4\">\n     <path d=\"M 8 44.954687  L 28 44.954687  L 28 37.954687  L 8 37.954687  z \" style=\"fill:#a1dab4;stroke:#444443;stroke-linejoin:miter;stroke-width:0.4;\" />\n    </g>\n    <g id=\"text_3\">\n     \n     <defs>\n      <path d=\"M 12.40625 8.296875  L 28.515625 8.296875  L 28.515625 63.921875  L 10.984375 60.40625  L 10.984375 69.390625  L 28.421875 72.90625  L 38.28125 72.90625  L 38.28125 8.296875  L 54.390625 8.296875  L 54.390625 0  L 12.40625 0  z \" id=\"DejaVuSans-49\" />\n     </defs>\n     <g style=\"fill:#444443;\" transform=\"translate(31.5 44.954687)scale(0.1 -0.1)\">\n      <use xlink:href=\"#DejaVuSans-99\" />\n      <use x=\"54.980469\" xlink:href=\"#DejaVuSans-108\" />\n      <use x=\"82.763672\" xlink:href=\"#DejaVuSans-97\" />\n      <use x=\"144.042969\" xlink:href=\"#DejaVuSans-115\" />\n      <use x=\"196.142578\" xlink:href=\"#DejaVuSans-115\" />\n      <use x=\"248.242188\" xlink:href=\"#DejaVuSans-32\" />\n      <use x=\"280.029297\" xlink:href=\"#DejaVuSans-49\" />\n     </g>\n    </g>\n   </g>\n  </g>\n </g>\n</svg></g>\n</g>\n</svg>"
          },
          "metadata": {
            "tags": []
          },
          "execution_count": 159
        }
      ]
    },
    {
      "cell_type": "code",
      "metadata": {
        "id": "x7w_lwKvbYxN",
        "colab": {
          "base_uri": "https://localhost:8080/"
        },
        "outputId": "3a9eaa88-174a-4575-c8eb-67f0d12ec9bb"
      },
      "source": [
        "m = RandomForestClassifier(n_estimators=65, max_depth=7, min_samples_split=6, min_samples_leaf=6, oob_score=True, random_state=42, verbose=True)\n",
        "m.fit(train_x, train_y)\n",
        "\n",
        "preds = m.predict(valid_x)"
      ],
      "execution_count": 12,
      "outputs": [
        {
          "output_type": "stream",
          "text": [
            "[Parallel(n_jobs=1)]: Using backend SequentialBackend with 1 concurrent workers.\n",
            "[Parallel(n_jobs=1)]: Done  65 out of  65 | elapsed:    0.1s finished\n",
            "[Parallel(n_jobs=1)]: Using backend SequentialBackend with 1 concurrent workers.\n",
            "[Parallel(n_jobs=1)]: Done  65 out of  65 | elapsed:    0.0s finished\n"
          ],
          "name": "stderr"
        }
      ]
    },
    {
      "cell_type": "code",
      "metadata": {
        "id": "ot-XqjJEYyOn",
        "colab": {
          "base_uri": "https://localhost:8080/"
        },
        "outputId": "29e40043-24c1-430c-a419-9bb9d2e22e0a"
      },
      "source": [
        "from sklearn.metrics import accuracy_score\n",
        "\n",
        "accuracy_score(valid_y, preds)"
      ],
      "execution_count": 13,
      "outputs": [
        {
          "output_type": "execute_result",
          "data": {
            "text/plain": [
              "0.8370786516853933"
            ]
          },
          "metadata": {
            "tags": []
          },
          "execution_count": 13
        }
      ]
    },
    {
      "cell_type": "code",
      "metadata": {
        "colab": {
          "base_uri": "https://localhost:8080/"
        },
        "id": "qOe-IMidJhIK",
        "outputId": "243188c4-ed87-4494-f358-cf2b43167b3d"
      },
      "source": [
        "# We can also see where the model is getting confused\n",
        "from sklearn.metrics import confusion_matrix\n",
        "\n",
        "confusion_matrix(valid_y,preds, labels=[1,0])"
      ],
      "execution_count": 20,
      "outputs": [
        {
          "output_type": "execute_result",
          "data": {
            "text/plain": [
              "array([[ 49,  18],\n",
              "       [ 11, 100]])"
            ]
          },
          "metadata": {
            "tags": []
          },
          "execution_count": 20
        }
      ]
    },
    {
      "cell_type": "code",
      "metadata": {
        "id": "ks5E63qaZ19J",
        "colab": {
          "base_uri": "https://localhost:8080/",
          "height": 267
        },
        "outputId": "e8d1ee5e-cc55-481e-e170-1065d253aed5"
      },
      "source": [
        "# Let's find the reasonable number of trees\n",
        "m = DecisionTreeClassifier()\n",
        "m.fit(train_x, train_y);\n",
        "\n",
        "plt.plot([accuracy_score(m.predict(train_x[:i+1]), valid_y[:i+1]) for i in range(80)]);"
      ],
      "execution_count": 17,
      "outputs": [
        {
          "output_type": "display_data",
          "data": {
            "image/png": "[encoded data removed]",
            "text/plain": [
              "<Figure size 432x288 with 1 Axes>"
            ]
          },
          "metadata": {
            "tags": [],
            "needs_background": "light"
          }
        }
      ]
    },
    {
      "cell_type": "markdown",
      "metadata": {
        "id": "mxL8ipigbx20"
      },
      "source": [
        "### **Tree Variance for Prediction Confidence**\n",
        "\n",
        "How can we know the confidence of our random forest estimates? One simple way is to use the standard deviation of predictions across the trees, instead of just the mean. This tells us the relative confidence of predictions. In general, we would want to be more cautious of using the results for rows where trees give very different results (higher standard deviations), compared to cases where they are more consistent (lower standard deviations)."
      ]
    },
    {
      "cell_type": "code",
      "metadata": {
        "id": "zOD7rZ2rcNoz",
        "colab": {
          "base_uri": "https://localhost:8080/"
        },
        "outputId": "ed65b146-87f5-4dc4-9fd0-e445cf079e3a"
      },
      "source": [
        "m = RandomForestClassifier(n_estimators=65)\n",
        "m.fit(train_x, train_y)\n",
        "\n",
        "# Let's get predictions for each tree\n",
        "preds = np.stack([t.predict(valid_x) for t in m.estimators_])\n",
        "preds.shape"
      ],
      "execution_count": 21,
      "outputs": [
        {
          "output_type": "execute_result",
          "data": {
            "text/plain": [
              "(65, 178)"
            ]
          },
          "metadata": {
            "tags": []
          },
          "execution_count": 21
        }
      ]
    },
    {
      "cell_type": "code",
      "metadata": {
        "id": "WHPcDEjWcchd",
        "colab": {
          "base_uri": "https://localhost:8080/"
        },
        "outputId": "7a680b57-c361-4e6f-b88c-18bb4ab0e6a3"
      },
      "source": [
        "# Now let's look at the standard deviation\n",
        "preds_std = preds.std(0)\n",
        "\n",
        "preds_std[:5]"
      ],
      "execution_count": 22,
      "outputs": [
        {
          "output_type": "execute_result",
          "data": {
            "text/plain": [
              "array([0.12307692, 0.17269188, 0.        , 0.30999141, 0.        ])"
            ]
          },
          "metadata": {
            "tags": []
          },
          "execution_count": 22
        }
      ]
    },
    {
      "cell_type": "markdown",
      "metadata": {
        "id": "zaq73uZ8cpcL"
      },
      "source": [
        "As you can see, the confidence in the predictions varies widely and it seems like the trees are not able to come to a general consensus. For some passengers, there is a low standard deviation because the trees agree. For others it's higher, as the trees don't agree. This is information that would be useful in a production setting; for instance, if you were using a model to decide what items to bid on at auction, a low-confidence prediction might cause you to look more carefully at an item before you made a bid."
      ]
    },
    {
      "cell_type": "markdown",
      "metadata": {
        "id": "p-JGK-TmdLt6"
      },
      "source": [
        "### **Feature Importance**\n",
        "\n",
        "It's critical for us to know how the trees are making their decisions, and which features they're leaning on to do so. We can get these directly from `sklearn`'s random forest by looking in the `feature_importances_` attribute. Here's a simple function we can use to pop them into a DataFrame and sort them:"
      ]
    },
    {
      "cell_type": "code",
      "metadata": {
        "id": "sGI-niMBdcCs"
      },
      "source": [
        "def rf_feat_importance(m, df):\n",
        "    return pd.DataFrame({'cols':df.columns, 'imp':m.feature_importances_}\n",
        "                       ).sort_values('imp', ascending=False)"
      ],
      "execution_count": 23,
      "outputs": []
    },
    {
      "cell_type": "code",
      "metadata": {
        "id": "vqSmUITddhHn",
        "colab": {
          "base_uri": "https://localhost:8080/",
          "height": 359
        },
        "outputId": "5c9183b0-e080-4883-feed-f78de34bec17"
      },
      "source": [
        "# Let's view the most important features to our model\n",
        "fi = rf_feat_importance(m, train_x)\n",
        "fi[:10]"
      ],
      "execution_count": 24,
      "outputs": [
        {
          "output_type": "execute_result",
          "data": {
            "text/html": [
              "<div>\n",
              "<style scoped>\n",
              "    .dataframe tbody tr th:only-of-type {\n",
              "        vertical-align: middle;\n",
              "    }\n",
              "\n",
              "    .dataframe tbody tr th {\n",
              "        vertical-align: top;\n",
              "    }\n",
              "\n",
              "    .dataframe thead th {\n",
              "        text-align: right;\n",
              "    }\n",
              "</style>\n",
              "<table border=\"1\" class=\"dataframe\">\n",
              "  <thead>\n",
              "    <tr style=\"text-align: right;\">\n",
              "      <th></th>\n",
              "      <th>cols</th>\n",
              "      <th>imp</th>\n",
              "    </tr>\n",
              "  </thead>\n",
              "  <tbody>\n",
              "    <tr>\n",
              "      <th>15</th>\n",
              "      <td>Surname</td>\n",
              "      <td>0.114808</td>\n",
              "    </tr>\n",
              "    <tr>\n",
              "      <th>20</th>\n",
              "      <td>Age_Fare</td>\n",
              "      <td>0.113149</td>\n",
              "    </tr>\n",
              "    <tr>\n",
              "      <th>9</th>\n",
              "      <td>Mal_CNaN</td>\n",
              "      <td>0.097587</td>\n",
              "    </tr>\n",
              "    <tr>\n",
              "      <th>18</th>\n",
              "      <td>Fare</td>\n",
              "      <td>0.091634</td>\n",
              "    </tr>\n",
              "    <tr>\n",
              "      <th>3</th>\n",
              "      <td>Sex</td>\n",
              "      <td>0.090739</td>\n",
              "    </tr>\n",
              "    <tr>\n",
              "      <th>17</th>\n",
              "      <td>Age</td>\n",
              "      <td>0.083481</td>\n",
              "    </tr>\n",
              "    <tr>\n",
              "      <th>13</th>\n",
              "      <td>Title</td>\n",
              "      <td>0.059649</td>\n",
              "    </tr>\n",
              "    <tr>\n",
              "      <th>8</th>\n",
              "      <td>Fem_HC</td>\n",
              "      <td>0.052368</td>\n",
              "    </tr>\n",
              "    <tr>\n",
              "      <th>2</th>\n",
              "      <td>Pclass</td>\n",
              "      <td>0.040595</td>\n",
              "    </tr>\n",
              "    <tr>\n",
              "      <th>12</th>\n",
              "      <td>Ticket_Freq</td>\n",
              "      <td>0.039563</td>\n",
              "    </tr>\n",
              "  </tbody>\n",
              "</table>\n",
              "</div>"
            ],
            "text/plain": [
              "           cols       imp\n",
              "15      Surname  0.114808\n",
              "20     Age_Fare  0.113149\n",
              "9      Mal_CNaN  0.097587\n",
              "18         Fare  0.091634\n",
              "3           Sex  0.090739\n",
              "17          Age  0.083481\n",
              "13        Title  0.059649\n",
              "8        Fem_HC  0.052368\n",
              "2        Pclass  0.040595\n",
              "12  Ticket_Freq  0.039563"
            ]
          },
          "metadata": {
            "tags": []
          },
          "execution_count": 24
        }
      ]
    },
    {
      "cell_type": "markdown",
      "metadata": {
        "id": "xGXaA-tSdthG"
      },
      "source": [
        "We can also plot it"
      ]
    },
    {
      "cell_type": "code",
      "metadata": {
        "id": "iKW2WvvGdvW0",
        "colab": {
          "base_uri": "https://localhost:8080/",
          "height": 445
        },
        "outputId": "8790c85b-1f45-46ae-d8c2-6d51e566a266"
      },
      "source": [
        "fi[:30].plot('cols', 'imp', 'barh', figsize=(12,7), legend=False)"
      ],
      "execution_count": 25,
      "outputs": [
        {
          "output_type": "execute_result",
          "data": {
            "text/plain": [
              "<matplotlib.axes._subplots.AxesSubplot at 0x7fe21d6fa4d0>"
            ]
          },
          "metadata": {
            "tags": []
          },
          "execution_count": 25
        },
        {
          "output_type": "display_data",
          "data": {
            "image/png": "[encoded data removed]",
            "text/plain": [
              "<Figure size 864x504 with 1 Axes>"
            ]
          },
          "metadata": {
            "tags": [],
            "needs_background": "light"
          }
        }
      ]
    },
    {
      "cell_type": "markdown",
      "metadata": {
        "id": "SjzXAfjwd7L8"
      },
      "source": [
        "We can remove the features that are of very low importance and see if that has any effect on the model."
      ]
    },
    {
      "cell_type": "code",
      "metadata": {
        "id": "Qo9eB_Q2eAbI",
        "colab": {
          "base_uri": "https://localhost:8080/"
        },
        "outputId": "58a33846-6f38-4843-ed3f-6eb33e69d859"
      },
      "source": [
        "to_keep = fi[fi.imp>0.005].cols\n",
        "list(to_keep)"
      ],
      "execution_count": 26,
      "outputs": [
        {
          "output_type": "execute_result",
          "data": {
            "text/plain": [
              "['Surname',\n",
              " 'Age_Fare',\n",
              " 'Mal_CNaN',\n",
              " 'Fare',\n",
              " 'Sex',\n",
              " 'Age',\n",
              " 'Title',\n",
              " 'Fem_HC',\n",
              " 'Pclass',\n",
              " 'Ticket_Freq',\n",
              " 'Is_Married',\n",
              " 'SibSp',\n",
              " 'Fare_Cut',\n",
              " 'Ship_Pos',\n",
              " 'Embarked',\n",
              " 'Age_Cut',\n",
              " 'Parch',\n",
              " 'Deck',\n",
              " 'Cabin_NaN',\n",
              " 'Age_NaN']"
            ]
          },
          "metadata": {
            "tags": []
          },
          "execution_count": 26
        }
      ]
    },
    {
      "cell_type": "code",
      "metadata": {
        "id": "dDqKhUPOyhxk"
      },
      "source": [
        "print(len(list(to_keep)))\n",
        "len(full_df.columns)"
      ],
      "execution_count": null,
      "outputs": []
    },
    {
      "cell_type": "code",
      "metadata": {
        "id": "9JcM-c6jeNq3"
      },
      "source": [
        "xs_imp = train_x[to_keep]\n",
        "valid_xs_imp = valid_x[to_keep]\n",
        "\n",
        "# Retrain\n",
        "m = RandomForestClassifier(n_estimators=40)\n",
        "m.fit(xs_imp, train_y);"
      ],
      "execution_count": null,
      "outputs": []
    },
    {
      "cell_type": "code",
      "metadata": {
        "id": "JqZJgZxGeag2",
        "colab": {
          "base_uri": "https://localhost:8080/"
        },
        "outputId": "29a9d758-4ca7-4551-de9b-db8ab8a07b90"
      },
      "source": [
        "preds = m.predict(valid_xs_imp)\n",
        "accuracy_score(valid_y, preds)"
      ],
      "execution_count": null,
      "outputs": [
        {
          "output_type": "execute_result",
          "data": {
            "text/plain": [
              "0.8314606741573034"
            ]
          },
          "metadata": {
            "tags": []
          },
          "execution_count": 57
        }
      ]
    },
    {
      "cell_type": "markdown",
      "metadata": {
        "id": "_HzeuGoZjHls"
      },
      "source": [
        "### **Cross Validation**\n"
      ]
    },
    {
      "cell_type": "code",
      "metadata": {
        "id": "N9LRjHDUjNEf",
        "colab": {
          "base_uri": "https://localhost:8080/"
        },
        "outputId": "dde8b9a7-2cdb-4e76-f0a5-a1cc93f825da"
      },
      "source": [
        "from sklearn import model_selection\n",
        "from sklearn.ensemble import ExtraTreesClassifier\n",
        "\n",
        "seed = 42\n",
        "\n",
        "kfold = model_selection.KFold(n_splits=10, random_state=seed)\n",
        "model = ExtraTreesClassifier(n_estimators=40, max_features=7)\n",
        "model_selection.cross_val_score(model, train_x, train_y, cv=kfold)"
      ],
      "execution_count": 28,
      "outputs": [
        {
          "output_type": "stream",
          "text": [
            "/usr/local/lib/python3.7/dist-packages/sklearn/model_selection/_split.py:296: FutureWarning: Setting a random_state has no effect since shuffle is False. This will raise an error in 0.24. You should leave random_state to its default (None), or set shuffle=True.\n",
            "  FutureWarning\n"
          ],
          "name": "stderr"
        },
        {
          "output_type": "execute_result",
          "data": {
            "text/plain": [
              "array([0.73611111, 0.79166667, 0.73611111, 0.76056338, 0.85915493,\n",
              "       0.76056338, 0.87323944, 0.8028169 , 0.77464789, 0.84507042])"
            ]
          },
          "metadata": {
            "tags": []
          },
          "execution_count": 28
        }
      ]
    },
    {
      "cell_type": "markdown",
      "metadata": {
        "id": "xwz9Iwonjxls"
      },
      "source": [
        ""
      ]
    },
    {
      "cell_type": "markdown",
      "metadata": {
        "id": "N-QJ6zDz9Oqf"
      },
      "source": [
        "### **Final Model**"
      ]
    },
    {
      "cell_type": "markdown",
      "metadata": {
        "id": "s9gnWdFzjynr"
      },
      "source": [
        "#### **Voting Ensemble**"
      ]
    },
    {
      "cell_type": "code",
      "metadata": {
        "id": "C7nEL8Yej2BM",
        "colab": {
          "base_uri": "https://localhost:8080/"
        },
        "outputId": "e6abf645-9c98-4db2-cba6-b817b91e9fbd"
      },
      "source": [
        "from sklearn import model_selection\n",
        "from sklearn.neighbors import KNeighborsClassifier\n",
        "from sklearn.tree import DecisionTreeClassifier\n",
        "from sklearn.svm import SVC\n",
        "from sklearn.ensemble import VotingClassifier\n",
        "\n",
        "estimators = []\n",
        "\n",
        "model1 = KNeighborsClassifier(n_neighbors=5)\n",
        "estimators.append(('knn', model1))\n",
        "\n",
        "model2 = RandomForestClassifier(n_estimators=75)\n",
        "estimators.append(('rf', model2))\n",
        "\n",
        "model3 = SVC(kernel='linear')\n",
        "estimators.append(('svc', model3))\n",
        "\n",
        "# Create the ensemble model\n",
        "ensemble = VotingClassifier(estimators)\n",
        "results = model_selection.cross_val_score(ensemble, train_x, train_y, cv=kfold)\n",
        "print(results.mean())"
      ],
      "execution_count": null,
      "outputs": [
        {
          "output_type": "stream",
          "text": [
            "0.8259780907668232\n"
          ],
          "name": "stdout"
        }
      ]
    },
    {
      "cell_type": "markdown",
      "metadata": {
        "id": "fSP6gdjMLBhN"
      },
      "source": [
        "#### **Neural Network**\n",
        "\n",
        "We can also give the data a go through a neural net. Although tabular data doesn't achieve groundbreaking results with neural nets, like CV or even NLP, at can still be worth it to try the data on an NN and see how it stacks up to tree models."
      ]
    },
    {
      "cell_type": "code",
      "metadata": {
        "id": "-oVvbakPMYAD"
      },
      "source": [
        "dls = tdf.dataloaders(64)"
      ],
      "execution_count": 14,
      "outputs": []
    },
    {
      "cell_type": "code",
      "metadata": {
        "id": "0OsdPcFINInn"
      },
      "source": [
        "learn = tabular_learner(dls, n_out=dls.c,layers=[5], metrics=[accuracy])"
      ],
      "execution_count": 15,
      "outputs": []
    },
    {
      "cell_type": "code",
      "metadata": {
        "colab": {
          "base_uri": "https://localhost:8080/"
        },
        "id": "rKPD7rIf1gV9",
        "outputId": "d377ccc8-3dcc-46fe-bb83-b57ad4d5cbbe"
      },
      "source": [
        "learn.model"
      ],
      "execution_count": 16,
      "outputs": [
        {
          "output_type": "execute_result",
          "data": {
            "text/plain": [
              "TabularModel(\n",
              "  (embeds): ModuleList(\n",
              "    (0): Embedding(4, 3)\n",
              "    (1): Embedding(8, 5)\n",
              "    (2): Embedding(4, 3)\n",
              "    (3): Embedding(3, 3)\n",
              "    (4): Embedding(8, 5)\n",
              "    (5): Embedding(3, 3)\n",
              "    (6): Embedding(3, 3)\n",
              "    (7): Embedding(5, 4)\n",
              "    (8): Embedding(3, 3)\n",
              "    (9): Embedding(3, 3)\n",
              "    (10): Embedding(6, 4)\n",
              "    (11): Embedding(6, 4)\n",
              "    (12): Embedding(10, 6)\n",
              "    (13): Embedding(18, 8)\n",
              "    (14): Embedding(3, 3)\n",
              "    (15): Embedding(668, 61)\n",
              "    (16): Embedding(3, 3)\n",
              "  )\n",
              "  (emb_drop): Dropout(p=0.0, inplace=False)\n",
              "  (bn_cont): BatchNorm1d(4, eps=1e-05, momentum=0.1, affine=True, track_running_stats=True)\n",
              "  (layers): Sequential(\n",
              "    (0): LinBnDrop(\n",
              "      (0): Linear(in_features=128, out_features=5, bias=False)\n",
              "      (1): ReLU(inplace=True)\n",
              "      (2): BatchNorm1d(5, eps=1e-05, momentum=0.1, affine=True, track_running_stats=True)\n",
              "    )\n",
              "    (1): LinBnDrop(\n",
              "      (0): Linear(in_features=5, out_features=2, bias=True)\n",
              "    )\n",
              "  )\n",
              ")"
            ]
          },
          "metadata": {
            "tags": []
          },
          "execution_count": 16
        }
      ]
    },
    {
      "cell_type": "code",
      "metadata": {
        "colab": {
          "base_uri": "https://localhost:8080/",
          "height": 317
        },
        "id": "M32MSbOH1pYS",
        "outputId": "ef43fa74-3b97-4c1f-dc68-c67cac3290eb"
      },
      "source": [
        "layers = learn.model.layers\n",
        "layers.append(layers[2])\n",
        "layers"
      ],
      "execution_count": 24,
      "outputs": [
        {
          "output_type": "error",
          "ename": "AttributeError",
          "evalue": "ignored",
          "traceback": [
            "\u001b[0;31m---------------------------------------------------------------------------\u001b[0m",
            "\u001b[0;31mAttributeError\u001b[0m                            Traceback (most recent call last)",
            "\u001b[0;32m<ipython-input-24-709d38a236d6>\u001b[0m in \u001b[0;36m<module>\u001b[0;34m()\u001b[0m\n\u001b[1;32m      1\u001b[0m \u001b[0mlayers\u001b[0m \u001b[0;34m=\u001b[0m \u001b[0mlearn\u001b[0m\u001b[0;34m.\u001b[0m\u001b[0mmodel\u001b[0m\u001b[0;34m.\u001b[0m\u001b[0mlayers\u001b[0m\u001b[0;34m\u001b[0m\u001b[0;34m\u001b[0m\u001b[0m\n\u001b[0;32m----> 2\u001b[0;31m \u001b[0mlayers\u001b[0m\u001b[0;34m.\u001b[0m\u001b[0mappend\u001b[0m\u001b[0;34m(\u001b[0m\u001b[0mlayers\u001b[0m\u001b[0;34m[\u001b[0m\u001b[0;36m2\u001b[0m\u001b[0;34m]\u001b[0m\u001b[0;34m)\u001b[0m\u001b[0;34m\u001b[0m\u001b[0;34m\u001b[0m\u001b[0m\n\u001b[0m\u001b[1;32m      3\u001b[0m \u001b[0mlayers\u001b[0m\u001b[0;34m\u001b[0m\u001b[0;34m\u001b[0m\u001b[0m\n",
            "\u001b[0;32m/usr/local/lib/python3.7/dist-packages/torch/nn/modules/module.py\u001b[0m in \u001b[0;36m__getattr__\u001b[0;34m(self, name)\u001b[0m\n\u001b[1;32m    946\u001b[0m                 \u001b[0;32mreturn\u001b[0m \u001b[0mmodules\u001b[0m\u001b[0;34m[\u001b[0m\u001b[0mname\u001b[0m\u001b[0;34m]\u001b[0m\u001b[0;34m\u001b[0m\u001b[0;34m\u001b[0m\u001b[0m\n\u001b[1;32m    947\u001b[0m         raise AttributeError(\"'{}' object has no attribute '{}'\".format(\n\u001b[0;32m--> 948\u001b[0;31m             type(self).__name__, name))\n\u001b[0m\u001b[1;32m    949\u001b[0m \u001b[0;34m\u001b[0m\u001b[0m\n\u001b[1;32m    950\u001b[0m     \u001b[0;32mdef\u001b[0m \u001b[0m__setattr__\u001b[0m\u001b[0;34m(\u001b[0m\u001b[0mself\u001b[0m\u001b[0;34m,\u001b[0m \u001b[0mname\u001b[0m\u001b[0;34m:\u001b[0m \u001b[0mstr\u001b[0m\u001b[0;34m,\u001b[0m \u001b[0mvalue\u001b[0m\u001b[0;34m:\u001b[0m \u001b[0mUnion\u001b[0m\u001b[0;34m[\u001b[0m\u001b[0mTensor\u001b[0m\u001b[0;34m,\u001b[0m \u001b[0;34m'Module'\u001b[0m\u001b[0;34m]\u001b[0m\u001b[0;34m)\u001b[0m \u001b[0;34m->\u001b[0m \u001b[0;32mNone\u001b[0m\u001b[0;34m:\u001b[0m\u001b[0;34m\u001b[0m\u001b[0;34m\u001b[0m\u001b[0m\n",
            "\u001b[0;31mAttributeError\u001b[0m: 'Sequential' object has no attribute 'append'"
          ]
        }
      ]
    },
    {
      "cell_type": "code",
      "metadata": {
        "colab": {
          "base_uri": "https://localhost:8080/"
        },
        "id": "fyXwSj6F18y5",
        "outputId": "2e7186cc-a522-45b2-94e8-129e25704297"
      },
      "source": [
        "learn.model"
      ],
      "execution_count": 96,
      "outputs": [
        {
          "output_type": "execute_result",
          "data": {
            "text/plain": [
              "TabularModel(\n",
              "  (embeds): ModuleList(\n",
              "    (0): Embedding(4, 3)\n",
              "    (1): Embedding(8, 5)\n",
              "    (2): Embedding(4, 3)\n",
              "    (3): Embedding(3, 3)\n",
              "    (4): Embedding(8, 5)\n",
              "    (5): Embedding(3, 3)\n",
              "    (6): Embedding(3, 3)\n",
              "    (7): Embedding(5, 4)\n",
              "    (8): Embedding(3, 3)\n",
              "    (9): Embedding(3, 3)\n",
              "    (10): Embedding(6, 4)\n",
              "    (11): Embedding(6, 4)\n",
              "    (12): Embedding(10, 6)\n",
              "    (13): Embedding(18, 8)\n",
              "    (14): Embedding(3, 3)\n",
              "    (15): Embedding(668, 61)\n",
              "    (16): Embedding(3, 3)\n",
              "  )\n",
              "  (emb_drop): Dropout(p=0.2, inplace=True)\n",
              "  (bn_cont): BatchNorm1d(4, eps=1e-05, momentum=0.1, affine=True, track_running_stats=True)\n",
              "  (layers): Sequential(\n",
              "    (0): LinBnDrop(\n",
              "      (0): Linear(in_features=128, out_features=5, bias=False)\n",
              "      (1): ReLU(inplace=True)\n",
              "      (2): BatchNorm1d(5, eps=1e-05, momentum=0.1, affine=True, track_running_stats=True)\n",
              "    )\n",
              "    (1): LinBnDrop(\n",
              "      (0): Linear(in_features=5, out_features=2, bias=True)\n",
              "    )\n",
              "  )\n",
              ")"
            ]
          },
          "metadata": {
            "tags": []
          },
          "execution_count": 96
        }
      ]
    },
    {
      "cell_type": "code",
      "metadata": {
        "colab": {
          "base_uri": "https://localhost:8080/",
          "height": 300
        },
        "id": "C0RLV7-XNXb6",
        "outputId": "bf60666a-3f7a-4c86-849e-4d41e6e4f857"
      },
      "source": [
        "learn.lr_find()"
      ],
      "execution_count": 97,
      "outputs": [
        {
          "output_type": "display_data",
          "data": {
            "text/html": [
              ""
            ],
            "text/plain": [
              "<IPython.core.display.HTML object>"
            ]
          },
          "metadata": {
            "tags": []
          }
        },
        {
          "output_type": "execute_result",
          "data": {
            "text/plain": [
              "SuggestedLRs(lr_min=0.10964782238006592, lr_steep=0.12022644281387329)"
            ]
          },
          "metadata": {
            "tags": []
          },
          "execution_count": 97
        },
        {
          "output_type": "display_data",
          "data": {
            "image/png": "[encoded data removed]",
            "text/plain": [
              "<Figure size 432x288 with 1 Axes>"
            ]
          },
          "metadata": {
            "tags": [],
            "needs_background": "light"
          }
        }
      ]
    },
    {
      "cell_type": "code",
      "metadata": {
        "colab": {
          "base_uri": "https://localhost:8080/",
          "height": 669
        },
        "id": "VAisODLLNfr3",
        "outputId": "0051c78c-5e00-4c4d-98b9-fa734fd27621"
      },
      "source": [
        "# Let's try a fit-one-cycle\n",
        "learn.fit(20, 0.11)"
      ],
      "execution_count": 98,
      "outputs": [
        {
          "output_type": "display_data",
          "data": {
            "text/html": [
              "<table border=\"1\" class=\"dataframe\">\n",
              "  <thead>\n",
              "    <tr style=\"text-align: left;\">\n",
              "      <th>epoch</th>\n",
              "      <th>train_loss</th>\n",
              "      <th>valid_loss</th>\n",
              "      <th>accuracy</th>\n",
              "      <th>time</th>\n",
              "    </tr>\n",
              "  </thead>\n",
              "  <tbody>\n",
              "    <tr>\n",
              "      <td>0</td>\n",
              "      <td>0.556527</td>\n",
              "      <td>0.883890</td>\n",
              "      <td>0.764045</td>\n",
              "      <td>00:00</td>\n",
              "    </tr>\n",
              "    <tr>\n",
              "      <td>1</td>\n",
              "      <td>0.375876</td>\n",
              "      <td>1.266615</td>\n",
              "      <td>0.752809</td>\n",
              "      <td>00:00</td>\n",
              "    </tr>\n",
              "    <tr>\n",
              "      <td>2</td>\n",
              "      <td>0.264265</td>\n",
              "      <td>0.932901</td>\n",
              "      <td>0.803371</td>\n",
              "      <td>00:00</td>\n",
              "    </tr>\n",
              "    <tr>\n",
              "      <td>3</td>\n",
              "      <td>0.204514</td>\n",
              "      <td>0.792907</td>\n",
              "      <td>0.792135</td>\n",
              "      <td>00:00</td>\n",
              "    </tr>\n",
              "    <tr>\n",
              "      <td>4</td>\n",
              "      <td>0.165254</td>\n",
              "      <td>0.774230</td>\n",
              "      <td>0.831461</td>\n",
              "      <td>00:00</td>\n",
              "    </tr>\n",
              "    <tr>\n",
              "      <td>5</td>\n",
              "      <td>0.140071</td>\n",
              "      <td>0.707474</td>\n",
              "      <td>0.825843</td>\n",
              "      <td>00:00</td>\n",
              "    </tr>\n",
              "    <tr>\n",
              "      <td>6</td>\n",
              "      <td>0.119281</td>\n",
              "      <td>0.714492</td>\n",
              "      <td>0.803371</td>\n",
              "      <td>00:00</td>\n",
              "    </tr>\n",
              "    <tr>\n",
              "      <td>7</td>\n",
              "      <td>0.101249</td>\n",
              "      <td>0.893213</td>\n",
              "      <td>0.803371</td>\n",
              "      <td>00:00</td>\n",
              "    </tr>\n",
              "    <tr>\n",
              "      <td>8</td>\n",
              "      <td>0.089098</td>\n",
              "      <td>0.711072</td>\n",
              "      <td>0.814607</td>\n",
              "      <td>00:00</td>\n",
              "    </tr>\n",
              "    <tr>\n",
              "      <td>9</td>\n",
              "      <td>0.080646</td>\n",
              "      <td>0.823857</td>\n",
              "      <td>0.797753</td>\n",
              "      <td>00:00</td>\n",
              "    </tr>\n",
              "    <tr>\n",
              "      <td>10</td>\n",
              "      <td>0.072809</td>\n",
              "      <td>0.871000</td>\n",
              "      <td>0.814607</td>\n",
              "      <td>00:00</td>\n",
              "    </tr>\n",
              "    <tr>\n",
              "      <td>11</td>\n",
              "      <td>0.067569</td>\n",
              "      <td>0.829226</td>\n",
              "      <td>0.831461</td>\n",
              "      <td>00:00</td>\n",
              "    </tr>\n",
              "    <tr>\n",
              "      <td>12</td>\n",
              "      <td>0.060699</td>\n",
              "      <td>0.942260</td>\n",
              "      <td>0.825843</td>\n",
              "      <td>00:00</td>\n",
              "    </tr>\n",
              "    <tr>\n",
              "      <td>13</td>\n",
              "      <td>0.054392</td>\n",
              "      <td>0.941960</td>\n",
              "      <td>0.853933</td>\n",
              "      <td>00:00</td>\n",
              "    </tr>\n",
              "    <tr>\n",
              "      <td>14</td>\n",
              "      <td>0.047214</td>\n",
              "      <td>0.920237</td>\n",
              "      <td>0.831461</td>\n",
              "      <td>00:00</td>\n",
              "    </tr>\n",
              "    <tr>\n",
              "      <td>15</td>\n",
              "      <td>0.043840</td>\n",
              "      <td>1.304974</td>\n",
              "      <td>0.803371</td>\n",
              "      <td>00:00</td>\n",
              "    </tr>\n",
              "    <tr>\n",
              "      <td>16</td>\n",
              "      <td>0.042600</td>\n",
              "      <td>1.448804</td>\n",
              "      <td>0.820225</td>\n",
              "      <td>00:00</td>\n",
              "    </tr>\n",
              "    <tr>\n",
              "      <td>17</td>\n",
              "      <td>0.043741</td>\n",
              "      <td>1.289403</td>\n",
              "      <td>0.792135</td>\n",
              "      <td>00:00</td>\n",
              "    </tr>\n",
              "    <tr>\n",
              "      <td>18</td>\n",
              "      <td>0.046686</td>\n",
              "      <td>1.031875</td>\n",
              "      <td>0.792135</td>\n",
              "      <td>00:00</td>\n",
              "    </tr>\n",
              "    <tr>\n",
              "      <td>19</td>\n",
              "      <td>0.043192</td>\n",
              "      <td>1.121279</td>\n",
              "      <td>0.792135</td>\n",
              "      <td>00:00</td>\n",
              "    </tr>\n",
              "  </tbody>\n",
              "</table>"
            ],
            "text/plain": [
              "<IPython.core.display.HTML object>"
            ]
          },
          "metadata": {
            "tags": []
          }
        }
      ]
    },
    {
      "cell_type": "code",
      "metadata": {
        "colab": {
          "base_uri": "https://localhost:8080/",
          "height": 265
        },
        "id": "A5ZSqtzuNsQB",
        "outputId": "428d6510-4195-41f2-bed1-c04f921ab6bb"
      },
      "source": [
        "learn.recorder.plot_loss()"
      ],
      "execution_count": 99,
      "outputs": [
        {
          "output_type": "display_data",
          "data": {
            "image/png": "[encoded data removed]",
            "text/plain": [
              "<Figure size 432x288 with 1 Axes>"
            ]
          },
          "metadata": {
            "tags": [],
            "needs_background": "light"
          }
        }
      ]
    },
    {
      "cell_type": "markdown",
      "metadata": {
        "id": "u0Jk9S4Z3_bb"
      },
      "source": [
        "## **Inference and Deployment**\n",
        "\n",
        "Here the model can finally be put to use, as well as exported for deployment in an external application."
      ]
    },
    {
      "cell_type": "code",
      "metadata": {
        "id": "bh-UvXAH4HnJ"
      },
      "source": [
        ""
      ],
      "execution_count": null,
      "outputs": []
    },
    {
      "cell_type": "markdown",
      "metadata": {
        "id": "oQLkb8qoGypR"
      },
      "source": [
        "\n",
        "\n",
        "---\n",
        "\n"
      ]
    },
    {
      "cell_type": "markdown",
      "metadata": {
        "id": "dgXsTa5YGcgf"
      },
      "source": [
        "## **Exports and Clean Up**\n",
        "\n",
        "Here you can export any cells with the `#export` comment using `notebook2script.py`, as well as cleaning up any environmental changes such as data downloads to a cloud drive."
      ]
    },
    {
      "cell_type": "markdown",
      "metadata": {
        "id": "Y7SBKNOAHiiS"
      },
      "source": [
        "### **Exports**"
      ]
    },
    {
      "cell_type": "code",
      "metadata": {
        "id": "Z2HHwrCEHlH2"
      },
      "source": [
        "!python notebook2script.py Tabular.ipynb"
      ],
      "execution_count": null,
      "outputs": []
    },
    {
      "cell_type": "markdown",
      "metadata": {
        "id": "0_eeNuu-HgVS"
      },
      "source": [
        "### **Clean Up**"
      ]
    },
    {
      "cell_type": "code",
      "metadata": {
        "id": "So--wngFGq9W"
      },
      "source": [
        "# Tear down the data folder\n",
        "!rm -rf data\n",
        "!ls"
      ],
      "execution_count": null,
      "outputs": []
    }
  ]
}