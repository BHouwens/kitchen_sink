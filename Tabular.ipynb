{
  "nbformat": 4,
  "nbformat_minor": 0,
  "metadata": {
    "colab": {
      "name": "Tabular.ipynb",
      "provenance": [],
      "collapsed_sections": [
        "QhbbdLsE09HL",
        "Gj7jfybmzXag",
        "U7YbEABW7gpz",
        "YL4O2UU4It_y",
        "bZXZ_EYyDgIU",
        "3zgV5A2f22Uj",
        "peST-YuqLC0c",
        "d_k_KfVKLSBY",
        "Qz0Bep8PdU2P",
        "u0Jk9S4Z3_bb",
        "dgXsTa5YGcgf",
        "Y7SBKNOAHiiS"
      ],
      "authorship_tag": "ABX9TyNkorz/JRObkNvADZXBQWGw"
    },
    "kernelspec": {
      "name": "python3",
      "display_name": "Python 3"
    },
    "language_info": {
      "name": "python"
    }
  },
  "cells": [
    {
      "cell_type": "markdown",
      "metadata": {
        "id": "MsZFVM8lyLaQ"
      },
      "source": [
        "# **Tabular Boilerplate Notebook**\n",
        "\n",
        "Tabular modeling takes data in the form of a table (like a spreadsheet or CSV), where the objective is to predict the value in one column based on the values in the other columns. This notebook will serve as a boilerplate handler for tabular data modeling, with sections laid out for each major step of the modeling process.\n",
        "\n",
        "**REMEMBER**: This boilerplate is just that: boilerplate! It's a good idea to perform your own exploration in a manner that's specific to your given dataset. The default boilerplate uses the Titanic dataset from Kaggle as an example."
      ]
    },
    {
      "cell_type": "markdown",
      "metadata": {
        "id": "A7ergFQr03aV"
      },
      "source": [
        "## **Setup**\n",
        "\n",
        "This is the section for setting up your work environment, with boilerplate setups for a number of mainstream options. Don't see one you like? Add your own!"
      ]
    },
    {
      "cell_type": "code",
      "metadata": {
        "id": "DT6eHX-807P3"
      },
      "source": [
        "%load_ext autoreload\n",
        "%autoreload 2\n",
        "\n",
        "%matplotlib inline"
      ],
      "execution_count": 1,
      "outputs": []
    },
    {
      "cell_type": "markdown",
      "metadata": {
        "id": "yjL7RgGWBkFN"
      },
      "source": [
        "### **Imports and Installs**\n",
        "\n",
        "Declare all your project's required imports and installs here:"
      ]
    },
    {
      "cell_type": "code",
      "metadata": {
        "id": "wgqMJl4iCF9Z"
      },
      "source": [
        "# Installs\n",
        "!pip install -Uqq fastai waterfallcharts treeinterpreter dtreeviz"
      ],
      "execution_count": 2,
      "outputs": []
    },
    {
      "cell_type": "code",
      "metadata": {
        "id": "Y4IJ7L33A6Kk"
      },
      "source": [
        "# Imports\n",
        "from pandas.api.types import is_string_dtype, is_numeric_dtype, is_categorical_dtype\n",
        "from fastai.tabular.all import *\n",
        "from sklearn.ensemble import RandomForestRegressor\n",
        "from sklearn.tree import DecisionTreeRegressor\n",
        "from dtreeviz.trees import *\n",
        "from IPython.display import Image, display_svg, SVG\n",
        "import numpy as np\n",
        "import math\n",
        "from scipy import stats"
      ],
      "execution_count": 89,
      "outputs": []
    },
    {
      "cell_type": "code",
      "metadata": {
        "id": "TdwIw9CLyZcV"
      },
      "source": [
        "# Statsmodels install (only necessary if module is needed and Colab gives trouble)\n",
        "! pip install --upgrade Cython\n",
        "! pip install --upgrade git+https://github.com/statsmodels/statsmodels"
      ],
      "execution_count": null,
      "outputs": []
    },
    {
      "cell_type": "code",
      "metadata": {
        "id": "qEJMQjpe7eu0"
      },
      "source": [
        "# Set up some constraints here, if desired\n",
        "pd.options.display.max_rows = 20\n",
        "pd.options.display.max_columns = 8"
      ],
      "execution_count": null,
      "outputs": []
    },
    {
      "cell_type": "markdown",
      "metadata": {
        "id": "QhbbdLsE09HL"
      },
      "source": [
        "### **Colab Setup**\n",
        "\n",
        "You can set up the Google Colab environment for data by mounting your Google Drive:"
      ]
    },
    {
      "cell_type": "code",
      "metadata": {
        "id": "nh8P1kCi1HjW"
      },
      "source": [
        "from google.colab import drive\n",
        "drive.mount('/content/gdrive')\n",
        "\n",
        "%cd gdrive/My Drive/"
      ],
      "execution_count": null,
      "outputs": []
    },
    {
      "cell_type": "markdown",
      "metadata": {
        "id": "zkmSsHkE1WfX"
      },
      "source": [
        "\n",
        "\n",
        "---\n",
        "\n"
      ]
    },
    {
      "cell_type": "markdown",
      "metadata": {
        "id": "Gj7jfybmzXag"
      },
      "source": [
        "## **Data Collection**\n",
        "\n",
        "Data specific to your current task can be collected here. There'll be different setups depending on where you're running this notebook, but the output here will be used for further data exploration."
      ]
    },
    {
      "cell_type": "markdown",
      "metadata": {
        "id": "U7YbEABW7gpz"
      },
      "source": [
        "### **Kaggle Datasets**\n",
        "\n",
        "Get yourself started with some Kaggle datasets. First, set up your API credentials:"
      ]
    },
    {
      "cell_type": "code",
      "metadata": {
        "id": "svqQ_YRf7dsI"
      },
      "source": [
        "creds = {\"username\":\"INSERT_USERNAME_HERE\",\"key\":\"INSERT_API_KEY_HERE\"}"
      ],
      "execution_count": 9,
      "outputs": []
    },
    {
      "cell_type": "markdown",
      "metadata": {
        "id": "lcsUEi8z8qk9"
      },
      "source": [
        "Then set the credentials up in the `kaggle.json` so that Kaggle knows where to look for them in API calls:"
      ]
    },
    {
      "cell_type": "code",
      "metadata": {
        "id": "zMXu8f9x9QrO",
        "colab": {
          "base_uri": "https://localhost:8080/"
        },
        "outputId": "534eb41e-ddfa-49e4-84ed-4c89b6d3f21b"
      },
      "source": [
        "!mkdir .kaggle\n",
        "!mv .kaggle /root/\n",
        "!touch /root/.kaggle/kaggle.json\n",
        "\n",
        "!ls /root/.kaggle"
      ],
      "execution_count": 10,
      "outputs": [
        {
          "output_type": "stream",
          "text": [
            "mv: cannot move '.kaggle' to '/root/.kaggle': Directory not empty\n",
            "kaggle.json\n"
          ],
          "name": "stdout"
        }
      ]
    },
    {
      "cell_type": "markdown",
      "metadata": {
        "id": "mw7rlihY_G4O"
      },
      "source": [
        "Then write the credentials to `kaggle.json` with the correct permissions setup to enable access to Kaggle datasets:"
      ]
    },
    {
      "cell_type": "code",
      "metadata": {
        "id": "FOPNmRui8iuF"
      },
      "source": [
        "import json\n",
        "import zipfile\n",
        "import os\n",
        "\n",
        "with open('/root/.kaggle/kaggle.json', 'w') as file:\n",
        "    json.dump(creds, file)\n",
        "\n",
        "!chmod 600 /root/.kaggle/kaggle.json"
      ],
      "execution_count": 11,
      "outputs": []
    },
    {
      "cell_type": "code",
      "metadata": {
        "id": "Sey10ADtbEk1"
      },
      "source": [
        "!export KAGGLE_CONFIG_DIR=/root/.kaggle/kaggle.json"
      ],
      "execution_count": 6,
      "outputs": []
    },
    {
      "cell_type": "markdown",
      "metadata": {
        "id": "czjg8OoE_QyQ"
      },
      "source": [
        "Before we finally install Kaggle itself:"
      ]
    },
    {
      "cell_type": "code",
      "metadata": {
        "id": "nw72jDFhzalE",
        "colab": {
          "base_uri": "https://localhost:8080/"
        },
        "outputId": "c8ea0ab5-70cf-47cb-c3c4-a4f227a4e04d"
      },
      "source": [
        "!pip install kaggle\n",
        "\n",
        "from kaggle import api"
      ],
      "execution_count": 7,
      "outputs": [
        {
          "output_type": "stream",
          "text": [
            "Requirement already satisfied: kaggle in /usr/local/lib/python3.7/dist-packages (1.5.12)\n",
            "Requirement already satisfied: certifi in /usr/local/lib/python3.7/dist-packages (from kaggle) (2020.12.5)\n",
            "Requirement already satisfied: python-slugify in /usr/local/lib/python3.7/dist-packages (from kaggle) (5.0.2)\n",
            "Requirement already satisfied: requests in /usr/local/lib/python3.7/dist-packages (from kaggle) (2.23.0)\n",
            "Requirement already satisfied: six>=1.10 in /usr/local/lib/python3.7/dist-packages (from kaggle) (1.15.0)\n",
            "Requirement already satisfied: urllib3 in /usr/local/lib/python3.7/dist-packages (from kaggle) (1.24.3)\n",
            "Requirement already satisfied: tqdm in /usr/local/lib/python3.7/dist-packages (from kaggle) (4.41.1)\n",
            "Requirement already satisfied: python-dateutil in /usr/local/lib/python3.7/dist-packages (from kaggle) (2.8.1)\n",
            "Requirement already satisfied: text-unidecode>=1.3 in /usr/local/lib/python3.7/dist-packages (from python-slugify->kaggle) (1.3)\n",
            "Requirement already satisfied: chardet<4,>=3.0.2 in /usr/local/lib/python3.7/dist-packages (from requests->kaggle) (3.0.4)\n",
            "Requirement already satisfied: idna<3,>=2.5 in /usr/local/lib/python3.7/dist-packages (from requests->kaggle) (2.10)\n"
          ],
          "name": "stdout"
        }
      ]
    },
    {
      "cell_type": "markdown",
      "metadata": {
        "id": "UpYmGvXvAXnG"
      },
      "source": [
        "Now let's fetch our Kaggle data:"
      ]
    },
    {
      "cell_type": "code",
      "metadata": {
        "id": "4d9jlEVaAbvU"
      },
      "source": [
        "if not os.path.exists('data'):\n",
        "  os.makedirs('data')\n",
        "\n",
        "# Let's get the Titanic dataset\n",
        "api.competition_download_files('titanic', path='data')\n",
        "\n",
        "import zipfile\n",
        "with zipfile.ZipFile(\"data/titanic.zip\",\"r\") as zip_ref:\n",
        "    zip_ref.extractall(\"data\")\n",
        "\n",
        "os.remove('data/titanic.zip')\n",
        "os.remove('data/gender_submission.csv')"
      ],
      "execution_count": 8,
      "outputs": []
    },
    {
      "cell_type": "code",
      "metadata": {
        "colab": {
          "base_uri": "https://localhost:8080/"
        },
        "id": "wAJ63Hi3FF7e",
        "outputId": "a5e4c21f-6cdf-4291-eb9a-c576f71348c8"
      },
      "source": [
        "!ls data"
      ],
      "execution_count": 9,
      "outputs": [
        {
          "output_type": "stream",
          "text": [
            "test.csv  train.csv\n"
          ],
          "name": "stdout"
        }
      ]
    },
    {
      "cell_type": "markdown",
      "metadata": {
        "id": "g2faDRQUJQET"
      },
      "source": [
        "Finally, let's set up some variables for taking the data exploration further:"
      ]
    },
    {
      "cell_type": "code",
      "metadata": {
        "id": "PHaHFM0AJUkF"
      },
      "source": [
        "path = \"data\"\n",
        "train_data = \"train.csv\""
      ],
      "execution_count": 10,
      "outputs": []
    },
    {
      "cell_type": "markdown",
      "metadata": {
        "id": "XvwFXd9l2evg"
      },
      "source": [
        "\n",
        "\n",
        "---\n",
        "\n"
      ]
    },
    {
      "cell_type": "markdown",
      "metadata": {
        "id": "rUpbp9L62fxo"
      },
      "source": [
        "## **Exploratory Data Analysis**\n",
        "\n",
        "EDA can be performed here, where you'll find cells for showing batches, as well as utility functions for displaying certain analytics. It also contains headings to prompt some thinking about possible exploratory approaches. For tabular data in particular, this section will include tree classifiers for model/data fit inspection.\n",
        "\n",
        "**REMEMBER**: This section is not prescriptive! Add and remove from it as you want and need to."
      ]
    },
    {
      "cell_type": "markdown",
      "metadata": {
        "id": "YL4O2UU4It_y"
      },
      "source": [
        "### **Look at the Data**"
      ]
    },
    {
      "cell_type": "code",
      "metadata": {
        "id": "4Bq0A2p9I0sE"
      },
      "source": [
        "# Setup the dataset path\n",
        "path = \"{b}/{d}\".format(b=path, d=train_data)\n",
        "\n",
        "# And read it in to a df\n",
        "df = pd.read_csv(path, low_memory=False)"
      ],
      "execution_count": 11,
      "outputs": []
    },
    {
      "cell_type": "code",
      "metadata": {
        "colab": {
          "base_uri": "https://localhost:8080/"
        },
        "id": "8V6hLmXwJt0c",
        "outputId": "f87ec9e4-4103-4a6c-e7a5-fe18cf4b76b0"
      },
      "source": [
        "print(df.columns)\n",
        "len(df)"
      ],
      "execution_count": 82,
      "outputs": [
        {
          "output_type": "stream",
          "text": [
            "Index(['PassengerId', 'Survived', 'Pclass', 'Name', 'Sex', 'Age', 'SibSp',\n",
            "       'Parch', 'Ticket', 'Fare', 'Cabin', 'Embarked'],\n",
            "      dtype='object')\n"
          ],
          "name": "stdout"
        },
        {
          "output_type": "execute_result",
          "data": {
            "text/plain": [
              "891"
            ]
          },
          "metadata": {
            "tags": []
          },
          "execution_count": 82
        }
      ]
    },
    {
      "cell_type": "markdown",
      "metadata": {
        "id": "mM6Nt7wO40r7"
      },
      "source": [
        "We can then set our dependent variable, the one we care about. We can also assign every other feature to an independent variablet set."
      ]
    },
    {
      "cell_type": "code",
      "metadata": {
        "id": "Et2vwa6643uQ"
      },
      "source": [
        "dep_var = \"Survived\"\n",
        "ind_var = [c for c in df.columns if c != dep_var]"
      ],
      "execution_count": 73,
      "outputs": []
    },
    {
      "cell_type": "markdown",
      "metadata": {
        "id": "c9OgAGSQ2eBG"
      },
      "source": [
        "It's always important to take a look at some of the entries themselves so that we can develop a better intuition for what we're working with."
      ]
    },
    {
      "cell_type": "code",
      "metadata": {
        "colab": {
          "base_uri": "https://localhost:8080/",
          "height": 204
        },
        "id": "OuSFqdl-2lgF",
        "outputId": "9457f657-3c1a-4a3f-af47-38d39bfe7e4b"
      },
      "source": [
        "df.head()"
      ],
      "execution_count": 80,
      "outputs": [
        {
          "output_type": "execute_result",
          "data": {
            "text/html": [
              "<div>\n",
              "<style scoped>\n",
              "    .dataframe tbody tr th:only-of-type {\n",
              "        vertical-align: middle;\n",
              "    }\n",
              "\n",
              "    .dataframe tbody tr th {\n",
              "        vertical-align: top;\n",
              "    }\n",
              "\n",
              "    .dataframe thead th {\n",
              "        text-align: right;\n",
              "    }\n",
              "</style>\n",
              "<table border=\"1\" class=\"dataframe\">\n",
              "  <thead>\n",
              "    <tr style=\"text-align: right;\">\n",
              "      <th></th>\n",
              "      <th>PassengerId</th>\n",
              "      <th>Survived</th>\n",
              "      <th>Pclass</th>\n",
              "      <th>Name</th>\n",
              "      <th>Sex</th>\n",
              "      <th>Age</th>\n",
              "      <th>SibSp</th>\n",
              "      <th>Parch</th>\n",
              "      <th>Ticket</th>\n",
              "      <th>Fare</th>\n",
              "      <th>Cabin</th>\n",
              "      <th>Embarked</th>\n",
              "    </tr>\n",
              "  </thead>\n",
              "  <tbody>\n",
              "    <tr>\n",
              "      <th>0</th>\n",
              "      <td>1</td>\n",
              "      <td>0</td>\n",
              "      <td>3</td>\n",
              "      <td>Braund, Mr. Owen Harris</td>\n",
              "      <td>male</td>\n",
              "      <td>22.0</td>\n",
              "      <td>1</td>\n",
              "      <td>0</td>\n",
              "      <td>A/5 21171</td>\n",
              "      <td>7.2500</td>\n",
              "      <td>NaN</td>\n",
              "      <td>S</td>\n",
              "    </tr>\n",
              "    <tr>\n",
              "      <th>1</th>\n",
              "      <td>2</td>\n",
              "      <td>1</td>\n",
              "      <td>1</td>\n",
              "      <td>Cumings, Mrs. John Bradley (Florence Briggs Th...</td>\n",
              "      <td>female</td>\n",
              "      <td>38.0</td>\n",
              "      <td>1</td>\n",
              "      <td>0</td>\n",
              "      <td>PC 17599</td>\n",
              "      <td>71.2833</td>\n",
              "      <td>C85</td>\n",
              "      <td>C</td>\n",
              "    </tr>\n",
              "    <tr>\n",
              "      <th>2</th>\n",
              "      <td>3</td>\n",
              "      <td>1</td>\n",
              "      <td>3</td>\n",
              "      <td>Heikkinen, Miss. Laina</td>\n",
              "      <td>female</td>\n",
              "      <td>26.0</td>\n",
              "      <td>0</td>\n",
              "      <td>0</td>\n",
              "      <td>STON/O2. 3101282</td>\n",
              "      <td>7.9250</td>\n",
              "      <td>NaN</td>\n",
              "      <td>S</td>\n",
              "    </tr>\n",
              "    <tr>\n",
              "      <th>3</th>\n",
              "      <td>4</td>\n",
              "      <td>1</td>\n",
              "      <td>1</td>\n",
              "      <td>Futrelle, Mrs. Jacques Heath (Lily May Peel)</td>\n",
              "      <td>female</td>\n",
              "      <td>35.0</td>\n",
              "      <td>1</td>\n",
              "      <td>0</td>\n",
              "      <td>113803</td>\n",
              "      <td>53.1000</td>\n",
              "      <td>C123</td>\n",
              "      <td>S</td>\n",
              "    </tr>\n",
              "    <tr>\n",
              "      <th>4</th>\n",
              "      <td>5</td>\n",
              "      <td>0</td>\n",
              "      <td>3</td>\n",
              "      <td>Allen, Mr. William Henry</td>\n",
              "      <td>male</td>\n",
              "      <td>35.0</td>\n",
              "      <td>0</td>\n",
              "      <td>0</td>\n",
              "      <td>373450</td>\n",
              "      <td>8.0500</td>\n",
              "      <td>NaN</td>\n",
              "      <td>S</td>\n",
              "    </tr>\n",
              "  </tbody>\n",
              "</table>\n",
              "</div>"
            ],
            "text/plain": [
              "   PassengerId  Survived Pclass  \\\n",
              "0            1         0      3   \n",
              "1            2         1      1   \n",
              "2            3         1      3   \n",
              "3            4         1      1   \n",
              "4            5         0      3   \n",
              "\n",
              "                                                Name     Sex   Age  SibSp  \\\n",
              "0                            Braund, Mr. Owen Harris    male  22.0      1   \n",
              "1  Cumings, Mrs. John Bradley (Florence Briggs Th...  female  38.0      1   \n",
              "2                             Heikkinen, Miss. Laina  female  26.0      0   \n",
              "3       Futrelle, Mrs. Jacques Heath (Lily May Peel)  female  35.0      1   \n",
              "4                           Allen, Mr. William Henry    male  35.0      0   \n",
              "\n",
              "   Parch            Ticket     Fare Cabin Embarked  \n",
              "0      0         A/5 21171   7.2500   NaN        S  \n",
              "1      0          PC 17599  71.2833   C85        C  \n",
              "2      0  STON/O2. 3101282   7.9250   NaN        S  \n",
              "3      0            113803  53.1000  C123        S  \n",
              "4      0            373450   8.0500   NaN        S  "
            ]
          },
          "metadata": {
            "tags": []
          },
          "execution_count": 80
        }
      ]
    },
    {
      "cell_type": "markdown",
      "metadata": {
        "id": "fh9O8y2vAKS-"
      },
      "source": [
        "We can see `NaN` values, which we'll need to decide how we want to handle, as well as pick out any potentially interesting features based on their values. It may also be useful to pick out \"magic features\", those which have a strong correlation to the target given some relatively simple transformation."
      ]
    },
    {
      "cell_type": "markdown",
      "metadata": {
        "id": "bZXZ_EYyDgIU"
      },
      "source": [
        "### **Handling Dates**\n",
        "\n",
        "We need to define how we intend to handle dates, assuming the dataset contains such a feature. We can apply both automatic date feature engineering through the revelant utility functions, as well as manual engineering for specific cases."
      ]
    },
    {
      "cell_type": "code",
      "metadata": {
        "colab": {
          "base_uri": "https://localhost:8080/",
          "height": 173
        },
        "id": "mWvU3W8hGx-I",
        "outputId": "2c6fcecb-fd5e-44a6-8f7e-ac4ace0088eb"
      },
      "source": [
        "# A simple example\n",
        "df = pd.DataFrame({'date': ['2019-12-04', None, '2019-11-15', '2019-10-24']})\n",
        "df = add_datepart(df, 'date')\n",
        "df.head()"
      ],
      "execution_count": 91,
      "outputs": [
        {
          "output_type": "execute_result",
          "data": {
            "text/html": [
              "<div>\n",
              "<style scoped>\n",
              "    .dataframe tbody tr th:only-of-type {\n",
              "        vertical-align: middle;\n",
              "    }\n",
              "\n",
              "    .dataframe tbody tr th {\n",
              "        vertical-align: top;\n",
              "    }\n",
              "\n",
              "    .dataframe thead th {\n",
              "        text-align: right;\n",
              "    }\n",
              "</style>\n",
              "<table border=\"1\" class=\"dataframe\">\n",
              "  <thead>\n",
              "    <tr style=\"text-align: right;\">\n",
              "      <th></th>\n",
              "      <th>Year</th>\n",
              "      <th>Month</th>\n",
              "      <th>Week</th>\n",
              "      <th>Day</th>\n",
              "      <th>Dayofweek</th>\n",
              "      <th>Dayofyear</th>\n",
              "      <th>Is_month_end</th>\n",
              "      <th>Is_month_start</th>\n",
              "      <th>Is_quarter_end</th>\n",
              "      <th>Is_quarter_start</th>\n",
              "      <th>Is_year_end</th>\n",
              "      <th>Is_year_start</th>\n",
              "      <th>Elapsed</th>\n",
              "    </tr>\n",
              "  </thead>\n",
              "  <tbody>\n",
              "    <tr>\n",
              "      <th>0</th>\n",
              "      <td>2019.0</td>\n",
              "      <td>12.0</td>\n",
              "      <td>49.0</td>\n",
              "      <td>4.0</td>\n",
              "      <td>2.0</td>\n",
              "      <td>338.0</td>\n",
              "      <td>False</td>\n",
              "      <td>False</td>\n",
              "      <td>False</td>\n",
              "      <td>False</td>\n",
              "      <td>False</td>\n",
              "      <td>False</td>\n",
              "      <td>1.575418e+09</td>\n",
              "    </tr>\n",
              "    <tr>\n",
              "      <th>1</th>\n",
              "      <td>NaN</td>\n",
              "      <td>NaN</td>\n",
              "      <td>NaN</td>\n",
              "      <td>NaN</td>\n",
              "      <td>NaN</td>\n",
              "      <td>NaN</td>\n",
              "      <td>False</td>\n",
              "      <td>False</td>\n",
              "      <td>False</td>\n",
              "      <td>False</td>\n",
              "      <td>False</td>\n",
              "      <td>False</td>\n",
              "      <td>NaN</td>\n",
              "    </tr>\n",
              "    <tr>\n",
              "      <th>2</th>\n",
              "      <td>2019.0</td>\n",
              "      <td>11.0</td>\n",
              "      <td>46.0</td>\n",
              "      <td>15.0</td>\n",
              "      <td>4.0</td>\n",
              "      <td>319.0</td>\n",
              "      <td>False</td>\n",
              "      <td>False</td>\n",
              "      <td>False</td>\n",
              "      <td>False</td>\n",
              "      <td>False</td>\n",
              "      <td>False</td>\n",
              "      <td>1.573776e+09</td>\n",
              "    </tr>\n",
              "    <tr>\n",
              "      <th>3</th>\n",
              "      <td>2019.0</td>\n",
              "      <td>10.0</td>\n",
              "      <td>43.0</td>\n",
              "      <td>24.0</td>\n",
              "      <td>3.0</td>\n",
              "      <td>297.0</td>\n",
              "      <td>False</td>\n",
              "      <td>False</td>\n",
              "      <td>False</td>\n",
              "      <td>False</td>\n",
              "      <td>False</td>\n",
              "      <td>False</td>\n",
              "      <td>1.571875e+09</td>\n",
              "    </tr>\n",
              "  </tbody>\n",
              "</table>\n",
              "</div>"
            ],
            "text/plain": [
              "     Year  Month  Week   Day  Dayofweek  Dayofyear  Is_month_end  \\\n",
              "0  2019.0   12.0  49.0   4.0        2.0      338.0         False   \n",
              "1     NaN    NaN   NaN   NaN        NaN        NaN         False   \n",
              "2  2019.0   11.0  46.0  15.0        4.0      319.0         False   \n",
              "3  2019.0   10.0  43.0  24.0        3.0      297.0         False   \n",
              "\n",
              "   Is_month_start  Is_quarter_end  Is_quarter_start  Is_year_end  \\\n",
              "0           False           False             False        False   \n",
              "1           False           False             False        False   \n",
              "2           False           False             False        False   \n",
              "3           False           False             False        False   \n",
              "\n",
              "   Is_year_start       Elapsed  \n",
              "0          False  1.575418e+09  \n",
              "1          False           NaN  \n",
              "2          False  1.573776e+09  \n",
              "3          False  1.571875e+09  "
            ]
          },
          "metadata": {
            "tags": []
          },
          "execution_count": 91
        }
      ]
    },
    {
      "cell_type": "code",
      "metadata": {
        "colab": {
          "base_uri": "https://localhost:8080/",
          "height": 193
        },
        "id": "heP7rvFlHxRj",
        "outputId": "47835de5-2a66-43ad-f00d-6e3cee195a20"
      },
      "source": [
        "# Manually adding relevant date information\n",
        "df['Is_seasonal'] = np.where(df['Month'] == 12, 1, 0)\n",
        "df.head()"
      ],
      "execution_count": 94,
      "outputs": [
        {
          "output_type": "execute_result",
          "data": {
            "text/html": [
              "<div>\n",
              "<style scoped>\n",
              "    .dataframe tbody tr th:only-of-type {\n",
              "        vertical-align: middle;\n",
              "    }\n",
              "\n",
              "    .dataframe tbody tr th {\n",
              "        vertical-align: top;\n",
              "    }\n",
              "\n",
              "    .dataframe thead th {\n",
              "        text-align: right;\n",
              "    }\n",
              "</style>\n",
              "<table border=\"1\" class=\"dataframe\">\n",
              "  <thead>\n",
              "    <tr style=\"text-align: right;\">\n",
              "      <th></th>\n",
              "      <th>Year</th>\n",
              "      <th>Month</th>\n",
              "      <th>Week</th>\n",
              "      <th>Day</th>\n",
              "      <th>Dayofweek</th>\n",
              "      <th>Dayofyear</th>\n",
              "      <th>Is_month_end</th>\n",
              "      <th>Is_month_start</th>\n",
              "      <th>Is_quarter_end</th>\n",
              "      <th>Is_quarter_start</th>\n",
              "      <th>Is_year_end</th>\n",
              "      <th>Is_year_start</th>\n",
              "      <th>Elapsed</th>\n",
              "      <th>Is_seasonal</th>\n",
              "    </tr>\n",
              "  </thead>\n",
              "  <tbody>\n",
              "    <tr>\n",
              "      <th>0</th>\n",
              "      <td>2019.0</td>\n",
              "      <td>12.0</td>\n",
              "      <td>49.0</td>\n",
              "      <td>4.0</td>\n",
              "      <td>2.0</td>\n",
              "      <td>338.0</td>\n",
              "      <td>False</td>\n",
              "      <td>False</td>\n",
              "      <td>False</td>\n",
              "      <td>False</td>\n",
              "      <td>False</td>\n",
              "      <td>False</td>\n",
              "      <td>1.575418e+09</td>\n",
              "      <td>1</td>\n",
              "    </tr>\n",
              "    <tr>\n",
              "      <th>1</th>\n",
              "      <td>NaN</td>\n",
              "      <td>NaN</td>\n",
              "      <td>NaN</td>\n",
              "      <td>NaN</td>\n",
              "      <td>NaN</td>\n",
              "      <td>NaN</td>\n",
              "      <td>False</td>\n",
              "      <td>False</td>\n",
              "      <td>False</td>\n",
              "      <td>False</td>\n",
              "      <td>False</td>\n",
              "      <td>False</td>\n",
              "      <td>NaN</td>\n",
              "      <td>0</td>\n",
              "    </tr>\n",
              "    <tr>\n",
              "      <th>2</th>\n",
              "      <td>2019.0</td>\n",
              "      <td>11.0</td>\n",
              "      <td>46.0</td>\n",
              "      <td>15.0</td>\n",
              "      <td>4.0</td>\n",
              "      <td>319.0</td>\n",
              "      <td>False</td>\n",
              "      <td>False</td>\n",
              "      <td>False</td>\n",
              "      <td>False</td>\n",
              "      <td>False</td>\n",
              "      <td>False</td>\n",
              "      <td>1.573776e+09</td>\n",
              "      <td>0</td>\n",
              "    </tr>\n",
              "    <tr>\n",
              "      <th>3</th>\n",
              "      <td>2019.0</td>\n",
              "      <td>10.0</td>\n",
              "      <td>43.0</td>\n",
              "      <td>24.0</td>\n",
              "      <td>3.0</td>\n",
              "      <td>297.0</td>\n",
              "      <td>False</td>\n",
              "      <td>False</td>\n",
              "      <td>False</td>\n",
              "      <td>False</td>\n",
              "      <td>False</td>\n",
              "      <td>False</td>\n",
              "      <td>1.571875e+09</td>\n",
              "      <td>0</td>\n",
              "    </tr>\n",
              "  </tbody>\n",
              "</table>\n",
              "</div>"
            ],
            "text/plain": [
              "     Year  Month  Week   Day  Dayofweek  Dayofyear  Is_month_end  \\\n",
              "0  2019.0   12.0  49.0   4.0        2.0      338.0         False   \n",
              "1     NaN    NaN   NaN   NaN        NaN        NaN         False   \n",
              "2  2019.0   11.0  46.0  15.0        4.0      319.0         False   \n",
              "3  2019.0   10.0  43.0  24.0        3.0      297.0         False   \n",
              "\n",
              "   Is_month_start  Is_quarter_end  Is_quarter_start  Is_year_end  \\\n",
              "0           False           False             False        False   \n",
              "1           False           False             False        False   \n",
              "2           False           False             False        False   \n",
              "3           False           False             False        False   \n",
              "\n",
              "   Is_year_start       Elapsed  Is_seasonal  \n",
              "0          False  1.575418e+09            1  \n",
              "1          False           NaN            0  \n",
              "2          False  1.573776e+09            0  \n",
              "3          False  1.571875e+09            0  "
            ]
          },
          "metadata": {
            "tags": []
          },
          "execution_count": 94
        }
      ]
    },
    {
      "cell_type": "markdown",
      "metadata": {
        "id": "3zgV5A2f22Uj"
      },
      "source": [
        "### **Handling Rank in Ordinal Columns**\n",
        "\n",
        "Some categorical data will be ranked (*ordinal columns*), and for these features it may be useful to tell Pandas about how these categories are ordered."
      ]
    },
    {
      "cell_type": "code",
      "metadata": {
        "colab": {
          "base_uri": "https://localhost:8080/"
        },
        "id": "TG1JiA323MZ_",
        "outputId": "2b5fb7fb-eaad-40f7-b9c1-ca75222d551f"
      },
      "source": [
        "# As an example, let's take the passenger class for the Titanic dataset\n",
        "df['Pclass'].unique()"
      ],
      "execution_count": 70,
      "outputs": [
        {
          "output_type": "execute_result",
          "data": {
            "text/plain": [
              "array([3, 1, 2])"
            ]
          },
          "metadata": {
            "tags": []
          },
          "execution_count": 70
        }
      ]
    },
    {
      "cell_type": "code",
      "metadata": {
        "id": "l0g3uJUz3edp"
      },
      "source": [
        "# export \n",
        "def define_ordinal_rank(df, col, ranks):\n",
        "  \"\"\"\n",
        "  Defines ordinal ranking of a column in a dataset\n",
        "\n",
        "  Args:\n",
        "    df: DataFrame to define for\n",
        "    col: Column to define for\n",
        "    ranks: An array of the ordinal ranking for col\n",
        "  \"\"\"\n",
        "  df[col] = df[col].astype('category')\n",
        "  df[col].cat.set_categories(ranks, ordered=True, inplace=True)"
      ],
      "execution_count": 78,
      "outputs": []
    },
    {
      "cell_type": "code",
      "metadata": {
        "id": "8gOVhZYt5ZLT"
      },
      "source": [
        "define_ordinal_rank(df, 'Pclass', [1, 2, 3])"
      ],
      "execution_count": 75,
      "outputs": []
    },
    {
      "cell_type": "markdown",
      "metadata": {
        "id": "peST-YuqLC0c"
      },
      "source": [
        "### **Automated Data Checks**\n",
        "\n",
        "Some simple checks can be made on the dataset automatically, depending on what it is you're looking for. Some common checks are performed in this section."
      ]
    },
    {
      "cell_type": "markdown",
      "metadata": {
        "id": "d_k_KfVKLSBY"
      },
      "source": [
        "#### **Roulette Target**\n",
        "\n",
        "A \"roulette\" occurs when there are duplicate rows with different target values. This makes training much more difficult, as target values may be close to random.\n",
        "\n",
        "To start, we'll need to define some kind of acceptable amount of duplicates within the system. This should be generally okay as it's possible that some external, non-codified features have an effect on the target variable. So first we define an acceptable proportion of the dataset as duplicates:"
      ]
    },
    {
      "cell_type": "code",
      "metadata": {
        "id": "yyxqmBwlWUTt"
      },
      "source": [
        "ACCEPTANCE_THRES = .02"
      ],
      "execution_count": 67,
      "outputs": []
    },
    {
      "cell_type": "markdown",
      "metadata": {
        "id": "Cjjf_aa2s2ny"
      },
      "source": [
        "And then we have two options. One is to do a simple check on the proportion of duplicates in the dataset and match it against our accepted proportion threshold. We do not consider rows that are full duplicates (that is they duplicate both the row values and the targets) so let's first set up a function to find the relevant duplicates:"
      ]
    },
    {
      "cell_type": "code",
      "metadata": {
        "id": "wKT6HfsgwsSg"
      },
      "source": [
        "# export\n",
        "def get_relevant_duplicates(df, dep_var):\n",
        "  \"\"\"\n",
        "  Gets number of duplicates with differing targets\n",
        "  \"\"\"\n",
        "  ind_var = [c for c in df.columns if c != dep_var]\n",
        "\n",
        "  # We need to sift out full duplicate rows\n",
        "  poss_dups = df.duplicated(ind_var).sum()\n",
        "  full_dups = df.duplicated().sum()\n",
        "  return poss_dups - full_dups"
      ],
      "execution_count": 60,
      "outputs": []
    },
    {
      "cell_type": "markdown",
      "metadata": {
        "id": "wCSuiBMbw0Ng"
      },
      "source": [
        "And then we can implement our simple solution:"
      ]
    },
    {
      "cell_type": "code",
      "metadata": {
        "colab": {
          "base_uri": "https://localhost:8080/"
        },
        "id": "0skYjN6crmkI",
        "outputId": "add46b17-f1f6-4462-c367-4cf3b278c308"
      },
      "source": [
        "# Naive, workable solution\n",
        "relevant_dups = get_relevant_duplicates(df, dep_var)\n",
        "is_roulette = (relevant_dups / len(df) * 100) > ACCEPTANCE_THRES\n",
        "\n",
        "print(\"Dataset is a roulette:\", is_roulette)"
      ],
      "execution_count": 72,
      "outputs": [
        {
          "output_type": "stream",
          "text": [
            "Dataset is a roulette: False\n"
          ],
          "name": "stdout"
        }
      ]
    },
    {
      "cell_type": "markdown",
      "metadata": {
        "id": "jpyNZyBWWiMG"
      },
      "source": [
        "This approach can work. A more rigorous approach is to apply a statistical hypothesis test against the accepted threshold and see if that holds up!\n",
        "\n",
        "For this simple test we claim that the dataset is not a roulette ($H_0$) and perform a [1-proportion test](https://www.tutorialspoint.com/statistics/one_proportion_z_test.htm) to find the associated p-value for this hypothesis. Our alternative hypothesis is that our dataset contains fewer relevant duplicates than our accepted threshold:"
      ]
    },
    {
      "cell_type": "code",
      "metadata": {
        "id": "RpWg01prQHxG"
      },
      "source": [
        "# export\n",
        "import statsmodels.api as sm\n",
        "\n",
        "ALPHA = .05\n",
        "\n",
        "def roulette_test(df, dep_var, threshold):\n",
        "  \"\"\"\n",
        "  Performs a 1-proportion z-test on df to check for roulette. \n",
        "  Null hypothesis is that the number of duplicates do not \n",
        "  constitute a roulette dataset, in that the number is lower than \n",
        "  the acceptance threshold\n",
        "  \"\"\"\n",
        "  relevant_dups = get_relevant_duplicates(df, dep_var)\n",
        "  if relevant_dups == 0: return False\n",
        "\n",
        "  _, p_val = sm.stats.proportions_ztest(\n",
        "      relevant_dups, len(df), len(df)*threshold, 'smaller')\n",
        "\n",
        "  return p_val > ALPHA"
      ],
      "execution_count": 64,
      "outputs": []
    },
    {
      "cell_type": "code",
      "metadata": {
        "colab": {
          "base_uri": "https://localhost:8080/"
        },
        "id": "mNCCcebvaCSH",
        "outputId": "4b8542e4-787c-40cb-ed0b-81ab8e039517"
      },
      "source": [
        "is_roulette = roulette_test(df, dep_var, ACCEPTANCE_THRES)\n",
        "print(\"Dataset is a roulette:\", is_roulette)"
      ],
      "execution_count": 68,
      "outputs": [
        {
          "output_type": "stream",
          "text": [
            "Dataset is a roulette: False\n"
          ],
          "name": "stdout"
        }
      ]
    },
    {
      "cell_type": "markdown",
      "metadata": {
        "id": "plpVm3Fpr66f"
      },
      "source": [
        "This check may or may not be relevant depending on the context of the dataset. Consider an actual roulette wheel's results or the results of a series of horse races, which may in fact contain a number of full duplicates that is higher than our threshold. In such a scenario, it would be beneficial to know before pursuing such a data science project further, as the dataset's value entropy may be too high to warrant further work."
      ]
    },
    {
      "cell_type": "markdown",
      "metadata": {
        "id": "Qz0Bep8PdU2P"
      },
      "source": [
        "\n",
        "### **Basic Data Cleaning**"
      ]
    },
    {
      "cell_type": "code",
      "metadata": {
        "id": "RKqUimg7dYD_",
        "colab": {
          "base_uri": "https://localhost:8080/"
        },
        "outputId": "ce137292-859b-4767-8d63-b8ba17bd3732"
      },
      "source": [
        "print(\"DF before:\", len(df))\n",
        "\n",
        "# Remove duplicates\n",
        "df.drop_duplicates(subset=ind_vars, inplace=True)\n",
        "print(\"DF after drop duplicates:\", len(df))"
      ],
      "execution_count": 84,
      "outputs": [
        {
          "output_type": "stream",
          "text": [
            "DF before: 891\n",
            "DF after drop duplicates: 891\n"
          ],
          "name": "stdout"
        }
      ]
    },
    {
      "cell_type": "markdown",
      "metadata": {
        "id": "ecQ0yAjL2zj_"
      },
      "source": [
        "\n",
        "\n",
        "---\n",
        "\n"
      ]
    },
    {
      "cell_type": "markdown",
      "metadata": {
        "id": "xkp4T4fR20X7"
      },
      "source": [
        "## **Model**\n",
        "\n",
        "Model work can be performed here, with utilities to help with cross-validation and architecture construction."
      ]
    },
    {
      "cell_type": "code",
      "metadata": {
        "id": "VuominZJ3bd2"
      },
      "source": [
        ""
      ],
      "execution_count": null,
      "outputs": []
    },
    {
      "cell_type": "markdown",
      "metadata": {
        "id": "Oc0-VLja4I04"
      },
      "source": [
        "\n",
        "\n",
        "---\n",
        "\n"
      ]
    },
    {
      "cell_type": "markdown",
      "metadata": {
        "id": "u0Jk9S4Z3_bb"
      },
      "source": [
        "## **Inference and Deployment**\n",
        "\n",
        "Here the model can finally be put to use, as well as exported for deployment in an external application."
      ]
    },
    {
      "cell_type": "code",
      "metadata": {
        "id": "bh-UvXAH4HnJ"
      },
      "source": [
        ""
      ],
      "execution_count": null,
      "outputs": []
    },
    {
      "cell_type": "markdown",
      "metadata": {
        "id": "oQLkb8qoGypR"
      },
      "source": [
        "\n",
        "\n",
        "---\n",
        "\n"
      ]
    },
    {
      "cell_type": "markdown",
      "metadata": {
        "id": "dgXsTa5YGcgf"
      },
      "source": [
        "## **Exports and Clean Up**\n",
        "\n",
        "Here you can export any cells with the `#export` comment using `notebook2script.py`, as well as cleaning up any environmental changes such as data downloads to a cloud drive."
      ]
    },
    {
      "cell_type": "markdown",
      "metadata": {
        "id": "Y7SBKNOAHiiS"
      },
      "source": [
        "### **Exports**"
      ]
    },
    {
      "cell_type": "code",
      "metadata": {
        "id": "Z2HHwrCEHlH2"
      },
      "source": [
        "!python notebook2script.py Tabular.ipynb"
      ],
      "execution_count": null,
      "outputs": []
    },
    {
      "cell_type": "markdown",
      "metadata": {
        "id": "0_eeNuu-HgVS"
      },
      "source": [
        "### **Clean Up**"
      ]
    },
    {
      "cell_type": "code",
      "metadata": {
        "id": "So--wngFGq9W"
      },
      "source": [
        "# Tear down the data folder\n",
        "!rm -rf data\n",
        "!ls"
      ],
      "execution_count": null,
      "outputs": []
    }
  ]
}